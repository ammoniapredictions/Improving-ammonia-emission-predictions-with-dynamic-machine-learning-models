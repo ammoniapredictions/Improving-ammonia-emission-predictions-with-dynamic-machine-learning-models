{
 "cells": [
  {
   "cell_type": "markdown",
   "id": "323f4ff3-3018-4e75-a7cb-12aa93f61f1b",
   "metadata": {},
   "source": [
    "# Readme"
   ]
  },
  {
   "cell_type": "markdown",
   "id": "d0960d1c-29e9-4b29-9152-dfc230aeb9a9",
   "metadata": {},
   "source": [
    "The purpose of this file is to check that the code is correct and that the models are converging properly."
   ]
  },
  {
   "cell_type": "markdown",
   "id": "2a5cb01e-f8b3-43aa-894e-e65de8aba1a9",
   "metadata": {},
   "source": [
    "# Setup"
   ]
  },
  {
   "cell_type": "code",
   "execution_count": 1,
   "id": "116dff47-20b7-46e4-9521-5cd1549e525e",
   "metadata": {},
   "outputs": [
    {
     "name": "stderr",
     "output_type": "stream",
     "text": [
      "/home/mmip/.local/lib/python3.12/site-packages/pandas/core/arrays/masked.py:60: UserWarning: Pandas requires version '1.3.6' or newer of 'bottleneck' (version '1.3.5' currently installed).\n",
      "  from pandas.core import (\n"
     ]
    }
   ],
   "source": [
    "import torch\n",
    "import torch.nn as nn \n",
    "import matplotlib.pyplot as plt \n",
    "import pandas as pd\n",
    "import numpy as np\n",
    "import time\n",
    "import random\n",
    "import pickle\n",
    "import json\n",
    "import itertools\n",
    "import importlib"
   ]
  },
  {
   "cell_type": "code",
   "execution_count": 2,
   "id": "27405968-9965-42ce-95ba-cf55ccb3659d",
   "metadata": {},
   "outputs": [],
   "source": [
    "import sys\n",
    "sys.path.append ('functions')\n",
    "\n",
    "import functions as mf\n",
    "importlib.reload(mf) \n",
    "\n",
    "from static_nn_module import RegressionNN"
   ]
  },
  {
   "cell_type": "code",
   "execution_count": 3,
   "id": "ac3864c9-2935-47fa-8eb5-39b2fcc72235",
   "metadata": {},
   "outputs": [
    {
     "data": {
      "text/plain": [
       "'cpu'"
      ]
     },
     "execution_count": 3,
     "metadata": {},
     "output_type": "execute_result"
    }
   ],
   "source": [
    "DEVICE = 'cuda:0' if torch.cuda.is_available() else 'cpu'\n",
    "DEVICE"
   ]
  },
  {
   "cell_type": "code",
   "execution_count": 4,
   "id": "4fc521ba-caf6-466b-b910-bec98bab446c",
   "metadata": {},
   "outputs": [],
   "source": [
    "pd.set_option(\"display.max_columns\", None)"
   ]
  },
  {
   "cell_type": "markdown",
   "id": "478f99d1-499d-49ea-b4fa-30a0afed0606",
   "metadata": {},
   "source": [
    "# Data"
   ]
  },
  {
   "cell_type": "markdown",
   "id": "93bab899-e2c1-4c05-adbb-8678f90aecbb",
   "metadata": {},
   "source": [
    "## Data no embeddings"
   ]
  },
  {
   "cell_type": "code",
   "execution_count": 5,
   "id": "d036a984-4c7d-42a0-8468-2d1b2197ec44",
   "metadata": {},
   "outputs": [],
   "source": [
    "data_no_embeddings = pd.read_csv(\"../00_data_preparation/processed_data/data_static_nn_1.csv\")"
   ]
  },
  {
   "cell_type": "code",
   "execution_count": 6,
   "id": "d6a3a650-ddf9-406f-8a3f-fda2c95ee49a",
   "metadata": {},
   "outputs": [],
   "source": [
    "data_no_embeddings = data_no_embeddings.drop(['Unnamed: 0'], axis = 1)"
   ]
  },
  {
   "cell_type": "code",
   "execution_count": 7,
   "id": "19e9290a-bf1b-48b8-865b-981000532692",
   "metadata": {},
   "outputs": [
    {
     "data": {
      "text/plain": [
       "(699, 37)"
      ]
     },
     "execution_count": 7,
     "metadata": {},
     "output_type": "execute_result"
    }
   ],
   "source": [
    "data_no_embeddings.shape"
   ]
  },
  {
   "cell_type": "code",
   "execution_count": 8,
   "id": "5d6d7612-3214-49b5-b3d1-55cf19e0f322",
   "metadata": {},
   "outputs": [
    {
     "data": {
      "text/html": [
       "<div>\n",
       "<style scoped>\n",
       "    .dataframe tbody tr th:only-of-type {\n",
       "        vertical-align: middle;\n",
       "    }\n",
       "\n",
       "    .dataframe tbody tr th {\n",
       "        vertical-align: top;\n",
       "    }\n",
       "\n",
       "    .dataframe thead th {\n",
       "        text-align: right;\n",
       "    }\n",
       "</style>\n",
       "<table border=\"1\" class=\"dataframe\">\n",
       "  <thead>\n",
       "    <tr style=\"text-align: right;\">\n",
       "      <th></th>\n",
       "      <th>e.cum</th>\n",
       "      <th>e.rel</th>\n",
       "      <th>pmid</th>\n",
       "      <th>meas.tech</th>\n",
       "      <th>country</th>\n",
       "      <th>inst</th>\n",
       "      <th>ct</th>\n",
       "      <th>tan.app</th>\n",
       "      <th>app.rate</th>\n",
       "      <th>man.dm</th>\n",
       "      <th>man.ph</th>\n",
       "      <th>man.source</th>\n",
       "      <th>t.incorp</th>\n",
       "      <th>air_temp_1</th>\n",
       "      <th>air_temp_2</th>\n",
       "      <th>air_temp_3</th>\n",
       "      <th>air_temp_4</th>\n",
       "      <th>air_temp_5</th>\n",
       "      <th>air_temp_6</th>\n",
       "      <th>wind.2m_1</th>\n",
       "      <th>wind.2m_2</th>\n",
       "      <th>wind.2m_3</th>\n",
       "      <th>wind.2m_4</th>\n",
       "      <th>wind.2m_5</th>\n",
       "      <th>wind.2m_6</th>\n",
       "      <th>rain.rate_1</th>\n",
       "      <th>rain.rate_2</th>\n",
       "      <th>rain.rate_3</th>\n",
       "      <th>rain.rate_4</th>\n",
       "      <th>rain.rate_5</th>\n",
       "      <th>rain.rate_6</th>\n",
       "      <th>app.mthd_bc</th>\n",
       "      <th>app.mthd_bsth</th>\n",
       "      <th>app.mthd_ts</th>\n",
       "      <th>app.mthd_os</th>\n",
       "      <th>incorp_none</th>\n",
       "      <th>incorp_shallow</th>\n",
       "    </tr>\n",
       "  </thead>\n",
       "  <tbody>\n",
       "    <tr>\n",
       "      <th>0</th>\n",
       "      <td>16.4190</td>\n",
       "      <td>0.134461</td>\n",
       "      <td>182</td>\n",
       "      <td>micro met</td>\n",
       "      <td>DK</td>\n",
       "      <td>104</td>\n",
       "      <td>164.99</td>\n",
       "      <td>122.11</td>\n",
       "      <td>31.8</td>\n",
       "      <td>3.7</td>\n",
       "      <td>7.35</td>\n",
       "      <td>0</td>\n",
       "      <td>1000.0</td>\n",
       "      <td>8.20</td>\n",
       "      <td>7.648529</td>\n",
       "      <td>6.766176</td>\n",
       "      <td>5.883824</td>\n",
       "      <td>5.001471</td>\n",
       "      <td>9.389090</td>\n",
       "      <td>8.10</td>\n",
       "      <td>7.494118</td>\n",
       "      <td>6.524706</td>\n",
       "      <td>5.555294</td>\n",
       "      <td>4.585882</td>\n",
       "      <td>5.340230</td>\n",
       "      <td>0.0</td>\n",
       "      <td>0.0</td>\n",
       "      <td>0.0</td>\n",
       "      <td>0.0</td>\n",
       "      <td>0.0</td>\n",
       "      <td>0.047679</td>\n",
       "      <td>1</td>\n",
       "      <td>0</td>\n",
       "      <td>0</td>\n",
       "      <td>0</td>\n",
       "      <td>1</td>\n",
       "      <td>0</td>\n",
       "    </tr>\n",
       "    <tr>\n",
       "      <th>1</th>\n",
       "      <td>6.9332</td>\n",
       "      <td>0.118882</td>\n",
       "      <td>183</td>\n",
       "      <td>micro met</td>\n",
       "      <td>DK</td>\n",
       "      <td>104</td>\n",
       "      <td>163.20</td>\n",
       "      <td>58.32</td>\n",
       "      <td>21.6</td>\n",
       "      <td>2.8</td>\n",
       "      <td>7.71</td>\n",
       "      <td>0</td>\n",
       "      <td>1000.0</td>\n",
       "      <td>13.77</td>\n",
       "      <td>13.568793</td>\n",
       "      <td>12.562759</td>\n",
       "      <td>11.489655</td>\n",
       "      <td>10.416552</td>\n",
       "      <td>10.006593</td>\n",
       "      <td>4.31</td>\n",
       "      <td>4.261897</td>\n",
       "      <td>4.021379</td>\n",
       "      <td>3.764828</td>\n",
       "      <td>3.508276</td>\n",
       "      <td>4.141415</td>\n",
       "      <td>0.0</td>\n",
       "      <td>0.0</td>\n",
       "      <td>0.0</td>\n",
       "      <td>0.0</td>\n",
       "      <td>0.0</td>\n",
       "      <td>0.000000</td>\n",
       "      <td>0</td>\n",
       "      <td>1</td>\n",
       "      <td>0</td>\n",
       "      <td>0</td>\n",
       "      <td>1</td>\n",
       "      <td>0</td>\n",
       "    </tr>\n",
       "  </tbody>\n",
       "</table>\n",
       "</div>"
      ],
      "text/plain": [
       "     e.cum     e.rel  pmid  meas.tech country  inst      ct  tan.app  \\\n",
       "0  16.4190  0.134461   182  micro met      DK   104  164.99   122.11   \n",
       "1   6.9332  0.118882   183  micro met      DK   104  163.20    58.32   \n",
       "\n",
       "   app.rate  man.dm  man.ph  man.source  t.incorp  air_temp_1  air_temp_2  \\\n",
       "0      31.8     3.7    7.35           0    1000.0        8.20    7.648529   \n",
       "1      21.6     2.8    7.71           0    1000.0       13.77   13.568793   \n",
       "\n",
       "   air_temp_3  air_temp_4  air_temp_5  air_temp_6  wind.2m_1  wind.2m_2  \\\n",
       "0    6.766176    5.883824    5.001471    9.389090       8.10   7.494118   \n",
       "1   12.562759   11.489655   10.416552   10.006593       4.31   4.261897   \n",
       "\n",
       "   wind.2m_3  wind.2m_4  wind.2m_5  wind.2m_6  rain.rate_1  rain.rate_2  \\\n",
       "0   6.524706   5.555294   4.585882   5.340230          0.0          0.0   \n",
       "1   4.021379   3.764828   3.508276   4.141415          0.0          0.0   \n",
       "\n",
       "   rain.rate_3  rain.rate_4  rain.rate_5  rain.rate_6  app.mthd_bc  \\\n",
       "0          0.0          0.0          0.0     0.047679            1   \n",
       "1          0.0          0.0          0.0     0.000000            0   \n",
       "\n",
       "   app.mthd_bsth  app.mthd_ts  app.mthd_os  incorp_none  incorp_shallow  \n",
       "0              0            0            0            1               0  \n",
       "1              1            0            0            1               0  "
      ]
     },
     "execution_count": 8,
     "metadata": {},
     "output_type": "execute_result"
    }
   ],
   "source": [
    "data_no_embeddings.head (2)"
   ]
  },
  {
   "cell_type": "markdown",
   "id": "a43810cb-2df1-4a85-8f8d-ab5e11cf39a0",
   "metadata": {},
   "source": [
    "## Data embeddings"
   ]
  },
  {
   "cell_type": "code",
   "execution_count": 9,
   "id": "bd05d3ce-2598-480c-bf16-2204b0598dd6",
   "metadata": {},
   "outputs": [],
   "source": [
    "data_embeddings = pd.read_csv(\"../00_data_preparation/processed_data/data_static_nn_2.csv\")"
   ]
  },
  {
   "cell_type": "code",
   "execution_count": 10,
   "id": "1cbc9682-45f5-4178-b694-27d1136fc4f2",
   "metadata": {},
   "outputs": [],
   "source": [
    "data_embeddings = data_embeddings.drop(['Unnamed: 0'], axis = 1)"
   ]
  },
  {
   "cell_type": "markdown",
   "id": "169142f7-2a02-47b3-b28f-e2a8d8d88798",
   "metadata": {},
   "source": [
    "## Test samples"
   ]
  },
  {
   "cell_type": "code",
   "execution_count": 11,
   "id": "e5604e51-3a7d-4ba7-84a3-40848123a075",
   "metadata": {},
   "outputs": [],
   "source": [
    "with open(\"../00_data_preparation/processed_data/list_train_pmids.json\", \"r\") as f:\n",
    "    list_train_pmids = json.load(f)\n",
    "\n",
    "with open(\"../00_data_preparation/processed_data/list_eval_pmids.json\", \"r\") as f:\n",
    "    list_eval_pmids = json.load(f)\n",
    "\n",
    "with open(\"../00_data_preparation/processed_data/list_test_pmids.json\", \"r\") as f:\n",
    "    list_test_pmids = json.load(f)"
   ]
  },
  {
   "cell_type": "markdown",
   "id": "e3a0344c-4740-4ba9-a6ed-2b5268826242",
   "metadata": {},
   "source": [
    "# Models"
   ]
  },
  {
   "cell_type": "code",
   "execution_count": 12,
   "id": "61418a4b-6581-4018-a191-83f9f17aed6a",
   "metadata": {},
   "outputs": [],
   "source": [
    "input_size_no_embeddings = 31\n",
    "input_size_embeddings = 27\n",
    "\n",
    "output_size = 1\n",
    "\n",
    "models = list (range (1, 13))\n",
    "\n",
    "architecture = [\n",
    "    [input_size_no_embeddings, 16, output_size],\n",
    "    [input_size_no_embeddings, 32, 16, output_size],\n",
    "    [input_size_no_embeddings, 64, 32, 16, output_size],\n",
    "    [input_size_no_embeddings, 128, 64, 32, 16, output_size],\n",
    "    [input_size_no_embeddings, 256, 128, 64, 32, 16, output_size],\n",
    "    [input_size_no_embeddings, 512, 256, 128, 64, 32, 16, output_size],\n",
    "    [input_size_embeddings, 16, output_size],\n",
    "    [input_size_embeddings, 32, 16, output_size],\n",
    "    [input_size_embeddings, 64, 32, 16, output_size],\n",
    "    [input_size_embeddings, 128, 64, 32, 16, output_size],\n",
    "    [input_size_embeddings, 256, 128, 64, 32, 16, output_size],\n",
    "    [input_size_embeddings, 512, 256, 128, 64, 32, 16, output_size],\n",
    "]\n",
    "\n",
    "with_embeddings = [False, False, False, False, False, False, True, True, True, True, True, True]"
   ]
  },
  {
   "cell_type": "code",
   "execution_count": 13,
   "id": "5ce8bbe3-6544-407f-91b4-755c9056682a",
   "metadata": {},
   "outputs": [],
   "source": [
    "df_models = pd.DataFrame({'model': models, 'architecture' : architecture, 'with_embeddings' : with_embeddings})"
   ]
  },
  {
   "cell_type": "code",
   "execution_count": 14,
   "id": "a4a5decd-5922-4b75-a2a6-373f8c6f1e40",
   "metadata": {},
   "outputs": [
    {
     "data": {
      "text/html": [
       "<div>\n",
       "<style scoped>\n",
       "    .dataframe tbody tr th:only-of-type {\n",
       "        vertical-align: middle;\n",
       "    }\n",
       "\n",
       "    .dataframe tbody tr th {\n",
       "        vertical-align: top;\n",
       "    }\n",
       "\n",
       "    .dataframe thead th {\n",
       "        text-align: right;\n",
       "    }\n",
       "</style>\n",
       "<table border=\"1\" class=\"dataframe\">\n",
       "  <thead>\n",
       "    <tr style=\"text-align: right;\">\n",
       "      <th></th>\n",
       "      <th>model</th>\n",
       "      <th>architecture</th>\n",
       "      <th>with_embeddings</th>\n",
       "    </tr>\n",
       "  </thead>\n",
       "  <tbody>\n",
       "    <tr>\n",
       "      <th>0</th>\n",
       "      <td>1</td>\n",
       "      <td>[31, 16, 1]</td>\n",
       "      <td>False</td>\n",
       "    </tr>\n",
       "    <tr>\n",
       "      <th>1</th>\n",
       "      <td>2</td>\n",
       "      <td>[31, 32, 16, 1]</td>\n",
       "      <td>False</td>\n",
       "    </tr>\n",
       "    <tr>\n",
       "      <th>2</th>\n",
       "      <td>3</td>\n",
       "      <td>[31, 64, 32, 16, 1]</td>\n",
       "      <td>False</td>\n",
       "    </tr>\n",
       "    <tr>\n",
       "      <th>3</th>\n",
       "      <td>4</td>\n",
       "      <td>[31, 128, 64, 32, 16, 1]</td>\n",
       "      <td>False</td>\n",
       "    </tr>\n",
       "    <tr>\n",
       "      <th>4</th>\n",
       "      <td>5</td>\n",
       "      <td>[31, 256, 128, 64, 32, 16, 1]</td>\n",
       "      <td>False</td>\n",
       "    </tr>\n",
       "    <tr>\n",
       "      <th>5</th>\n",
       "      <td>6</td>\n",
       "      <td>[31, 512, 256, 128, 64, 32, 16, 1]</td>\n",
       "      <td>False</td>\n",
       "    </tr>\n",
       "    <tr>\n",
       "      <th>6</th>\n",
       "      <td>7</td>\n",
       "      <td>[27, 16, 1]</td>\n",
       "      <td>True</td>\n",
       "    </tr>\n",
       "    <tr>\n",
       "      <th>7</th>\n",
       "      <td>8</td>\n",
       "      <td>[27, 32, 16, 1]</td>\n",
       "      <td>True</td>\n",
       "    </tr>\n",
       "    <tr>\n",
       "      <th>8</th>\n",
       "      <td>9</td>\n",
       "      <td>[27, 64, 32, 16, 1]</td>\n",
       "      <td>True</td>\n",
       "    </tr>\n",
       "    <tr>\n",
       "      <th>9</th>\n",
       "      <td>10</td>\n",
       "      <td>[27, 128, 64, 32, 16, 1]</td>\n",
       "      <td>True</td>\n",
       "    </tr>\n",
       "    <tr>\n",
       "      <th>10</th>\n",
       "      <td>11</td>\n",
       "      <td>[27, 256, 128, 64, 32, 16, 1]</td>\n",
       "      <td>True</td>\n",
       "    </tr>\n",
       "    <tr>\n",
       "      <th>11</th>\n",
       "      <td>12</td>\n",
       "      <td>[27, 512, 256, 128, 64, 32, 16, 1]</td>\n",
       "      <td>True</td>\n",
       "    </tr>\n",
       "  </tbody>\n",
       "</table>\n",
       "</div>"
      ],
      "text/plain": [
       "    model                        architecture  with_embeddings\n",
       "0       1                         [31, 16, 1]            False\n",
       "1       2                     [31, 32, 16, 1]            False\n",
       "2       3                 [31, 64, 32, 16, 1]            False\n",
       "3       4            [31, 128, 64, 32, 16, 1]            False\n",
       "4       5       [31, 256, 128, 64, 32, 16, 1]            False\n",
       "5       6  [31, 512, 256, 128, 64, 32, 16, 1]            False\n",
       "6       7                         [27, 16, 1]             True\n",
       "7       8                     [27, 32, 16, 1]             True\n",
       "8       9                 [27, 64, 32, 16, 1]             True\n",
       "9      10            [27, 128, 64, 32, 16, 1]             True\n",
       "10     11       [27, 256, 128, 64, 32, 16, 1]             True\n",
       "11     12  [27, 512, 256, 128, 64, 32, 16, 1]             True"
      ]
     },
     "execution_count": 14,
     "metadata": {},
     "output_type": "execute_result"
    }
   ],
   "source": [
    "df_models"
   ]
  },
  {
   "cell_type": "markdown",
   "id": "ae8b9b23-d80b-434e-b035-bf263eb7ea24",
   "metadata": {},
   "source": [
    "# Training"
   ]
  },
  {
   "cell_type": "code",
   "execution_count": 15,
   "id": "021d0820-8141-444a-86d7-0b56233c7c75",
   "metadata": {},
   "outputs": [],
   "source": [
    "pmids_train = list_train_pmids [0]\n",
    "pmids_eval = list_eval_pmids [0]\n",
    "pmids_test = list_test_pmids [0]"
   ]
  },
  {
   "cell_type": "code",
   "execution_count": 16,
   "id": "73c9daf1-c7f0-44af-8e64-ae332a159369",
   "metadata": {},
   "outputs": [],
   "source": [
    "model_index = 11\n",
    "\n",
    "architecture = df_models['architecture'][model_index - 1]\n",
    "with_embeddings = df_models['with_embeddings'][model_index - 1]\n",
    "\n",
    "if (with_embeddings):\n",
    "    data = data_embeddings.copy()\n",
    "    cat_dims = [5, 3, 2]  \n",
    "    embeddings_dims = [10, 9, 8]  \n",
    "    input_size = 27\n",
    "\n",
    "else: \n",
    "    data = data_no_embeddings.copy()\n",
    "    cat_dims = None\n",
    "    embeddings_dims = None\n",
    "    input_size = 31"
   ]
  },
  {
   "cell_type": "code",
   "execution_count": 17,
   "id": "148becd3-2e1d-4b2d-80ce-47e83b62042c",
   "metadata": {},
   "outputs": [
    {
     "data": {
      "text/plain": [
       "model                                         11\n",
       "architecture       [27, 256, 128, 64, 32, 16, 1]\n",
       "with_embeddings                             True\n",
       "Name: 10, dtype: object"
      ]
     },
     "execution_count": 17,
     "metadata": {},
     "output_type": "execute_result"
    }
   ],
   "source": [
    "df_models.iloc[model_index - 1]"
   ]
  },
  {
   "cell_type": "code",
   "execution_count": 18,
   "id": "0d8b8dcb-ddb5-47fa-a65d-986e63108bc7",
   "metadata": {},
   "outputs": [],
   "source": [
    "data_train = data[data['pmid'].isin(pmids_train)]\n",
    "pmids_train = data_train['pmid'].unique()\n",
    "\n",
    "data_eval = data[data['pmid'].isin(pmids_eval)]\n",
    "pmids_eval = data_eval['pmid'].unique()\n",
    "\n",
    "data_test = data[data['pmid'].isin(pmids_test)]\n",
    "pmids_test = data_test['pmid'].unique()\n",
    "\n",
    "n_observations_evaluation_subset = data_eval.shape[0]\n",
    "\n",
    "n_train = data_train.shape[0]"
   ]
  },
  {
   "cell_type": "code",
   "execution_count": 19,
   "id": "ba362b23-0059-4c92-b07c-7853ebba9758",
   "metadata": {},
   "outputs": [],
   "source": [
    "continuous_variables = ['ct', 'tan.app', 'app.rate', 'man.dm', 'man.ph', 't.incorp', \n",
    "                        'air_temp_1', 'air_temp_2', 'air_temp_3', 'air_temp_4', 'air_temp_5', 'air_temp_6', \n",
    "                        'wind.2m_1', 'wind.2m_2', 'wind.2m_3', 'wind.2m_4', 'wind.2m_5', 'wind.2m_6', \n",
    "                        'rain.rate_1', 'rain.rate_2', 'rain.rate_3', 'rain.rate_4', 'rain.rate_5', 'rain.rate_6']\n",
    "\n",
    "if with_embeddings:\n",
    "       \n",
    "    x_cont_train = torch.tensor (data_train [continuous_variables].values, dtype = torch.float32).to(DEVICE)\n",
    "    x_cat_train = torch.tensor (data_train[['app.mthd', 'incorp', 'man.source']].values, dtype = torch.long).to(DEVICE)\n",
    "    x_train = [x_cont_train, x_cat_train]\n",
    "    \n",
    "    x_cont_eval = torch.tensor (data_eval [continuous_variables].values, dtype = torch.float32).to(DEVICE)\n",
    "    x_cat_eval = torch.tensor (data_eval[['app.mthd', 'incorp', 'man.source']].values, dtype = torch.long).to(DEVICE)\n",
    "    x_cat_eval = torch.unbind (x_cat_eval, dim = 1)\n",
    "    x_eval = [x_cont_eval, x_cat_eval]\n",
    "    \n",
    "    x_cont_test = torch.tensor (data_test [continuous_variables].values, dtype = torch.float32).to(DEVICE)\n",
    "    x_cat_test = torch.tensor (data_test[['app.mthd', 'incorp', 'man.source']].values, dtype = torch.long).to(DEVICE)\n",
    "    x_cat_test = torch.unbind (x_cat_test, dim = 1)    \n",
    "    x_test = [x_cont_test, x_cat_test]\n",
    "\n",
    "else:\n",
    "    x_train = torch.tensor (data_train.iloc[:,6:].values, dtype = torch.float32).to(DEVICE) \n",
    "    x_eval = torch.tensor (data_eval.iloc[:,6:].values, dtype = torch.float32).to(DEVICE) \n",
    "    x_test = torch.tensor (data_test.iloc[:,6:].values, dtype = torch.float32).to(DEVICE) \n",
    "\n",
    "y_train = torch.tensor (data_train [['e.cum']].values, dtype = torch.float32).to(DEVICE)\n",
    "y_eval = torch.tensor (data_eval [['e.cum']].values, dtype = torch.float32).to(DEVICE)\n",
    "y_test = torch.tensor (data_test [['e.cum']].values, dtype = torch.float32).to(DEVICE)"
   ]
  },
  {
   "cell_type": "code",
   "execution_count": 20,
   "id": "3a6d3332-8108-4808-865c-188156353fc9",
   "metadata": {},
   "outputs": [
    {
     "name": "stdout",
     "output_type": "stream",
     "text": [
      "Epoch [400/4000], Loss: 5.5514\n",
      "Epoch [800/4000], Loss: 4.6611\n",
      "Epoch [1200/4000], Loss: 4.0812\n",
      "Epoch [1600/4000], Loss: 3.4566\n",
      "Epoch [2000/4000], Loss: 3.0810\n",
      "Epoch [2400/4000], Loss: 2.7496\n",
      "Epoch [2800/4000], Loss: 2.3931\n",
      "Epoch [3200/4000], Loss: 2.3072\n",
      "Epoch [3600/4000], Loss: 2.0862\n",
      "Epoch [4000/4000], Loss: 2.0674\n"
     ]
    }
   ],
   "source": [
    "torch.manual_seed(1)\n",
    "\n",
    "model = RegressionNN(layer_sizes = architecture, \n",
    "                     with_embeddings = with_embeddings,\n",
    "                     cat_dims = cat_dims, \n",
    "                     embeddings_dims = embeddings_dims).to(DEVICE)\n",
    "\n",
    "start_time = time.time()\n",
    "\n",
    "learning_rate = 0.0001\n",
    "#num_epochs = 10000\n",
    "num_epochs = 4000\n",
    "batch_size = 32\n",
    "optimizer = torch.optim.Adam(model.parameters(), lr = learning_rate)\n",
    "\n",
    "model.train()  # Set model to training mode\n",
    "random.seed(1)\n",
    "\n",
    "all_losses = []\n",
    "all_mae_eval = []\n",
    "\n",
    "for epoch in range(num_epochs):\n",
    "\n",
    "    indices = torch.randperm(n_train)\n",
    "    \n",
    "    mini_batches_x, mini_batches_y = mf.generatre_mini_batches (x_train, y_train, with_embeddings, batch_size, n_train, indices)\n",
    "\n",
    "    all_predictions = []\n",
    "\n",
    "    for x_batch, y_batch in zip (mini_batches_x, mini_batches_y):\n",
    "\n",
    "        n_obs_train = y_batch.shape[0]\n",
    "    \n",
    "        predictions = model(x_batch)  \n",
    "    \n",
    "        loss = torch.sum ((predictions - y_batch) ** 2) / n_obs_train  \n",
    "        \n",
    "        optimizer.zero_grad()\n",
    "        loss.backward()\n",
    "        optimizer.step()\n",
    "\n",
    "        all_predictions.append(predictions.detach())\n",
    "\n",
    "    all_predictions = torch.cat(all_predictions, dim = 0)\n",
    "    all_target_train = torch.cat(mini_batches_y, dim = 0)\n",
    "\n",
    "    loss = torch.sum (torch.abs(all_predictions - all_target_train)) / n_train\n",
    "    all_losses.append (loss.item())\n",
    "\n",
    "\n",
    "    with torch.no_grad():\n",
    "                    \n",
    "        predictions_eval = model (x_eval)\n",
    "        mae = torch.sum (torch.abs (predictions_eval - y_eval)) / n_observations_evaluation_subset\n",
    "\n",
    "    all_mae_eval.append (mae.item())\n",
    "    \n",
    "    if (epoch+1) % (num_epochs / 10) == 0:\n",
    "        print(f'Epoch [{epoch+1}/{num_epochs}], Loss: {loss.item():.4f}')\n",
    "\n",
    "end_time = time.time()"
   ]
  },
  {
   "cell_type": "code",
   "execution_count": 21,
   "id": "58a5c2f6-98f2-443c-87c7-94876654349a",
   "metadata": {},
   "outputs": [
    {
     "name": "stdout",
     "output_type": "stream",
     "text": [
      "Temps d'exécution : 169.5325059890747 secondes\n"
     ]
    }
   ],
   "source": [
    "elapsed_time = end_time - start_time\n",
    "print(f\"Temps d'exécution : {elapsed_time} secondes\")"
   ]
  },
  {
   "cell_type": "code",
   "execution_count": 22,
   "id": "0d0fcb9e-e91f-4471-9e33-751d33e8b8ae",
   "metadata": {
    "scrolled": true
   },
   "outputs": [
    {
     "data": {
      "image/png": "[encoded data removed]",
      "text/plain": [
       "<Figure size 1200x400 with 2 Axes>"
      ]
     },
     "metadata": {},
     "output_type": "display_data"
    }
   ],
   "source": [
    "fig, axes = plt.subplots(1, 2, figsize = (12, 4), sharey = False)\n",
    "\n",
    "axes[0].plot(all_losses[10:])\n",
    "axes[0].set_title('All Losses')\n",
    "\n",
    "axes[1].plot(all_mae_eval[10:])\n",
    "axes[1].set_title('All mae eval')\n",
    "\n",
    "plt.tight_layout()\n",
    "plt.show()"
   ]
  },
  {
   "cell_type": "code",
   "execution_count": 23,
   "id": "941d4ab6-811d-4f6b-ac8f-0ac6cece445e",
   "metadata": {},
   "outputs": [],
   "source": [
    "x_train_reshaped = [x_train[0], torch.unbind (x_train[1], dim = 1)]\n",
    "\n",
    "with torch.no_grad():\n",
    "                \n",
    "    predictions_test = model (x_test)\n",
    "    predictions_train = model (x_train_reshaped)"
   ]
  },
  {
   "cell_type": "code",
   "execution_count": 24,
   "id": "5d655cf7-c260-473e-8bb6-e4887f0680a7",
   "metadata": {},
   "outputs": [
    {
     "data": {
      "text/plain": [
       "torch.Size([74, 1])"
      ]
     },
     "execution_count": 24,
     "metadata": {},
     "output_type": "execute_result"
    }
   ],
   "source": [
    "predictions_test.shape"
   ]
  },
  {
   "cell_type": "code",
   "execution_count": 25,
   "id": "245fe68a-0501-4ed6-a3ff-eff5af449b67",
   "metadata": {},
   "outputs": [
    {
     "data": {
      "text/plain": [
       "torch.Size([74, 1])"
      ]
     },
     "execution_count": 25,
     "metadata": {},
     "output_type": "execute_result"
    }
   ],
   "source": [
    "y_test.shape"
   ]
  },
  {
   "cell_type": "code",
   "execution_count": 26,
   "id": "3cb704a2-dbc3-499c-a2f2-be165e5d3d36",
   "metadata": {},
   "outputs": [
    {
     "data": {
      "image/png": "[encoded data removed]",
      "text/plain": [
       "<Figure size 640x480 with 1 Axes>"
      ]
     },
     "metadata": {},
     "output_type": "display_data"
    }
   ],
   "source": [
    "plt.scatter(y_test.to(\"cpu\"), predictions_test.to(\"cpu\"))\n",
    "plt.xlabel('e.cum') \n",
    "plt.ylabel('prediction_ecum') \n",
    "plt.show()"
   ]
  },
  {
   "cell_type": "code",
   "execution_count": 27,
   "id": "4f8add1c-2b84-4ca7-8c25-668abd616b93",
   "metadata": {},
   "outputs": [
    {
     "data": {
      "image/png": "[encoded data removed]",
      "text/plain": [
       "<Figure size 640x480 with 1 Axes>"
      ]
     },
     "metadata": {},
     "output_type": "display_data"
    }
   ],
   "source": [
    "plt.scatter(y_train.to(\"cpu\"), predictions_train.to(\"cpu\"))\n",
    "plt.xlabel('e.cum') \n",
    "plt.ylabel('prediction_ecum')  \n",
    "plt.show()"
   ]
  },
  {
   "cell_type": "markdown",
   "id": "5e71e9fc-1a30-47d4-94f5-14d6704db5d5",
   "metadata": {},
   "source": [
    "# End"
   ]
  }
 ],
 "metadata": {
  "kernelspec": {
   "display_name": "Python 3 (ipykernel)",
   "language": "python",
   "name": "python3"
  },
  "language_info": {
   "codemirror_mode": {
    "name": "ipython",
    "version": 3
   },
   "file_extension": ".py",
   "mimetype": "text/x-python",
   "name": "python",
   "nbconvert_exporter": "python",
   "pygments_lexer": "ipython3",
   "version": "3.12.3"
  }
 },
 "nbformat": 4,
 "nbformat_minor": 5
}
