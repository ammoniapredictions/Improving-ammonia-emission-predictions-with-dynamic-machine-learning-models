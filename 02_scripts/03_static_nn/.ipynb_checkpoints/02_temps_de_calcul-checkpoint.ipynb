{
 "cells": [
  {
   "cell_type": "markdown",
   "id": "323f4ff3-3018-4e75-a7cb-12aa93f61f1b",
   "metadata": {},
   "source": [
    "# Readme"
   ]
  },
  {
   "cell_type": "markdown",
   "id": "9f398933-e220-4eea-90f3-db87ee85887a",
   "metadata": {},
   "source": [
    "The purpose of this file is to compare the computation time with and without GPU."
   ]
  },
  {
   "cell_type": "markdown",
   "id": "2a5cb01e-f8b3-43aa-894e-e65de8aba1a9",
   "metadata": {},
   "source": [
    "# Setup"
   ]
  },
  {
   "cell_type": "code",
   "execution_count": 1,
   "id": "116dff47-20b7-46e4-9521-5cd1549e525e",
   "metadata": {},
   "outputs": [
    {
     "name": "stderr",
     "output_type": "stream",
     "text": [
      "/home/mmip/.local/lib/python3.12/site-packages/pandas/core/arrays/masked.py:60: UserWarning: Pandas requires version '1.3.6' or newer of 'bottleneck' (version '1.3.5' currently installed).\n",
      "  from pandas.core import (\n"
     ]
    }
   ],
   "source": [
    "import torch\n",
    "import torch.nn as nn \n",
    "import matplotlib.pyplot as plt \n",
    "import pandas as pd\n",
    "import numpy as np\n",
    "import time\n",
    "import random\n",
    "import pickle\n",
    "import json\n",
    "import itertools\n",
    "import importlib"
   ]
  },
  {
   "cell_type": "code",
   "execution_count": 2,
   "id": "f8e380f7-215a-4d9e-b76a-2cd4b8b0f52e",
   "metadata": {},
   "outputs": [],
   "source": [
    "import sys\n",
    "sys.path.append ('functions')\n",
    "\n",
    "import functions as mf\n",
    "importlib.reload(mf) \n",
    "\n",
    "from static_nn_module import RegressionNN"
   ]
  },
  {
   "cell_type": "code",
   "execution_count": 3,
   "id": "56217a1e-32a1-473a-b86b-b872bbd2a068",
   "metadata": {},
   "outputs": [
    {
     "data": {
      "text/plain": [
       "'cpu'"
      ]
     },
     "execution_count": 3,
     "metadata": {},
     "output_type": "execute_result"
    }
   ],
   "source": [
    "DEVICE = 'cuda:0' if torch.cuda.is_available() else 'cpu'\n",
    "DEVICE"
   ]
  },
  {
   "cell_type": "code",
   "execution_count": 4,
   "id": "4ec57caa-b15a-44f4-912d-babef0063178",
   "metadata": {},
   "outputs": [],
   "source": [
    "pd.set_option(\"display.max_columns\", None)"
   ]
  },
  {
   "cell_type": "markdown",
   "id": "478f99d1-499d-49ea-b4fa-30a0afed0606",
   "metadata": {},
   "source": [
    "# Data"
   ]
  },
  {
   "cell_type": "markdown",
   "id": "93bab899-e2c1-4c05-adbb-8678f90aecbb",
   "metadata": {},
   "source": [
    "## Data no embeddings"
   ]
  },
  {
   "cell_type": "code",
   "execution_count": 5,
   "id": "d036a984-4c7d-42a0-8468-2d1b2197ec44",
   "metadata": {},
   "outputs": [],
   "source": [
    "data_no_embeddings = pd.read_csv(\"../00_data_preparation/processed_data/data_static_nn_1.csv\")"
   ]
  },
  {
   "cell_type": "code",
   "execution_count": 6,
   "id": "d6a3a650-ddf9-406f-8a3f-fda2c95ee49a",
   "metadata": {},
   "outputs": [],
   "source": [
    "data_no_embeddings = data_no_embeddings.drop(['Unnamed: 0'], axis = 1)"
   ]
  },
  {
   "cell_type": "code",
   "execution_count": 7,
   "id": "19e9290a-bf1b-48b8-865b-981000532692",
   "metadata": {},
   "outputs": [
    {
     "data": {
      "text/plain": [
       "(699, 37)"
      ]
     },
     "execution_count": 7,
     "metadata": {},
     "output_type": "execute_result"
    }
   ],
   "source": [
    "data_no_embeddings.shape"
   ]
  },
  {
   "cell_type": "code",
   "execution_count": 8,
   "id": "5d6d7612-3214-49b5-b3d1-55cf19e0f322",
   "metadata": {},
   "outputs": [
    {
     "data": {
      "text/html": [
       "<div>\n",
       "<style scoped>\n",
       "    .dataframe tbody tr th:only-of-type {\n",
       "        vertical-align: middle;\n",
       "    }\n",
       "\n",
       "    .dataframe tbody tr th {\n",
       "        vertical-align: top;\n",
       "    }\n",
       "\n",
       "    .dataframe thead th {\n",
       "        text-align: right;\n",
       "    }\n",
       "</style>\n",
       "<table border=\"1\" class=\"dataframe\">\n",
       "  <thead>\n",
       "    <tr style=\"text-align: right;\">\n",
       "      <th></th>\n",
       "      <th>e.cum</th>\n",
       "      <th>e.rel</th>\n",
       "      <th>pmid</th>\n",
       "      <th>meas.tech</th>\n",
       "      <th>country</th>\n",
       "      <th>inst</th>\n",
       "      <th>ct</th>\n",
       "      <th>tan.app</th>\n",
       "      <th>app.rate</th>\n",
       "      <th>man.dm</th>\n",
       "      <th>man.ph</th>\n",
       "      <th>man.source</th>\n",
       "      <th>t.incorp</th>\n",
       "      <th>air_temp_1</th>\n",
       "      <th>air_temp_2</th>\n",
       "      <th>air_temp_3</th>\n",
       "      <th>air_temp_4</th>\n",
       "      <th>air_temp_5</th>\n",
       "      <th>air_temp_6</th>\n",
       "      <th>wind.2m_1</th>\n",
       "      <th>wind.2m_2</th>\n",
       "      <th>wind.2m_3</th>\n",
       "      <th>wind.2m_4</th>\n",
       "      <th>wind.2m_5</th>\n",
       "      <th>wind.2m_6</th>\n",
       "      <th>rain.rate_1</th>\n",
       "      <th>rain.rate_2</th>\n",
       "      <th>rain.rate_3</th>\n",
       "      <th>rain.rate_4</th>\n",
       "      <th>rain.rate_5</th>\n",
       "      <th>rain.rate_6</th>\n",
       "      <th>app.mthd_bc</th>\n",
       "      <th>app.mthd_bsth</th>\n",
       "      <th>app.mthd_ts</th>\n",
       "      <th>app.mthd_os</th>\n",
       "      <th>incorp_none</th>\n",
       "      <th>incorp_shallow</th>\n",
       "    </tr>\n",
       "  </thead>\n",
       "  <tbody>\n",
       "    <tr>\n",
       "      <th>0</th>\n",
       "      <td>16.4190</td>\n",
       "      <td>0.134461</td>\n",
       "      <td>182</td>\n",
       "      <td>micro met</td>\n",
       "      <td>DK</td>\n",
       "      <td>104</td>\n",
       "      <td>164.99</td>\n",
       "      <td>122.11</td>\n",
       "      <td>31.8</td>\n",
       "      <td>3.7</td>\n",
       "      <td>7.35</td>\n",
       "      <td>0</td>\n",
       "      <td>1000.0</td>\n",
       "      <td>8.20</td>\n",
       "      <td>7.648529</td>\n",
       "      <td>6.766176</td>\n",
       "      <td>5.883824</td>\n",
       "      <td>5.001471</td>\n",
       "      <td>9.389090</td>\n",
       "      <td>8.10</td>\n",
       "      <td>7.494118</td>\n",
       "      <td>6.524706</td>\n",
       "      <td>5.555294</td>\n",
       "      <td>4.585882</td>\n",
       "      <td>5.340230</td>\n",
       "      <td>0.0</td>\n",
       "      <td>0.0</td>\n",
       "      <td>0.0</td>\n",
       "      <td>0.0</td>\n",
       "      <td>0.0</td>\n",
       "      <td>0.047679</td>\n",
       "      <td>1</td>\n",
       "      <td>0</td>\n",
       "      <td>0</td>\n",
       "      <td>0</td>\n",
       "      <td>1</td>\n",
       "      <td>0</td>\n",
       "    </tr>\n",
       "    <tr>\n",
       "      <th>1</th>\n",
       "      <td>6.9332</td>\n",
       "      <td>0.118882</td>\n",
       "      <td>183</td>\n",
       "      <td>micro met</td>\n",
       "      <td>DK</td>\n",
       "      <td>104</td>\n",
       "      <td>163.20</td>\n",
       "      <td>58.32</td>\n",
       "      <td>21.6</td>\n",
       "      <td>2.8</td>\n",
       "      <td>7.71</td>\n",
       "      <td>0</td>\n",
       "      <td>1000.0</td>\n",
       "      <td>13.77</td>\n",
       "      <td>13.568793</td>\n",
       "      <td>12.562759</td>\n",
       "      <td>11.489655</td>\n",
       "      <td>10.416552</td>\n",
       "      <td>10.006593</td>\n",
       "      <td>4.31</td>\n",
       "      <td>4.261897</td>\n",
       "      <td>4.021379</td>\n",
       "      <td>3.764828</td>\n",
       "      <td>3.508276</td>\n",
       "      <td>4.141415</td>\n",
       "      <td>0.0</td>\n",
       "      <td>0.0</td>\n",
       "      <td>0.0</td>\n",
       "      <td>0.0</td>\n",
       "      <td>0.0</td>\n",
       "      <td>0.000000</td>\n",
       "      <td>0</td>\n",
       "      <td>1</td>\n",
       "      <td>0</td>\n",
       "      <td>0</td>\n",
       "      <td>1</td>\n",
       "      <td>0</td>\n",
       "    </tr>\n",
       "  </tbody>\n",
       "</table>\n",
       "</div>"
      ],
      "text/plain": [
       "     e.cum     e.rel  pmid  meas.tech country  inst      ct  tan.app  \\\n",
       "0  16.4190  0.134461   182  micro met      DK   104  164.99   122.11   \n",
       "1   6.9332  0.118882   183  micro met      DK   104  163.20    58.32   \n",
       "\n",
       "   app.rate  man.dm  man.ph  man.source  t.incorp  air_temp_1  air_temp_2  \\\n",
       "0      31.8     3.7    7.35           0    1000.0        8.20    7.648529   \n",
       "1      21.6     2.8    7.71           0    1000.0       13.77   13.568793   \n",
       "\n",
       "   air_temp_3  air_temp_4  air_temp_5  air_temp_6  wind.2m_1  wind.2m_2  \\\n",
       "0    6.766176    5.883824    5.001471    9.389090       8.10   7.494118   \n",
       "1   12.562759   11.489655   10.416552   10.006593       4.31   4.261897   \n",
       "\n",
       "   wind.2m_3  wind.2m_4  wind.2m_5  wind.2m_6  rain.rate_1  rain.rate_2  \\\n",
       "0   6.524706   5.555294   4.585882   5.340230          0.0          0.0   \n",
       "1   4.021379   3.764828   3.508276   4.141415          0.0          0.0   \n",
       "\n",
       "   rain.rate_3  rain.rate_4  rain.rate_5  rain.rate_6  app.mthd_bc  \\\n",
       "0          0.0          0.0          0.0     0.047679            1   \n",
       "1          0.0          0.0          0.0     0.000000            0   \n",
       "\n",
       "   app.mthd_bsth  app.mthd_ts  app.mthd_os  incorp_none  incorp_shallow  \n",
       "0              0            0            0            1               0  \n",
       "1              1            0            0            1               0  "
      ]
     },
     "execution_count": 8,
     "metadata": {},
     "output_type": "execute_result"
    }
   ],
   "source": [
    "data_no_embeddings.head (2)"
   ]
  },
  {
   "cell_type": "markdown",
   "id": "a43810cb-2df1-4a85-8f8d-ab5e11cf39a0",
   "metadata": {},
   "source": [
    "## Data embeddings"
   ]
  },
  {
   "cell_type": "code",
   "execution_count": 9,
   "id": "bd05d3ce-2598-480c-bf16-2204b0598dd6",
   "metadata": {},
   "outputs": [],
   "source": [
    "data_embeddings = pd.read_csv(\"../00_data_preparation/processed_data/data_static_nn_2.csv\")"
   ]
  },
  {
   "cell_type": "code",
   "execution_count": 10,
   "id": "1cbc9682-45f5-4178-b694-27d1136fc4f2",
   "metadata": {},
   "outputs": [],
   "source": [
    "data_embeddings = data_embeddings.drop(['Unnamed: 0'], axis = 1)"
   ]
  },
  {
   "cell_type": "markdown",
   "id": "169142f7-2a02-47b3-b28f-e2a8d8d88798",
   "metadata": {},
   "source": [
    "## Test samples"
   ]
  },
  {
   "cell_type": "code",
   "execution_count": 11,
   "id": "e5604e51-3a7d-4ba7-84a3-40848123a075",
   "metadata": {},
   "outputs": [],
   "source": [
    "with open(\"../00_data_preparation/processed_data/list_train_pmids.json\", \"r\") as f:\n",
    "    list_train_pmids = json.load(f)\n",
    "\n",
    "with open(\"../00_data_preparation/processed_data/list_eval_pmids.json\", \"r\") as f:\n",
    "    list_eval_pmids = json.load(f)\n",
    "\n",
    "with open(\"../00_data_preparation/processed_data/list_test_pmids.json\", \"r\") as f:\n",
    "    list_test_pmids = json.load(f)"
   ]
  },
  {
   "cell_type": "markdown",
   "id": "e3a0344c-4740-4ba9-a6ed-2b5268826242",
   "metadata": {},
   "source": [
    "# Models"
   ]
  },
  {
   "cell_type": "code",
   "execution_count": 12,
   "id": "0e77398e-bfcb-4490-8a77-4e0b82436d65",
   "metadata": {},
   "outputs": [],
   "source": [
    "input_size_no_embeddings = 31\n",
    "input_size_embeddings = 27\n",
    "\n",
    "output_size = 1\n",
    "\n",
    "models = list (range (1, 9))\n",
    "\n",
    "architecture = [\n",
    "    [input_size_no_embeddings, 4, output_size],\n",
    "    [input_size_no_embeddings, 16, 4, output_size],\n",
    "    [input_size_no_embeddings, 64, 16, 4, output_size],\n",
    "    [input_size_no_embeddings, 256, 64, 16, 4, output_size],\n",
    "    [input_size_embeddings, 4, output_size],\n",
    "    [input_size_embeddings, 16, 4, output_size],\n",
    "    [input_size_embeddings, 64, 16, 4, output_size],\n",
    "    [input_size_embeddings, 256, 64, 16, 4, output_size],\n",
    "]\n",
    "\n",
    "with_embeddings = [False, False, False, False, True, True, True, True]"
   ]
  },
  {
   "cell_type": "code",
   "execution_count": 13,
   "id": "7104ef0a-41ec-486d-aacc-c0e5cbf426c6",
   "metadata": {},
   "outputs": [],
   "source": [
    "df_models = pd.DataFrame({'model': models, 'architecture' : architecture, 'with_embeddings' : with_embeddings})"
   ]
  },
  {
   "cell_type": "code",
   "execution_count": 14,
   "id": "f38cfee5-5b0e-4b76-9917-3cde10245ef1",
   "metadata": {},
   "outputs": [
    {
     "data": {
      "text/html": [
       "<div>\n",
       "<style scoped>\n",
       "    .dataframe tbody tr th:only-of-type {\n",
       "        vertical-align: middle;\n",
       "    }\n",
       "\n",
       "    .dataframe tbody tr th {\n",
       "        vertical-align: top;\n",
       "    }\n",
       "\n",
       "    .dataframe thead th {\n",
       "        text-align: right;\n",
       "    }\n",
       "</style>\n",
       "<table border=\"1\" class=\"dataframe\">\n",
       "  <thead>\n",
       "    <tr style=\"text-align: right;\">\n",
       "      <th></th>\n",
       "      <th>model</th>\n",
       "      <th>architecture</th>\n",
       "      <th>with_embeddings</th>\n",
       "    </tr>\n",
       "  </thead>\n",
       "  <tbody>\n",
       "    <tr>\n",
       "      <th>0</th>\n",
       "      <td>1</td>\n",
       "      <td>[31, 4, 1]</td>\n",
       "      <td>False</td>\n",
       "    </tr>\n",
       "    <tr>\n",
       "      <th>1</th>\n",
       "      <td>2</td>\n",
       "      <td>[31, 16, 4, 1]</td>\n",
       "      <td>False</td>\n",
       "    </tr>\n",
       "    <tr>\n",
       "      <th>2</th>\n",
       "      <td>3</td>\n",
       "      <td>[31, 64, 16, 4, 1]</td>\n",
       "      <td>False</td>\n",
       "    </tr>\n",
       "    <tr>\n",
       "      <th>3</th>\n",
       "      <td>4</td>\n",
       "      <td>[31, 256, 64, 16, 4, 1]</td>\n",
       "      <td>False</td>\n",
       "    </tr>\n",
       "    <tr>\n",
       "      <th>4</th>\n",
       "      <td>5</td>\n",
       "      <td>[27, 4, 1]</td>\n",
       "      <td>True</td>\n",
       "    </tr>\n",
       "    <tr>\n",
       "      <th>5</th>\n",
       "      <td>6</td>\n",
       "      <td>[27, 16, 4, 1]</td>\n",
       "      <td>True</td>\n",
       "    </tr>\n",
       "    <tr>\n",
       "      <th>6</th>\n",
       "      <td>7</td>\n",
       "      <td>[27, 64, 16, 4, 1]</td>\n",
       "      <td>True</td>\n",
       "    </tr>\n",
       "    <tr>\n",
       "      <th>7</th>\n",
       "      <td>8</td>\n",
       "      <td>[27, 256, 64, 16, 4, 1]</td>\n",
       "      <td>True</td>\n",
       "    </tr>\n",
       "  </tbody>\n",
       "</table>\n",
       "</div>"
      ],
      "text/plain": [
       "   model             architecture  with_embeddings\n",
       "0      1               [31, 4, 1]            False\n",
       "1      2           [31, 16, 4, 1]            False\n",
       "2      3       [31, 64, 16, 4, 1]            False\n",
       "3      4  [31, 256, 64, 16, 4, 1]            False\n",
       "4      5               [27, 4, 1]             True\n",
       "5      6           [27, 16, 4, 1]             True\n",
       "6      7       [27, 64, 16, 4, 1]             True\n",
       "7      8  [27, 256, 64, 16, 4, 1]             True"
      ]
     },
     "execution_count": 14,
     "metadata": {},
     "output_type": "execute_result"
    }
   ],
   "source": [
    "df_models"
   ]
  },
  {
   "cell_type": "code",
   "execution_count": null,
   "id": "f51860d7-1134-4132-8170-0ab6bc782c6d",
   "metadata": {},
   "outputs": [],
   "source": []
  },
  {
   "cell_type": "markdown",
   "id": "ae8b9b23-d80b-434e-b035-bf263eb7ea24",
   "metadata": {},
   "source": [
    "# Training avec cpu"
   ]
  },
  {
   "cell_type": "code",
   "execution_count": 15,
   "id": "5c7390e1-61ad-4ffe-abd2-9154d91d3b62",
   "metadata": {},
   "outputs": [],
   "source": [
    "DEVICE = \"cpu\""
   ]
  },
  {
   "cell_type": "code",
   "execution_count": 16,
   "id": "021d0820-8141-444a-86d7-0b56233c7c75",
   "metadata": {},
   "outputs": [],
   "source": [
    "pmids_train = list_train_pmids [0]\n",
    "pmids_eval = list_eval_pmids [0]\n",
    "pmids_test = list_test_pmids [0]"
   ]
  },
  {
   "cell_type": "code",
   "execution_count": 17,
   "id": "73c9daf1-c7f0-44af-8e64-ae332a159369",
   "metadata": {},
   "outputs": [],
   "source": [
    "model_index = 8\n",
    "\n",
    "architecture = df_models['architecture'][model_index - 1]\n",
    "with_embeddings = df_models['with_embeddings'][model_index - 1]\n",
    "\n",
    "if (with_embeddings):\n",
    "    data = data_embeddings.copy()\n",
    "    cat_dims = [5, 3, 2]  \n",
    "    embeddings_dims = [10, 9, 8]  \n",
    "    input_size = 27\n",
    "\n",
    "else: \n",
    "    data = data_no_embeddings.copy()\n",
    "    cat_dims = None\n",
    "    embeddings_dims = None\n",
    "    input_size = 31"
   ]
  },
  {
   "cell_type": "code",
   "execution_count": 18,
   "id": "0d8b8dcb-ddb5-47fa-a65d-986e63108bc7",
   "metadata": {},
   "outputs": [],
   "source": [
    "data_train = data[data['pmid'].isin(pmids_train)]\n",
    "pmids_train = data_train['pmid'].unique()\n",
    "\n",
    "data_eval = data[data['pmid'].isin(pmids_eval)]\n",
    "pmids_eval = data_eval['pmid'].unique()\n",
    "\n",
    "data_test = data[data['pmid'].isin(pmids_test)]\n",
    "pmids_test = data_test['pmid'].unique()\n",
    "\n",
    "n_observations_evaluation_subset = data_eval.shape[0]\n",
    "\n",
    "n_train = data_train.shape[0]"
   ]
  },
  {
   "cell_type": "code",
   "execution_count": 19,
   "id": "ba362b23-0059-4c92-b07c-7853ebba9758",
   "metadata": {},
   "outputs": [],
   "source": [
    "continuous_variables = ['ct', 'tan.app', 'app.rate', 'man.dm', 'man.ph', 't.incorp', \n",
    "                        'air_temp_1', 'air_temp_2', 'air_temp_3', 'air_temp_4', 'air_temp_5', 'air_temp_6', \n",
    "                        'wind.2m_1', 'wind.2m_2', 'wind.2m_3', 'wind.2m_4', 'wind.2m_5', 'wind.2m_6', \n",
    "                        'rain.rate_1', 'rain.rate_2', 'rain.rate_3', 'rain.rate_4', 'rain.rate_5', 'rain.rate_6']\n",
    "\n",
    "if with_embeddings:\n",
    "       \n",
    "    x_cont_train = torch.tensor (data_train [continuous_variables].values, dtype = torch.float32).to(DEVICE)\n",
    "    x_cat_train = torch.tensor (data_train[['app.mthd', 'incorp', 'man.source']].values, dtype = torch.long).to(DEVICE)\n",
    "    x_train = [x_cont_train, x_cat_train]\n",
    "    \n",
    "    x_cont_eval = torch.tensor (data_eval [continuous_variables].values, dtype = torch.float32).to(DEVICE)\n",
    "    x_cat_eval = torch.tensor (data_eval[['app.mthd', 'incorp', 'man.source']].values, dtype = torch.long).to(DEVICE)\n",
    "    x_cat_eval = torch.unbind (x_cat_eval, dim = 1)\n",
    "    x_eval = [x_cont_eval, x_cat_eval]\n",
    "    \n",
    "    x_cont_test = torch.tensor (data_test [continuous_variables].values, dtype = torch.float32).to(DEVICE)\n",
    "    x_cat_test = torch.tensor (data_test[['app.mthd', 'incorp', 'man.source']].values, dtype = torch.long).to(DEVICE)\n",
    "    x_cat_test = torch.unbind (x_cat_test, dim = 1)    \n",
    "    x_test = [x_cont_test, x_cat_test]\n",
    "\n",
    "else:\n",
    "    x_train = torch.tensor (data_train.iloc[:,6:].values, dtype = torch.float32).to(DEVICE) \n",
    "    x_eval = torch.tensor (data_eval.iloc[:,6:].values, dtype = torch.float32).to(DEVICE) \n",
    "    x_test = torch.tensor (data_test.iloc[:,6:].values, dtype = torch.float32).to(DEVICE) \n",
    "\n",
    "y_train = torch.tensor (data_train [['e.cum']].values, dtype = torch.float32).to(DEVICE)\n",
    "y_eval = torch.tensor (data_eval [['e.cum']].values, dtype = torch.float32).to(DEVICE)\n",
    "y_test = torch.tensor (data_test [['e.cum']].values, dtype = torch.float32).to(DEVICE)"
   ]
  },
  {
   "cell_type": "code",
   "execution_count": 20,
   "id": "3a6d3332-8108-4808-865c-188156353fc9",
   "metadata": {},
   "outputs": [
    {
     "name": "stdout",
     "output_type": "stream",
     "text": [
      "Epoch [100/1000], Loss: 8.0068\n",
      "Epoch [200/1000], Loss: 6.6271\n",
      "Epoch [300/1000], Loss: 6.2329\n",
      "Epoch [400/1000], Loss: 6.0590\n",
      "Epoch [500/1000], Loss: 5.7063\n",
      "Epoch [600/1000], Loss: 5.4101\n",
      "Epoch [700/1000], Loss: 5.3215\n",
      "Epoch [800/1000], Loss: 5.1335\n",
      "Epoch [900/1000], Loss: 4.9685\n",
      "Epoch [1000/1000], Loss: 4.9019\n"
     ]
    }
   ],
   "source": [
    "torch.manual_seed(1)\n",
    "\n",
    "model = RegressionNN(layer_sizes = architecture, \n",
    "                     with_embeddings = with_embeddings,\n",
    "                     cat_dims = cat_dims, \n",
    "                     embeddings_dims = embeddings_dims).to(DEVICE)\n",
    "\n",
    "start_time = time.time()\n",
    "\n",
    "learning_rate = 0.0001\n",
    "num_epochs = 1000\n",
    "batch_size = 32\n",
    "optimizer = torch.optim.Adam(model.parameters(), lr = learning_rate)\n",
    "\n",
    "model.train()  # Set model to training mode\n",
    "random.seed(1)\n",
    "\n",
    "all_losses = []\n",
    "all_mae_eval = []\n",
    "\n",
    "for epoch in range(num_epochs):\n",
    "\n",
    "    indices = torch.randperm(n_train)\n",
    "    \n",
    "    mini_batches_x, mini_batches_y = mf.generatre_mini_batches (x_train, y_train, with_embeddings, batch_size, n_train, indices)\n",
    "\n",
    "    all_predictions = []\n",
    "\n",
    "    for x_batch, y_batch in zip (mini_batches_x, mini_batches_y):\n",
    "\n",
    "        n_obs_train = y_batch.shape[0]\n",
    "    \n",
    "        predictions = model(x_batch)  \n",
    "    \n",
    "        loss = torch.sum ((predictions - y_batch) ** 2) / n_obs_train  \n",
    "        \n",
    "        # Backpropagation and optimization\n",
    "        optimizer.zero_grad()\n",
    "        loss.backward()\n",
    "        optimizer.step()\n",
    "\n",
    "        all_predictions.append(predictions.detach())\n",
    "\n",
    "    all_predictions = torch.cat(all_predictions, dim = 0)\n",
    "    all_target_train = torch.cat(mini_batches_y, dim = 0)\n",
    "\n",
    "    loss = torch.sum (torch.abs(all_predictions - all_target_train)) / n_train\n",
    "    all_losses.append (loss.item())\n",
    "\n",
    "\n",
    "    with torch.no_grad():\n",
    "                    \n",
    "        predictions_eval = model (x_eval)\n",
    "        mae = torch.sum (torch.abs (predictions_eval - y_eval)) / n_observations_evaluation_subset\n",
    "\n",
    "    all_mae_eval.append (mae.item())\n",
    "    \n",
    "    # Print the loss \n",
    "    if (epoch+1) % (num_epochs / 10) == 0:\n",
    "        print(f'Epoch [{epoch+1}/{num_epochs}], Loss: {loss.item():.4f}')\n",
    "\n",
    "end_time = time.time()"
   ]
  },
  {
   "cell_type": "code",
   "execution_count": 21,
   "id": "58a5c2f6-98f2-443c-87c7-94876654349a",
   "metadata": {},
   "outputs": [
    {
     "name": "stdout",
     "output_type": "stream",
     "text": [
      "Temps d'exécution : 33.049264430999756 secondes\n"
     ]
    }
   ],
   "source": [
    "elapsed_time = end_time - start_time\n",
    "print(f\"Temps d'exécution : {elapsed_time} secondes\")"
   ]
  },
  {
   "cell_type": "code",
   "execution_count": 22,
   "id": "0d0fcb9e-e91f-4471-9e33-751d33e8b8ae",
   "metadata": {
    "scrolled": true
   },
   "outputs": [
    {
     "data": {
      "image/png": "[encoded data removed]",
      "text/plain": [
       "<Figure size 1200x400 with 2 Axes>"
      ]
     },
     "metadata": {},
     "output_type": "display_data"
    }
   ],
   "source": [
    "fig, axes = plt.subplots(1, 2, figsize = (12, 4), sharey = False)\n",
    "\n",
    "axes[0].plot(all_losses[10:])\n",
    "axes[0].set_title('All Losses')\n",
    "\n",
    "axes[1].plot(all_mae_eval[10:])\n",
    "axes[1].set_title('All mae eval')\n",
    "\n",
    "plt.tight_layout()\n",
    "plt.show()"
   ]
  },
  {
   "cell_type": "markdown",
   "id": "4402a6ab-2a09-43ff-a207-c5eed341688a",
   "metadata": {},
   "source": [
    "# Training avec gpu"
   ]
  },
  {
   "cell_type": "code",
   "execution_count": 23,
   "id": "96044738-aa89-439f-a1d3-8fdef837fe21",
   "metadata": {},
   "outputs": [],
   "source": [
    "DEVICE = \"cuda:0\""
   ]
  },
  {
   "cell_type": "code",
   "execution_count": 24,
   "id": "32499bfb-0078-488a-a0e4-63c5f448bcc1",
   "metadata": {},
   "outputs": [],
   "source": [
    "pmids_train = list_train_pmids [0]\n",
    "pmids_eval = list_eval_pmids [0]\n",
    "pmids_test = list_test_pmids [0]"
   ]
  },
  {
   "cell_type": "code",
   "execution_count": 25,
   "id": "3d42fd3f-dd69-4d7e-8f75-36f18b52a224",
   "metadata": {},
   "outputs": [],
   "source": [
    "model_index = 8\n",
    "\n",
    "architecture = df_models['architecture'][model_index - 1]\n",
    "with_embeddings = df_models['with_embeddings'][model_index - 1]\n",
    "\n",
    "if (with_embeddings):\n",
    "    data = data_embeddings.copy()\n",
    "    cat_dims = [5, 3, 2]  \n",
    "    embeddings_dims = [10, 9, 8]  \n",
    "    input_size = 27\n",
    "\n",
    "else: \n",
    "    data = data_no_embeddings.copy()\n",
    "    cat_dims = None\n",
    "    embeddings_dims = None\n",
    "    input_size = 31"
   ]
  },
  {
   "cell_type": "code",
   "execution_count": 26,
   "id": "30fb603c-e668-4015-8fa1-3c0a175748fd",
   "metadata": {},
   "outputs": [],
   "source": [
    "data_train = data[data['pmid'].isin(pmids_train)]\n",
    "pmids_train = data_train['pmid'].unique()\n",
    "\n",
    "data_eval = data[data['pmid'].isin(pmids_eval)]\n",
    "pmids_eval = data_eval['pmid'].unique()\n",
    "\n",
    "data_test = data[data['pmid'].isin(pmids_test)]\n",
    "pmids_test = data_test['pmid'].unique()\n",
    "\n",
    "n_observations_evaluation_subset = data_eval.shape[0]\n",
    "\n",
    "n_train = data_train.shape[0]"
   ]
  },
  {
   "cell_type": "code",
   "execution_count": 27,
   "id": "afafc87d-2ca3-4e91-a00f-7116f3817522",
   "metadata": {},
   "outputs": [
    {
     "ename": "RuntimeError",
     "evalue": "Found no NVIDIA driver on your system. Please check that you have an NVIDIA GPU and installed a driver from http://www.nvidia.com/Download/index.aspx",
     "output_type": "error",
     "traceback": [
      "\u001b[0;31m---------------------------------------------------------------------------\u001b[0m",
      "\u001b[0;31mRuntimeError\u001b[0m                              Traceback (most recent call last)",
      "Cell \u001b[0;32mIn[27], line 8\u001b[0m\n\u001b[1;32m      1\u001b[0m continuous_variables \u001b[38;5;241m=\u001b[39m [\u001b[38;5;124m'\u001b[39m\u001b[38;5;124mct\u001b[39m\u001b[38;5;124m'\u001b[39m, \u001b[38;5;124m'\u001b[39m\u001b[38;5;124mtan.app\u001b[39m\u001b[38;5;124m'\u001b[39m, \u001b[38;5;124m'\u001b[39m\u001b[38;5;124mapp.rate\u001b[39m\u001b[38;5;124m'\u001b[39m, \u001b[38;5;124m'\u001b[39m\u001b[38;5;124mman.dm\u001b[39m\u001b[38;5;124m'\u001b[39m, \u001b[38;5;124m'\u001b[39m\u001b[38;5;124mman.ph\u001b[39m\u001b[38;5;124m'\u001b[39m, \u001b[38;5;124m'\u001b[39m\u001b[38;5;124mt.incorp\u001b[39m\u001b[38;5;124m'\u001b[39m, \n\u001b[1;32m      2\u001b[0m                         \u001b[38;5;124m'\u001b[39m\u001b[38;5;124mair_temp_1\u001b[39m\u001b[38;5;124m'\u001b[39m, \u001b[38;5;124m'\u001b[39m\u001b[38;5;124mair_temp_2\u001b[39m\u001b[38;5;124m'\u001b[39m, \u001b[38;5;124m'\u001b[39m\u001b[38;5;124mair_temp_3\u001b[39m\u001b[38;5;124m'\u001b[39m, \u001b[38;5;124m'\u001b[39m\u001b[38;5;124mair_temp_4\u001b[39m\u001b[38;5;124m'\u001b[39m, \u001b[38;5;124m'\u001b[39m\u001b[38;5;124mair_temp_5\u001b[39m\u001b[38;5;124m'\u001b[39m, \u001b[38;5;124m'\u001b[39m\u001b[38;5;124mair_temp_6\u001b[39m\u001b[38;5;124m'\u001b[39m, \n\u001b[1;32m      3\u001b[0m                         \u001b[38;5;124m'\u001b[39m\u001b[38;5;124mwind.2m_1\u001b[39m\u001b[38;5;124m'\u001b[39m, \u001b[38;5;124m'\u001b[39m\u001b[38;5;124mwind.2m_2\u001b[39m\u001b[38;5;124m'\u001b[39m, \u001b[38;5;124m'\u001b[39m\u001b[38;5;124mwind.2m_3\u001b[39m\u001b[38;5;124m'\u001b[39m, \u001b[38;5;124m'\u001b[39m\u001b[38;5;124mwind.2m_4\u001b[39m\u001b[38;5;124m'\u001b[39m, \u001b[38;5;124m'\u001b[39m\u001b[38;5;124mwind.2m_5\u001b[39m\u001b[38;5;124m'\u001b[39m, \u001b[38;5;124m'\u001b[39m\u001b[38;5;124mwind.2m_6\u001b[39m\u001b[38;5;124m'\u001b[39m, \n\u001b[1;32m      4\u001b[0m                         \u001b[38;5;124m'\u001b[39m\u001b[38;5;124mrain.rate_1\u001b[39m\u001b[38;5;124m'\u001b[39m, \u001b[38;5;124m'\u001b[39m\u001b[38;5;124mrain.rate_2\u001b[39m\u001b[38;5;124m'\u001b[39m, \u001b[38;5;124m'\u001b[39m\u001b[38;5;124mrain.rate_3\u001b[39m\u001b[38;5;124m'\u001b[39m, \u001b[38;5;124m'\u001b[39m\u001b[38;5;124mrain.rate_4\u001b[39m\u001b[38;5;124m'\u001b[39m, \u001b[38;5;124m'\u001b[39m\u001b[38;5;124mrain.rate_5\u001b[39m\u001b[38;5;124m'\u001b[39m, \u001b[38;5;124m'\u001b[39m\u001b[38;5;124mrain.rate_6\u001b[39m\u001b[38;5;124m'\u001b[39m]\n\u001b[1;32m      6\u001b[0m \u001b[38;5;28;01mif\u001b[39;00m with_embeddings:\n\u001b[0;32m----> 8\u001b[0m     x_cont_train \u001b[38;5;241m=\u001b[39m \u001b[43mtorch\u001b[49m\u001b[38;5;241;43m.\u001b[39;49m\u001b[43mtensor\u001b[49m\u001b[43m \u001b[49m\u001b[43m(\u001b[49m\u001b[43mdata_train\u001b[49m\u001b[43m \u001b[49m\u001b[43m[\u001b[49m\u001b[43mcontinuous_variables\u001b[49m\u001b[43m]\u001b[49m\u001b[38;5;241;43m.\u001b[39;49m\u001b[43mvalues\u001b[49m\u001b[43m,\u001b[49m\u001b[43m \u001b[49m\u001b[43mdtype\u001b[49m\u001b[43m \u001b[49m\u001b[38;5;241;43m=\u001b[39;49m\u001b[43m \u001b[49m\u001b[43mtorch\u001b[49m\u001b[38;5;241;43m.\u001b[39;49m\u001b[43mfloat32\u001b[49m\u001b[43m)\u001b[49m\u001b[38;5;241;43m.\u001b[39;49m\u001b[43mto\u001b[49m\u001b[43m(\u001b[49m\u001b[43mDEVICE\u001b[49m\u001b[43m)\u001b[49m\n\u001b[1;32m      9\u001b[0m     x_cat_train \u001b[38;5;241m=\u001b[39m torch\u001b[38;5;241m.\u001b[39mtensor (data_train[[\u001b[38;5;124m'\u001b[39m\u001b[38;5;124mapp.mthd\u001b[39m\u001b[38;5;124m'\u001b[39m, \u001b[38;5;124m'\u001b[39m\u001b[38;5;124mincorp\u001b[39m\u001b[38;5;124m'\u001b[39m, \u001b[38;5;124m'\u001b[39m\u001b[38;5;124mman.source\u001b[39m\u001b[38;5;124m'\u001b[39m]]\u001b[38;5;241m.\u001b[39mvalues, dtype \u001b[38;5;241m=\u001b[39m torch\u001b[38;5;241m.\u001b[39mlong)\u001b[38;5;241m.\u001b[39mto(DEVICE)\n\u001b[1;32m     10\u001b[0m     x_train \u001b[38;5;241m=\u001b[39m [x_cont_train, x_cat_train]\n",
      "File \u001b[0;32m~/.local/lib/python3.12/site-packages/torch/cuda/__init__.py:319\u001b[0m, in \u001b[0;36m_lazy_init\u001b[0;34m()\u001b[0m\n\u001b[1;32m    317\u001b[0m \u001b[38;5;28;01mif\u001b[39;00m \u001b[38;5;124m\"\u001b[39m\u001b[38;5;124mCUDA_MODULE_LOADING\u001b[39m\u001b[38;5;124m\"\u001b[39m \u001b[38;5;129;01mnot\u001b[39;00m \u001b[38;5;129;01min\u001b[39;00m os\u001b[38;5;241m.\u001b[39menviron:\n\u001b[1;32m    318\u001b[0m     os\u001b[38;5;241m.\u001b[39menviron[\u001b[38;5;124m\"\u001b[39m\u001b[38;5;124mCUDA_MODULE_LOADING\u001b[39m\u001b[38;5;124m\"\u001b[39m] \u001b[38;5;241m=\u001b[39m \u001b[38;5;124m\"\u001b[39m\u001b[38;5;124mLAZY\u001b[39m\u001b[38;5;124m\"\u001b[39m\n\u001b[0;32m--> 319\u001b[0m \u001b[43mtorch\u001b[49m\u001b[38;5;241;43m.\u001b[39;49m\u001b[43m_C\u001b[49m\u001b[38;5;241;43m.\u001b[39;49m\u001b[43m_cuda_init\u001b[49m\u001b[43m(\u001b[49m\u001b[43m)\u001b[49m\n\u001b[1;32m    320\u001b[0m \u001b[38;5;66;03m# Some of the queued calls may reentrantly call _lazy_init();\u001b[39;00m\n\u001b[1;32m    321\u001b[0m \u001b[38;5;66;03m# we need to just return without initializing in that case.\u001b[39;00m\n\u001b[1;32m    322\u001b[0m \u001b[38;5;66;03m# However, we must not let any *other* threads in!\u001b[39;00m\n\u001b[1;32m    323\u001b[0m _tls\u001b[38;5;241m.\u001b[39mis_initializing \u001b[38;5;241m=\u001b[39m \u001b[38;5;28;01mTrue\u001b[39;00m\n",
      "\u001b[0;31mRuntimeError\u001b[0m: Found no NVIDIA driver on your system. Please check that you have an NVIDIA GPU and installed a driver from http://www.nvidia.com/Download/index.aspx"
     ]
    }
   ],
   "source": [
    "continuous_variables = ['ct', 'tan.app', 'app.rate', 'man.dm', 'man.ph', 't.incorp', \n",
    "                        'air_temp_1', 'air_temp_2', 'air_temp_3', 'air_temp_4', 'air_temp_5', 'air_temp_6', \n",
    "                        'wind.2m_1', 'wind.2m_2', 'wind.2m_3', 'wind.2m_4', 'wind.2m_5', 'wind.2m_6', \n",
    "                        'rain.rate_1', 'rain.rate_2', 'rain.rate_3', 'rain.rate_4', 'rain.rate_5', 'rain.rate_6']\n",
    "\n",
    "if with_embeddings:\n",
    "       \n",
    "    x_cont_train = torch.tensor (data_train [continuous_variables].values, dtype = torch.float32).to(DEVICE)\n",
    "    x_cat_train = torch.tensor (data_train[['app.mthd', 'incorp', 'man.source']].values, dtype = torch.long).to(DEVICE)\n",
    "    x_train = [x_cont_train, x_cat_train]\n",
    "    \n",
    "    x_cont_eval = torch.tensor (data_eval [continuous_variables].values, dtype = torch.float32).to(DEVICE)\n",
    "    x_cat_eval = torch.tensor (data_eval[['app.mthd', 'incorp', 'man.source']].values, dtype = torch.long).to(DEVICE)\n",
    "    x_cat_eval = torch.unbind (x_cat_eval, dim = 1)\n",
    "    x_eval = [x_cont_eval, x_cat_eval]\n",
    "    \n",
    "    x_cont_test = torch.tensor (data_test [continuous_variables].values, dtype = torch.float32).to(DEVICE)\n",
    "    x_cat_test = torch.tensor (data_test[['app.mthd', 'incorp', 'man.source']].values, dtype = torch.long).to(DEVICE)\n",
    "    x_cat_test = torch.unbind (x_cat_test, dim = 1)    \n",
    "    x_test = [x_cont_test, x_cat_test]\n",
    "\n",
    "else:\n",
    "    x_train = torch.tensor (data_train.iloc[:,6:].values, dtype = torch.float32).to(DEVICE) \n",
    "    x_eval = torch.tensor (data_eval.iloc[:,6:].values, dtype = torch.float32).to(DEVICE) \n",
    "    x_test = torch.tensor (data_test.iloc[:,6:].values, dtype = torch.float32).to(DEVICE) \n",
    "\n",
    "y_train = torch.tensor (data_train [['e.cum']].values, dtype = torch.float32).to(DEVICE)\n",
    "y_eval = torch.tensor (data_eval [['e.cum']].values, dtype = torch.float32).to(DEVICE)\n",
    "y_test = torch.tensor (data_test [['e.cum']].values, dtype = torch.float32).to(DEVICE)"
   ]
  },
  {
   "cell_type": "code",
   "execution_count": null,
   "id": "c410f84c-da25-4fc4-8433-f0831cd8fba9",
   "metadata": {},
   "outputs": [],
   "source": [
    "torch.manual_seed(1)\n",
    "\n",
    "model = RegressionNN(layer_sizes = architecture, \n",
    "                     with_embeddings = with_embeddings,\n",
    "                     cat_dims = cat_dims, \n",
    "                     embeddings_dims = embeddings_dims).to(DEVICE)\n",
    "\n",
    "start_time = time.time()\n",
    "\n",
    "learning_rate = 0.0001\n",
    "num_epochs = 1000\n",
    "batch_size = 32\n",
    "optimizer = torch.optim.Adam(model.parameters(), lr = learning_rate)\n",
    "\n",
    "model.train()  # Set model to training mode\n",
    "random.seed(1)\n",
    "\n",
    "all_losses = []\n",
    "all_mae_eval = []\n",
    "\n",
    "for epoch in range(num_epochs):\n",
    "\n",
    "    indices = torch.randperm(n_train)\n",
    "    \n",
    "    mini_batches_x, mini_batches_y = mf.generatre_mini_batches (x_train, y_train, with_embeddings, batch_size, n_train, indices)\n",
    "\n",
    "    all_predictions = []\n",
    "\n",
    "    for x_batch, y_batch in zip (mini_batches_x, mini_batches_y):\n",
    "\n",
    "        n_obs_train = y_batch.shape[0]\n",
    "    \n",
    "        predictions = model(x_batch)  \n",
    "    \n",
    "        loss = torch.sum ((predictions - y_batch) ** 2) / n_obs_train  \n",
    "        \n",
    "        # Backpropagation and optimization\n",
    "        optimizer.zero_grad()\n",
    "        loss.backward()\n",
    "        optimizer.step()\n",
    "\n",
    "        all_predictions.append(predictions.detach())\n",
    "\n",
    "    all_predictions = torch.cat(all_predictions, dim = 0)\n",
    "    all_target_train = torch.cat(mini_batches_y, dim = 0)\n",
    "\n",
    "    loss = torch.sum (torch.abs(all_predictions - all_target_train)) / n_train\n",
    "    all_losses.append (loss.item())\n",
    "\n",
    "\n",
    "    with torch.no_grad():\n",
    "                    \n",
    "        predictions_eval = model (x_eval)\n",
    "        mae = torch.sum (torch.abs (predictions_eval - y_eval)) / n_observations_evaluation_subset\n",
    "\n",
    "    all_mae_eval.append (mae.item())\n",
    "    \n",
    "    # Print the loss \n",
    "    if (epoch+1) % (num_epochs / 10) == 0:\n",
    "        print(f'Epoch [{epoch+1}/{num_epochs}], Loss: {loss.item():.4f}')\n",
    "\n",
    "end_time = time.time()"
   ]
  },
  {
   "cell_type": "code",
   "execution_count": null,
   "id": "87e52bbe-b3c2-407e-8f6a-e25afbd14200",
   "metadata": {},
   "outputs": [],
   "source": [
    "elapsed_time = end_time - start_time\n",
    "print(f\"Temps d'exécution : {elapsed_time} secondes\")"
   ]
  },
  {
   "cell_type": "code",
   "execution_count": null,
   "id": "5faf2929-cc39-4e43-ae9e-86626541ab77",
   "metadata": {
    "scrolled": true
   },
   "outputs": [],
   "source": [
    "fig, axes = plt.subplots(1, 2, figsize = (12, 4), sharey = False)\n",
    "\n",
    "axes[0].plot(all_losses[10:])\n",
    "axes[0].set_title('All Losses')\n",
    "\n",
    "axes[1].plot(all_mae_eval[10:])\n",
    "axes[1].set_title('All mae eval')\n",
    "\n",
    "plt.tight_layout()\n",
    "plt.show()"
   ]
  },
  {
   "cell_type": "markdown",
   "id": "5e71e9fc-1a30-47d4-94f5-14d6704db5d5",
   "metadata": {},
   "source": [
    "# End"
   ]
  },
  {
   "cell_type": "code",
   "execution_count": null,
   "id": "31206492-0b51-4c8c-9280-29659c8b550e",
   "metadata": {},
   "outputs": [],
   "source": []
  }
 ],
 "metadata": {
  "kernelspec": {
   "display_name": "Python 3 (ipykernel)",
   "language": "python",
   "name": "python3"
  },
  "language_info": {
   "codemirror_mode": {
    "name": "ipython",
    "version": 3
   },
   "file_extension": ".py",
   "mimetype": "text/x-python",
   "name": "python",
   "nbconvert_exporter": "python",
   "pygments_lexer": "ipython3",
   "version": "3.12.3"
  }
 },
 "nbformat": 4,
 "nbformat_minor": 5
}
