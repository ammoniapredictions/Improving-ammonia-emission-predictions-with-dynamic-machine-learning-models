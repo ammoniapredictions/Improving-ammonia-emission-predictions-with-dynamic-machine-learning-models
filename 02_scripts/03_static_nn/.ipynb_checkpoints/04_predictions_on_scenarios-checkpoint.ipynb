{
 "cells": [
  {
   "cell_type": "markdown",
   "id": "323f4ff3-3018-4e75-a7cb-12aa93f61f1b",
   "metadata": {},
   "source": [
    "# Readme"
   ]
  },
  {
   "cell_type": "markdown",
   "id": "e4fd32ed-4b53-40d0-939f-d77f6862647e",
   "metadata": {},
   "source": [
    "In this file, the 'static nn 12' model is used to make predictions on the scenarios defined in the article. The model is first retrained on a larger training set than the one used for cross-validation."
   ]
  },
  {
   "cell_type": "markdown",
   "id": "2a5cb01e-f8b3-43aa-894e-e65de8aba1a9",
   "metadata": {},
   "source": [
    "# Setup"
   ]
  },
  {
   "cell_type": "code",
   "execution_count": 1,
   "id": "116dff47-20b7-46e4-9521-5cd1549e525e",
   "metadata": {},
   "outputs": [
    {
     "name": "stderr",
     "output_type": "stream",
     "text": [
      "/home/mmip/.local/lib/python3.12/site-packages/pandas/core/arrays/masked.py:60: UserWarning: Pandas requires version '1.3.6' or newer of 'bottleneck' (version '1.3.5' currently installed).\n",
      "  from pandas.core import (\n"
     ]
    }
   ],
   "source": [
    "import torch\n",
    "import torch.nn as nn \n",
    "import matplotlib.pyplot as plt \n",
    "import pandas as pd\n",
    "import numpy as np\n",
    "import time\n",
    "import random\n",
    "import pickle\n",
    "import json\n",
    "import itertools\n",
    "import importlib\n",
    "import os"
   ]
  },
  {
   "cell_type": "code",
   "execution_count": 2,
   "id": "7db61d48-6cc8-437d-be2c-6b45611d559a",
   "metadata": {},
   "outputs": [],
   "source": [
    "import sys\n",
    "sys.path.append ('functions')\n",
    "\n",
    "import functions as mf\n",
    "importlib.reload(mf) \n",
    "\n",
    "from static_nn_module import RegressionNN"
   ]
  },
  {
   "cell_type": "code",
   "execution_count": 3,
   "id": "7834cb22-2552-401f-af16-afd0264097b3",
   "metadata": {},
   "outputs": [
    {
     "data": {
      "text/plain": [
       "'cpu'"
      ]
     },
     "execution_count": 3,
     "metadata": {},
     "output_type": "execute_result"
    }
   ],
   "source": [
    "DEVICE = 'cuda:0' if torch.cuda.is_available() else 'cpu'\n",
    "DEVICE"
   ]
  },
  {
   "cell_type": "code",
   "execution_count": 4,
   "id": "850cfc05-7a15-47a4-a449-47689b063efb",
   "metadata": {},
   "outputs": [],
   "source": [
    "pd.set_option(\"display.max_columns\", None)"
   ]
  },
  {
   "cell_type": "markdown",
   "id": "478f99d1-499d-49ea-b4fa-30a0afed0606",
   "metadata": {},
   "source": [
    "# Data"
   ]
  },
  {
   "cell_type": "markdown",
   "id": "a43810cb-2df1-4a85-8f8d-ab5e11cf39a0",
   "metadata": {},
   "source": [
    "## Data embeddings"
   ]
  },
  {
   "cell_type": "code",
   "execution_count": 5,
   "id": "bd05d3ce-2598-480c-bf16-2204b0598dd6",
   "metadata": {},
   "outputs": [],
   "source": [
    "data_embeddings = pd.read_csv(\"../00_data_preparation/processed_data/data_static_nn_2.csv\")"
   ]
  },
  {
   "cell_type": "code",
   "execution_count": 6,
   "id": "1cbc9682-45f5-4178-b694-27d1136fc4f2",
   "metadata": {},
   "outputs": [],
   "source": [
    "data_embeddings = data_embeddings.drop(['Unnamed: 0'], axis = 1)"
   ]
  },
  {
   "cell_type": "code",
   "execution_count": 7,
   "id": "c9f98d54-1780-4720-a345-5100e93ab935",
   "metadata": {},
   "outputs": [
    {
     "data": {
      "text/html": [
       "<div>\n",
       "<style scoped>\n",
       "    .dataframe tbody tr th:only-of-type {\n",
       "        vertical-align: middle;\n",
       "    }\n",
       "\n",
       "    .dataframe tbody tr th {\n",
       "        vertical-align: top;\n",
       "    }\n",
       "\n",
       "    .dataframe thead th {\n",
       "        text-align: right;\n",
       "    }\n",
       "</style>\n",
       "<table border=\"1\" class=\"dataframe\">\n",
       "  <thead>\n",
       "    <tr style=\"text-align: right;\">\n",
       "      <th></th>\n",
       "      <th>e.cum</th>\n",
       "      <th>e.rel</th>\n",
       "      <th>pmid</th>\n",
       "      <th>meas.tech</th>\n",
       "      <th>country</th>\n",
       "      <th>inst</th>\n",
       "      <th>ct</th>\n",
       "      <th>tan.app</th>\n",
       "      <th>app.rate</th>\n",
       "      <th>man.dm</th>\n",
       "      <th>man.ph</th>\n",
       "      <th>man.source</th>\n",
       "      <th>t.incorp</th>\n",
       "      <th>app.mthd</th>\n",
       "      <th>incorp</th>\n",
       "      <th>air_temp_1</th>\n",
       "      <th>air_temp_2</th>\n",
       "      <th>air_temp_3</th>\n",
       "      <th>air_temp_4</th>\n",
       "      <th>air_temp_5</th>\n",
       "      <th>air_temp_6</th>\n",
       "      <th>wind.2m_1</th>\n",
       "      <th>wind.2m_2</th>\n",
       "      <th>wind.2m_3</th>\n",
       "      <th>wind.2m_4</th>\n",
       "      <th>wind.2m_5</th>\n",
       "      <th>wind.2m_6</th>\n",
       "      <th>rain.rate_1</th>\n",
       "      <th>rain.rate_2</th>\n",
       "      <th>rain.rate_3</th>\n",
       "      <th>rain.rate_4</th>\n",
       "      <th>rain.rate_5</th>\n",
       "      <th>rain.rate_6</th>\n",
       "    </tr>\n",
       "  </thead>\n",
       "  <tbody>\n",
       "    <tr>\n",
       "      <th>0</th>\n",
       "      <td>16.4190</td>\n",
       "      <td>0.134461</td>\n",
       "      <td>182</td>\n",
       "      <td>micro met</td>\n",
       "      <td>DK</td>\n",
       "      <td>104</td>\n",
       "      <td>164.99</td>\n",
       "      <td>122.11</td>\n",
       "      <td>31.8</td>\n",
       "      <td>3.7</td>\n",
       "      <td>7.35</td>\n",
       "      <td>0</td>\n",
       "      <td>1000.0</td>\n",
       "      <td>0</td>\n",
       "      <td>0</td>\n",
       "      <td>8.20</td>\n",
       "      <td>7.648529</td>\n",
       "      <td>6.766176</td>\n",
       "      <td>5.883824</td>\n",
       "      <td>5.001471</td>\n",
       "      <td>9.389090</td>\n",
       "      <td>8.10</td>\n",
       "      <td>7.494118</td>\n",
       "      <td>6.524706</td>\n",
       "      <td>5.555294</td>\n",
       "      <td>4.585882</td>\n",
       "      <td>5.340230</td>\n",
       "      <td>0.0</td>\n",
       "      <td>0.0</td>\n",
       "      <td>0.0</td>\n",
       "      <td>0.0</td>\n",
       "      <td>0.0</td>\n",
       "      <td>0.047679</td>\n",
       "    </tr>\n",
       "    <tr>\n",
       "      <th>1</th>\n",
       "      <td>6.9332</td>\n",
       "      <td>0.118882</td>\n",
       "      <td>183</td>\n",
       "      <td>micro met</td>\n",
       "      <td>DK</td>\n",
       "      <td>104</td>\n",
       "      <td>163.20</td>\n",
       "      <td>58.32</td>\n",
       "      <td>21.6</td>\n",
       "      <td>2.8</td>\n",
       "      <td>7.71</td>\n",
       "      <td>0</td>\n",
       "      <td>1000.0</td>\n",
       "      <td>1</td>\n",
       "      <td>0</td>\n",
       "      <td>13.77</td>\n",
       "      <td>13.568793</td>\n",
       "      <td>12.562759</td>\n",
       "      <td>11.489655</td>\n",
       "      <td>10.416552</td>\n",
       "      <td>10.006593</td>\n",
       "      <td>4.31</td>\n",
       "      <td>4.261897</td>\n",
       "      <td>4.021379</td>\n",
       "      <td>3.764828</td>\n",
       "      <td>3.508276</td>\n",
       "      <td>4.141415</td>\n",
       "      <td>0.0</td>\n",
       "      <td>0.0</td>\n",
       "      <td>0.0</td>\n",
       "      <td>0.0</td>\n",
       "      <td>0.0</td>\n",
       "      <td>0.000000</td>\n",
       "    </tr>\n",
       "  </tbody>\n",
       "</table>\n",
       "</div>"
      ],
      "text/plain": [
       "     e.cum     e.rel  pmid  meas.tech country  inst      ct  tan.app  \\\n",
       "0  16.4190  0.134461   182  micro met      DK   104  164.99   122.11   \n",
       "1   6.9332  0.118882   183  micro met      DK   104  163.20    58.32   \n",
       "\n",
       "   app.rate  man.dm  man.ph  man.source  t.incorp  app.mthd  incorp  \\\n",
       "0      31.8     3.7    7.35           0    1000.0         0       0   \n",
       "1      21.6     2.8    7.71           0    1000.0         1       0   \n",
       "\n",
       "   air_temp_1  air_temp_2  air_temp_3  air_temp_4  air_temp_5  air_temp_6  \\\n",
       "0        8.20    7.648529    6.766176    5.883824    5.001471    9.389090   \n",
       "1       13.77   13.568793   12.562759   11.489655   10.416552   10.006593   \n",
       "\n",
       "   wind.2m_1  wind.2m_2  wind.2m_3  wind.2m_4  wind.2m_5  wind.2m_6  \\\n",
       "0       8.10   7.494118   6.524706   5.555294   4.585882   5.340230   \n",
       "1       4.31   4.261897   4.021379   3.764828   3.508276   4.141415   \n",
       "\n",
       "   rain.rate_1  rain.rate_2  rain.rate_3  rain.rate_4  rain.rate_5  \\\n",
       "0          0.0          0.0          0.0          0.0          0.0   \n",
       "1          0.0          0.0          0.0          0.0          0.0   \n",
       "\n",
       "   rain.rate_6  \n",
       "0     0.047679  \n",
       "1     0.000000  "
      ]
     },
     "execution_count": 7,
     "metadata": {},
     "output_type": "execute_result"
    }
   ],
   "source": [
    "data_embeddings.head (2)"
   ]
  },
  {
   "cell_type": "markdown",
   "id": "169142f7-2a02-47b3-b28f-e2a8d8d88798",
   "metadata": {},
   "source": [
    "## Test samples"
   ]
  },
  {
   "cell_type": "code",
   "execution_count": 8,
   "id": "e5604e51-3a7d-4ba7-84a3-40848123a075",
   "metadata": {},
   "outputs": [],
   "source": [
    "with open(\"../00_data_preparation/processed_data/final_train_pmids.json\", \"r\") as f:\n",
    "    pmids_train = json.load(f)\n",
    "\n",
    "with open(\"../00_data_preparation/processed_data/final_eval_pmids.json\", \"r\") as f:\n",
    "    pmids_eval = json.load(f)"
   ]
  },
  {
   "cell_type": "code",
   "execution_count": 9,
   "id": "c733429e-1176-45cf-b5bb-089c0d00508f",
   "metadata": {},
   "outputs": [
    {
     "data": {
      "text/plain": [
       "591"
      ]
     },
     "execution_count": 9,
     "metadata": {},
     "output_type": "execute_result"
    }
   ],
   "source": [
    "len (pmids_train)"
   ]
  },
  {
   "cell_type": "code",
   "execution_count": 10,
   "id": "eef226a2-0005-4899-bac8-c043eb61271f",
   "metadata": {},
   "outputs": [
    {
     "data": {
      "text/plain": [
       "108"
      ]
     },
     "execution_count": 10,
     "metadata": {},
     "output_type": "execute_result"
    }
   ],
   "source": [
    "len (pmids_eval)"
   ]
  },
  {
   "cell_type": "markdown",
   "id": "ae8b9b23-d80b-434e-b035-bf263eb7ea24",
   "metadata": {},
   "source": [
    "# Training"
   ]
  },
  {
   "cell_type": "code",
   "execution_count": 11,
   "id": "60728341-67ad-4a0b-8879-707e4121580c",
   "metadata": {},
   "outputs": [],
   "source": [
    "continuous_variables = ['ct', 'tan.app', 'app.rate', 'man.dm', 'man.ph', 't.incorp', \n",
    "                        'air_temp_1', 'air_temp_2', 'air_temp_3', 'air_temp_4', 'air_temp_5', 'air_temp_6', \n",
    "                        'wind.2m_1', 'wind.2m_2', 'wind.2m_3', 'wind.2m_4', 'wind.2m_5', 'wind.2m_6', \n",
    "                        'rain.rate_1', 'rain.rate_2', 'rain.rate_3', 'rain.rate_4', 'rain.rate_5', 'rain.rate_6']"
   ]
  },
  {
   "cell_type": "code",
   "execution_count": 12,
   "id": "cf0731ac-6647-436f-9a27-6d63b6e64ae2",
   "metadata": {},
   "outputs": [],
   "source": [
    "start_time_all = time.time()\n",
    "\n",
    "filename_model = f'results/04_predictions_on_scenarios/final_model'\n",
    "\n",
    "architecture = [27, 512, 256, 128, 64, 32, 16, 1]\n",
    "with_embeddings = True\n",
    "\n",
    "if (with_embeddings):\n",
    "    data = data_embeddings.copy()\n",
    "    cat_dims = [5, 3, 2]  \n",
    "    embeddings_dims = [10, 9, 8]  \n",
    "    input_size = 27\n",
    "\n",
    "else: \n",
    "    data = data_no_embeddings.copy()\n",
    "    cat_dims = None\n",
    "    embeddings_dims = None\n",
    "    input_size = 31\n",
    "\n",
    "data_train = data[data['pmid'].isin(pmids_train)]\n",
    "pmids_train = data_train['pmid'].unique()\n",
    "\n",
    "data_eval = data[data['pmid'].isin(pmids_eval)]\n",
    "pmids_eval = data_eval['pmid'].unique()\n",
    "\n",
    "n_observations_evaluation_subset = data_eval.shape[0]\n",
    "\n",
    "n_train = data_train.shape[0]\n",
    "\n",
    "if with_embeddings:\n",
    "       \n",
    "    x_cont_train = torch.tensor (data_train [continuous_variables].values, dtype = torch.float32).to(DEVICE)\n",
    "    x_cat_train = torch.tensor (data_train[['app.mthd', 'incorp', 'man.source']].values, dtype = torch.long).to(DEVICE)\n",
    "    x_train = [x_cont_train, x_cat_train]\n",
    "    \n",
    "    x_cont_eval = torch.tensor (data_eval [continuous_variables].values, dtype = torch.float32).to(DEVICE)\n",
    "    x_cat_eval = torch.tensor (data_eval[['app.mthd', 'incorp', 'man.source']].values, dtype = torch.long).to(DEVICE)\n",
    "    x_cat_eval = torch.unbind (x_cat_eval, dim = 1)\n",
    "    x_eval = [x_cont_eval, x_cat_eval]\n",
    "    \n",
    "else:\n",
    "    x_train = torch.tensor (data_train.iloc[:,6:].values, dtype = torch.float32).to(DEVICE) \n",
    "    x_eval = torch.tensor (data_eval.iloc[:,6:].values, dtype = torch.float32).to(DEVICE) \n",
    "\n",
    "y_train = torch.tensor (data_train [['e.cum']].values, dtype = torch.float32).to(DEVICE)\n",
    "y_eval = torch.tensor (data_eval [['e.cum']].values, dtype = torch.float32).to(DEVICE)\n",
    "\n",
    "torch.manual_seed(1)\n",
    "model = RegressionNN(layer_sizes = architecture, \n",
    "                     with_embeddings = with_embeddings,\n",
    "                     cat_dims = cat_dims, \n",
    "                     embeddings_dims = embeddings_dims).to(DEVICE)"
   ]
  },
  {
   "cell_type": "raw",
   "id": "60bb1d6e-230a-4330-a552-231c745d292c",
   "metadata": {
    "scrolled": true
   },
   "source": [
    "learning_rate = 0.0001\n",
    "num_epochs = 12000\n",
    "batch_size = 32\n",
    "optimizer = torch.optim.Adam(model.parameters(), lr = learning_rate)\n",
    "\n",
    "model.train()  \n",
    "random.seed(1)\n",
    "\n",
    "all_losses = []\n",
    "all_mae_eval = []\n",
    "\n",
    "mae_best = 1e5\n",
    "\n",
    "for epoch in range(num_epochs):\n",
    "\n",
    "    indices = torch.randperm(n_train)\n",
    "    \n",
    "    mini_batches_x, mini_batches_y = mf.generatre_mini_batches (x_train, y_train, with_embeddings, batch_size, n_train, indices)\n",
    "\n",
    "    all_predictions = []\n",
    "\n",
    "    for x_batch, y_batch in zip (mini_batches_x, mini_batches_y):\n",
    "\n",
    "        n_obs_train = y_batch.shape[0]\n",
    "    \n",
    "        predictions = model(x_batch)  \n",
    "    \n",
    "        loss = torch.sum ((predictions - y_batch) ** 2) / n_obs_train  # Compute loss over all time steps\n",
    "        \n",
    "        # Backpropagation and optimization\n",
    "        optimizer.zero_grad()\n",
    "        loss.backward()\n",
    "        optimizer.step()\n",
    "\n",
    "        all_predictions.append(predictions.detach())\n",
    "\n",
    "    all_predictions = torch.cat(all_predictions, dim = 0)\n",
    "    all_target_train = torch.cat(mini_batches_y, dim = 0)\n",
    "\n",
    "    loss = torch.sum (torch.abs(all_predictions - all_target_train)) / n_train\n",
    "    all_losses.append (loss.item())\n",
    "\n",
    "\n",
    "    with torch.no_grad():\n",
    "                    \n",
    "        predictions_eval = model (x_eval)\n",
    "        mae = torch.sum (torch.abs (predictions_eval - y_eval)) / n_observations_evaluation_subset\n",
    "\n",
    "    all_mae_eval.append (mae.item())\n",
    "\n",
    "    if (mae.item() < mae_best):\n",
    "        mae_best = mae.item()\n",
    "        torch.save(model.state_dict(), filename_model + '.pth')\n",
    "\n",
    "    # Print the loss \n",
    "    if (epoch+1) % (num_epochs / 10) == 0:\n",
    "        print(f'Epoch [{epoch+1}/{num_epochs}], Loss: {loss.item():.4f}')\n",
    "\n",
    "\n",
    "with open(f'results/04_predictions_on_scenarios/all_losses.pkl', \"wb\") as f:\n",
    "    pickle.dump(all_losses, f)\n",
    "\n",
    "with open(f'results/04_predictions_on_scenarios/all_mae_eval.pkl', \"wb\") as f:\n",
    "    pickle.dump(all_mae_eval, f)\n",
    "\n",
    "end_time_all = time.time()"
   ]
  },
  {
   "cell_type": "code",
   "execution_count": 13,
   "id": "560589bf-ff50-40c3-8844-5268fb9d452f",
   "metadata": {},
   "outputs": [
    {
     "data": {
      "image/png": "[encoded data removed]",
      "text/plain": [
       "<Figure size 1200x400 with 2 Axes>"
      ]
     },
     "metadata": {},
     "output_type": "display_data"
    }
   ],
   "source": [
    "with open(f'results/04_predictions_on_scenarios/all_mae_eval.pkl', \"rb\") as f:\n",
    "    all_mae_eval = pickle.load(f)\n",
    "\n",
    "with open(f'results/04_predictions_on_scenarios/all_losses.pkl', \"rb\") as f:\n",
    "    all_losses = pickle.load(f)\n",
    "\n",
    "fig, axes = plt.subplots(1, 2, figsize=(12, 4), sharey=False)\n",
    "\n",
    "axes[0].plot(all_losses[100:])\n",
    "axes[0].set_title('All Losses')\n",
    "\n",
    "axes[1].plot(all_mae_eval[100:])\n",
    "axes[1].set_title('All mae eval')\n",
    "\n",
    "plt.tight_layout()\n",
    "plt.show()"
   ]
  },
  {
   "cell_type": "markdown",
   "id": "ce6e6bbc-5224-417f-8ab6-659d8f9386d1",
   "metadata": {},
   "source": [
    "# Predictions on scenarios"
   ]
  },
  {
   "cell_type": "code",
   "execution_count": 14,
   "id": "7abeb3a6-aa82-4cf2-9283-2c7c92162a0c",
   "metadata": {},
   "outputs": [
    {
     "data": {
      "text/plain": [
       "<All keys matched successfully>"
      ]
     },
     "execution_count": 14,
     "metadata": {},
     "output_type": "execute_result"
    }
   ],
   "source": [
    "model = RegressionNN(layer_sizes = architecture, \n",
    "                     with_embeddings = with_embeddings,\n",
    "                     cat_dims = cat_dims, \n",
    "                     embeddings_dims = embeddings_dims).to(DEVICE)\n",
    "\n",
    "model.load_state_dict(torch.load(filename_model + '.pth', weights_only = True))"
   ]
  },
  {
   "cell_type": "code",
   "execution_count": 15,
   "id": "9675786c-3822-4281-970a-ad48f6254da0",
   "metadata": {},
   "outputs": [],
   "source": [
    "data_scenarios = pd.read_csv(\"../00_data_preparation/processed_data/scenarios_static_nn.csv\")"
   ]
  },
  {
   "cell_type": "code",
   "execution_count": 16,
   "id": "7f26fb39-9a4f-4c1f-97f6-5bc6d6dbfe97",
   "metadata": {},
   "outputs": [],
   "source": [
    "data_scenarios = data_scenarios.drop(['Unnamed: 0'], axis = 1)"
   ]
  },
  {
   "cell_type": "code",
   "execution_count": 17,
   "id": "e2e9e0af-bc9f-478d-bc31-7609f85c97fc",
   "metadata": {},
   "outputs": [],
   "source": [
    "x_cont_test = torch.tensor (data_scenarios [continuous_variables].values, dtype = torch.float32).to(DEVICE)\n",
    "x_cat_test = torch.tensor (data_scenarios[['app.mthd', 'incorp', 'man.source']].values, dtype = torch.long).to(DEVICE)\n",
    "x_cat_test = torch.unbind (x_cat_test, dim = 1)    \n",
    "x_test = [x_cont_test, x_cat_test]\n",
    "\n",
    "data_predictions = data_scenarios.copy()\n",
    "data_predictions['prediction_ecum'] = None\n",
    "\n",
    "with torch.no_grad():\n",
    "        \n",
    "    predictions_test = model (x_test)\n",
    "\n",
    "data_scenarios['prediction_ecum'] = predictions_test.to(\"cpu\")\n",
    "\n",
    "data_scenarios.to_csv('results/04_predictions_on_scenarios/predictions_on_scenarios_static_nn.csv', index = False)  "
   ]
  },
  {
   "cell_type": "code",
   "execution_count": 18,
   "id": "27d15c90-9805-400e-b032-4f27d9f779ba",
   "metadata": {},
   "outputs": [
    {
     "data": {
      "text/html": [
       "<div>\n",
       "<style scoped>\n",
       "    .dataframe tbody tr th:only-of-type {\n",
       "        vertical-align: middle;\n",
       "    }\n",
       "\n",
       "    .dataframe tbody tr th {\n",
       "        vertical-align: top;\n",
       "    }\n",
       "\n",
       "    .dataframe thead th {\n",
       "        text-align: right;\n",
       "    }\n",
       "</style>\n",
       "<table border=\"1\" class=\"dataframe\">\n",
       "  <thead>\n",
       "    <tr style=\"text-align: right;\">\n",
       "      <th></th>\n",
       "      <th>scenario</th>\n",
       "      <th>pmid</th>\n",
       "      <th>strategy</th>\n",
       "      <th>group_temp</th>\n",
       "      <th>group_wind</th>\n",
       "      <th>group_rain</th>\n",
       "      <th>ct</th>\n",
       "      <th>tan.app</th>\n",
       "      <th>app.rate</th>\n",
       "      <th>man.dm</th>\n",
       "      <th>man.ph</th>\n",
       "      <th>man.source</th>\n",
       "      <th>t.incorp</th>\n",
       "      <th>app.mthd</th>\n",
       "      <th>incorp</th>\n",
       "      <th>air_temp_1</th>\n",
       "      <th>air_temp_2</th>\n",
       "      <th>air_temp_3</th>\n",
       "      <th>air_temp_4</th>\n",
       "      <th>air_temp_5</th>\n",
       "      <th>air_temp_6</th>\n",
       "      <th>wind.2m_1</th>\n",
       "      <th>wind.2m_2</th>\n",
       "      <th>wind.2m_3</th>\n",
       "      <th>wind.2m_4</th>\n",
       "      <th>wind.2m_5</th>\n",
       "      <th>wind.2m_6</th>\n",
       "      <th>rain.rate_1</th>\n",
       "      <th>rain.rate_2</th>\n",
       "      <th>rain.rate_3</th>\n",
       "      <th>rain.rate_4</th>\n",
       "      <th>rain.rate_5</th>\n",
       "      <th>rain.rate_6</th>\n",
       "      <th>prediction_ecum</th>\n",
       "    </tr>\n",
       "  </thead>\n",
       "  <tbody>\n",
       "    <tr>\n",
       "      <th>0</th>\n",
       "      <td>1</td>\n",
       "      <td>1</td>\n",
       "      <td>Incorporation</td>\n",
       "      <td>1</td>\n",
       "      <td>1</td>\n",
       "      <td>1</td>\n",
       "      <td>72</td>\n",
       "      <td>36.7</td>\n",
       "      <td>18.7</td>\n",
       "      <td>3.8</td>\n",
       "      <td>7.5</td>\n",
       "      <td>0</td>\n",
       "      <td>0</td>\n",
       "      <td>0</td>\n",
       "      <td>1</td>\n",
       "      <td>11.2</td>\n",
       "      <td>10.8</td>\n",
       "      <td>8.7</td>\n",
       "      <td>8.0</td>\n",
       "      <td>8.1</td>\n",
       "      <td>9.2</td>\n",
       "      <td>2.3</td>\n",
       "      <td>2.3</td>\n",
       "      <td>1.8</td>\n",
       "      <td>1.4</td>\n",
       "      <td>1.4</td>\n",
       "      <td>2.2</td>\n",
       "      <td>0.0</td>\n",
       "      <td>0.0</td>\n",
       "      <td>0.0</td>\n",
       "      <td>0.0</td>\n",
       "      <td>0.0</td>\n",
       "      <td>0.0</td>\n",
       "      <td>2.872234</td>\n",
       "    </tr>\n",
       "    <tr>\n",
       "      <th>1</th>\n",
       "      <td>1</td>\n",
       "      <td>2</td>\n",
       "      <td>Broadcast</td>\n",
       "      <td>1</td>\n",
       "      <td>1</td>\n",
       "      <td>1</td>\n",
       "      <td>72</td>\n",
       "      <td>36.7</td>\n",
       "      <td>18.7</td>\n",
       "      <td>3.8</td>\n",
       "      <td>7.5</td>\n",
       "      <td>0</td>\n",
       "      <td>1000</td>\n",
       "      <td>0</td>\n",
       "      <td>0</td>\n",
       "      <td>11.2</td>\n",
       "      <td>10.8</td>\n",
       "      <td>8.7</td>\n",
       "      <td>8.0</td>\n",
       "      <td>8.1</td>\n",
       "      <td>9.2</td>\n",
       "      <td>2.3</td>\n",
       "      <td>2.3</td>\n",
       "      <td>1.8</td>\n",
       "      <td>1.4</td>\n",
       "      <td>1.4</td>\n",
       "      <td>2.2</td>\n",
       "      <td>0.0</td>\n",
       "      <td>0.0</td>\n",
       "      <td>0.0</td>\n",
       "      <td>0.0</td>\n",
       "      <td>0.0</td>\n",
       "      <td>0.0</td>\n",
       "      <td>5.757434</td>\n",
       "    </tr>\n",
       "  </tbody>\n",
       "</table>\n",
       "</div>"
      ],
      "text/plain": [
       "   scenario  pmid       strategy  group_temp  group_wind  group_rain  ct  \\\n",
       "0         1     1  Incorporation           1           1           1  72   \n",
       "1         1     2      Broadcast           1           1           1  72   \n",
       "\n",
       "   tan.app  app.rate  man.dm  man.ph  man.source  t.incorp  app.mthd  incorp  \\\n",
       "0     36.7      18.7     3.8     7.5           0         0         0       1   \n",
       "1     36.7      18.7     3.8     7.5           0      1000         0       0   \n",
       "\n",
       "   air_temp_1  air_temp_2  air_temp_3  air_temp_4  air_temp_5  air_temp_6  \\\n",
       "0        11.2        10.8         8.7         8.0         8.1         9.2   \n",
       "1        11.2        10.8         8.7         8.0         8.1         9.2   \n",
       "\n",
       "   wind.2m_1  wind.2m_2  wind.2m_3  wind.2m_4  wind.2m_5  wind.2m_6  \\\n",
       "0        2.3        2.3        1.8        1.4        1.4        2.2   \n",
       "1        2.3        2.3        1.8        1.4        1.4        2.2   \n",
       "\n",
       "   rain.rate_1  rain.rate_2  rain.rate_3  rain.rate_4  rain.rate_5  \\\n",
       "0          0.0          0.0          0.0          0.0          0.0   \n",
       "1          0.0          0.0          0.0          0.0          0.0   \n",
       "\n",
       "   rain.rate_6  prediction_ecum  \n",
       "0          0.0         2.872234  \n",
       "1          0.0         5.757434  "
      ]
     },
     "execution_count": 18,
     "metadata": {},
     "output_type": "execute_result"
    }
   ],
   "source": [
    "data_scenarios.head (2)"
   ]
  },
  {
   "cell_type": "markdown",
   "id": "5e71e9fc-1a30-47d4-94f5-14d6704db5d5",
   "metadata": {},
   "source": [
    "# End"
   ]
  }
 ],
 "metadata": {
  "kernelspec": {
   "display_name": "Python 3 (ipykernel)",
   "language": "python",
   "name": "python3"
  },
  "language_info": {
   "codemirror_mode": {
    "name": "ipython",
    "version": 3
   },
   "file_extension": ".py",
   "mimetype": "text/x-python",
   "name": "python",
   "nbconvert_exporter": "python",
   "pygments_lexer": "ipython3",
   "version": "3.12.3"
  }
 },
 "nbformat": 4,
 "nbformat_minor": 5
}
