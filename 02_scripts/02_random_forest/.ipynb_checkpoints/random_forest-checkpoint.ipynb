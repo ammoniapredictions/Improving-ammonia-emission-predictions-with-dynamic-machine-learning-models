{
 "cells": [
  {
   "cell_type": "markdown",
   "id": "5bff30a4-2f35-4393-b6c0-5e42178f0b3c",
   "metadata": {},
   "source": [
    "# Setup"
   ]
  },
  {
   "cell_type": "code",
   "execution_count": 1,
   "id": "eebe6dd9-7ef3-4d0f-b7c2-ec4381079dfa",
   "metadata": {},
   "outputs": [
    {
     "name": "stderr",
     "output_type": "stream",
     "text": [
      "\n",
      "Attaching package: ‘dplyr’\n",
      "\n",
      "\n",
      "The following objects are masked from ‘package:stats’:\n",
      "\n",
      "    filter, lag\n",
      "\n",
      "\n",
      "The following objects are masked from ‘package:base’:\n",
      "\n",
      "    intersect, setdiff, setequal, union\n",
      "\n",
      "\n",
      "\n",
      "Attaching package: ‘kableExtra’\n",
      "\n",
      "\n",
      "The following object is masked from ‘package:dplyr’:\n",
      "\n",
      "    group_rows\n",
      "\n",
      "\n",
      "randomForest 4.7-1.1\n",
      "\n",
      "Type rfNews() to see new features/changes/bug fixes.\n",
      "\n",
      "\n",
      "Attaching package: ‘randomForest’\n",
      "\n",
      "\n",
      "The following object is masked from ‘package:dplyr’:\n",
      "\n",
      "    combine\n",
      "\n",
      "\n",
      "The following object is masked from ‘package:ggplot2’:\n",
      "\n",
      "    margin\n",
      "\n",
      "\n"
     ]
    }
   ],
   "source": [
    "library (\"ggplot2\") \n",
    "library (\"dplyr\")   \n",
    "library (\"tibble\") \n",
    "library (\"tidyr\")\n",
    "library (\"kableExtra\")\n",
    "\n",
    "library (\"randomForest\") \n",
    "\n",
    "source (\"../../01_functions/functions.R\")"
   ]
  },
  {
   "cell_type": "code",
   "execution_count": 2,
   "id": "0b898518-1cd9-4088-9093-55451806436c",
   "metadata": {},
   "outputs": [],
   "source": [
    "load (file = \"../00_data_preparation/processed_data/data.Rdata\")\n",
    "\n",
    "data = data %>% select (- c (eid, exper, field))"
   ]
  },
  {
   "cell_type": "code",
   "execution_count": 3,
   "id": "c2c3860b-cca7-4fa0-bc5c-c5218b23976f",
   "metadata": {},
   "outputs": [],
   "source": [
    "load (file = \"../00_data_preparation/processed_data/list_test_pmids.Rdata\")\n",
    "load (file = \"../00_data_preparation/processed_data/list_train_pmids.Rdata\")\n",
    "load (file = \"../00_data_preparation/processed_data/list_eval_pmids.Rdata\")"
   ]
  },
  {
   "cell_type": "code",
   "execution_count": 4,
   "id": "bac6a4f5-4dd7-4b2d-87a2-462627eb7ff3",
   "metadata": {},
   "outputs": [],
   "source": [
    "pmids = data$pmid %>% unique"
   ]
  },
  {
   "cell_type": "markdown",
   "id": "4cfeea6c-f63b-47d7-a8a2-ffd5487af550",
   "metadata": {},
   "source": [
    "# Static random forest"
   ]
  },
  {
   "cell_type": "markdown",
   "id": "5f5eb7f3-b2e9-4141-8f6c-c642902b19b3",
   "metadata": {},
   "source": [
    "Correspond to the 'static rf' model."
   ]
  },
  {
   "cell_type": "code",
   "execution_count": 5,
   "id": "271f3ae0-a0cc-454a-a287-8aa536a7f738",
   "metadata": {},
   "outputs": [],
   "source": [
    "load (file = \"../00_data_preparation/processed_data/data_random_forest_statique.Rdata\")"
   ]
  },
  {
   "cell_type": "code",
   "execution_count": 6,
   "id": "1b832105-fb03-4308-b0e6-f014c0bb9707",
   "metadata": {},
   "outputs": [
    {
     "data": {
      "text/html": [
       "<table class=\"table\" style=\"margin-left: auto; margin-right: auto;\">\n",
       " <thead>\n",
       "  <tr>\n",
       "   <th style=\"text-align:right;\"> e.cum </th>\n",
       "   <th style=\"text-align:right;\"> e.rel </th>\n",
       "   <th style=\"text-align:right;\"> pmid </th>\n",
       "   <th style=\"text-align:left;\"> meas.tech </th>\n",
       "   <th style=\"text-align:left;\"> country </th>\n",
       "   <th style=\"text-align:right;\"> inst </th>\n",
       "   <th style=\"text-align:right;\"> ct </th>\n",
       "   <th style=\"text-align:right;\"> tan.app </th>\n",
       "   <th style=\"text-align:right;\"> app.rate </th>\n",
       "   <th style=\"text-align:right;\"> man.dm </th>\n",
       "   <th style=\"text-align:right;\"> man.ph </th>\n",
       "   <th style=\"text-align:left;\"> man.source </th>\n",
       "   <th style=\"text-align:right;\"> t.incorp </th>\n",
       "   <th style=\"text-align:left;\"> app.mthd </th>\n",
       "   <th style=\"text-align:left;\"> incorp </th>\n",
       "   <th style=\"text-align:right;\"> air_temp_1 </th>\n",
       "   <th style=\"text-align:right;\"> air_temp_2 </th>\n",
       "   <th style=\"text-align:right;\"> air_temp_3 </th>\n",
       "   <th style=\"text-align:right;\"> air_temp_4 </th>\n",
       "   <th style=\"text-align:right;\"> air_temp_5 </th>\n",
       "   <th style=\"text-align:right;\"> air_temp_6 </th>\n",
       "   <th style=\"text-align:right;\"> wind.2m_1 </th>\n",
       "   <th style=\"text-align:right;\"> wind.2m_2 </th>\n",
       "   <th style=\"text-align:right;\"> wind.2m_3 </th>\n",
       "   <th style=\"text-align:right;\"> wind.2m_4 </th>\n",
       "   <th style=\"text-align:right;\"> wind.2m_5 </th>\n",
       "   <th style=\"text-align:right;\"> wind.2m_6 </th>\n",
       "   <th style=\"text-align:right;\"> rain.rate_1 </th>\n",
       "   <th style=\"text-align:right;\"> rain.rate_2 </th>\n",
       "   <th style=\"text-align:right;\"> rain.rate_3 </th>\n",
       "   <th style=\"text-align:right;\"> rain.rate_4 </th>\n",
       "   <th style=\"text-align:right;\"> rain.rate_5 </th>\n",
       "   <th style=\"text-align:right;\"> rain.rate_6 </th>\n",
       "  </tr>\n",
       " </thead>\n",
       "<tbody>\n",
       "  <tr>\n",
       "   <td style=\"text-align:right;\"> 16.4190 </td>\n",
       "   <td style=\"text-align:right;\"> 0.1344607 </td>\n",
       "   <td style=\"text-align:right;\"> 182 </td>\n",
       "   <td style=\"text-align:left;\"> micro met </td>\n",
       "   <td style=\"text-align:left;\"> DK </td>\n",
       "   <td style=\"text-align:right;\"> 104 </td>\n",
       "   <td style=\"text-align:right;\"> 164.99 </td>\n",
       "   <td style=\"text-align:right;\"> 122.11 </td>\n",
       "   <td style=\"text-align:right;\"> 31.8 </td>\n",
       "   <td style=\"text-align:right;\"> 3.7 </td>\n",
       "   <td style=\"text-align:right;\"> 7.35 </td>\n",
       "   <td style=\"text-align:left;\"> pig </td>\n",
       "   <td style=\"text-align:right;\"> 1000 </td>\n",
       "   <td style=\"text-align:left;\"> bc </td>\n",
       "   <td style=\"text-align:left;\"> none </td>\n",
       "   <td style=\"text-align:right;\"> 8.20 </td>\n",
       "   <td style=\"text-align:right;\"> 7.648529 </td>\n",
       "   <td style=\"text-align:right;\"> 6.766177 </td>\n",
       "   <td style=\"text-align:right;\"> 5.883824 </td>\n",
       "   <td style=\"text-align:right;\"> 5.001471 </td>\n",
       "   <td style=\"text-align:right;\"> 9.38909 </td>\n",
       "   <td style=\"text-align:right;\"> 8.10 </td>\n",
       "   <td style=\"text-align:right;\"> 7.494118 </td>\n",
       "   <td style=\"text-align:right;\"> 6.524706 </td>\n",
       "   <td style=\"text-align:right;\"> 5.555294 </td>\n",
       "   <td style=\"text-align:right;\"> 4.585882 </td>\n",
       "   <td style=\"text-align:right;\"> 5.340230 </td>\n",
       "   <td style=\"text-align:right;\"> 0 </td>\n",
       "   <td style=\"text-align:right;\"> 0 </td>\n",
       "   <td style=\"text-align:right;\"> 0 </td>\n",
       "   <td style=\"text-align:right;\"> 0 </td>\n",
       "   <td style=\"text-align:right;\"> 0 </td>\n",
       "   <td style=\"text-align:right;\"> 0.0476788 </td>\n",
       "  </tr>\n",
       "  <tr>\n",
       "   <td style=\"text-align:right;\"> 6.9332 </td>\n",
       "   <td style=\"text-align:right;\"> 0.1188820 </td>\n",
       "   <td style=\"text-align:right;\"> 183 </td>\n",
       "   <td style=\"text-align:left;\"> micro met </td>\n",
       "   <td style=\"text-align:left;\"> DK </td>\n",
       "   <td style=\"text-align:right;\"> 104 </td>\n",
       "   <td style=\"text-align:right;\"> 163.20 </td>\n",
       "   <td style=\"text-align:right;\"> 58.32 </td>\n",
       "   <td style=\"text-align:right;\"> 21.6 </td>\n",
       "   <td style=\"text-align:right;\"> 2.8 </td>\n",
       "   <td style=\"text-align:right;\"> 7.71 </td>\n",
       "   <td style=\"text-align:left;\"> pig </td>\n",
       "   <td style=\"text-align:right;\"> 1000 </td>\n",
       "   <td style=\"text-align:left;\"> bsth </td>\n",
       "   <td style=\"text-align:left;\"> none </td>\n",
       "   <td style=\"text-align:right;\"> 13.77 </td>\n",
       "   <td style=\"text-align:right;\"> 13.568793 </td>\n",
       "   <td style=\"text-align:right;\"> 12.562759 </td>\n",
       "   <td style=\"text-align:right;\"> 11.489655 </td>\n",
       "   <td style=\"text-align:right;\"> 10.416552 </td>\n",
       "   <td style=\"text-align:right;\"> 10.00659 </td>\n",
       "   <td style=\"text-align:right;\"> 4.31 </td>\n",
       "   <td style=\"text-align:right;\"> 4.261897 </td>\n",
       "   <td style=\"text-align:right;\"> 4.021379 </td>\n",
       "   <td style=\"text-align:right;\"> 3.764828 </td>\n",
       "   <td style=\"text-align:right;\"> 3.508276 </td>\n",
       "   <td style=\"text-align:right;\"> 4.141415 </td>\n",
       "   <td style=\"text-align:right;\"> 0 </td>\n",
       "   <td style=\"text-align:right;\"> 0 </td>\n",
       "   <td style=\"text-align:right;\"> 0 </td>\n",
       "   <td style=\"text-align:right;\"> 0 </td>\n",
       "   <td style=\"text-align:right;\"> 0 </td>\n",
       "   <td style=\"text-align:right;\"> 0.0000000 </td>\n",
       "  </tr>\n",
       "</tbody>\n",
       "</table>"
      ]
     },
     "metadata": {},
     "output_type": "display_data"
    }
   ],
   "source": [
    "head (data_random_forest_statique, n = 2) %>% embed"
   ]
  },
  {
   "cell_type": "markdown",
   "id": "ccdecb26-462b-4617-a059-f5359ddf2ae6",
   "metadata": {},
   "source": [
    "## Model selection"
   ]
  },
  {
   "cell_type": "raw",
   "id": "978c44bc-37c6-494a-bb3c-f69b82cdb276",
   "metadata": {
    "scrolled": true
   },
   "source": [
    "df_model_selection = NULL\n",
    "\n",
    "p = 15\n",
    "\n",
    "for (k in c(1 : p)){\n",
    "\n",
    "    print (paste (k))\n",
    "    flush.console()\n",
    "\n",
    "\n",
    "    pmids_eval = list_eval_pmids[[k]]\n",
    "    pmids_train = list_train_pmids[[k]]\n",
    "\n",
    "    data_train = data_random_forest_statique %>% \n",
    "        filter (pmid %in% pmids_train) %>%\n",
    "        select (- pmid, - country, - meas.tech, - inst, - e.rel) \n",
    "\n",
    "\n",
    "    hyper_grid = expand.grid (\n",
    "        mtry = c (8 : 22),\n",
    "        nodesize = c (2, 3, 4),\n",
    "        MAE = NA,\n",
    "        sample = NA\n",
    "    )\n",
    "\n",
    "    data_eval = data_random_forest_statique %>% filter (pmid %in% pmids_eval)\n",
    "    truth_eval = data_eval$e.cum\n",
    "\n",
    "\n",
    "    for (j in seq_len (nrow (hyper_grid))) {    \n",
    "            \n",
    "        random_forest_model = randomForest (\n",
    "                e.cum ~ ., \n",
    "                data = data_train,\n",
    "                mtry = hyper_grid$mtry[j], nodesize = hyper_grid$nodesize[j], replace = FALSE, sample_frac = 0.8\n",
    "        )\n",
    "    \n",
    "        predictions_eval = predict (random_forest_model, data_eval %>% select (- pmid, - country, - meas.tech, - inst, - e.rel, - e.cum)) \n",
    "\n",
    "        hyper_grid$MAE[j] = mean (abs (predictions_eval - truth_eval))\n",
    "        hyper_grid$sample[j] = paste (\"sample_\", k, sep = \"\")\n",
    "\n",
    "    }\n",
    "    \n",
    "    df_model_selection = rbind (df_model_selection, hyper_grid)\n",
    "\n",
    "}"
   ]
  },
  {
   "cell_type": "raw",
   "id": "5305a527-e784-4398-9c35-0eb7760f4d62",
   "metadata": {},
   "source": [
    "df_model_selection_random_forest_statique = df_model_selection"
   ]
  },
  {
   "cell_type": "raw",
   "id": "c6544f99-a2f0-4426-a531-5ce2f728ea72",
   "metadata": {},
   "source": [
    "save (df_model_selection_random_forest_statique, file = \"results/statique/df_model_selection_random_forest_statique.Rdata\")"
   ]
  },
  {
   "cell_type": "code",
   "execution_count": 7,
   "id": "65d1396c-7d95-40ba-84d6-9cc0c37f01ef",
   "metadata": {},
   "outputs": [],
   "source": [
    "load (file = \"results/statique/df_model_selection_random_forest_statique.Rdata\")\n",
    "df_model_selection = df_model_selection_random_forest_statique"
   ]
  },
  {
   "cell_type": "code",
   "execution_count": 8,
   "id": "b1643765-462e-4d47-a7c8-8d775a11c840",
   "metadata": {
    "scrolled": true
   },
   "outputs": [
    {
     "name": "stderr",
     "output_type": "stream",
     "text": [
      "Warning message:\n",
      "“\u001b[1m\u001b[22mThe `fun.y` argument of `stat_summary()` is deprecated as of ggplot2 3.3.0.\n",
      "\u001b[36mℹ\u001b[39m Please use the `fun` argument instead.”\n"
     ]
    },
    {
     "data": {
      "image/png": "[encoded data removed]",
      "text/plain": [
       "plot without title"
      ]
     },
     "metadata": {
      "image/png": {
       "height": 1500,
       "width": 1500
      }
     },
     "output_type": "display_data"
    }
   ],
   "source": [
    "size (25, 25)\n",
    "df_model_selection %>%\n",
    "    mutate (parameters = paste (\"mtry =\", mtry, \"ns =\", nodesize)) %>%\n",
    "    ggplot () +\n",
    "        geom_boxplot (aes (x = MAE, y = parameters)) +\n",
    "        stat_summary(aes (x = MAE, y = parameters), fun.y = mean, geom = \"point\", shape = 20, size = 10, color = \"red\", fill = \"red\") +\n",
    "        ylab (\"\")"
   ]
  },
  {
   "cell_type": "code",
   "execution_count": 9,
   "id": "d770b56d-3b50-4766-9b48-004426a16d99",
   "metadata": {
    "scrolled": true
   },
   "outputs": [],
   "source": [
    "df_tmp = df_model_selection %>%\n",
    "    summarise (mean_MAE = mean (MAE), .by = c (mtry, nodesize)) %>%\n",
    "    arrange (mean_MAE)"
   ]
  },
  {
   "cell_type": "code",
   "execution_count": 10,
   "id": "ea4ccddd-a6d9-4685-9ba8-101a4ac8331b",
   "metadata": {},
   "outputs": [
    {
     "data": {
      "text/html": [
       "<table class=\"dataframe\">\n",
       "<caption>A data.frame: 6 × 3</caption>\n",
       "<thead>\n",
       "\t<tr><th></th><th scope=col>mtry</th><th scope=col>nodesize</th><th scope=col>mean_MAE</th></tr>\n",
       "\t<tr><th></th><th scope=col>&lt;int&gt;</th><th scope=col>&lt;dbl&gt;</th><th scope=col>&lt;dbl&gt;</th></tr>\n",
       "</thead>\n",
       "<tbody>\n",
       "\t<tr><th scope=row>1</th><td>15</td><td>4</td><td>5.560267</td></tr>\n",
       "\t<tr><th scope=row>2</th><td>15</td><td>2</td><td>5.564717</td></tr>\n",
       "\t<tr><th scope=row>3</th><td>15</td><td>3</td><td>5.564815</td></tr>\n",
       "\t<tr><th scope=row>4</th><td>16</td><td>2</td><td>5.571312</td></tr>\n",
       "\t<tr><th scope=row>5</th><td>18</td><td>2</td><td>5.578186</td></tr>\n",
       "\t<tr><th scope=row>6</th><td>19</td><td>2</td><td>5.578705</td></tr>\n",
       "</tbody>\n",
       "</table>\n"
      ],
      "text/latex": [
       "A data.frame: 6 × 3\n",
       "\\begin{tabular}{r|lll}\n",
       "  & mtry & nodesize & mean\\_MAE\\\\\n",
       "  & <int> & <dbl> & <dbl>\\\\\n",
       "\\hline\n",
       "\t1 & 15 & 4 & 5.560267\\\\\n",
       "\t2 & 15 & 2 & 5.564717\\\\\n",
       "\t3 & 15 & 3 & 5.564815\\\\\n",
       "\t4 & 16 & 2 & 5.571312\\\\\n",
       "\t5 & 18 & 2 & 5.578186\\\\\n",
       "\t6 & 19 & 2 & 5.578705\\\\\n",
       "\\end{tabular}\n"
      ],
      "text/markdown": [
       "\n",
       "A data.frame: 6 × 3\n",
       "\n",
       "| <!--/--> | mtry &lt;int&gt; | nodesize &lt;dbl&gt; | mean_MAE &lt;dbl&gt; |\n",
       "|---|---|---|---|\n",
       "| 1 | 15 | 4 | 5.560267 |\n",
       "| 2 | 15 | 2 | 5.564717 |\n",
       "| 3 | 15 | 3 | 5.564815 |\n",
       "| 4 | 16 | 2 | 5.571312 |\n",
       "| 5 | 18 | 2 | 5.578186 |\n",
       "| 6 | 19 | 2 | 5.578705 |\n",
       "\n"
      ],
      "text/plain": [
       "  mtry nodesize mean_MAE\n",
       "1 15   4        5.560267\n",
       "2 15   2        5.564717\n",
       "3 15   3        5.564815\n",
       "4 16   2        5.571312\n",
       "5 18   2        5.578186\n",
       "6 19   2        5.578705"
      ]
     },
     "metadata": {},
     "output_type": "display_data"
    }
   ],
   "source": [
    "df_tmp %>% head"
   ]
  },
  {
   "cell_type": "code",
   "execution_count": 11,
   "id": "0231c274-f599-479c-a418-16f00d6983fc",
   "metadata": {},
   "outputs": [],
   "source": [
    "mtry_star = df_tmp$mtry[1]\n",
    "nodesize_star = df_tmp$nodesize[1]"
   ]
  },
  {
   "cell_type": "code",
   "execution_count": 12,
   "id": "7b588cb6-f3a5-442e-915e-2df4eff94b31",
   "metadata": {},
   "outputs": [
    {
     "data": {
      "image/png": "[encoded data removed]",
      "text/plain": [
       "plot without title"
      ]
     },
     "metadata": {
      "image/png": {
       "height": 360,
       "width": 1500
      }
     },
     "output_type": "display_data"
    }
   ],
   "source": [
    "size (25, 6)\n",
    "df_model_selection %>%\n",
    "    summarise (mean_MAE = mean (MAE), .by = c (mtry, nodesize)) %>%\n",
    "    arrange (mean_MAE) %>%\n",
    "    mutate (index = row_number()) %>%\n",
    "        ggplot() + geom_point (aes (x = index, y = mean_MAE))"
   ]
  },
  {
   "cell_type": "markdown",
   "id": "fed66499-f642-49e5-a7ce-c47b8470fcc1",
   "metadata": {},
   "source": [
    "## Test"
   ]
  },
  {
   "cell_type": "raw",
   "id": "8911cbe6-804b-4368-98dc-cd2d27b6dcbe",
   "metadata": {
    "scrolled": true
   },
   "source": [
    "df_res = NULL\n",
    "\n",
    "p = 15\n",
    "\n",
    "for (k in c(1 : p)){\n",
    "\n",
    "    print (k)\n",
    "    flush.console()\n",
    "\n",
    "\n",
    "    pmids_test = list_test_pmids[[k]]\n",
    "    pmids_train = setdiff (pmids, pmids_test)\n",
    "\n",
    "    data_train = data_random_forest_statique %>% \n",
    "        filter (pmid %in% pmids_train) %>%\n",
    "        select (- pmid, - country, - meas.tech, - inst, - e.rel) \n",
    " \n",
    "    random_forest_model = randomForest (\n",
    "            e.cum ~ ., \n",
    "            data = data_train,\n",
    "            mtry = mtry_star, nodesize = nodesize_star, replace = FALSE, sample_frac = 0.8\n",
    "    )\n",
    "\n",
    "    data_test = data_random_forest_statique %>% filter (pmid %in% pmids_test)\n",
    "    predictions_test = predict (random_forest_model, data_test %>% select (- pmid, - country, - meas.tech, - inst, - e.rel, - e.cum)) \n",
    "\n",
    "    data_test = data_test %>% mutate (e.cum_hat = predictions_test, sample = paste (\"sample_\", k, sep =\"\"))\n",
    "   \n",
    "    df_res = rbind (df_res, data_test)\n",
    "\n",
    "}"
   ]
  },
  {
   "cell_type": "raw",
   "id": "92768fef-32dd-402c-a1dc-1ab3bdfc83e4",
   "metadata": {},
   "source": [
    "df_res_random_forest_statique = df_res"
   ]
  },
  {
   "cell_type": "raw",
   "id": "36d66826-e5c3-4093-8100-8f53ef0d1186",
   "metadata": {},
   "source": [
    "save (df_res_random_forest_statique, file = \"results/statique/df_res_random_forest_statique.Rdata\")"
   ]
  },
  {
   "cell_type": "code",
   "execution_count": 13,
   "id": "4858da25-bc1f-4fa9-9fec-d04f68325fb0",
   "metadata": {},
   "outputs": [],
   "source": [
    "load (file = \"results/statique/df_res_random_forest_statique.Rdata\")\n",
    "df_res = df_res_random_forest_statique"
   ]
  },
  {
   "cell_type": "code",
   "execution_count": 14,
   "id": "518191d4-0ccb-4587-a332-c1779ed832db",
   "metadata": {},
   "outputs": [
    {
     "data": {
      "text/html": [
       "<table class=\"dataframe\">\n",
       "<caption>A data.frame: 15 × 2</caption>\n",
       "<thead>\n",
       "\t<tr><th scope=col>sample</th><th scope=col>MAE</th></tr>\n",
       "\t<tr><th scope=col>&lt;chr&gt;</th><th scope=col>&lt;dbl&gt;</th></tr>\n",
       "</thead>\n",
       "<tbody>\n",
       "\t<tr><td>sample_1 </td><td>5.454745</td></tr>\n",
       "\t<tr><td>sample_2 </td><td>5.725414</td></tr>\n",
       "\t<tr><td>sample_3 </td><td>9.053416</td></tr>\n",
       "\t<tr><td>sample_4 </td><td>4.825975</td></tr>\n",
       "\t<tr><td>sample_5 </td><td>5.715135</td></tr>\n",
       "\t<tr><td>sample_6 </td><td>5.083295</td></tr>\n",
       "\t<tr><td>sample_7 </td><td>6.069839</td></tr>\n",
       "\t<tr><td>sample_8 </td><td>6.014270</td></tr>\n",
       "\t<tr><td>sample_9 </td><td>4.605080</td></tr>\n",
       "\t<tr><td>sample_10</td><td>5.489327</td></tr>\n",
       "\t<tr><td>sample_11</td><td>5.656200</td></tr>\n",
       "\t<tr><td>sample_12</td><td>4.513305</td></tr>\n",
       "\t<tr><td>sample_13</td><td>5.283821</td></tr>\n",
       "\t<tr><td>sample_14</td><td>4.910124</td></tr>\n",
       "\t<tr><td>sample_15</td><td>4.781413</td></tr>\n",
       "</tbody>\n",
       "</table>\n"
      ],
      "text/latex": [
       "A data.frame: 15 × 2\n",
       "\\begin{tabular}{ll}\n",
       " sample & MAE\\\\\n",
       " <chr> & <dbl>\\\\\n",
       "\\hline\n",
       "\t sample\\_1  & 5.454745\\\\\n",
       "\t sample\\_2  & 5.725414\\\\\n",
       "\t sample\\_3  & 9.053416\\\\\n",
       "\t sample\\_4  & 4.825975\\\\\n",
       "\t sample\\_5  & 5.715135\\\\\n",
       "\t sample\\_6  & 5.083295\\\\\n",
       "\t sample\\_7  & 6.069839\\\\\n",
       "\t sample\\_8  & 6.014270\\\\\n",
       "\t sample\\_9  & 4.605080\\\\\n",
       "\t sample\\_10 & 5.489327\\\\\n",
       "\t sample\\_11 & 5.656200\\\\\n",
       "\t sample\\_12 & 4.513305\\\\\n",
       "\t sample\\_13 & 5.283821\\\\\n",
       "\t sample\\_14 & 4.910124\\\\\n",
       "\t sample\\_15 & 4.781413\\\\\n",
       "\\end{tabular}\n"
      ],
      "text/markdown": [
       "\n",
       "A data.frame: 15 × 2\n",
       "\n",
       "| sample &lt;chr&gt; | MAE &lt;dbl&gt; |\n",
       "|---|---|\n",
       "| sample_1  | 5.454745 |\n",
       "| sample_2  | 5.725414 |\n",
       "| sample_3  | 9.053416 |\n",
       "| sample_4  | 4.825975 |\n",
       "| sample_5  | 5.715135 |\n",
       "| sample_6  | 5.083295 |\n",
       "| sample_7  | 6.069839 |\n",
       "| sample_8  | 6.014270 |\n",
       "| sample_9  | 4.605080 |\n",
       "| sample_10 | 5.489327 |\n",
       "| sample_11 | 5.656200 |\n",
       "| sample_12 | 4.513305 |\n",
       "| sample_13 | 5.283821 |\n",
       "| sample_14 | 4.910124 |\n",
       "| sample_15 | 4.781413 |\n",
       "\n"
      ],
      "text/plain": [
       "   sample    MAE     \n",
       "1  sample_1  5.454745\n",
       "2  sample_2  5.725414\n",
       "3  sample_3  9.053416\n",
       "4  sample_4  4.825975\n",
       "5  sample_5  5.715135\n",
       "6  sample_6  5.083295\n",
       "7  sample_7  6.069839\n",
       "8  sample_8  6.014270\n",
       "9  sample_9  4.605080\n",
       "10 sample_10 5.489327\n",
       "11 sample_11 5.656200\n",
       "12 sample_12 4.513305\n",
       "13 sample_13 5.283821\n",
       "14 sample_14 4.910124\n",
       "15 sample_15 4.781413"
      ]
     },
     "metadata": {},
     "output_type": "display_data"
    }
   ],
   "source": [
    "df_res %>%\n",
    "    summarise (MAE = mean (abs (e.cum - e.cum_hat)), .by = sample)"
   ]
  },
  {
   "cell_type": "markdown",
   "id": "06080f88-5633-4bd7-973b-d7c2594cbd7e",
   "metadata": {},
   "source": [
    "## Predictions on scenarios"
   ]
  },
  {
   "cell_type": "code",
   "execution_count": 15,
   "id": "2e403220-9103-4b6e-88be-45a242a0caae",
   "metadata": {
    "scrolled": true
   },
   "outputs": [],
   "source": [
    "# Retraining the model on the whole dataset\n",
    "\n",
    "data_train = data_random_forest_statique %>% \n",
    "    select (- pmid, - country, - meas.tech, - inst, - e.rel) \n",
    "\n",
    "static_random_forest_model = randomForest (\n",
    "        e.cum ~ ., \n",
    "        data = data_train,\n",
    "        mtry = 15, nodesize = 4, replace = FALSE, sample_frac = 0.8\n",
    ")"
   ]
  },
  {
   "cell_type": "code",
   "execution_count": 16,
   "id": "7e8de6af-d582-4c43-8189-d12348870c2f",
   "metadata": {},
   "outputs": [],
   "source": [
    "load (file = \"../00_data_preparation/processed_data/scenarios_static_rf.Rdata\")"
   ]
  },
  {
   "cell_type": "code",
   "execution_count": 17,
   "id": "7755aa9c-8a65-4bf3-91a8-fbe880dbcbea",
   "metadata": {
    "scrolled": true
   },
   "outputs": [
    {
     "data": {
      "text/html": [
       "<table class=\"table\" style=\"margin-left: auto; margin-right: auto;\">\n",
       " <thead>\n",
       "  <tr>\n",
       "   <th style=\"text-align:right;\"> ct </th>\n",
       "   <th style=\"text-align:right;\"> tan.app </th>\n",
       "   <th style=\"text-align:right;\"> app.rate </th>\n",
       "   <th style=\"text-align:right;\"> man.dm </th>\n",
       "   <th style=\"text-align:right;\"> man.ph </th>\n",
       "   <th style=\"text-align:left;\"> man.source </th>\n",
       "   <th style=\"text-align:right;\"> t.incorp </th>\n",
       "   <th style=\"text-align:left;\"> app.mthd </th>\n",
       "   <th style=\"text-align:left;\"> incorp </th>\n",
       "   <th style=\"text-align:right;\"> air_temp_1 </th>\n",
       "   <th style=\"text-align:right;\"> air_temp_2 </th>\n",
       "   <th style=\"text-align:right;\"> air_temp_3 </th>\n",
       "   <th style=\"text-align:right;\"> air_temp_4 </th>\n",
       "   <th style=\"text-align:right;\"> air_temp_5 </th>\n",
       "   <th style=\"text-align:right;\"> air_temp_6 </th>\n",
       "   <th style=\"text-align:right;\"> wind.2m_1 </th>\n",
       "   <th style=\"text-align:right;\"> wind.2m_2 </th>\n",
       "   <th style=\"text-align:right;\"> wind.2m_3 </th>\n",
       "   <th style=\"text-align:right;\"> wind.2m_4 </th>\n",
       "   <th style=\"text-align:right;\"> wind.2m_5 </th>\n",
       "   <th style=\"text-align:right;\"> wind.2m_6 </th>\n",
       "   <th style=\"text-align:right;\"> rain.rate_1 </th>\n",
       "   <th style=\"text-align:right;\"> rain.rate_2 </th>\n",
       "   <th style=\"text-align:right;\"> rain.rate_3 </th>\n",
       "   <th style=\"text-align:right;\"> rain.rate_4 </th>\n",
       "   <th style=\"text-align:right;\"> rain.rate_5 </th>\n",
       "   <th style=\"text-align:right;\"> rain.rate_6 </th>\n",
       "  </tr>\n",
       " </thead>\n",
       "<tbody>\n",
       "  <tr>\n",
       "   <td style=\"text-align:right;\"> 72 </td>\n",
       "   <td style=\"text-align:right;\"> 36.7 </td>\n",
       "   <td style=\"text-align:right;\"> 18.7 </td>\n",
       "   <td style=\"text-align:right;\"> 3.8 </td>\n",
       "   <td style=\"text-align:right;\"> 7.5 </td>\n",
       "   <td style=\"text-align:left;\"> pig </td>\n",
       "   <td style=\"text-align:right;\"> 0 </td>\n",
       "   <td style=\"text-align:left;\"> bc </td>\n",
       "   <td style=\"text-align:left;\"> shallow </td>\n",
       "   <td style=\"text-align:right;\"> 11.2 </td>\n",
       "   <td style=\"text-align:right;\"> 10.8 </td>\n",
       "   <td style=\"text-align:right;\"> 8.7 </td>\n",
       "   <td style=\"text-align:right;\"> 8 </td>\n",
       "   <td style=\"text-align:right;\"> 8.1 </td>\n",
       "   <td style=\"text-align:right;\"> 9.2 </td>\n",
       "   <td style=\"text-align:right;\"> 2.3 </td>\n",
       "   <td style=\"text-align:right;\"> 2.3 </td>\n",
       "   <td style=\"text-align:right;\"> 1.8 </td>\n",
       "   <td style=\"text-align:right;\"> 1.4 </td>\n",
       "   <td style=\"text-align:right;\"> 1.4 </td>\n",
       "   <td style=\"text-align:right;\"> 2.2 </td>\n",
       "   <td style=\"text-align:right;\"> 0 </td>\n",
       "   <td style=\"text-align:right;\"> 0 </td>\n",
       "   <td style=\"text-align:right;\"> 0 </td>\n",
       "   <td style=\"text-align:right;\"> 0 </td>\n",
       "   <td style=\"text-align:right;\"> 0 </td>\n",
       "   <td style=\"text-align:right;\"> 0 </td>\n",
       "  </tr>\n",
       "  <tr>\n",
       "   <td style=\"text-align:right;\"> 72 </td>\n",
       "   <td style=\"text-align:right;\"> 36.7 </td>\n",
       "   <td style=\"text-align:right;\"> 18.7 </td>\n",
       "   <td style=\"text-align:right;\"> 3.8 </td>\n",
       "   <td style=\"text-align:right;\"> 7.5 </td>\n",
       "   <td style=\"text-align:left;\"> pig </td>\n",
       "   <td style=\"text-align:right;\"> 1000 </td>\n",
       "   <td style=\"text-align:left;\"> bc </td>\n",
       "   <td style=\"text-align:left;\"> none </td>\n",
       "   <td style=\"text-align:right;\"> 11.2 </td>\n",
       "   <td style=\"text-align:right;\"> 10.8 </td>\n",
       "   <td style=\"text-align:right;\"> 8.7 </td>\n",
       "   <td style=\"text-align:right;\"> 8 </td>\n",
       "   <td style=\"text-align:right;\"> 8.1 </td>\n",
       "   <td style=\"text-align:right;\"> 9.2 </td>\n",
       "   <td style=\"text-align:right;\"> 2.3 </td>\n",
       "   <td style=\"text-align:right;\"> 2.3 </td>\n",
       "   <td style=\"text-align:right;\"> 1.8 </td>\n",
       "   <td style=\"text-align:right;\"> 1.4 </td>\n",
       "   <td style=\"text-align:right;\"> 1.4 </td>\n",
       "   <td style=\"text-align:right;\"> 2.2 </td>\n",
       "   <td style=\"text-align:right;\"> 0 </td>\n",
       "   <td style=\"text-align:right;\"> 0 </td>\n",
       "   <td style=\"text-align:right;\"> 0 </td>\n",
       "   <td style=\"text-align:right;\"> 0 </td>\n",
       "   <td style=\"text-align:right;\"> 0 </td>\n",
       "   <td style=\"text-align:right;\"> 0 </td>\n",
       "  </tr>\n",
       "</tbody>\n",
       "</table>"
      ]
     },
     "metadata": {},
     "output_type": "display_data"
    }
   ],
   "source": [
    "scenarios_static_rf %>% \n",
    "    select (- scenario, - pmid, - strategy, - group_temp, - group_wind, - group_rain) %>%\n",
    "    head (n = 2) %>% embed"
   ]
  },
  {
   "cell_type": "code",
   "execution_count": 18,
   "id": "a2c71aaf-4e22-47e7-8dcb-1b68605d0f9d",
   "metadata": {},
   "outputs": [],
   "source": [
    "newdata = rbind (\n",
    "    data_train %>% select (- e.cum) %>% filter (row_number() == 1),\n",
    "    scenarios_static_rf %>% select (- scenario, - pmid, - strategy, - group_temp, - group_wind, - group_rain)\n",
    ") %>%\n",
    "    filter (row_number() != 1)"
   ]
  },
  {
   "cell_type": "code",
   "execution_count": 19,
   "id": "5a32b567-7d32-4517-b4e9-f31f5a1a8a17",
   "metadata": {},
   "outputs": [
    {
     "data": {
      "text/html": [
       "<style>\n",
       ".list-inline {list-style: none; margin:0; padding: 0}\n",
       ".list-inline>li {display: inline-block}\n",
       ".list-inline>li:not(:last-child)::after {content: \"\\00b7\"; padding: 0 .5ex}\n",
       "</style>\n",
       "<ol class=list-inline><li>768</li><li>27</li></ol>\n"
      ],
      "text/latex": [
       "\\begin{enumerate*}\n",
       "\\item 768\n",
       "\\item 27\n",
       "\\end{enumerate*}\n"
      ],
      "text/markdown": [
       "1. 768\n",
       "2. 27\n",
       "\n",
       "\n"
      ],
      "text/plain": [
       "[1] 768  27"
      ]
     },
     "metadata": {},
     "output_type": "display_data"
    }
   ],
   "source": [
    "dim (newdata)"
   ]
  },
  {
   "cell_type": "code",
   "execution_count": 20,
   "id": "f3204f14-5f40-4d1c-8d9c-5737fe99a9dc",
   "metadata": {},
   "outputs": [
    {
     "data": {
      "text/html": [
       "<table class=\"table\" style=\"margin-left: auto; margin-right: auto;\">\n",
       " <thead>\n",
       "  <tr>\n",
       "   <th style=\"text-align:right;\"> ct </th>\n",
       "   <th style=\"text-align:right;\"> tan.app </th>\n",
       "   <th style=\"text-align:right;\"> app.rate </th>\n",
       "   <th style=\"text-align:right;\"> man.dm </th>\n",
       "   <th style=\"text-align:right;\"> man.ph </th>\n",
       "   <th style=\"text-align:left;\"> man.source </th>\n",
       "   <th style=\"text-align:right;\"> t.incorp </th>\n",
       "   <th style=\"text-align:left;\"> app.mthd </th>\n",
       "   <th style=\"text-align:left;\"> incorp </th>\n",
       "   <th style=\"text-align:right;\"> air_temp_1 </th>\n",
       "   <th style=\"text-align:right;\"> air_temp_2 </th>\n",
       "   <th style=\"text-align:right;\"> air_temp_3 </th>\n",
       "   <th style=\"text-align:right;\"> air_temp_4 </th>\n",
       "   <th style=\"text-align:right;\"> air_temp_5 </th>\n",
       "   <th style=\"text-align:right;\"> air_temp_6 </th>\n",
       "   <th style=\"text-align:right;\"> wind.2m_1 </th>\n",
       "   <th style=\"text-align:right;\"> wind.2m_2 </th>\n",
       "   <th style=\"text-align:right;\"> wind.2m_3 </th>\n",
       "   <th style=\"text-align:right;\"> wind.2m_4 </th>\n",
       "   <th style=\"text-align:right;\"> wind.2m_5 </th>\n",
       "   <th style=\"text-align:right;\"> wind.2m_6 </th>\n",
       "   <th style=\"text-align:right;\"> rain.rate_1 </th>\n",
       "   <th style=\"text-align:right;\"> rain.rate_2 </th>\n",
       "   <th style=\"text-align:right;\"> rain.rate_3 </th>\n",
       "   <th style=\"text-align:right;\"> rain.rate_4 </th>\n",
       "   <th style=\"text-align:right;\"> rain.rate_5 </th>\n",
       "   <th style=\"text-align:right;\"> rain.rate_6 </th>\n",
       "  </tr>\n",
       " </thead>\n",
       "<tbody>\n",
       "  <tr>\n",
       "   <td style=\"text-align:right;\"> 72 </td>\n",
       "   <td style=\"text-align:right;\"> 36.7 </td>\n",
       "   <td style=\"text-align:right;\"> 18.7 </td>\n",
       "   <td style=\"text-align:right;\"> 3.8 </td>\n",
       "   <td style=\"text-align:right;\"> 7.5 </td>\n",
       "   <td style=\"text-align:left;\"> pig </td>\n",
       "   <td style=\"text-align:right;\"> 0 </td>\n",
       "   <td style=\"text-align:left;\"> bc </td>\n",
       "   <td style=\"text-align:left;\"> shallow </td>\n",
       "   <td style=\"text-align:right;\"> 11.2 </td>\n",
       "   <td style=\"text-align:right;\"> 10.8 </td>\n",
       "   <td style=\"text-align:right;\"> 8.7 </td>\n",
       "   <td style=\"text-align:right;\"> 8 </td>\n",
       "   <td style=\"text-align:right;\"> 8.1 </td>\n",
       "   <td style=\"text-align:right;\"> 9.2 </td>\n",
       "   <td style=\"text-align:right;\"> 2.3 </td>\n",
       "   <td style=\"text-align:right;\"> 2.3 </td>\n",
       "   <td style=\"text-align:right;\"> 1.8 </td>\n",
       "   <td style=\"text-align:right;\"> 1.4 </td>\n",
       "   <td style=\"text-align:right;\"> 1.4 </td>\n",
       "   <td style=\"text-align:right;\"> 2.2 </td>\n",
       "   <td style=\"text-align:right;\"> 0 </td>\n",
       "   <td style=\"text-align:right;\"> 0 </td>\n",
       "   <td style=\"text-align:right;\"> 0 </td>\n",
       "   <td style=\"text-align:right;\"> 0 </td>\n",
       "   <td style=\"text-align:right;\"> 0 </td>\n",
       "   <td style=\"text-align:right;\"> 0 </td>\n",
       "  </tr>\n",
       "  <tr>\n",
       "   <td style=\"text-align:right;\"> 72 </td>\n",
       "   <td style=\"text-align:right;\"> 36.7 </td>\n",
       "   <td style=\"text-align:right;\"> 18.7 </td>\n",
       "   <td style=\"text-align:right;\"> 3.8 </td>\n",
       "   <td style=\"text-align:right;\"> 7.5 </td>\n",
       "   <td style=\"text-align:left;\"> pig </td>\n",
       "   <td style=\"text-align:right;\"> 1000 </td>\n",
       "   <td style=\"text-align:left;\"> bc </td>\n",
       "   <td style=\"text-align:left;\"> none </td>\n",
       "   <td style=\"text-align:right;\"> 11.2 </td>\n",
       "   <td style=\"text-align:right;\"> 10.8 </td>\n",
       "   <td style=\"text-align:right;\"> 8.7 </td>\n",
       "   <td style=\"text-align:right;\"> 8 </td>\n",
       "   <td style=\"text-align:right;\"> 8.1 </td>\n",
       "   <td style=\"text-align:right;\"> 9.2 </td>\n",
       "   <td style=\"text-align:right;\"> 2.3 </td>\n",
       "   <td style=\"text-align:right;\"> 2.3 </td>\n",
       "   <td style=\"text-align:right;\"> 1.8 </td>\n",
       "   <td style=\"text-align:right;\"> 1.4 </td>\n",
       "   <td style=\"text-align:right;\"> 1.4 </td>\n",
       "   <td style=\"text-align:right;\"> 2.2 </td>\n",
       "   <td style=\"text-align:right;\"> 0 </td>\n",
       "   <td style=\"text-align:right;\"> 0 </td>\n",
       "   <td style=\"text-align:right;\"> 0 </td>\n",
       "   <td style=\"text-align:right;\"> 0 </td>\n",
       "   <td style=\"text-align:right;\"> 0 </td>\n",
       "   <td style=\"text-align:right;\"> 0 </td>\n",
       "  </tr>\n",
       "</tbody>\n",
       "</table>"
      ]
     },
     "metadata": {},
     "output_type": "display_data"
    }
   ],
   "source": [
    "newdata %>% head (n = 2) %>% embed"
   ]
  },
  {
   "cell_type": "code",
   "execution_count": 21,
   "id": "fafcd0af-7239-4bde-86d4-ca5db15c31c2",
   "metadata": {},
   "outputs": [],
   "source": [
    "predictions = predict (static_random_forest_model, newdata) "
   ]
  },
  {
   "cell_type": "code",
   "execution_count": 22,
   "id": "45803bfd-0487-40e3-8720-7013ae8349fb",
   "metadata": {},
   "outputs": [],
   "source": [
    "scenarios_static_rf = scenarios_static_rf %>% \n",
    "    mutate (e.cum_hat = predictions, .after = pmid) %>%\n",
    "    mutate (efficacy = ((e.cum_hat / e.cum_hat[strategy == \"Broadcast\"]) - 1) * 100, \n",
    "            .by = c (scenario))"
   ]
  },
  {
   "cell_type": "code",
   "execution_count": 23,
   "id": "bfc0239f-ee7f-4bfb-9334-8cfedd36b6b4",
   "metadata": {},
   "outputs": [],
   "source": [
    "predictions_on_scenarios_static_random_forest = scenarios_static_rf\n",
    "save (predictions_on_scenarios_static_random_forest, file = \"results/predictions_on_scenarios_static_random_forest.Rdata\")"
   ]
  },
  {
   "cell_type": "code",
   "execution_count": 24,
   "id": "580b50d2-b087-42e6-96b4-baa8cb1bd6d8",
   "metadata": {},
   "outputs": [
    {
     "data": {
      "image/png": "[encoded data removed]",
      "text/plain": [
       "plot without title"
      ]
     },
     "metadata": {
      "image/png": {
       "height": 240,
       "width": 1200
      }
     },
     "output_type": "display_data"
    }
   ],
   "source": [
    "size (20, 4)\n",
    "scenarios_static_rf %>%\n",
    "    filter (strategy != \"Broadcast\") %>%\n",
    "    \n",
    "    ggplot () +\n",
    "        \n",
    "        geom_boxplot (aes (x = efficacy, y = strategy, fill = strategy)) +\n",
    "        scale_fill_manual (values = Dark2) +\n",
    "        scale_y_discrete (limits = c (\"Closed slot\", \"Open slot\", \"Trailing shoe\", \"Trailing hose\", \"Incorporation\")) +\n",
    "        ylab (\"\") + xlab (\"Efficacy\") +\n",
    "        theme (legend.position = \"none\",\n",
    "               axis.ticks.y = element_blank(),\n",
    "               strip.text.x = element_text(margin = ggplot2::margin(t = 8, b = 8, r = 0, l = 0))) +\n",
    "        NULL"
   ]
  },
  {
   "cell_type": "markdown",
   "id": "59c0d54d-89cd-4312-9209-09be8d85beaf",
   "metadata": {},
   "source": [
    "# Dynamic random forest - without interpolation"
   ]
  },
  {
   "cell_type": "markdown",
   "id": "822b71bc-e47a-407f-a365-9a3ebe81ab4a",
   "metadata": {},
   "source": [
    "Correspond to the 'dynamic rf' model."
   ]
  },
  {
   "cell_type": "code",
   "execution_count": 25,
   "id": "be23c3cc-558f-4247-b1fb-89f3283e25ea",
   "metadata": {},
   "outputs": [
    {
     "data": {
      "text/html": [
       "<table class=\"table\" style=\"margin-left: auto; margin-right: auto;\">\n",
       " <thead>\n",
       "  <tr>\n",
       "   <th style=\"text-align:right;\"> e.cum </th>\n",
       "   <th style=\"text-align:right;\"> e.rel </th>\n",
       "   <th style=\"text-align:right;\"> j.NH3 </th>\n",
       "   <th style=\"text-align:right;\"> pmid </th>\n",
       "   <th style=\"text-align:left;\"> meas.tech </th>\n",
       "   <th style=\"text-align:left;\"> country </th>\n",
       "   <th style=\"text-align:right;\"> inst </th>\n",
       "   <th style=\"text-align:right;\"> ct </th>\n",
       "   <th style=\"text-align:right;\"> dt </th>\n",
       "   <th style=\"text-align:right;\"> air.temp </th>\n",
       "   <th style=\"text-align:right;\"> wind.2m </th>\n",
       "   <th style=\"text-align:right;\"> rain.rate </th>\n",
       "   <th style=\"text-align:right;\"> tan.app </th>\n",
       "   <th style=\"text-align:right;\"> app.rate </th>\n",
       "   <th style=\"text-align:right;\"> man.dm </th>\n",
       "   <th style=\"text-align:right;\"> man.ph </th>\n",
       "   <th style=\"text-align:left;\"> man.source </th>\n",
       "   <th style=\"text-align:right;\"> t.incorp </th>\n",
       "   <th style=\"text-align:left;\"> app.mthd </th>\n",
       "   <th style=\"text-align:left;\"> incorp </th>\n",
       "  </tr>\n",
       " </thead>\n",
       "<tbody>\n",
       "  <tr>\n",
       "   <td style=\"text-align:right;\"> 7.1480 </td>\n",
       "   <td style=\"text-align:right;\"> 0.0585374 </td>\n",
       "   <td style=\"text-align:right;\"> 1.7870 </td>\n",
       "   <td style=\"text-align:right;\"> 182 </td>\n",
       "   <td style=\"text-align:left;\"> micro met </td>\n",
       "   <td style=\"text-align:left;\"> DK </td>\n",
       "   <td style=\"text-align:right;\"> 104 </td>\n",
       "   <td style=\"text-align:right;\"> 4 </td>\n",
       "   <td style=\"text-align:right;\"> 4 </td>\n",
       "   <td style=\"text-align:right;\"> 8.20 </td>\n",
       "   <td style=\"text-align:right;\"> 8.10 </td>\n",
       "   <td style=\"text-align:right;\"> 0 </td>\n",
       "   <td style=\"text-align:right;\"> 122.11 </td>\n",
       "   <td style=\"text-align:right;\"> 31.8 </td>\n",
       "   <td style=\"text-align:right;\"> 3.7 </td>\n",
       "   <td style=\"text-align:right;\"> 7.35 </td>\n",
       "   <td style=\"text-align:left;\"> pig </td>\n",
       "   <td style=\"text-align:right;\"> 1000 </td>\n",
       "   <td style=\"text-align:left;\"> bc </td>\n",
       "   <td style=\"text-align:left;\"> none </td>\n",
       "  </tr>\n",
       "  <tr>\n",
       "   <td style=\"text-align:right;\"> 8.2921 </td>\n",
       "   <td style=\"text-align:right;\"> 0.0679068 </td>\n",
       "   <td style=\"text-align:right;\"> 0.0673 </td>\n",
       "   <td style=\"text-align:right;\"> 182 </td>\n",
       "   <td style=\"text-align:left;\"> micro met </td>\n",
       "   <td style=\"text-align:left;\"> DK </td>\n",
       "   <td style=\"text-align:right;\"> 104 </td>\n",
       "   <td style=\"text-align:right;\"> 21 </td>\n",
       "   <td style=\"text-align:right;\"> 17 </td>\n",
       "   <td style=\"text-align:right;\"> 4.45 </td>\n",
       "   <td style=\"text-align:right;\"> 3.98 </td>\n",
       "   <td style=\"text-align:right;\"> 0 </td>\n",
       "   <td style=\"text-align:right;\"> 122.11 </td>\n",
       "   <td style=\"text-align:right;\"> 31.8 </td>\n",
       "   <td style=\"text-align:right;\"> 3.7 </td>\n",
       "   <td style=\"text-align:right;\"> 7.35 </td>\n",
       "   <td style=\"text-align:left;\"> pig </td>\n",
       "   <td style=\"text-align:right;\"> 1000 </td>\n",
       "   <td style=\"text-align:left;\"> bc </td>\n",
       "   <td style=\"text-align:left;\"> none </td>\n",
       "  </tr>\n",
       "</tbody>\n",
       "</table>"
      ]
     },
     "metadata": {},
     "output_type": "display_data"
    }
   ],
   "source": [
    "head (data, n = 2) %>% embed"
   ]
  },
  {
   "cell_type": "code",
   "execution_count": 26,
   "id": "e07c6646-94e7-4f90-9f81-90162ee4bc4a",
   "metadata": {
    "scrolled": true
   },
   "outputs": [],
   "source": [
    "data_random_forest_dynamique_without_interpolation = data %>%\n",
    "    mutate (e.cum_shift = c (0, e.cum [1 : (n() - 1)]), .by = pmid) %>%\n",
    "    select (e.cum, e.cum_shift, dt, inst, pmid, country, meas.tech, ct, air.temp, wind.2m, rain.rate, tan.app, app.mthd, app.rate, man.dm, man.ph, man.source, incorp, t.incorp)"
   ]
  },
  {
   "cell_type": "markdown",
   "id": "4f85c664-775a-4f98-9d46-c69afa62d2fd",
   "metadata": {},
   "source": [
    "## Model selection"
   ]
  },
  {
   "cell_type": "code",
   "execution_count": 27,
   "id": "e68e8fd3-bec6-400d-8d7f-6fde8d241288",
   "metadata": {},
   "outputs": [],
   "source": [
    "p = 15"
   ]
  },
  {
   "cell_type": "raw",
   "id": "cd23e1a8-3a95-453c-bda5-014e09ad3e43",
   "metadata": {
    "scrolled": true
   },
   "source": [
    "set.seed(123)\n",
    "\n",
    "for (k in c(1 : p)){\n",
    "    \n",
    "    hyper_grid = expand.grid (\n",
    "        mtry = c (2, 3, 4),\n",
    "        MAE = NA,\n",
    "        sample = NA,\n",
    "        running_time = NA\n",
    "    )\n",
    "\n",
    "    pmids_eval = list_eval_pmids[[k]]\n",
    "    pmids_train = list_train_pmids[[k]]\n",
    "    \n",
    "    for (j in seq_len (nrow (hyper_grid))) {    \n",
    "\n",
    "        print (paste (k, hyper_grid[j, ]))\n",
    "        flush.console()\n",
    "\n",
    "        t1 = Sys.time()\n",
    "        \n",
    "        # training -------------------------------------------------------\n",
    "        data_train = data_random_forest_dynamique_without_interpolation %>% \n",
    "            filter (pmid %in% pmids_train) %>%\n",
    "            select (- pmid, - country, - meas.tech, - inst) \n",
    "        \n",
    "        model_random_forest = randomForest (\n",
    "                e.cum ~ .,\n",
    "                data = data_train,\n",
    "                mtry = hyper_grid$mtry[j],\n",
    "                importance = TRUE\n",
    "        )\n",
    "        # ----------------------------------------------------------------\n",
    "        \n",
    "        # Evaluation -----------------------------------------------------\n",
    "        data_eval = data_random_forest_dynamique_without_interpolation %>%\n",
    "            filter (pmid %in% pmids_eval) \n",
    "\n",
    "        pmids_eval = data_eval$pmid %>% unique # getting pmids in the right order\n",
    "\n",
    "        df_predictions_random_forest = NULL\n",
    "        \n",
    "        for (i_pmid in pmids_eval){\n",
    "        \n",
    "            data_tmp = data_eval %>%\n",
    "              filter (pmid == i_pmid) %>%\n",
    "              mutate (e.cum_hat = NA, e.cum_shift = NA, .after = \"e.cum\")\n",
    "        \n",
    "            n = nrow (data_tmp)\n",
    "            prediction = 0\n",
    "        \n",
    "            for (l in c (1 : n)){\n",
    "                data_tmp$e.cum_shift[l] = prediction\n",
    "                newdata = data_tmp [l, ] %>% select (- pmid, - e.cum, - country, - meas.tech, - e.cum_hat, - inst)\n",
    "                prediction = predict (model_random_forest, newdata = newdata)\n",
    "                data_tmp$e.cum_hat [l] = prediction\n",
    "            }\n",
    "        \n",
    "            df_predictions_random_forest = rbind (df_predictions_random_forest, data_tmp)\n",
    "        }\n",
    "        \n",
    "        predictions_eval = df_predictions_random_forest$e.cum_hat\n",
    "        \n",
    "    \n",
    "        truth_eval = data %>% filter (pmid %in% pmids_eval) %>% pull (e.cum)\n",
    "    \n",
    "        hyper_grid$MAE[j] = mean (abs (predictions_eval - truth_eval))\n",
    "        hyper_grid$sample[j] = paste (\"sample_\", k, sep = \"\")\n",
    "        # ----------------------------------------------------------------\n",
    "        \n",
    "        t2 = Sys.time()\n",
    "        running_time = difftime (t2, t1, units = \"min\")\n",
    "        print (running_time)\n",
    "        hyper_grid$running_time[j] = running_time\n",
    "        \n",
    "    }\n",
    "\n",
    "    save (hyper_grid, file = paste (\"results/dynamique_without_interpolation/hyper_grid_sample_\", k, \".Rdata\", sep = \"\"))\n",
    "\n",
    "}"
   ]
  },
  {
   "cell_type": "code",
   "execution_count": 28,
   "id": "4851b504-5430-491d-99d2-1b01824e520e",
   "metadata": {},
   "outputs": [],
   "source": [
    "files <- dir(\"results/dynamique_without_interpolation\", pattern = \"hyper_grid_sample\", full.names = TRUE)\n",
    "\n",
    "df_model_selection <- do.call(rbind, lapply(files, function(x) get(load(x))))"
   ]
  },
  {
   "cell_type": "code",
   "execution_count": 29,
   "id": "5a3055e3-d5e1-4577-836f-579b330be816",
   "metadata": {},
   "outputs": [
    {
     "data": {
      "text/html": [
       "<table class=\"dataframe\">\n",
       "<caption>A data.frame: 6 × 4</caption>\n",
       "<thead>\n",
       "\t<tr><th></th><th scope=col>mtry</th><th scope=col>MAE</th><th scope=col>sample</th><th scope=col>running_time</th></tr>\n",
       "\t<tr><th></th><th scope=col>&lt;dbl&gt;</th><th scope=col>&lt;dbl&gt;</th><th scope=col>&lt;chr&gt;</th><th scope=col>&lt;dbl&gt;</th></tr>\n",
       "</thead>\n",
       "<tbody>\n",
       "\t<tr><th scope=row>1</th><td>2</td><td>4.140392</td><td>sample_1 </td><td>0.5600595</td></tr>\n",
       "\t<tr><th scope=row>2</th><td>3</td><td>4.224275</td><td>sample_1 </td><td>0.6878553</td></tr>\n",
       "\t<tr><th scope=row>3</th><td>4</td><td>4.528167</td><td>sample_1 </td><td>0.7640437</td></tr>\n",
       "\t<tr><th scope=row>4</th><td>2</td><td>3.469611</td><td>sample_10</td><td>0.5260717</td></tr>\n",
       "\t<tr><th scope=row>5</th><td>3</td><td>3.388428</td><td>sample_10</td><td>0.6231519</td></tr>\n",
       "\t<tr><th scope=row>6</th><td>4</td><td>3.350441</td><td>sample_10</td><td>0.8306036</td></tr>\n",
       "</tbody>\n",
       "</table>\n"
      ],
      "text/latex": [
       "A data.frame: 6 × 4\n",
       "\\begin{tabular}{r|llll}\n",
       "  & mtry & MAE & sample & running\\_time\\\\\n",
       "  & <dbl> & <dbl> & <chr> & <dbl>\\\\\n",
       "\\hline\n",
       "\t1 & 2 & 4.140392 & sample\\_1  & 0.5600595\\\\\n",
       "\t2 & 3 & 4.224275 & sample\\_1  & 0.6878553\\\\\n",
       "\t3 & 4 & 4.528167 & sample\\_1  & 0.7640437\\\\\n",
       "\t4 & 2 & 3.469611 & sample\\_10 & 0.5260717\\\\\n",
       "\t5 & 3 & 3.388428 & sample\\_10 & 0.6231519\\\\\n",
       "\t6 & 4 & 3.350441 & sample\\_10 & 0.8306036\\\\\n",
       "\\end{tabular}\n"
      ],
      "text/markdown": [
       "\n",
       "A data.frame: 6 × 4\n",
       "\n",
       "| <!--/--> | mtry &lt;dbl&gt; | MAE &lt;dbl&gt; | sample &lt;chr&gt; | running_time &lt;dbl&gt; |\n",
       "|---|---|---|---|---|\n",
       "| 1 | 2 | 4.140392 | sample_1  | 0.5600595 |\n",
       "| 2 | 3 | 4.224275 | sample_1  | 0.6878553 |\n",
       "| 3 | 4 | 4.528167 | sample_1  | 0.7640437 |\n",
       "| 4 | 2 | 3.469611 | sample_10 | 0.5260717 |\n",
       "| 5 | 3 | 3.388428 | sample_10 | 0.6231519 |\n",
       "| 6 | 4 | 3.350441 | sample_10 | 0.8306036 |\n",
       "\n"
      ],
      "text/plain": [
       "  mtry MAE      sample    running_time\n",
       "1 2    4.140392 sample_1  0.5600595   \n",
       "2 3    4.224275 sample_1  0.6878553   \n",
       "3 4    4.528167 sample_1  0.7640437   \n",
       "4 2    3.469611 sample_10 0.5260717   \n",
       "5 3    3.388428 sample_10 0.6231519   \n",
       "6 4    3.350441 sample_10 0.8306036   "
      ]
     },
     "metadata": {},
     "output_type": "display_data"
    }
   ],
   "source": [
    "df_model_selection %>% head"
   ]
  },
  {
   "cell_type": "code",
   "execution_count": 30,
   "id": "f2a5354b-7845-4ac0-9ca8-765a72a44371",
   "metadata": {
    "scrolled": true
   },
   "outputs": [
    {
     "data": {
      "text/html": [
       "<table class=\"dataframe\">\n",
       "<caption>A data.frame: 3 × 2</caption>\n",
       "<thead>\n",
       "\t<tr><th scope=col>mtry</th><th scope=col>mean_MAE</th></tr>\n",
       "\t<tr><th scope=col>&lt;dbl&gt;</th><th scope=col>&lt;dbl&gt;</th></tr>\n",
       "</thead>\n",
       "<tbody>\n",
       "\t<tr><td>2</td><td>3.958107</td></tr>\n",
       "\t<tr><td>3</td><td>3.971768</td></tr>\n",
       "\t<tr><td>4</td><td>4.166960</td></tr>\n",
       "</tbody>\n",
       "</table>\n"
      ],
      "text/latex": [
       "A data.frame: 3 × 2\n",
       "\\begin{tabular}{ll}\n",
       " mtry & mean\\_MAE\\\\\n",
       " <dbl> & <dbl>\\\\\n",
       "\\hline\n",
       "\t 2 & 3.958107\\\\\n",
       "\t 3 & 3.971768\\\\\n",
       "\t 4 & 4.166960\\\\\n",
       "\\end{tabular}\n"
      ],
      "text/markdown": [
       "\n",
       "A data.frame: 3 × 2\n",
       "\n",
       "| mtry &lt;dbl&gt; | mean_MAE &lt;dbl&gt; |\n",
       "|---|---|\n",
       "| 2 | 3.958107 |\n",
       "| 3 | 3.971768 |\n",
       "| 4 | 4.166960 |\n",
       "\n"
      ],
      "text/plain": [
       "  mtry mean_MAE\n",
       "1 2    3.958107\n",
       "2 3    3.971768\n",
       "3 4    4.166960"
      ]
     },
     "metadata": {},
     "output_type": "display_data"
    }
   ],
   "source": [
    "df_model_selection %>% \n",
    "    summarise (mean_MAE = mean (MAE), .by = c (mtry)) %>%\n",
    "    arrange (mean_MAE)"
   ]
  },
  {
   "cell_type": "code",
   "execution_count": 31,
   "id": "119251b7-69fe-4e81-a0d6-5defce9089ac",
   "metadata": {},
   "outputs": [],
   "source": [
    "mtry_star = df_model_selection %>% \n",
    "    summarise (mean_MAE = mean (MAE), .by = c (mtry)) %>% \n",
    "    arrange (mean_MAE) %>% \n",
    "    pull (mtry) %>% \n",
    "    head (1)"
   ]
  },
  {
   "cell_type": "code",
   "execution_count": 32,
   "id": "76370517-da38-416f-86a7-b7b68af5512e",
   "metadata": {},
   "outputs": [
    {
     "data": {
      "text/html": [
       "2"
      ],
      "text/latex": [
       "2"
      ],
      "text/markdown": [
       "2"
      ],
      "text/plain": [
       "[1] 2"
      ]
     },
     "metadata": {},
     "output_type": "display_data"
    }
   ],
   "source": [
    "mtry_star"
   ]
  },
  {
   "cell_type": "markdown",
   "id": "1af0e2dc-f19e-4deb-8b18-420d8f5a55d1",
   "metadata": {},
   "source": [
    "## Test"
   ]
  },
  {
   "cell_type": "raw",
   "id": "4b4c123d-f564-4fe1-a62b-2927e1bdf0c6",
   "metadata": {
    "scrolled": true
   },
   "source": [
    "set.seed(123)\n",
    "\n",
    "for (k in c(1 : p)){\n",
    "\n",
    "    df_res = NULL\n",
    "       \n",
    "    pmids_test = list_test_pmids[[k]]\n",
    "    pmids_train = setdiff (pmids, pmids_test)\n",
    "        \n",
    "    print (k)\n",
    "    flush.console()\n",
    "    \n",
    "    t1 = Sys.time()\n",
    "\n",
    "    data_train = data_random_forest_dynamique_without_interpolation %>% \n",
    "        filter (pmid %in% pmids_train) %>%\n",
    "        select (- pmid, - country, - meas.tech, - inst) \n",
    "    \n",
    "    data_test = data_random_forest_dynamique_without_interpolation %>%\n",
    "        filter (pmid %in% pmids_test)\n",
    "    \n",
    "    pmids_test = data_test$pmid %>% unique # getting pmids in the right order for future testing\n",
    "\n",
    "    data_predictions = data %>% filter (pmid %in% pmids_test)\n",
    "    \n",
    "    # training -------------------------------------------------------\n",
    "    model_random_forest = randomForest (\n",
    "            e.cum ~ .,\n",
    "            data = data_train,\n",
    "            mtry = mtry_star,\n",
    "            importance = TRUE\n",
    "    )\n",
    "    # ----------------------------------------------------------------\n",
    "    \n",
    "    # Test -----------------------------------------------------------\n",
    "    df_predictions_random_forest = NULL\n",
    "    \n",
    "    for (i_pmid in pmids_test){\n",
    "    \n",
    "        data_tmp = data_test %>%\n",
    "          filter (pmid == i_pmid) %>%\n",
    "          mutate (e.cum_hat = NA, e.cum_shift = NA, .after = \"e.cum\")\n",
    "    \n",
    "        n = nrow (data_tmp)\n",
    "        prediction = 0\n",
    "    \n",
    "        for (l in c (1 : n)){\n",
    "            data_tmp$e.cum_shift[l] = prediction\n",
    "            newdata = data_tmp [l, ] %>% select (- pmid, - e.cum, - country, - meas.tech, - e.cum_hat, - inst)\n",
    "            prediction = predict (model_random_forest, newdata = newdata)\n",
    "            data_tmp$e.cum_hat [l] = prediction\n",
    "        }\n",
    "    \n",
    "        df_predictions_random_forest = rbind (df_predictions_random_forest, data_tmp)\n",
    "    }\n",
    "\n",
    "    data_predictions = data_predictions %>% mutate (e.cum_hat = df_predictions_random_forest$e.cum_hat, sample = paste (\"sample_\", k, sep =\"\"))\n",
    "    \n",
    "    t2 = Sys.time()\n",
    "    data_predictions = data_predictions %>% mutate (running_time = difftime (t2, t1))\n",
    "    \n",
    "    df_res = rbind (df_res, data_predictions)\n",
    "\n",
    "save (df_res, file = paste (\"results/dynamique_without_interpolation/df_res_sample_\", k, \".Rdata\", sep = \"\"))\n",
    "\n",
    "}"
   ]
  },
  {
   "cell_type": "code",
   "execution_count": 33,
   "id": "6fe6c86b-15d0-4385-8f37-ea78c284f06b",
   "metadata": {},
   "outputs": [],
   "source": [
    "files <- dir(\"results/dynamique_without_interpolation\", pattern = \"df_res_sample_\", full.names = TRUE)\n",
    "\n",
    "df_res <- do.call(rbind, lapply(files, function(x) get(load(x))))"
   ]
  },
  {
   "cell_type": "code",
   "execution_count": 34,
   "id": "b59c6c27-f874-469d-ad3a-81f4e7f41315",
   "metadata": {},
   "outputs": [
    {
     "data": {
      "text/html": [
       "<table class=\"table\" style=\"margin-left: auto; margin-right: auto;\">\n",
       " <thead>\n",
       "  <tr>\n",
       "   <th style=\"text-align:right;\"> e.cum </th>\n",
       "   <th style=\"text-align:right;\"> e.rel </th>\n",
       "   <th style=\"text-align:right;\"> j.NH3 </th>\n",
       "   <th style=\"text-align:right;\"> pmid </th>\n",
       "   <th style=\"text-align:right;\"> eid </th>\n",
       "   <th style=\"text-align:left;\"> exper </th>\n",
       "   <th style=\"text-align:left;\"> field </th>\n",
       "   <th style=\"text-align:left;\"> meas.tech </th>\n",
       "   <th style=\"text-align:left;\"> country </th>\n",
       "   <th style=\"text-align:right;\"> inst </th>\n",
       "   <th style=\"text-align:right;\"> ct </th>\n",
       "   <th style=\"text-align:right;\"> dt </th>\n",
       "   <th style=\"text-align:right;\"> air.temp </th>\n",
       "   <th style=\"text-align:right;\"> wind.2m </th>\n",
       "   <th style=\"text-align:right;\"> rain.rate </th>\n",
       "   <th style=\"text-align:right;\"> tan.app </th>\n",
       "   <th style=\"text-align:right;\"> app.rate </th>\n",
       "   <th style=\"text-align:right;\"> man.dm </th>\n",
       "   <th style=\"text-align:right;\"> man.ph </th>\n",
       "   <th style=\"text-align:left;\"> man.source </th>\n",
       "   <th style=\"text-align:right;\"> t.incorp </th>\n",
       "   <th style=\"text-align:left;\"> app.mthd </th>\n",
       "   <th style=\"text-align:left;\"> incorp </th>\n",
       "   <th style=\"text-align:right;\"> e.cum_hat </th>\n",
       "   <th style=\"text-align:left;\"> sample </th>\n",
       "   <th style=\"text-align:left;\"> running_time </th>\n",
       "  </tr>\n",
       " </thead>\n",
       "<tbody>\n",
       "  <tr>\n",
       "   <td style=\"text-align:right;\"> 8.6395 </td>\n",
       "   <td style=\"text-align:right;\"> 0.0789789 </td>\n",
       "   <td style=\"text-align:right;\"> 1.8381915 </td>\n",
       "   <td style=\"text-align:right;\"> 195 </td>\n",
       "   <td style=\"text-align:right;\"> 57 </td>\n",
       "   <td style=\"text-align:left;\"> 5 </td>\n",
       "   <td style=\"text-align:left;\"> NA </td>\n",
       "   <td style=\"text-align:left;\"> micro met </td>\n",
       "   <td style=\"text-align:left;\"> DK </td>\n",
       "   <td style=\"text-align:right;\"> 104 </td>\n",
       "   <td style=\"text-align:right;\"> 4.7 </td>\n",
       "   <td style=\"text-align:right;\"> 4.7 </td>\n",
       "   <td style=\"text-align:right;\"> 11.82 </td>\n",
       "   <td style=\"text-align:right;\"> 7.47 </td>\n",
       "   <td style=\"text-align:right;\"> 0.000000 </td>\n",
       "   <td style=\"text-align:right;\"> 109.390 </td>\n",
       "   <td style=\"text-align:right;\"> 30.9 </td>\n",
       "   <td style=\"text-align:right;\"> 3.1 </td>\n",
       "   <td style=\"text-align:right;\"> 7.53 </td>\n",
       "   <td style=\"text-align:left;\"> pig </td>\n",
       "   <td style=\"text-align:right;\"> 1000 </td>\n",
       "   <td style=\"text-align:left;\"> bc </td>\n",
       "   <td style=\"text-align:left;\"> none </td>\n",
       "   <td style=\"text-align:right;\"> 8.250697 </td>\n",
       "   <td style=\"text-align:left;\"> sample_1 </td>\n",
       "   <td style=\"text-align:left;\"> 34.23937 secs </td>\n",
       "  </tr>\n",
       "  <tr>\n",
       "   <td style=\"text-align:right;\"> 12.3890 </td>\n",
       "   <td style=\"text-align:right;\"> 0.1132553 </td>\n",
       "   <td style=\"text-align:right;\"> 0.2005080 </td>\n",
       "   <td style=\"text-align:right;\"> 195 </td>\n",
       "   <td style=\"text-align:right;\"> 57 </td>\n",
       "   <td style=\"text-align:left;\"> 5 </td>\n",
       "   <td style=\"text-align:left;\"> NA </td>\n",
       "   <td style=\"text-align:left;\"> micro met </td>\n",
       "   <td style=\"text-align:left;\"> DK </td>\n",
       "   <td style=\"text-align:right;\"> 104 </td>\n",
       "   <td style=\"text-align:right;\"> 23.4 </td>\n",
       "   <td style=\"text-align:right;\"> 18.7 </td>\n",
       "   <td style=\"text-align:right;\"> 8.68 </td>\n",
       "   <td style=\"text-align:right;\"> 6.75 </td>\n",
       "   <td style=\"text-align:right;\"> 0.000000 </td>\n",
       "   <td style=\"text-align:right;\"> 109.390 </td>\n",
       "   <td style=\"text-align:right;\"> 30.9 </td>\n",
       "   <td style=\"text-align:right;\"> 3.1 </td>\n",
       "   <td style=\"text-align:right;\"> 7.53 </td>\n",
       "   <td style=\"text-align:left;\"> pig </td>\n",
       "   <td style=\"text-align:right;\"> 1000 </td>\n",
       "   <td style=\"text-align:left;\"> bc </td>\n",
       "   <td style=\"text-align:left;\"> none </td>\n",
       "   <td style=\"text-align:right;\"> 11.288619 </td>\n",
       "   <td style=\"text-align:left;\"> sample_1 </td>\n",
       "   <td style=\"text-align:left;\"> 34.23937 secs </td>\n",
       "  </tr>\n",
       "  <tr>\n",
       "   <td style=\"text-align:right;\"> 14.3920 </td>\n",
       "   <td style=\"text-align:right;\"> 0.1315660 </td>\n",
       "   <td style=\"text-align:right;\"> 0.0953810 </td>\n",
       "   <td style=\"text-align:right;\"> 195 </td>\n",
       "   <td style=\"text-align:right;\"> 57 </td>\n",
       "   <td style=\"text-align:left;\"> 5 </td>\n",
       "   <td style=\"text-align:left;\"> NA </td>\n",
       "   <td style=\"text-align:left;\"> micro met </td>\n",
       "   <td style=\"text-align:left;\"> DK </td>\n",
       "   <td style=\"text-align:right;\"> 104 </td>\n",
       "   <td style=\"text-align:right;\"> 44.4 </td>\n",
       "   <td style=\"text-align:right;\"> 21.0 </td>\n",
       "   <td style=\"text-align:right;\"> 10.97 </td>\n",
       "   <td style=\"text-align:right;\"> 5.91 </td>\n",
       "   <td style=\"text-align:right;\"> 0.000000 </td>\n",
       "   <td style=\"text-align:right;\"> 109.390 </td>\n",
       "   <td style=\"text-align:right;\"> 30.9 </td>\n",
       "   <td style=\"text-align:right;\"> 3.1 </td>\n",
       "   <td style=\"text-align:right;\"> 7.53 </td>\n",
       "   <td style=\"text-align:left;\"> pig </td>\n",
       "   <td style=\"text-align:right;\"> 1000 </td>\n",
       "   <td style=\"text-align:left;\"> bc </td>\n",
       "   <td style=\"text-align:left;\"> none </td>\n",
       "   <td style=\"text-align:right;\"> 13.512849 </td>\n",
       "   <td style=\"text-align:left;\"> sample_1 </td>\n",
       "   <td style=\"text-align:left;\"> 34.23937 secs </td>\n",
       "  </tr>\n",
       "  <tr>\n",
       "   <td style=\"text-align:right;\"> 15.8820 </td>\n",
       "   <td style=\"text-align:right;\"> 0.1451869 </td>\n",
       "   <td style=\"text-align:right;\"> 0.0295050 </td>\n",
       "   <td style=\"text-align:right;\"> 195 </td>\n",
       "   <td style=\"text-align:right;\"> 57 </td>\n",
       "   <td style=\"text-align:left;\"> 5 </td>\n",
       "   <td style=\"text-align:left;\"> NA </td>\n",
       "   <td style=\"text-align:left;\"> micro met </td>\n",
       "   <td style=\"text-align:left;\"> DK </td>\n",
       "   <td style=\"text-align:right;\"> 104 </td>\n",
       "   <td style=\"text-align:right;\"> 94.9 </td>\n",
       "   <td style=\"text-align:right;\"> 50.5 </td>\n",
       "   <td style=\"text-align:right;\"> 12.48 </td>\n",
       "   <td style=\"text-align:right;\"> 5.52 </td>\n",
       "   <td style=\"text-align:right;\"> 0.091089 </td>\n",
       "   <td style=\"text-align:right;\"> 109.390 </td>\n",
       "   <td style=\"text-align:right;\"> 30.9 </td>\n",
       "   <td style=\"text-align:right;\"> 3.1 </td>\n",
       "   <td style=\"text-align:right;\"> 7.53 </td>\n",
       "   <td style=\"text-align:left;\"> pig </td>\n",
       "   <td style=\"text-align:right;\"> 1000 </td>\n",
       "   <td style=\"text-align:left;\"> bc </td>\n",
       "   <td style=\"text-align:left;\"> none </td>\n",
       "   <td style=\"text-align:right;\"> 15.242374 </td>\n",
       "   <td style=\"text-align:left;\"> sample_1 </td>\n",
       "   <td style=\"text-align:left;\"> 34.23937 secs </td>\n",
       "  </tr>\n",
       "  <tr>\n",
       "   <td style=\"text-align:right;\"> 18.5000 </td>\n",
       "   <td style=\"text-align:right;\"> 0.1691197 </td>\n",
       "   <td style=\"text-align:right;\"> 0.0385000 </td>\n",
       "   <td style=\"text-align:right;\"> 195 </td>\n",
       "   <td style=\"text-align:right;\"> 57 </td>\n",
       "   <td style=\"text-align:left;\"> 5 </td>\n",
       "   <td style=\"text-align:left;\"> NA </td>\n",
       "   <td style=\"text-align:left;\"> micro met </td>\n",
       "   <td style=\"text-align:left;\"> DK </td>\n",
       "   <td style=\"text-align:right;\"> 104 </td>\n",
       "   <td style=\"text-align:right;\"> 162.9 </td>\n",
       "   <td style=\"text-align:right;\"> 68.0 </td>\n",
       "   <td style=\"text-align:right;\"> 13.03 </td>\n",
       "   <td style=\"text-align:right;\"> 5.91 </td>\n",
       "   <td style=\"text-align:right;\"> 0.041176 </td>\n",
       "   <td style=\"text-align:right;\"> 109.390 </td>\n",
       "   <td style=\"text-align:right;\"> 30.9 </td>\n",
       "   <td style=\"text-align:right;\"> 3.1 </td>\n",
       "   <td style=\"text-align:right;\"> 7.53 </td>\n",
       "   <td style=\"text-align:left;\"> pig </td>\n",
       "   <td style=\"text-align:right;\"> 1000 </td>\n",
       "   <td style=\"text-align:left;\"> bc </td>\n",
       "   <td style=\"text-align:left;\"> none </td>\n",
       "   <td style=\"text-align:right;\"> 16.192814 </td>\n",
       "   <td style=\"text-align:left;\"> sample_1 </td>\n",
       "   <td style=\"text-align:left;\"> 34.23937 secs </td>\n",
       "  </tr>\n",
       "  <tr>\n",
       "   <td style=\"text-align:right;\"> 1.8680 </td>\n",
       "   <td style=\"text-align:right;\"> 0.0219985 </td>\n",
       "   <td style=\"text-align:right;\"> 0.4151111 </td>\n",
       "   <td style=\"text-align:right;\"> 196 </td>\n",
       "   <td style=\"text-align:right;\"> 58 </td>\n",
       "   <td style=\"text-align:left;\"> 6 </td>\n",
       "   <td style=\"text-align:left;\"> NA </td>\n",
       "   <td style=\"text-align:left;\"> micro met </td>\n",
       "   <td style=\"text-align:left;\"> DK </td>\n",
       "   <td style=\"text-align:right;\"> 104 </td>\n",
       "   <td style=\"text-align:right;\"> 4.5 </td>\n",
       "   <td style=\"text-align:right;\"> 4.5 </td>\n",
       "   <td style=\"text-align:right;\"> 11.82 </td>\n",
       "   <td style=\"text-align:right;\"> 7.47 </td>\n",
       "   <td style=\"text-align:right;\"> 0.000000 </td>\n",
       "   <td style=\"text-align:right;\"> 84.915 </td>\n",
       "   <td style=\"text-align:right;\"> 25.5 </td>\n",
       "   <td style=\"text-align:right;\"> 3.0 </td>\n",
       "   <td style=\"text-align:right;\"> 7.53 </td>\n",
       "   <td style=\"text-align:left;\"> pig </td>\n",
       "   <td style=\"text-align:right;\"> 1000 </td>\n",
       "   <td style=\"text-align:left;\"> bsth </td>\n",
       "   <td style=\"text-align:left;\"> none </td>\n",
       "   <td style=\"text-align:right;\"> 4.875475 </td>\n",
       "   <td style=\"text-align:left;\"> sample_1 </td>\n",
       "   <td style=\"text-align:left;\"> 34.23937 secs </td>\n",
       "  </tr>\n",
       "</tbody>\n",
       "</table>"
      ]
     },
     "metadata": {},
     "output_type": "display_data"
    }
   ],
   "source": [
    "df_res %>% head %>% embed"
   ]
  },
  {
   "cell_type": "code",
   "execution_count": 35,
   "id": "c3c9616f-6f94-4141-8ad0-8201daf9849e",
   "metadata": {},
   "outputs": [
    {
     "data": {
      "text/html": [
       "<style>\n",
       ".list-inline {list-style: none; margin:0; padding: 0}\n",
       ".list-inline>li {display: inline-block}\n",
       ".list-inline>li:not(:last-child)::after {content: \"\\00b7\"; padding: 0 .5ex}\n",
       "</style>\n",
       "<ol class=list-inline><li>9976</li><li>26</li></ol>\n"
      ],
      "text/latex": [
       "\\begin{enumerate*}\n",
       "\\item 9976\n",
       "\\item 26\n",
       "\\end{enumerate*}\n"
      ],
      "text/markdown": [
       "1. 9976\n",
       "2. 26\n",
       "\n",
       "\n"
      ],
      "text/plain": [
       "[1] 9976   26"
      ]
     },
     "metadata": {},
     "output_type": "display_data"
    }
   ],
   "source": [
    "dim (df_res)"
   ]
  },
  {
   "cell_type": "code",
   "execution_count": 36,
   "id": "c4d1ca69-49b2-42d1-8881-af40dfbc34ab",
   "metadata": {
    "scrolled": true
   },
   "outputs": [
    {
     "data": {
      "text/html": [
       "<table class=\"dataframe\">\n",
       "<caption>A data.frame: 15 × 2</caption>\n",
       "<thead>\n",
       "\t<tr><th scope=col>sample</th><th scope=col>MAE</th></tr>\n",
       "\t<tr><th scope=col>&lt;chr&gt;</th><th scope=col>&lt;dbl&gt;</th></tr>\n",
       "</thead>\n",
       "<tbody>\n",
       "\t<tr><td>sample_1 </td><td>4.866055</td></tr>\n",
       "\t<tr><td>sample_10</td><td>5.372110</td></tr>\n",
       "\t<tr><td>sample_11</td><td>5.090019</td></tr>\n",
       "\t<tr><td>sample_12</td><td>4.293751</td></tr>\n",
       "\t<tr><td>sample_13</td><td>4.419265</td></tr>\n",
       "\t<tr><td>sample_14</td><td>4.535038</td></tr>\n",
       "\t<tr><td>sample_15</td><td>4.604344</td></tr>\n",
       "\t<tr><td>sample_2 </td><td>5.053769</td></tr>\n",
       "\t<tr><td>sample_3 </td><td>7.978771</td></tr>\n",
       "\t<tr><td>sample_4 </td><td>4.323306</td></tr>\n",
       "\t<tr><td>sample_5 </td><td>5.886104</td></tr>\n",
       "\t<tr><td>sample_6 </td><td>4.773138</td></tr>\n",
       "\t<tr><td>sample_7 </td><td>5.498661</td></tr>\n",
       "\t<tr><td>sample_8 </td><td>4.949469</td></tr>\n",
       "\t<tr><td>sample_9 </td><td>4.180338</td></tr>\n",
       "</tbody>\n",
       "</table>\n"
      ],
      "text/latex": [
       "A data.frame: 15 × 2\n",
       "\\begin{tabular}{ll}\n",
       " sample & MAE\\\\\n",
       " <chr> & <dbl>\\\\\n",
       "\\hline\n",
       "\t sample\\_1  & 4.866055\\\\\n",
       "\t sample\\_10 & 5.372110\\\\\n",
       "\t sample\\_11 & 5.090019\\\\\n",
       "\t sample\\_12 & 4.293751\\\\\n",
       "\t sample\\_13 & 4.419265\\\\\n",
       "\t sample\\_14 & 4.535038\\\\\n",
       "\t sample\\_15 & 4.604344\\\\\n",
       "\t sample\\_2  & 5.053769\\\\\n",
       "\t sample\\_3  & 7.978771\\\\\n",
       "\t sample\\_4  & 4.323306\\\\\n",
       "\t sample\\_5  & 5.886104\\\\\n",
       "\t sample\\_6  & 4.773138\\\\\n",
       "\t sample\\_7  & 5.498661\\\\\n",
       "\t sample\\_8  & 4.949469\\\\\n",
       "\t sample\\_9  & 4.180338\\\\\n",
       "\\end{tabular}\n"
      ],
      "text/markdown": [
       "\n",
       "A data.frame: 15 × 2\n",
       "\n",
       "| sample &lt;chr&gt; | MAE &lt;dbl&gt; |\n",
       "|---|---|\n",
       "| sample_1  | 4.866055 |\n",
       "| sample_10 | 5.372110 |\n",
       "| sample_11 | 5.090019 |\n",
       "| sample_12 | 4.293751 |\n",
       "| sample_13 | 4.419265 |\n",
       "| sample_14 | 4.535038 |\n",
       "| sample_15 | 4.604344 |\n",
       "| sample_2  | 5.053769 |\n",
       "| sample_3  | 7.978771 |\n",
       "| sample_4  | 4.323306 |\n",
       "| sample_5  | 5.886104 |\n",
       "| sample_6  | 4.773138 |\n",
       "| sample_7  | 5.498661 |\n",
       "| sample_8  | 4.949469 |\n",
       "| sample_9  | 4.180338 |\n",
       "\n"
      ],
      "text/plain": [
       "   sample    MAE     \n",
       "1  sample_1  4.866055\n",
       "2  sample_10 5.372110\n",
       "3  sample_11 5.090019\n",
       "4  sample_12 4.293751\n",
       "5  sample_13 4.419265\n",
       "6  sample_14 4.535038\n",
       "7  sample_15 4.604344\n",
       "8  sample_2  5.053769\n",
       "9  sample_3  7.978771\n",
       "10 sample_4  4.323306\n",
       "11 sample_5  5.886104\n",
       "12 sample_6  4.773138\n",
       "13 sample_7  5.498661\n",
       "14 sample_8  4.949469\n",
       "15 sample_9  4.180338"
      ]
     },
     "metadata": {},
     "output_type": "display_data"
    }
   ],
   "source": [
    "df_res %>%\n",
    "    filter (ct == max (ct), .by = pmid) %>%\n",
    "    summarise (MAE = mean (abs (e.cum - e.cum_hat)), .by = c(sample))"
   ]
  },
  {
   "cell_type": "markdown",
   "id": "3a3612d5-3df4-4b7c-a44c-2733f4273a28",
   "metadata": {},
   "source": [
    "# Dynamic random forest - with interpolation"
   ]
  },
  {
   "cell_type": "markdown",
   "id": "89f4c9a6-deea-4e08-909e-f98723a6f892",
   "metadata": {},
   "source": [
    "Correspond to the 'dynamic rf - 2', 'dynamic rf - 4', ..., 'dynamic rf - 10' models."
   ]
  },
  {
   "cell_type": "code",
   "execution_count": 37,
   "id": "05cb4efd-0af7-4d43-9b0d-34badde537c3",
   "metadata": {},
   "outputs": [],
   "source": [
    "load (file = \"../00_data_preparation/processed_data/data_random_forest_dynamique.Rdata\")"
   ]
  },
  {
   "cell_type": "code",
   "execution_count": 38,
   "id": "71e392aa-28f1-451e-9462-c7334d61934b",
   "metadata": {},
   "outputs": [
    {
     "data": {
      "text/html": [
       "<style>\n",
       ".list-inline {list-style: none; margin:0; padding: 0}\n",
       ".list-inline>li {display: inline-block}\n",
       ".list-inline>li:not(:last-child)::after {content: \"\\00b7\"; padding: 0 .5ex}\n",
       "</style>\n",
       "<ol class=list-inline><li>2</li><li>4</li><li>6</li><li>8</li><li>10</li></ol>\n"
      ],
      "text/latex": [
       "\\begin{enumerate*}\n",
       "\\item 2\n",
       "\\item 4\n",
       "\\item 6\n",
       "\\item 8\n",
       "\\item 10\n",
       "\\end{enumerate*}\n"
      ],
      "text/markdown": [
       "1. 2\n",
       "2. 4\n",
       "3. 6\n",
       "4. 8\n",
       "5. 10\n",
       "\n",
       "\n"
      ],
      "text/plain": [
       "[1]  2  4  6  8 10"
      ]
     },
     "metadata": {},
     "output_type": "display_data"
    }
   ],
   "source": [
    "data_random_forest_dynamique$dt %>% unique"
   ]
  },
  {
   "cell_type": "markdown",
   "id": "cfb7ecb1-2155-487b-83ec-9741ae0a49c9",
   "metadata": {},
   "source": [
    "## Model selection"
   ]
  },
  {
   "cell_type": "code",
   "execution_count": 39,
   "id": "75315075-86c6-4ca5-b514-acf42da1e3d7",
   "metadata": {},
   "outputs": [],
   "source": [
    "p = 15"
   ]
  },
  {
   "cell_type": "raw",
   "id": "83e38382-5e59-4e97-8bbc-4d01589b8768",
   "metadata": {
    "scrolled": true
   },
   "source": [
    "set.seed(123)\n",
    "\n",
    "for (k in c(1 : p)){\n",
    "    \n",
    "    hyper_grid = expand.grid (\n",
    "        dt = c (2, 4, 6, 8, 10),\n",
    "        mtry = c (2, 3, 4, 5),\n",
    "        MAE = NA,\n",
    "        sample = NA,\n",
    "        running_time = NA\n",
    "    )\n",
    "\n",
    "    pmids_eval = list_eval_pmids[[k]]\n",
    "    pmids_train = list_train_pmids[[k]]\n",
    "    \n",
    "    for (j in seq_len (nrow (hyper_grid))) {    \n",
    "\n",
    "        print (paste (k, hyper_grid[j, ]))\n",
    "        flush.console()\n",
    "\n",
    "        t1 = Sys.time()\n",
    "        \n",
    "        # training -------------------------------------------------------\n",
    "        data_train = data_random_forest_dynamique %>% \n",
    "            filter (dt == hyper_grid$dt[j]) %>%\n",
    "            filter (pmid %in% pmids_train) %>%\n",
    "            select (- pmid, - country, - meas.tech, - inst, - dt) \n",
    "        \n",
    "        model_random_forest = randomForest (\n",
    "                e.cum ~ .,\n",
    "                data = data_train,\n",
    "                mtry = hyper_grid$mtry[j],\n",
    "                importance = TRUE\n",
    "        )\n",
    "        # ----------------------------------------------------------------\n",
    "        \n",
    "        # Evaluation -----------------------------------------------------\n",
    "        data_eval = data_random_forest_dynamique %>%\n",
    "            filter (dt == hyper_grid$dt[j]) %>%\n",
    "            filter (pmid %in% pmids_eval) %>%\n",
    "            select (- dt)\n",
    "\n",
    "        pmids_eval = data_eval$pmid %>% unique # getting pmids in the right order\n",
    "\n",
    "        df_predictions_random_forest = NULL\n",
    "        \n",
    "        for (i_pmid in pmids_eval){\n",
    "        \n",
    "            data_tmp = data_eval %>%\n",
    "              filter (pmid == i_pmid) %>%\n",
    "              mutate (e.cum_hat = NA, e.cum_shift = NA, .after = \"e.cum\")\n",
    "        \n",
    "            n = nrow (data_tmp)\n",
    "            prediction = 0\n",
    "        \n",
    "            for (l in c (1 : n)){\n",
    "                data_tmp$e.cum_shift[l] = prediction\n",
    "                newdata = data_tmp [l, ] %>% select (- pmid, - e.cum, - country, - meas.tech, - e.cum_hat, - inst)\n",
    "                prediction = predict (model_random_forest, newdata = newdata)\n",
    "                data_tmp$e.cum_hat [l] = prediction\n",
    "            }\n",
    "        \n",
    "            df_predictions_random_forest = rbind (df_predictions_random_forest, data_tmp)\n",
    "        }\n",
    "        \n",
    "        predictions_eval = NULL\n",
    "        \n",
    "        for (i_pmid in pmids_eval){\n",
    "            \n",
    "            data_tmp = df_predictions_random_forest %>% filter (pmid == i_pmid)\n",
    "        \n",
    "            # adding a row with e.cum = 0 at time 0, usefull for the interpolation of times < DT\n",
    "            data_tmp = rbind (\n",
    "                data_tmp [1, ] %>% mutate (e.cum_hat = 0, ct = 0), \n",
    "                data_tmp\n",
    "            )\n",
    "        \n",
    "            real_times = data %>% filter (pmid == i_pmid) %>% pull (ct)\n",
    "            interpolation = approx (data_tmp$ct, data_tmp$e.cum_hat, xout = real_times) \n",
    "            predictions_eval = c (predictions_eval, interpolation$y)\n",
    "                \n",
    "        }\n",
    "    \n",
    "        truth_eval = data %>% filter (pmid %in% pmids_eval) %>% pull (e.cum)\n",
    "    \n",
    "        hyper_grid$MAE[j] = mean (abs (predictions_eval - truth_eval))\n",
    "        hyper_grid$sample[j] = paste (\"sample_\", k, sep = \"\")\n",
    "        # ----------------------------------------------------------------\n",
    "        \n",
    "        t2 = Sys.time()\n",
    "        running_time = difftime (t2, t1, units = \"min\")\n",
    "        print (running_time)\n",
    "        hyper_grid$running_time[j] = running_time\n",
    "        \n",
    "    }\n",
    "\n",
    "    save (hyper_grid, file = paste (\"results/dynamique/hyper_grid_sample_\", k, \".Rdata\", sep = \"\"))\n",
    "\n",
    "}"
   ]
  },
  {
   "cell_type": "code",
   "execution_count": 40,
   "id": "c8654110-e7ac-43c7-93aa-9a9363a3add7",
   "metadata": {},
   "outputs": [],
   "source": [
    "files <- dir(\"results/dynamique\", pattern = \"hyper_grid_sample\", full.names = TRUE)\n",
    "\n",
    "df_model_selection <- do.call(rbind, lapply(files, function(x) get(load(x))))"
   ]
  },
  {
   "cell_type": "code",
   "execution_count": 41,
   "id": "e5b7664c-0a7b-41e2-81b1-d72aaf7184fe",
   "metadata": {},
   "outputs": [
    {
     "data": {
      "text/html": [
       "<table class=\"dataframe\">\n",
       "<caption>A data.frame: 6 × 5</caption>\n",
       "<thead>\n",
       "\t<tr><th></th><th scope=col>dt</th><th scope=col>mtry</th><th scope=col>MAE</th><th scope=col>sample</th><th scope=col>running_time</th></tr>\n",
       "\t<tr><th></th><th scope=col>&lt;dbl&gt;</th><th scope=col>&lt;dbl&gt;</th><th scope=col>&lt;dbl&gt;</th><th scope=col>&lt;chr&gt;</th><th scope=col>&lt;dbl&gt;</th></tr>\n",
       "</thead>\n",
       "<tbody>\n",
       "\t<tr><th scope=row>1</th><td> 2</td><td>2</td><td>3.779592</td><td>sample_1</td><td> 8.3633458</td></tr>\n",
       "\t<tr><th scope=row>2</th><td> 4</td><td>2</td><td>3.918029</td><td>sample_1</td><td> 2.2823580</td></tr>\n",
       "\t<tr><th scope=row>3</th><td> 6</td><td>2</td><td>4.031638</td><td>sample_1</td><td> 1.1879850</td></tr>\n",
       "\t<tr><th scope=row>4</th><td> 8</td><td>2</td><td>4.157930</td><td>sample_1</td><td> 0.7247113</td></tr>\n",
       "\t<tr><th scope=row>5</th><td>10</td><td>2</td><td>4.280870</td><td>sample_1</td><td> 0.5201960</td></tr>\n",
       "\t<tr><th scope=row>6</th><td> 2</td><td>3</td><td>3.650313</td><td>sample_1</td><td>15.6346413</td></tr>\n",
       "</tbody>\n",
       "</table>\n"
      ],
      "text/latex": [
       "A data.frame: 6 × 5\n",
       "\\begin{tabular}{r|lllll}\n",
       "  & dt & mtry & MAE & sample & running\\_time\\\\\n",
       "  & <dbl> & <dbl> & <dbl> & <chr> & <dbl>\\\\\n",
       "\\hline\n",
       "\t1 &  2 & 2 & 3.779592 & sample\\_1 &  8.3633458\\\\\n",
       "\t2 &  4 & 2 & 3.918029 & sample\\_1 &  2.2823580\\\\\n",
       "\t3 &  6 & 2 & 4.031638 & sample\\_1 &  1.1879850\\\\\n",
       "\t4 &  8 & 2 & 4.157930 & sample\\_1 &  0.7247113\\\\\n",
       "\t5 & 10 & 2 & 4.280870 & sample\\_1 &  0.5201960\\\\\n",
       "\t6 &  2 & 3 & 3.650313 & sample\\_1 & 15.6346413\\\\\n",
       "\\end{tabular}\n"
      ],
      "text/markdown": [
       "\n",
       "A data.frame: 6 × 5\n",
       "\n",
       "| <!--/--> | dt &lt;dbl&gt; | mtry &lt;dbl&gt; | MAE &lt;dbl&gt; | sample &lt;chr&gt; | running_time &lt;dbl&gt; |\n",
       "|---|---|---|---|---|---|\n",
       "| 1 |  2 | 2 | 3.779592 | sample_1 |  8.3633458 |\n",
       "| 2 |  4 | 2 | 3.918029 | sample_1 |  2.2823580 |\n",
       "| 3 |  6 | 2 | 4.031638 | sample_1 |  1.1879850 |\n",
       "| 4 |  8 | 2 | 4.157930 | sample_1 |  0.7247113 |\n",
       "| 5 | 10 | 2 | 4.280870 | sample_1 |  0.5201960 |\n",
       "| 6 |  2 | 3 | 3.650313 | sample_1 | 15.6346413 |\n",
       "\n"
      ],
      "text/plain": [
       "  dt mtry MAE      sample   running_time\n",
       "1  2 2    3.779592 sample_1  8.3633458  \n",
       "2  4 2    3.918029 sample_1  2.2823580  \n",
       "3  6 2    4.031638 sample_1  1.1879850  \n",
       "4  8 2    4.157930 sample_1  0.7247113  \n",
       "5 10 2    4.280870 sample_1  0.5201960  \n",
       "6  2 3    3.650313 sample_1 15.6346413  "
      ]
     },
     "metadata": {},
     "output_type": "display_data"
    }
   ],
   "source": [
    "df_model_selection %>% head"
   ]
  },
  {
   "cell_type": "code",
   "execution_count": 42,
   "id": "3808da5f-1cfe-4431-851f-e1bf4e00253b",
   "metadata": {},
   "outputs": [
    {
     "data": {
      "text/html": [
       "<style>\n",
       ".list-inline {list-style: none; margin:0; padding: 0}\n",
       ".list-inline>li {display: inline-block}\n",
       ".list-inline>li:not(:last-child)::after {content: \"\\00b7\"; padding: 0 .5ex}\n",
       "</style>\n",
       "<ol class=list-inline><li>300</li><li>5</li></ol>\n"
      ],
      "text/latex": [
       "\\begin{enumerate*}\n",
       "\\item 300\n",
       "\\item 5\n",
       "\\end{enumerate*}\n"
      ],
      "text/markdown": [
       "1. 300\n",
       "2. 5\n",
       "\n",
       "\n"
      ],
      "text/plain": [
       "[1] 300   5"
      ]
     },
     "metadata": {},
     "output_type": "display_data"
    }
   ],
   "source": [
    "dim (df_model_selection)"
   ]
  },
  {
   "cell_type": "code",
   "execution_count": 43,
   "id": "66cdc65a-02e3-44d1-bed1-23ce0e183b25",
   "metadata": {},
   "outputs": [
    {
     "data": {
      "text/html": [
       "24.4391338282824"
      ],
      "text/latex": [
       "24.4391338282824"
      ],
      "text/markdown": [
       "24.4391338282824"
      ],
      "text/plain": [
       "[1] 24.43913"
      ]
     },
     "metadata": {},
     "output_type": "display_data"
    }
   ],
   "source": [
    "(df_model_selection$running_time %>% sum) / 60"
   ]
  },
  {
   "cell_type": "code",
   "execution_count": 44,
   "id": "c5ef09a9-9676-4a28-8e97-793a0347fecc",
   "metadata": {
    "scrolled": true
   },
   "outputs": [
    {
     "data": {
      "text/html": [
       "<table class=\"dataframe\">\n",
       "<caption>A data.frame: 20 × 3</caption>\n",
       "<thead>\n",
       "\t<tr><th scope=col>dt</th><th scope=col>mtry</th><th scope=col>mean_MAE</th></tr>\n",
       "\t<tr><th scope=col>&lt;dbl&gt;</th><th scope=col>&lt;dbl&gt;</th><th scope=col>&lt;dbl&gt;</th></tr>\n",
       "</thead>\n",
       "<tbody>\n",
       "\t<tr><td> 2</td><td>3</td><td>3.832095</td></tr>\n",
       "\t<tr><td> 2</td><td>4</td><td>3.832280</td></tr>\n",
       "\t<tr><td> 4</td><td>3</td><td>3.869129</td></tr>\n",
       "\t<tr><td> 2</td><td>5</td><td>3.890578</td></tr>\n",
       "\t<tr><td> 4</td><td>4</td><td>3.903399</td></tr>\n",
       "\t<tr><td> 6</td><td>4</td><td>3.971552</td></tr>\n",
       "\t<tr><td> 4</td><td>5</td><td>3.976973</td></tr>\n",
       "\t<tr><td> 6</td><td>3</td><td>3.979565</td></tr>\n",
       "\t<tr><td> 6</td><td>5</td><td>3.983890</td></tr>\n",
       "\t<tr><td> 2</td><td>2</td><td>4.010021</td></tr>\n",
       "\t<tr><td> 4</td><td>2</td><td>4.016537</td></tr>\n",
       "\t<tr><td> 6</td><td>2</td><td>4.084629</td></tr>\n",
       "\t<tr><td> 8</td><td>4</td><td>4.084695</td></tr>\n",
       "\t<tr><td> 8</td><td>3</td><td>4.089557</td></tr>\n",
       "\t<tr><td> 8</td><td>5</td><td>4.143611</td></tr>\n",
       "\t<tr><td> 8</td><td>2</td><td>4.183711</td></tr>\n",
       "\t<tr><td>10</td><td>4</td><td>4.198148</td></tr>\n",
       "\t<tr><td>10</td><td>3</td><td>4.202918</td></tr>\n",
       "\t<tr><td>10</td><td>5</td><td>4.235301</td></tr>\n",
       "\t<tr><td>10</td><td>2</td><td>4.328070</td></tr>\n",
       "</tbody>\n",
       "</table>\n"
      ],
      "text/latex": [
       "A data.frame: 20 × 3\n",
       "\\begin{tabular}{lll}\n",
       " dt & mtry & mean\\_MAE\\\\\n",
       " <dbl> & <dbl> & <dbl>\\\\\n",
       "\\hline\n",
       "\t  2 & 3 & 3.832095\\\\\n",
       "\t  2 & 4 & 3.832280\\\\\n",
       "\t  4 & 3 & 3.869129\\\\\n",
       "\t  2 & 5 & 3.890578\\\\\n",
       "\t  4 & 4 & 3.903399\\\\\n",
       "\t  6 & 4 & 3.971552\\\\\n",
       "\t  4 & 5 & 3.976973\\\\\n",
       "\t  6 & 3 & 3.979565\\\\\n",
       "\t  6 & 5 & 3.983890\\\\\n",
       "\t  2 & 2 & 4.010021\\\\\n",
       "\t  4 & 2 & 4.016537\\\\\n",
       "\t  6 & 2 & 4.084629\\\\\n",
       "\t  8 & 4 & 4.084695\\\\\n",
       "\t  8 & 3 & 4.089557\\\\\n",
       "\t  8 & 5 & 4.143611\\\\\n",
       "\t  8 & 2 & 4.183711\\\\\n",
       "\t 10 & 4 & 4.198148\\\\\n",
       "\t 10 & 3 & 4.202918\\\\\n",
       "\t 10 & 5 & 4.235301\\\\\n",
       "\t 10 & 2 & 4.328070\\\\\n",
       "\\end{tabular}\n"
      ],
      "text/markdown": [
       "\n",
       "A data.frame: 20 × 3\n",
       "\n",
       "| dt &lt;dbl&gt; | mtry &lt;dbl&gt; | mean_MAE &lt;dbl&gt; |\n",
       "|---|---|---|\n",
       "|  2 | 3 | 3.832095 |\n",
       "|  2 | 4 | 3.832280 |\n",
       "|  4 | 3 | 3.869129 |\n",
       "|  2 | 5 | 3.890578 |\n",
       "|  4 | 4 | 3.903399 |\n",
       "|  6 | 4 | 3.971552 |\n",
       "|  4 | 5 | 3.976973 |\n",
       "|  6 | 3 | 3.979565 |\n",
       "|  6 | 5 | 3.983890 |\n",
       "|  2 | 2 | 4.010021 |\n",
       "|  4 | 2 | 4.016537 |\n",
       "|  6 | 2 | 4.084629 |\n",
       "|  8 | 4 | 4.084695 |\n",
       "|  8 | 3 | 4.089557 |\n",
       "|  8 | 5 | 4.143611 |\n",
       "|  8 | 2 | 4.183711 |\n",
       "| 10 | 4 | 4.198148 |\n",
       "| 10 | 3 | 4.202918 |\n",
       "| 10 | 5 | 4.235301 |\n",
       "| 10 | 2 | 4.328070 |\n",
       "\n"
      ],
      "text/plain": [
       "   dt mtry mean_MAE\n",
       "1   2 3    3.832095\n",
       "2   2 4    3.832280\n",
       "3   4 3    3.869129\n",
       "4   2 5    3.890578\n",
       "5   4 4    3.903399\n",
       "6   6 4    3.971552\n",
       "7   4 5    3.976973\n",
       "8   6 3    3.979565\n",
       "9   6 5    3.983890\n",
       "10  2 2    4.010021\n",
       "11  4 2    4.016537\n",
       "12  6 2    4.084629\n",
       "13  8 4    4.084695\n",
       "14  8 3    4.089557\n",
       "15  8 5    4.143611\n",
       "16  8 2    4.183711\n",
       "17 10 4    4.198148\n",
       "18 10 3    4.202918\n",
       "19 10 5    4.235301\n",
       "20 10 2    4.328070"
      ]
     },
     "metadata": {},
     "output_type": "display_data"
    }
   ],
   "source": [
    "df_model_selection %>% \n",
    "    summarise (mean_MAE = mean (MAE), .by = c (dt, mtry)) %>%\n",
    "    arrange (mean_MAE)"
   ]
  },
  {
   "cell_type": "code",
   "execution_count": 45,
   "id": "db23ad0e-26f2-408f-9d4f-246783695a37",
   "metadata": {},
   "outputs": [
    {
     "data": {
      "text/html": [
       "<table class=\"dataframe\">\n",
       "<caption>A data.frame: 5 × 3</caption>\n",
       "<thead>\n",
       "\t<tr><th scope=col>dt</th><th scope=col>mtry</th><th scope=col>mean_MAE</th></tr>\n",
       "\t<tr><th scope=col>&lt;dbl&gt;</th><th scope=col>&lt;dbl&gt;</th><th scope=col>&lt;dbl&gt;</th></tr>\n",
       "</thead>\n",
       "<tbody>\n",
       "\t<tr><td> 2</td><td>3</td><td>3.832095</td></tr>\n",
       "\t<tr><td> 4</td><td>3</td><td>3.869129</td></tr>\n",
       "\t<tr><td> 6</td><td>4</td><td>3.971552</td></tr>\n",
       "\t<tr><td> 8</td><td>4</td><td>4.084695</td></tr>\n",
       "\t<tr><td>10</td><td>4</td><td>4.198148</td></tr>\n",
       "</tbody>\n",
       "</table>\n"
      ],
      "text/latex": [
       "A data.frame: 5 × 3\n",
       "\\begin{tabular}{lll}\n",
       " dt & mtry & mean\\_MAE\\\\\n",
       " <dbl> & <dbl> & <dbl>\\\\\n",
       "\\hline\n",
       "\t  2 & 3 & 3.832095\\\\\n",
       "\t  4 & 3 & 3.869129\\\\\n",
       "\t  6 & 4 & 3.971552\\\\\n",
       "\t  8 & 4 & 4.084695\\\\\n",
       "\t 10 & 4 & 4.198148\\\\\n",
       "\\end{tabular}\n"
      ],
      "text/markdown": [
       "\n",
       "A data.frame: 5 × 3\n",
       "\n",
       "| dt &lt;dbl&gt; | mtry &lt;dbl&gt; | mean_MAE &lt;dbl&gt; |\n",
       "|---|---|---|\n",
       "|  2 | 3 | 3.832095 |\n",
       "|  4 | 3 | 3.869129 |\n",
       "|  6 | 4 | 3.971552 |\n",
       "|  8 | 4 | 4.084695 |\n",
       "| 10 | 4 | 4.198148 |\n",
       "\n"
      ],
      "text/plain": [
       "  dt mtry mean_MAE\n",
       "1  2 3    3.832095\n",
       "2  4 3    3.869129\n",
       "3  6 4    3.971552\n",
       "4  8 4    4.084695\n",
       "5 10 4    4.198148"
      ]
     },
     "metadata": {},
     "output_type": "display_data"
    }
   ],
   "source": [
    "df_selected_mtries = df_model_selection %>% \n",
    "    summarise (mean_MAE = mean (MAE), .by = c (dt, mtry)) %>%\n",
    "    filter (mean_MAE == min (mean_MAE), .by = dt) %>%\n",
    "    arrange (dt)\n",
    "\n",
    "df_selected_mtries"
   ]
  },
  {
   "cell_type": "markdown",
   "id": "31c849d2-ee3a-4631-a5d2-061f71f61ded",
   "metadata": {},
   "source": [
    "## Test"
   ]
  },
  {
   "cell_type": "raw",
   "id": "751dfc31-65cd-4874-b044-96ef8c268ba0",
   "metadata": {
    "scrolled": true
   },
   "source": [
    "set.seed(123)\n",
    "\n",
    "for (k in c(1 : p)){\n",
    "\n",
    "    df_res = NULL\n",
    "       \n",
    "    pmids_test = list_test_pmids[[k]]\n",
    "    pmids_train = setdiff (pmids, pmids_test)\n",
    "    \n",
    "    for (h in seq_len (nrow (df_selected_mtries))){\n",
    "\n",
    "        delta_t = df_selected_mtries$dt[h]\n",
    "        mtry_star = df_selected_mtries$mtry[h]\n",
    "    \n",
    "        print (paste (k, delta_t))\n",
    "        flush.console()\n",
    "        \n",
    "        t1 = Sys.time()\n",
    "    \n",
    "        data_train = data_random_forest_dynamique %>% \n",
    "            filter (dt == delta_t) %>%\n",
    "            filter (pmid %in% pmids_train) %>%\n",
    "            select (- pmid, - country, - meas.tech, - inst, - dt) \n",
    "        \n",
    "        data_test = data_random_forest_dynamique %>%\n",
    "            filter (dt == delta_t) %>%\n",
    "            filter (pmid %in% pmids_test) %>%\n",
    "            select (- dt)\n",
    "    \n",
    "        pmids_test = data_test$pmid %>% unique # getting pmids in the right order for future testing\n",
    "\n",
    "        data_predictions = data %>% filter (pmid %in% pmids_test)\n",
    "        \n",
    "        # training -------------------------------------------------------\n",
    "        model_random_forest = randomForest (\n",
    "                e.cum ~ .,\n",
    "                data = data_train,\n",
    "                mtry = mtry_star,\n",
    "                importance = TRUE\n",
    "        )\n",
    "        # ----------------------------------------------------------------\n",
    "        \n",
    "        # Test -----------------------------------------------------------\n",
    "        \n",
    "        # 1 - prediction using the model on 0, dt, 2dt, ...\n",
    "        df_predictions_random_forest = NULL\n",
    "        \n",
    "        for (i_pmid in pmids_test){\n",
    "        \n",
    "            data_tmp = data_test %>%\n",
    "              filter (pmid == i_pmid) %>%\n",
    "              mutate (e.cum_hat = NA, e.cum_shift = NA, .after = \"e.cum\")\n",
    "        \n",
    "            n = nrow (data_tmp)\n",
    "            prediction = 0\n",
    "        \n",
    "            for (l in c (1 : n)){\n",
    "                data_tmp$e.cum_shift[l] = prediction\n",
    "                newdata = data_tmp [l, ] %>% select (- pmid, - e.cum, - country, - meas.tech, - e.cum_hat, - inst)\n",
    "                prediction = predict (model_random_forest, newdata = newdata)\n",
    "                data_tmp$e.cum_hat [l] = prediction\n",
    "            }\n",
    "        \n",
    "            df_predictions_random_forest = rbind (df_predictions_random_forest, data_tmp)\n",
    "        }\n",
    "\n",
    "        # 2 - interpolation at observed times\n",
    "        predictions_test = NULL\n",
    "        \n",
    "        for (i_pmid in pmids_test){\n",
    "            \n",
    "            data_tmp = df_predictions_random_forest %>% filter (pmid == i_pmid)\n",
    "        \n",
    "            # adding a row with e.cum = 0 at time 0, usefull for the interpolation of times < delta_t\n",
    "            data_tmp = rbind (\n",
    "                data_tmp [1, ] %>% mutate (e.cum_hat = 0, ct = 0), \n",
    "                data_tmp\n",
    "            )\n",
    "        \n",
    "            real_times = data_predictions %>% filter (pmid == i_pmid) %>% pull (ct)\n",
    "            interpolation = approx (data_tmp$ct, data_tmp$e.cum_hat, xout = real_times) \n",
    "            predictions_test = c (predictions_test, interpolation$y)\n",
    "                \n",
    "        }\n",
    "    \n",
    "        data_predictions = data_predictions %>% mutate (e.cum_hat = predictions_test, sample = paste (\"sample_\", k, sep =\"\"), dt = delta_t)\n",
    "        # ----------------------------------------------------------------\n",
    "        \n",
    "        t2 = Sys.time()\n",
    "        data_predictions = data_predictions %>% mutate (running_time = difftime (t2, t1))\n",
    "        \n",
    "        df_res = rbind (df_res, data_predictions)\n",
    "    }\n",
    "\n",
    "    save (df_res, file = paste (\"results/dynamique/df_res_sample_\", k, \".Rdata\", sep = \"\"))\n",
    "\n",
    "}"
   ]
  },
  {
   "cell_type": "code",
   "execution_count": 46,
   "id": "de3af337-c685-4fa3-9a29-a68b11bad661",
   "metadata": {},
   "outputs": [],
   "source": [
    "files <- dir(\"results/dynamique\", pattern = \"df_res_sample_\", full.names = TRUE)\n",
    "\n",
    "df_res <- do.call(rbind, lapply(files, function(x) get(load(x))))"
   ]
  },
  {
   "cell_type": "code",
   "execution_count": 47,
   "id": "a5d2d77c-55e9-4bbb-8d81-61ae13ea82bc",
   "metadata": {},
   "outputs": [
    {
     "data": {
      "text/html": [
       "<table class=\"table\" style=\"margin-left: auto; margin-right: auto;\">\n",
       " <thead>\n",
       "  <tr>\n",
       "   <th style=\"text-align:right;\"> e.cum </th>\n",
       "   <th style=\"text-align:right;\"> e.rel </th>\n",
       "   <th style=\"text-align:right;\"> j.NH3 </th>\n",
       "   <th style=\"text-align:right;\"> pmid </th>\n",
       "   <th style=\"text-align:left;\"> meas.tech </th>\n",
       "   <th style=\"text-align:left;\"> country </th>\n",
       "   <th style=\"text-align:right;\"> inst </th>\n",
       "   <th style=\"text-align:right;\"> ct </th>\n",
       "   <th style=\"text-align:right;\"> dt </th>\n",
       "   <th style=\"text-align:right;\"> air.temp </th>\n",
       "   <th style=\"text-align:right;\"> wind.2m </th>\n",
       "   <th style=\"text-align:right;\"> rain.rate </th>\n",
       "   <th style=\"text-align:right;\"> tan.app </th>\n",
       "   <th style=\"text-align:right;\"> app.rate </th>\n",
       "   <th style=\"text-align:right;\"> man.dm </th>\n",
       "   <th style=\"text-align:right;\"> man.ph </th>\n",
       "   <th style=\"text-align:left;\"> man.source </th>\n",
       "   <th style=\"text-align:right;\"> t.incorp </th>\n",
       "   <th style=\"text-align:left;\"> app.mthd </th>\n",
       "   <th style=\"text-align:left;\"> incorp </th>\n",
       "   <th style=\"text-align:right;\"> e.cum_hat </th>\n",
       "   <th style=\"text-align:left;\"> sample </th>\n",
       "   <th style=\"text-align:left;\"> running_time </th>\n",
       "  </tr>\n",
       " </thead>\n",
       "<tbody>\n",
       "  <tr>\n",
       "   <td style=\"text-align:right;\"> 8.6395 </td>\n",
       "   <td style=\"text-align:right;\"> 0.0789789 </td>\n",
       "   <td style=\"text-align:right;\"> 1.8381915 </td>\n",
       "   <td style=\"text-align:right;\"> 195 </td>\n",
       "   <td style=\"text-align:left;\"> micro met </td>\n",
       "   <td style=\"text-align:left;\"> DK </td>\n",
       "   <td style=\"text-align:right;\"> 104 </td>\n",
       "   <td style=\"text-align:right;\"> 4.7 </td>\n",
       "   <td style=\"text-align:right;\"> 2 </td>\n",
       "   <td style=\"text-align:right;\"> 11.82 </td>\n",
       "   <td style=\"text-align:right;\"> 7.47 </td>\n",
       "   <td style=\"text-align:right;\"> 0.000000 </td>\n",
       "   <td style=\"text-align:right;\"> 109.390 </td>\n",
       "   <td style=\"text-align:right;\"> 30.9 </td>\n",
       "   <td style=\"text-align:right;\"> 3.1 </td>\n",
       "   <td style=\"text-align:right;\"> 7.53 </td>\n",
       "   <td style=\"text-align:left;\"> pig </td>\n",
       "   <td style=\"text-align:right;\"> 1000 </td>\n",
       "   <td style=\"text-align:left;\"> bc </td>\n",
       "   <td style=\"text-align:left;\"> none </td>\n",
       "   <td style=\"text-align:right;\"> 8.021116 </td>\n",
       "   <td style=\"text-align:left;\"> sample_1 </td>\n",
       "   <td style=\"text-align:left;\"> 19.19374 mins </td>\n",
       "  </tr>\n",
       "  <tr>\n",
       "   <td style=\"text-align:right;\"> 12.3890 </td>\n",
       "   <td style=\"text-align:right;\"> 0.1132553 </td>\n",
       "   <td style=\"text-align:right;\"> 0.2005080 </td>\n",
       "   <td style=\"text-align:right;\"> 195 </td>\n",
       "   <td style=\"text-align:left;\"> micro met </td>\n",
       "   <td style=\"text-align:left;\"> DK </td>\n",
       "   <td style=\"text-align:right;\"> 104 </td>\n",
       "   <td style=\"text-align:right;\"> 23.4 </td>\n",
       "   <td style=\"text-align:right;\"> 2 </td>\n",
       "   <td style=\"text-align:right;\"> 8.68 </td>\n",
       "   <td style=\"text-align:right;\"> 6.75 </td>\n",
       "   <td style=\"text-align:right;\"> 0.000000 </td>\n",
       "   <td style=\"text-align:right;\"> 109.390 </td>\n",
       "   <td style=\"text-align:right;\"> 30.9 </td>\n",
       "   <td style=\"text-align:right;\"> 3.1 </td>\n",
       "   <td style=\"text-align:right;\"> 7.53 </td>\n",
       "   <td style=\"text-align:left;\"> pig </td>\n",
       "   <td style=\"text-align:right;\"> 1000 </td>\n",
       "   <td style=\"text-align:left;\"> bc </td>\n",
       "   <td style=\"text-align:left;\"> none </td>\n",
       "   <td style=\"text-align:right;\"> 10.255831 </td>\n",
       "   <td style=\"text-align:left;\"> sample_1 </td>\n",
       "   <td style=\"text-align:left;\"> 19.19374 mins </td>\n",
       "  </tr>\n",
       "  <tr>\n",
       "   <td style=\"text-align:right;\"> 14.3920 </td>\n",
       "   <td style=\"text-align:right;\"> 0.1315660 </td>\n",
       "   <td style=\"text-align:right;\"> 0.0953810 </td>\n",
       "   <td style=\"text-align:right;\"> 195 </td>\n",
       "   <td style=\"text-align:left;\"> micro met </td>\n",
       "   <td style=\"text-align:left;\"> DK </td>\n",
       "   <td style=\"text-align:right;\"> 104 </td>\n",
       "   <td style=\"text-align:right;\"> 44.4 </td>\n",
       "   <td style=\"text-align:right;\"> 2 </td>\n",
       "   <td style=\"text-align:right;\"> 10.97 </td>\n",
       "   <td style=\"text-align:right;\"> 5.91 </td>\n",
       "   <td style=\"text-align:right;\"> 0.000000 </td>\n",
       "   <td style=\"text-align:right;\"> 109.390 </td>\n",
       "   <td style=\"text-align:right;\"> 30.9 </td>\n",
       "   <td style=\"text-align:right;\"> 3.1 </td>\n",
       "   <td style=\"text-align:right;\"> 7.53 </td>\n",
       "   <td style=\"text-align:left;\"> pig </td>\n",
       "   <td style=\"text-align:right;\"> 1000 </td>\n",
       "   <td style=\"text-align:left;\"> bc </td>\n",
       "   <td style=\"text-align:left;\"> none </td>\n",
       "   <td style=\"text-align:right;\"> 11.024691 </td>\n",
       "   <td style=\"text-align:left;\"> sample_1 </td>\n",
       "   <td style=\"text-align:left;\"> 19.19374 mins </td>\n",
       "  </tr>\n",
       "  <tr>\n",
       "   <td style=\"text-align:right;\"> 15.8820 </td>\n",
       "   <td style=\"text-align:right;\"> 0.1451869 </td>\n",
       "   <td style=\"text-align:right;\"> 0.0295050 </td>\n",
       "   <td style=\"text-align:right;\"> 195 </td>\n",
       "   <td style=\"text-align:left;\"> micro met </td>\n",
       "   <td style=\"text-align:left;\"> DK </td>\n",
       "   <td style=\"text-align:right;\"> 104 </td>\n",
       "   <td style=\"text-align:right;\"> 94.9 </td>\n",
       "   <td style=\"text-align:right;\"> 2 </td>\n",
       "   <td style=\"text-align:right;\"> 12.48 </td>\n",
       "   <td style=\"text-align:right;\"> 5.52 </td>\n",
       "   <td style=\"text-align:right;\"> 0.091089 </td>\n",
       "   <td style=\"text-align:right;\"> 109.390 </td>\n",
       "   <td style=\"text-align:right;\"> 30.9 </td>\n",
       "   <td style=\"text-align:right;\"> 3.1 </td>\n",
       "   <td style=\"text-align:right;\"> 7.53 </td>\n",
       "   <td style=\"text-align:left;\"> pig </td>\n",
       "   <td style=\"text-align:right;\"> 1000 </td>\n",
       "   <td style=\"text-align:left;\"> bc </td>\n",
       "   <td style=\"text-align:left;\"> none </td>\n",
       "   <td style=\"text-align:right;\"> 13.060144 </td>\n",
       "   <td style=\"text-align:left;\"> sample_1 </td>\n",
       "   <td style=\"text-align:left;\"> 19.19374 mins </td>\n",
       "  </tr>\n",
       "  <tr>\n",
       "   <td style=\"text-align:right;\"> 18.5000 </td>\n",
       "   <td style=\"text-align:right;\"> 0.1691197 </td>\n",
       "   <td style=\"text-align:right;\"> 0.0385000 </td>\n",
       "   <td style=\"text-align:right;\"> 195 </td>\n",
       "   <td style=\"text-align:left;\"> micro met </td>\n",
       "   <td style=\"text-align:left;\"> DK </td>\n",
       "   <td style=\"text-align:right;\"> 104 </td>\n",
       "   <td style=\"text-align:right;\"> 162.9 </td>\n",
       "   <td style=\"text-align:right;\"> 2 </td>\n",
       "   <td style=\"text-align:right;\"> 13.03 </td>\n",
       "   <td style=\"text-align:right;\"> 5.91 </td>\n",
       "   <td style=\"text-align:right;\"> 0.041176 </td>\n",
       "   <td style=\"text-align:right;\"> 109.390 </td>\n",
       "   <td style=\"text-align:right;\"> 30.9 </td>\n",
       "   <td style=\"text-align:right;\"> 3.1 </td>\n",
       "   <td style=\"text-align:right;\"> 7.53 </td>\n",
       "   <td style=\"text-align:left;\"> pig </td>\n",
       "   <td style=\"text-align:right;\"> 1000 </td>\n",
       "   <td style=\"text-align:left;\"> bc </td>\n",
       "   <td style=\"text-align:left;\"> none </td>\n",
       "   <td style=\"text-align:right;\"> 12.720450 </td>\n",
       "   <td style=\"text-align:left;\"> sample_1 </td>\n",
       "   <td style=\"text-align:left;\"> 19.19374 mins </td>\n",
       "  </tr>\n",
       "  <tr>\n",
       "   <td style=\"text-align:right;\"> 1.8680 </td>\n",
       "   <td style=\"text-align:right;\"> 0.0219985 </td>\n",
       "   <td style=\"text-align:right;\"> 0.4151111 </td>\n",
       "   <td style=\"text-align:right;\"> 196 </td>\n",
       "   <td style=\"text-align:left;\"> micro met </td>\n",
       "   <td style=\"text-align:left;\"> DK </td>\n",
       "   <td style=\"text-align:right;\"> 104 </td>\n",
       "   <td style=\"text-align:right;\"> 4.5 </td>\n",
       "   <td style=\"text-align:right;\"> 2 </td>\n",
       "   <td style=\"text-align:right;\"> 11.82 </td>\n",
       "   <td style=\"text-align:right;\"> 7.47 </td>\n",
       "   <td style=\"text-align:right;\"> 0.000000 </td>\n",
       "   <td style=\"text-align:right;\"> 84.915 </td>\n",
       "   <td style=\"text-align:right;\"> 25.5 </td>\n",
       "   <td style=\"text-align:right;\"> 3.0 </td>\n",
       "   <td style=\"text-align:right;\"> 7.53 </td>\n",
       "   <td style=\"text-align:left;\"> pig </td>\n",
       "   <td style=\"text-align:right;\"> 1000 </td>\n",
       "   <td style=\"text-align:left;\"> bsth </td>\n",
       "   <td style=\"text-align:left;\"> none </td>\n",
       "   <td style=\"text-align:right;\"> 4.946816 </td>\n",
       "   <td style=\"text-align:left;\"> sample_1 </td>\n",
       "   <td style=\"text-align:left;\"> 19.19374 mins </td>\n",
       "  </tr>\n",
       "</tbody>\n",
       "</table>"
      ]
     },
     "metadata": {},
     "output_type": "display_data"
    }
   ],
   "source": [
    "df_res %>% head %>% embed"
   ]
  },
  {
   "cell_type": "code",
   "execution_count": 48,
   "id": "aacb09d7-59e5-4a39-82f5-15efe5b743d6",
   "metadata": {
    "scrolled": true
   },
   "outputs": [
    {
     "data": {
      "text/html": [
       "<table class=\"dataframe\">\n",
       "<caption>A data.frame: 75 × 3</caption>\n",
       "<thead>\n",
       "\t<tr><th scope=col>sample</th><th scope=col>dt</th><th scope=col>MAE</th></tr>\n",
       "\t<tr><th scope=col>&lt;chr&gt;</th><th scope=col>&lt;dbl&gt;</th><th scope=col>&lt;dbl&gt;</th></tr>\n",
       "</thead>\n",
       "<tbody>\n",
       "\t<tr><td>sample_1 </td><td> 2</td><td>4.703754</td></tr>\n",
       "\t<tr><td>sample_1 </td><td> 4</td><td>4.559520</td></tr>\n",
       "\t<tr><td>sample_1 </td><td> 6</td><td>4.711032</td></tr>\n",
       "\t<tr><td>sample_1 </td><td> 8</td><td>4.623202</td></tr>\n",
       "\t<tr><td>sample_1 </td><td>10</td><td>4.598212</td></tr>\n",
       "\t<tr><td>sample_10</td><td> 2</td><td>5.271787</td></tr>\n",
       "\t<tr><td>sample_10</td><td> 4</td><td>5.483990</td></tr>\n",
       "\t<tr><td>sample_10</td><td> 6</td><td>5.102317</td></tr>\n",
       "\t<tr><td>sample_10</td><td> 8</td><td>5.207670</td></tr>\n",
       "\t<tr><td>sample_10</td><td>10</td><td>5.055971</td></tr>\n",
       "\t<tr><td>sample_11</td><td> 2</td><td>4.864609</td></tr>\n",
       "\t<tr><td>sample_11</td><td> 4</td><td>4.908960</td></tr>\n",
       "\t<tr><td>sample_11</td><td> 6</td><td>5.120819</td></tr>\n",
       "\t<tr><td>sample_11</td><td> 8</td><td>5.079858</td></tr>\n",
       "\t<tr><td>sample_11</td><td>10</td><td>4.818716</td></tr>\n",
       "\t<tr><td>sample_12</td><td> 2</td><td>4.014181</td></tr>\n",
       "\t<tr><td>sample_12</td><td> 4</td><td>3.924131</td></tr>\n",
       "\t<tr><td>sample_12</td><td> 6</td><td>3.851457</td></tr>\n",
       "\t<tr><td>sample_12</td><td> 8</td><td>3.943116</td></tr>\n",
       "\t<tr><td>sample_12</td><td>10</td><td>3.942892</td></tr>\n",
       "\t<tr><td>sample_13</td><td> 2</td><td>4.359925</td></tr>\n",
       "\t<tr><td>sample_13</td><td> 4</td><td>4.515138</td></tr>\n",
       "\t<tr><td>sample_13</td><td> 6</td><td>4.348233</td></tr>\n",
       "\t<tr><td>sample_13</td><td> 8</td><td>4.400642</td></tr>\n",
       "\t<tr><td>sample_13</td><td>10</td><td>4.249033</td></tr>\n",
       "\t<tr><td>sample_14</td><td> 2</td><td>4.711806</td></tr>\n",
       "\t<tr><td>sample_14</td><td> 4</td><td>4.571660</td></tr>\n",
       "\t<tr><td>sample_14</td><td> 6</td><td>4.926649</td></tr>\n",
       "\t<tr><td>sample_14</td><td> 8</td><td>4.794052</td></tr>\n",
       "\t<tr><td>sample_14</td><td>10</td><td>4.410809</td></tr>\n",
       "\t<tr><td>⋮</td><td>⋮</td><td>⋮</td></tr>\n",
       "\t<tr><td>sample_4</td><td> 2</td><td>3.812531</td></tr>\n",
       "\t<tr><td>sample_4</td><td> 4</td><td>3.748881</td></tr>\n",
       "\t<tr><td>sample_4</td><td> 6</td><td>3.737151</td></tr>\n",
       "\t<tr><td>sample_4</td><td> 8</td><td>3.678879</td></tr>\n",
       "\t<tr><td>sample_4</td><td>10</td><td>3.588239</td></tr>\n",
       "\t<tr><td>sample_5</td><td> 2</td><td>5.528538</td></tr>\n",
       "\t<tr><td>sample_5</td><td> 4</td><td>5.325239</td></tr>\n",
       "\t<tr><td>sample_5</td><td> 6</td><td>5.285900</td></tr>\n",
       "\t<tr><td>sample_5</td><td> 8</td><td>5.383681</td></tr>\n",
       "\t<tr><td>sample_5</td><td>10</td><td>5.439604</td></tr>\n",
       "\t<tr><td>sample_6</td><td> 2</td><td>5.127489</td></tr>\n",
       "\t<tr><td>sample_6</td><td> 4</td><td>5.144803</td></tr>\n",
       "\t<tr><td>sample_6</td><td> 6</td><td>5.328331</td></tr>\n",
       "\t<tr><td>sample_6</td><td> 8</td><td>5.145133</td></tr>\n",
       "\t<tr><td>sample_6</td><td>10</td><td>5.150812</td></tr>\n",
       "\t<tr><td>sample_7</td><td> 2</td><td>5.627740</td></tr>\n",
       "\t<tr><td>sample_7</td><td> 4</td><td>5.655732</td></tr>\n",
       "\t<tr><td>sample_7</td><td> 6</td><td>5.962917</td></tr>\n",
       "\t<tr><td>sample_7</td><td> 8</td><td>6.164846</td></tr>\n",
       "\t<tr><td>sample_7</td><td>10</td><td>5.904936</td></tr>\n",
       "\t<tr><td>sample_8</td><td> 2</td><td>5.076383</td></tr>\n",
       "\t<tr><td>sample_8</td><td> 4</td><td>5.288258</td></tr>\n",
       "\t<tr><td>sample_8</td><td> 6</td><td>5.455310</td></tr>\n",
       "\t<tr><td>sample_8</td><td> 8</td><td>5.222009</td></tr>\n",
       "\t<tr><td>sample_8</td><td>10</td><td>5.186400</td></tr>\n",
       "\t<tr><td>sample_9</td><td> 2</td><td>4.611550</td></tr>\n",
       "\t<tr><td>sample_9</td><td> 4</td><td>4.808870</td></tr>\n",
       "\t<tr><td>sample_9</td><td> 6</td><td>4.892719</td></tr>\n",
       "\t<tr><td>sample_9</td><td> 8</td><td>4.767197</td></tr>\n",
       "\t<tr><td>sample_9</td><td>10</td><td>4.728322</td></tr>\n",
       "</tbody>\n",
       "</table>\n"
      ],
      "text/latex": [
       "A data.frame: 75 × 3\n",
       "\\begin{tabular}{lll}\n",
       " sample & dt & MAE\\\\\n",
       " <chr> & <dbl> & <dbl>\\\\\n",
       "\\hline\n",
       "\t sample\\_1  &  2 & 4.703754\\\\\n",
       "\t sample\\_1  &  4 & 4.559520\\\\\n",
       "\t sample\\_1  &  6 & 4.711032\\\\\n",
       "\t sample\\_1  &  8 & 4.623202\\\\\n",
       "\t sample\\_1  & 10 & 4.598212\\\\\n",
       "\t sample\\_10 &  2 & 5.271787\\\\\n",
       "\t sample\\_10 &  4 & 5.483990\\\\\n",
       "\t sample\\_10 &  6 & 5.102317\\\\\n",
       "\t sample\\_10 &  8 & 5.207670\\\\\n",
       "\t sample\\_10 & 10 & 5.055971\\\\\n",
       "\t sample\\_11 &  2 & 4.864609\\\\\n",
       "\t sample\\_11 &  4 & 4.908960\\\\\n",
       "\t sample\\_11 &  6 & 5.120819\\\\\n",
       "\t sample\\_11 &  8 & 5.079858\\\\\n",
       "\t sample\\_11 & 10 & 4.818716\\\\\n",
       "\t sample\\_12 &  2 & 4.014181\\\\\n",
       "\t sample\\_12 &  4 & 3.924131\\\\\n",
       "\t sample\\_12 &  6 & 3.851457\\\\\n",
       "\t sample\\_12 &  8 & 3.943116\\\\\n",
       "\t sample\\_12 & 10 & 3.942892\\\\\n",
       "\t sample\\_13 &  2 & 4.359925\\\\\n",
       "\t sample\\_13 &  4 & 4.515138\\\\\n",
       "\t sample\\_13 &  6 & 4.348233\\\\\n",
       "\t sample\\_13 &  8 & 4.400642\\\\\n",
       "\t sample\\_13 & 10 & 4.249033\\\\\n",
       "\t sample\\_14 &  2 & 4.711806\\\\\n",
       "\t sample\\_14 &  4 & 4.571660\\\\\n",
       "\t sample\\_14 &  6 & 4.926649\\\\\n",
       "\t sample\\_14 &  8 & 4.794052\\\\\n",
       "\t sample\\_14 & 10 & 4.410809\\\\\n",
       "\t ⋮ & ⋮ & ⋮\\\\\n",
       "\t sample\\_4 &  2 & 3.812531\\\\\n",
       "\t sample\\_4 &  4 & 3.748881\\\\\n",
       "\t sample\\_4 &  6 & 3.737151\\\\\n",
       "\t sample\\_4 &  8 & 3.678879\\\\\n",
       "\t sample\\_4 & 10 & 3.588239\\\\\n",
       "\t sample\\_5 &  2 & 5.528538\\\\\n",
       "\t sample\\_5 &  4 & 5.325239\\\\\n",
       "\t sample\\_5 &  6 & 5.285900\\\\\n",
       "\t sample\\_5 &  8 & 5.383681\\\\\n",
       "\t sample\\_5 & 10 & 5.439604\\\\\n",
       "\t sample\\_6 &  2 & 5.127489\\\\\n",
       "\t sample\\_6 &  4 & 5.144803\\\\\n",
       "\t sample\\_6 &  6 & 5.328331\\\\\n",
       "\t sample\\_6 &  8 & 5.145133\\\\\n",
       "\t sample\\_6 & 10 & 5.150812\\\\\n",
       "\t sample\\_7 &  2 & 5.627740\\\\\n",
       "\t sample\\_7 &  4 & 5.655732\\\\\n",
       "\t sample\\_7 &  6 & 5.962917\\\\\n",
       "\t sample\\_7 &  8 & 6.164846\\\\\n",
       "\t sample\\_7 & 10 & 5.904936\\\\\n",
       "\t sample\\_8 &  2 & 5.076383\\\\\n",
       "\t sample\\_8 &  4 & 5.288258\\\\\n",
       "\t sample\\_8 &  6 & 5.455310\\\\\n",
       "\t sample\\_8 &  8 & 5.222009\\\\\n",
       "\t sample\\_8 & 10 & 5.186400\\\\\n",
       "\t sample\\_9 &  2 & 4.611550\\\\\n",
       "\t sample\\_9 &  4 & 4.808870\\\\\n",
       "\t sample\\_9 &  6 & 4.892719\\\\\n",
       "\t sample\\_9 &  8 & 4.767197\\\\\n",
       "\t sample\\_9 & 10 & 4.728322\\\\\n",
       "\\end{tabular}\n"
      ],
      "text/markdown": [
       "\n",
       "A data.frame: 75 × 3\n",
       "\n",
       "| sample &lt;chr&gt; | dt &lt;dbl&gt; | MAE &lt;dbl&gt; |\n",
       "|---|---|---|\n",
       "| sample_1  |  2 | 4.703754 |\n",
       "| sample_1  |  4 | 4.559520 |\n",
       "| sample_1  |  6 | 4.711032 |\n",
       "| sample_1  |  8 | 4.623202 |\n",
       "| sample_1  | 10 | 4.598212 |\n",
       "| sample_10 |  2 | 5.271787 |\n",
       "| sample_10 |  4 | 5.483990 |\n",
       "| sample_10 |  6 | 5.102317 |\n",
       "| sample_10 |  8 | 5.207670 |\n",
       "| sample_10 | 10 | 5.055971 |\n",
       "| sample_11 |  2 | 4.864609 |\n",
       "| sample_11 |  4 | 4.908960 |\n",
       "| sample_11 |  6 | 5.120819 |\n",
       "| sample_11 |  8 | 5.079858 |\n",
       "| sample_11 | 10 | 4.818716 |\n",
       "| sample_12 |  2 | 4.014181 |\n",
       "| sample_12 |  4 | 3.924131 |\n",
       "| sample_12 |  6 | 3.851457 |\n",
       "| sample_12 |  8 | 3.943116 |\n",
       "| sample_12 | 10 | 3.942892 |\n",
       "| sample_13 |  2 | 4.359925 |\n",
       "| sample_13 |  4 | 4.515138 |\n",
       "| sample_13 |  6 | 4.348233 |\n",
       "| sample_13 |  8 | 4.400642 |\n",
       "| sample_13 | 10 | 4.249033 |\n",
       "| sample_14 |  2 | 4.711806 |\n",
       "| sample_14 |  4 | 4.571660 |\n",
       "| sample_14 |  6 | 4.926649 |\n",
       "| sample_14 |  8 | 4.794052 |\n",
       "| sample_14 | 10 | 4.410809 |\n",
       "| ⋮ | ⋮ | ⋮ |\n",
       "| sample_4 |  2 | 3.812531 |\n",
       "| sample_4 |  4 | 3.748881 |\n",
       "| sample_4 |  6 | 3.737151 |\n",
       "| sample_4 |  8 | 3.678879 |\n",
       "| sample_4 | 10 | 3.588239 |\n",
       "| sample_5 |  2 | 5.528538 |\n",
       "| sample_5 |  4 | 5.325239 |\n",
       "| sample_5 |  6 | 5.285900 |\n",
       "| sample_5 |  8 | 5.383681 |\n",
       "| sample_5 | 10 | 5.439604 |\n",
       "| sample_6 |  2 | 5.127489 |\n",
       "| sample_6 |  4 | 5.144803 |\n",
       "| sample_6 |  6 | 5.328331 |\n",
       "| sample_6 |  8 | 5.145133 |\n",
       "| sample_6 | 10 | 5.150812 |\n",
       "| sample_7 |  2 | 5.627740 |\n",
       "| sample_7 |  4 | 5.655732 |\n",
       "| sample_7 |  6 | 5.962917 |\n",
       "| sample_7 |  8 | 6.164846 |\n",
       "| sample_7 | 10 | 5.904936 |\n",
       "| sample_8 |  2 | 5.076383 |\n",
       "| sample_8 |  4 | 5.288258 |\n",
       "| sample_8 |  6 | 5.455310 |\n",
       "| sample_8 |  8 | 5.222009 |\n",
       "| sample_8 | 10 | 5.186400 |\n",
       "| sample_9 |  2 | 4.611550 |\n",
       "| sample_9 |  4 | 4.808870 |\n",
       "| sample_9 |  6 | 4.892719 |\n",
       "| sample_9 |  8 | 4.767197 |\n",
       "| sample_9 | 10 | 4.728322 |\n",
       "\n"
      ],
      "text/plain": [
       "   sample    dt MAE     \n",
       "1  sample_1   2 4.703754\n",
       "2  sample_1   4 4.559520\n",
       "3  sample_1   6 4.711032\n",
       "4  sample_1   8 4.623202\n",
       "5  sample_1  10 4.598212\n",
       "6  sample_10  2 5.271787\n",
       "7  sample_10  4 5.483990\n",
       "8  sample_10  6 5.102317\n",
       "9  sample_10  8 5.207670\n",
       "10 sample_10 10 5.055971\n",
       "11 sample_11  2 4.864609\n",
       "12 sample_11  4 4.908960\n",
       "13 sample_11  6 5.120819\n",
       "14 sample_11  8 5.079858\n",
       "15 sample_11 10 4.818716\n",
       "16 sample_12  2 4.014181\n",
       "17 sample_12  4 3.924131\n",
       "18 sample_12  6 3.851457\n",
       "19 sample_12  8 3.943116\n",
       "20 sample_12 10 3.942892\n",
       "21 sample_13  2 4.359925\n",
       "22 sample_13  4 4.515138\n",
       "23 sample_13  6 4.348233\n",
       "24 sample_13  8 4.400642\n",
       "25 sample_13 10 4.249033\n",
       "26 sample_14  2 4.711806\n",
       "27 sample_14  4 4.571660\n",
       "28 sample_14  6 4.926649\n",
       "29 sample_14  8 4.794052\n",
       "30 sample_14 10 4.410809\n",
       "⋮  ⋮         ⋮  ⋮       \n",
       "46 sample_4   2 3.812531\n",
       "47 sample_4   4 3.748881\n",
       "48 sample_4   6 3.737151\n",
       "49 sample_4   8 3.678879\n",
       "50 sample_4  10 3.588239\n",
       "51 sample_5   2 5.528538\n",
       "52 sample_5   4 5.325239\n",
       "53 sample_5   6 5.285900\n",
       "54 sample_5   8 5.383681\n",
       "55 sample_5  10 5.439604\n",
       "56 sample_6   2 5.127489\n",
       "57 sample_6   4 5.144803\n",
       "58 sample_6   6 5.328331\n",
       "59 sample_6   8 5.145133\n",
       "60 sample_6  10 5.150812\n",
       "61 sample_7   2 5.627740\n",
       "62 sample_7   4 5.655732\n",
       "63 sample_7   6 5.962917\n",
       "64 sample_7   8 6.164846\n",
       "65 sample_7  10 5.904936\n",
       "66 sample_8   2 5.076383\n",
       "67 sample_8   4 5.288258\n",
       "68 sample_8   6 5.455310\n",
       "69 sample_8   8 5.222009\n",
       "70 sample_8  10 5.186400\n",
       "71 sample_9   2 4.611550\n",
       "72 sample_9   4 4.808870\n",
       "73 sample_9   6 4.892719\n",
       "74 sample_9   8 4.767197\n",
       "75 sample_9  10 4.728322"
      ]
     },
     "metadata": {},
     "output_type": "display_data"
    }
   ],
   "source": [
    "df_res %>%\n",
    "    filter (ct == max (ct), .by = pmid) %>%\n",
    "    summarise (MAE = mean (abs (e.cum - e.cum_hat)), .by = c(sample, dt))"
   ]
  },
  {
   "cell_type": "code",
   "execution_count": 49,
   "id": "d83bbdc0-a08c-4718-ac0c-8a8bc6fc2a5d",
   "metadata": {
    "scrolled": true
   },
   "outputs": [
    {
     "data": {
      "text/html": [
       "<table class=\"dataframe\">\n",
       "<caption>A data.frame: 5 × 2</caption>\n",
       "<thead>\n",
       "\t<tr><th scope=col>dt</th><th scope=col>MAE</th></tr>\n",
       "\t<tr><th scope=col>&lt;dbl&gt;</th><th scope=col>&lt;dbl&gt;</th></tr>\n",
       "</thead>\n",
       "<tbody>\n",
       "\t<tr><td> 2</td><td>4.947397</td></tr>\n",
       "\t<tr><td> 4</td><td>4.984421</td></tr>\n",
       "\t<tr><td> 6</td><td>5.026843</td></tr>\n",
       "\t<tr><td> 8</td><td>5.006378</td></tr>\n",
       "\t<tr><td>10</td><td>4.930043</td></tr>\n",
       "</tbody>\n",
       "</table>\n"
      ],
      "text/latex": [
       "A data.frame: 5 × 2\n",
       "\\begin{tabular}{ll}\n",
       " dt & MAE\\\\\n",
       " <dbl> & <dbl>\\\\\n",
       "\\hline\n",
       "\t  2 & 4.947397\\\\\n",
       "\t  4 & 4.984421\\\\\n",
       "\t  6 & 5.026843\\\\\n",
       "\t  8 & 5.006378\\\\\n",
       "\t 10 & 4.930043\\\\\n",
       "\\end{tabular}\n"
      ],
      "text/markdown": [
       "\n",
       "A data.frame: 5 × 2\n",
       "\n",
       "| dt &lt;dbl&gt; | MAE &lt;dbl&gt; |\n",
       "|---|---|\n",
       "|  2 | 4.947397 |\n",
       "|  4 | 4.984421 |\n",
       "|  6 | 5.026843 |\n",
       "|  8 | 5.006378 |\n",
       "| 10 | 4.930043 |\n",
       "\n"
      ],
      "text/plain": [
       "  dt MAE     \n",
       "1  2 4.947397\n",
       "2  4 4.984421\n",
       "3  6 5.026843\n",
       "4  8 5.006378\n",
       "5 10 4.930043"
      ]
     },
     "metadata": {},
     "output_type": "display_data"
    }
   ],
   "source": [
    "df_res %>%\n",
    "    filter (ct == max (ct), .by = pmid) %>%\n",
    "    summarise (MAE = mean (abs (e.cum - e.cum_hat)), .by = c(dt))"
   ]
  },
  {
   "cell_type": "code",
   "execution_count": 50,
   "id": "53cf97d4-b309-4a83-919d-14cf88df21f3",
   "metadata": {
    "scrolled": true
   },
   "outputs": [
    {
     "data": {
      "text/html": [
       "<table class=\"dataframe\">\n",
       "<caption>A data.frame: 5 × 2</caption>\n",
       "<thead>\n",
       "\t<tr><th scope=col>dt</th><th scope=col>MAE</th></tr>\n",
       "\t<tr><th scope=col>&lt;dbl&gt;</th><th scope=col>&lt;dbl&gt;</th></tr>\n",
       "</thead>\n",
       "<tbody>\n",
       "\t<tr><td> 2</td><td>4.063678</td></tr>\n",
       "\t<tr><td> 4</td><td>4.174363</td></tr>\n",
       "\t<tr><td> 6</td><td>4.252619</td></tr>\n",
       "\t<tr><td> 8</td><td>4.399609</td></tr>\n",
       "\t<tr><td>10</td><td>4.500889</td></tr>\n",
       "</tbody>\n",
       "</table>\n"
      ],
      "text/latex": [
       "A data.frame: 5 × 2\n",
       "\\begin{tabular}{ll}\n",
       " dt & MAE\\\\\n",
       " <dbl> & <dbl>\\\\\n",
       "\\hline\n",
       "\t  2 & 4.063678\\\\\n",
       "\t  4 & 4.174363\\\\\n",
       "\t  6 & 4.252619\\\\\n",
       "\t  8 & 4.399609\\\\\n",
       "\t 10 & 4.500889\\\\\n",
       "\\end{tabular}\n"
      ],
      "text/markdown": [
       "\n",
       "A data.frame: 5 × 2\n",
       "\n",
       "| dt &lt;dbl&gt; | MAE &lt;dbl&gt; |\n",
       "|---|---|\n",
       "|  2 | 4.063678 |\n",
       "|  4 | 4.174363 |\n",
       "|  6 | 4.252619 |\n",
       "|  8 | 4.399609 |\n",
       "| 10 | 4.500889 |\n",
       "\n"
      ],
      "text/plain": [
       "  dt MAE     \n",
       "1  2 4.063678\n",
       "2  4 4.174363\n",
       "3  6 4.252619\n",
       "4  8 4.399609\n",
       "5 10 4.500889"
      ]
     },
     "metadata": {},
     "output_type": "display_data"
    }
   ],
   "source": [
    "df_res %>%\n",
    "    summarise (MAE = mean (abs (e.cum - e.cum_hat)), .by = c(dt))"
   ]
  },
  {
   "cell_type": "markdown",
   "id": "34f4f585-b1c0-4e2b-a16b-2309c9fcb91b",
   "metadata": {},
   "source": [
    "## Predictions on scenarios"
   ]
  },
  {
   "attachments": {},
   "cell_type": "raw",
   "id": "5a431449-1a9a-4b33-b769-1bb5a160d37f",
   "metadata": {},
   "source": [
    "data_train = data_random_forest_dynamique %>% \n",
    "    filter (dt == 2) %>%\n",
    "    select (- pmid, - country, - meas.tech, - inst, - dt)\n",
    "\n",
    "set.seed (123)\n",
    "dynamic_random_forest_model = randomForest (\n",
    "        e.cum ~ .,\n",
    "        data = data_train,\n",
    "        mtry = 3,\n",
    "        importance = TRUE\n",
    ")\n",
    "\n",
    "saveRDS(dynamic_random_forest_model, file = \"results/dynamic_random_forest_model.rds\")"
   ]
  },
  {
   "cell_type": "raw",
   "id": "7b788b8c-38cb-41e1-81cc-448ae4f42154",
   "metadata": {},
   "source": [
    "dynamic_random_forest_model <- readRDS(\"results/dynamic_random_forest_model.rds\")"
   ]
  },
  {
   "cell_type": "code",
   "execution_count": 52,
   "id": "dc3dbe32-6f4a-4a1b-a26c-9c8f4b17823c",
   "metadata": {},
   "outputs": [],
   "source": [
    "load (file = \"../00_data_preparation/processed_data/scenarios_dynamic_rf.Rdata\")"
   ]
  },
  {
   "cell_type": "code",
   "execution_count": 53,
   "id": "ffc1cfb9-8387-4a1f-88f7-12c7bb09c013",
   "metadata": {},
   "outputs": [
    {
     "data": {
      "text/html": [
       "<table class=\"dataframe\">\n",
       "<caption>A tibble: 2 × 18</caption>\n",
       "<thead>\n",
       "\t<tr><th scope=col>scenario</th><th scope=col>pmid</th><th scope=col>strategy</th><th scope=col>group_temp</th><th scope=col>group_wind</th><th scope=col>group_rain</th><th scope=col>ct</th><th scope=col>air.temp</th><th scope=col>wind.2m</th><th scope=col>rain.rate</th><th scope=col>tan.app</th><th scope=col>app.mthd</th><th scope=col>app.rate</th><th scope=col>man.dm</th><th scope=col>man.ph</th><th scope=col>man.source</th><th scope=col>incorp</th><th scope=col>t.incorp</th></tr>\n",
       "\t<tr><th scope=col>&lt;int&gt;</th><th scope=col>&lt;int&gt;</th><th scope=col>&lt;fct&gt;</th><th scope=col>&lt;dbl&gt;</th><th scope=col>&lt;dbl&gt;</th><th scope=col>&lt;dbl&gt;</th><th scope=col>&lt;dbl&gt;</th><th scope=col>&lt;dbl&gt;</th><th scope=col>&lt;dbl&gt;</th><th scope=col>&lt;dbl&gt;</th><th scope=col>&lt;dbl&gt;</th><th scope=col>&lt;fct&gt;</th><th scope=col>&lt;dbl&gt;</th><th scope=col>&lt;dbl&gt;</th><th scope=col>&lt;dbl&gt;</th><th scope=col>&lt;fct&gt;</th><th scope=col>&lt;fct&gt;</th><th scope=col>&lt;dbl&gt;</th></tr>\n",
       "</thead>\n",
       "<tbody>\n",
       "\t<tr><td>1</td><td>1</td><td>Incorporation</td><td>1</td><td>1</td><td>1</td><td>2</td><td>11.2</td><td>2.3</td><td>0</td><td>36.7</td><td>bc</td><td>18.7</td><td>3.8</td><td>7.5</td><td>pig</td><td>shallow</td><td>0</td></tr>\n",
       "\t<tr><td>1</td><td>1</td><td>Incorporation</td><td>1</td><td>1</td><td>1</td><td>4</td><td>11.2</td><td>2.3</td><td>0</td><td>36.7</td><td>bc</td><td>18.7</td><td>3.8</td><td>7.5</td><td>pig</td><td>shallow</td><td>0</td></tr>\n",
       "</tbody>\n",
       "</table>\n"
      ],
      "text/latex": [
       "A tibble: 2 × 18\n",
       "\\begin{tabular}{llllllllllllllllll}\n",
       " scenario & pmid & strategy & group\\_temp & group\\_wind & group\\_rain & ct & air.temp & wind.2m & rain.rate & tan.app & app.mthd & app.rate & man.dm & man.ph & man.source & incorp & t.incorp\\\\\n",
       " <int> & <int> & <fct> & <dbl> & <dbl> & <dbl> & <dbl> & <dbl> & <dbl> & <dbl> & <dbl> & <fct> & <dbl> & <dbl> & <dbl> & <fct> & <fct> & <dbl>\\\\\n",
       "\\hline\n",
       "\t 1 & 1 & Incorporation & 1 & 1 & 1 & 2 & 11.2 & 2.3 & 0 & 36.7 & bc & 18.7 & 3.8 & 7.5 & pig & shallow & 0\\\\\n",
       "\t 1 & 1 & Incorporation & 1 & 1 & 1 & 4 & 11.2 & 2.3 & 0 & 36.7 & bc & 18.7 & 3.8 & 7.5 & pig & shallow & 0\\\\\n",
       "\\end{tabular}\n"
      ],
      "text/markdown": [
       "\n",
       "A tibble: 2 × 18\n",
       "\n",
       "| scenario &lt;int&gt; | pmid &lt;int&gt; | strategy &lt;fct&gt; | group_temp &lt;dbl&gt; | group_wind &lt;dbl&gt; | group_rain &lt;dbl&gt; | ct &lt;dbl&gt; | air.temp &lt;dbl&gt; | wind.2m &lt;dbl&gt; | rain.rate &lt;dbl&gt; | tan.app &lt;dbl&gt; | app.mthd &lt;fct&gt; | app.rate &lt;dbl&gt; | man.dm &lt;dbl&gt; | man.ph &lt;dbl&gt; | man.source &lt;fct&gt; | incorp &lt;fct&gt; | t.incorp &lt;dbl&gt; |\n",
       "|---|---|---|---|---|---|---|---|---|---|---|---|---|---|---|---|---|---|\n",
       "| 1 | 1 | Incorporation | 1 | 1 | 1 | 2 | 11.2 | 2.3 | 0 | 36.7 | bc | 18.7 | 3.8 | 7.5 | pig | shallow | 0 |\n",
       "| 1 | 1 | Incorporation | 1 | 1 | 1 | 4 | 11.2 | 2.3 | 0 | 36.7 | bc | 18.7 | 3.8 | 7.5 | pig | shallow | 0 |\n",
       "\n"
      ],
      "text/plain": [
       "  scenario pmid strategy      group_temp group_wind group_rain ct air.temp\n",
       "1 1        1    Incorporation 1          1          1          2  11.2    \n",
       "2 1        1    Incorporation 1          1          1          4  11.2    \n",
       "  wind.2m rain.rate tan.app app.mthd app.rate man.dm man.ph man.source incorp \n",
       "1 2.3     0         36.7    bc       18.7     3.8    7.5    pig        shallow\n",
       "2 2.3     0         36.7    bc       18.7     3.8    7.5    pig        shallow\n",
       "  t.incorp\n",
       "1 0       \n",
       "2 0       "
      ]
     },
     "metadata": {},
     "output_type": "display_data"
    }
   ],
   "source": [
    "head (scenarios_dynamic_rf, n = 2)"
   ]
  },
  {
   "cell_type": "code",
   "execution_count": 54,
   "id": "ffaf08d9-4efa-4688-9d6f-50a21c011f39",
   "metadata": {},
   "outputs": [
    {
     "data": {
      "text/html": [
       "<style>\n",
       ".list-inline {list-style: none; margin:0; padding: 0}\n",
       ".list-inline>li {display: inline-block}\n",
       ".list-inline>li:not(:last-child)::after {content: \"\\00b7\"; padding: 0 .5ex}\n",
       "</style>\n",
       "<ol class=list-inline><li>768</li><li>6</li></ol>\n"
      ],
      "text/latex": [
       "\\begin{enumerate*}\n",
       "\\item 768\n",
       "\\item 6\n",
       "\\end{enumerate*}\n"
      ],
      "text/markdown": [
       "1. 768\n",
       "2. 6\n",
       "\n",
       "\n"
      ],
      "text/plain": [
       "[1] 768   6"
      ]
     },
     "metadata": {},
     "output_type": "display_data"
    }
   ],
   "source": [
    "df_groups = scenarios_dynamic_rf %>% \n",
    "    select (scenario, pmid, strategy, group_temp, group_wind, group_rain) %>%\n",
    "    distinct\n",
    "\n",
    "dim (df_groups)"
   ]
  },
  {
   "cell_type": "code",
   "execution_count": 55,
   "id": "c722cad3-ea01-40eb-a19e-82d5822a1319",
   "metadata": {},
   "outputs": [],
   "source": [
    "# Obligé de faire ça pour le modèle reconnaisse le type des variables..\n",
    "scenarios_dynamic_rf = rbind (\n",
    "    data %>% select (pmid, ct, air.temp, wind.2m, rain.rate, tan.app, app.mthd, app.rate, man.dm, man.ph, man.source, incorp, t.incorp) %>% filter (row_number() == 1),\n",
    "    scenarios_dynamic_rf %>% select (pmid, ct, air.temp, wind.2m, rain.rate, tan.app, app.mthd, app.rate, man.dm, man.ph, man.source, incorp, t.incorp)\n",
    ")\n",
    "\n",
    "scenarios_dynamic_rf = scenarios_dynamic_rf [-1, ]"
   ]
  },
  {
   "cell_type": "code",
   "execution_count": 56,
   "id": "b22da2d0-fa31-4562-be55-9c290ba540b6",
   "metadata": {},
   "outputs": [],
   "source": [
    "pmids_scenarios = scenarios_dynamic_rf$pmid %>% unique"
   ]
  },
  {
   "cell_type": "code",
   "execution_count": 57,
   "id": "9bbcfa4f-4a6b-449c-9b13-91dbfb0c2250",
   "metadata": {},
   "outputs": [
    {
     "data": {
      "text/html": [
       "768"
      ],
      "text/latex": [
       "768"
      ],
      "text/markdown": [
       "768"
      ],
      "text/plain": [
       "[1] 768"
      ]
     },
     "metadata": {},
     "output_type": "display_data"
    }
   ],
   "source": [
    "length (pmids_scenarios)"
   ]
  },
  {
   "cell_type": "raw",
   "id": "17943c75-a35f-4f3e-8d0e-0d6e04ce7ade",
   "metadata": {
    "scrolled": true
   },
   "source": [
    "t1 = Sys.time()\n",
    "\n",
    "df_predictions_random_forest = NULL\n",
    "\n",
    "for (i in pmids_scenarios){\n",
    "\n",
    "    print (i)\n",
    "    flush.console()\n",
    "\n",
    "\n",
    "    data_tmp = scenarios_dynamic_rf %>%\n",
    "      filter (pmid == i) %>%\n",
    "      mutate (e.cum_hat = NA, e.cum_shift = NA, .before = pmid)\n",
    "\n",
    "    n = nrow (data_tmp)\n",
    "    prediction = 0\n",
    "\n",
    "    for (l in c (1 : n)){\n",
    "        data_tmp$e.cum_shift[l] = prediction\n",
    "        newdata = data_tmp [l, ] %>% select (- pmid, - e.cum_hat)\n",
    "        prediction = predict (dynamic_random_forest_model, newdata = newdata)\n",
    "        data_tmp$e.cum_hat [l] = prediction\n",
    "    }\n",
    "\n",
    "    df_predictions_random_forest = rbind (df_predictions_random_forest, data_tmp)\n",
    "}\n",
    "\n",
    "t2 = Sys.time()\n",
    "running_time = difftime (t2, t1, units = \"min\")\n",
    "running_time\n",
    "\n",
    "predictions_on_scenarios_dynamic_random_forest = df_predictions_random_forest\n",
    "save (predictions_on_scenarios_dynamic_random_forest, \n",
    "      file = \"results/predictions_on_scenarios_dynamic_random_forest.Rdata\")"
   ]
  },
  {
   "cell_type": "code",
   "execution_count": 58,
   "id": "e15ade0e-ed82-4eb9-8e6c-12cdacfa92fd",
   "metadata": {},
   "outputs": [],
   "source": [
    "load (file = \"results/predictions_on_scenarios_dynamic_random_forest.Rdata\")\n",
    "df_predictions_random_forest = predictions_on_scenarios_dynamic_random_forest"
   ]
  },
  {
   "cell_type": "code",
   "execution_count": 59,
   "id": "68b9297b-c04d-46f5-96b4-a79d6718d0ee",
   "metadata": {},
   "outputs": [
    {
     "data": {
      "text/html": [
       "<style>\n",
       ".list-inline {list-style: none; margin:0; padding: 0}\n",
       ".list-inline>li {display: inline-block}\n",
       ".list-inline>li:not(:last-child)::after {content: \"\\00b7\"; padding: 0 .5ex}\n",
       "</style>\n",
       "<ol class=list-inline><li>27648</li><li>15</li></ol>\n"
      ],
      "text/latex": [
       "\\begin{enumerate*}\n",
       "\\item 27648\n",
       "\\item 15\n",
       "\\end{enumerate*}\n"
      ],
      "text/markdown": [
       "1. 27648\n",
       "2. 15\n",
       "\n",
       "\n"
      ],
      "text/plain": [
       "[1] 27648    15"
      ]
     },
     "metadata": {},
     "output_type": "display_data"
    }
   ],
   "source": [
    "dim (df_predictions_random_forest)"
   ]
  },
  {
   "cell_type": "code",
   "execution_count": 60,
   "id": "eeeb2f4c-56e3-4380-9e38-9edd02c8b2ef",
   "metadata": {},
   "outputs": [
    {
     "data": {
      "text/html": [
       "<table class=\"dataframe\">\n",
       "<caption>A data.frame: 2 × 15</caption>\n",
       "<thead>\n",
       "\t<tr><th></th><th scope=col>e.cum_hat</th><th scope=col>e.cum_shift</th><th scope=col>pmid</th><th scope=col>ct</th><th scope=col>air.temp</th><th scope=col>wind.2m</th><th scope=col>rain.rate</th><th scope=col>tan.app</th><th scope=col>app.mthd</th><th scope=col>app.rate</th><th scope=col>man.dm</th><th scope=col>man.ph</th><th scope=col>man.source</th><th scope=col>incorp</th><th scope=col>t.incorp</th></tr>\n",
       "\t<tr><th></th><th scope=col>&lt;dbl&gt;</th><th scope=col>&lt;dbl&gt;</th><th scope=col>&lt;int&gt;</th><th scope=col>&lt;dbl&gt;</th><th scope=col>&lt;dbl&gt;</th><th scope=col>&lt;dbl&gt;</th><th scope=col>&lt;dbl&gt;</th><th scope=col>&lt;dbl&gt;</th><th scope=col>&lt;fct&gt;</th><th scope=col>&lt;dbl&gt;</th><th scope=col>&lt;dbl&gt;</th><th scope=col>&lt;dbl&gt;</th><th scope=col>&lt;fct&gt;</th><th scope=col>&lt;fct&gt;</th><th scope=col>&lt;dbl&gt;</th></tr>\n",
       "</thead>\n",
       "<tbody>\n",
       "\t<tr><th scope=row>1</th><td>3.973833</td><td>0.000000</td><td>1</td><td>2</td><td>11.2</td><td>2.3</td><td>0</td><td>36.7</td><td>bc</td><td>18.7</td><td>3.8</td><td>7.5</td><td>pig</td><td>shallow</td><td>0</td></tr>\n",
       "\t<tr><th scope=row>2</th><td>4.778707</td><td>3.973833</td><td>1</td><td>4</td><td>11.2</td><td>2.3</td><td>0</td><td>36.7</td><td>bc</td><td>18.7</td><td>3.8</td><td>7.5</td><td>pig</td><td>shallow</td><td>0</td></tr>\n",
       "</tbody>\n",
       "</table>\n"
      ],
      "text/latex": [
       "A data.frame: 2 × 15\n",
       "\\begin{tabular}{r|lllllllllllllll}\n",
       "  & e.cum\\_hat & e.cum\\_shift & pmid & ct & air.temp & wind.2m & rain.rate & tan.app & app.mthd & app.rate & man.dm & man.ph & man.source & incorp & t.incorp\\\\\n",
       "  & <dbl> & <dbl> & <int> & <dbl> & <dbl> & <dbl> & <dbl> & <dbl> & <fct> & <dbl> & <dbl> & <dbl> & <fct> & <fct> & <dbl>\\\\\n",
       "\\hline\n",
       "\t1 & 3.973833 & 0.000000 & 1 & 2 & 11.2 & 2.3 & 0 & 36.7 & bc & 18.7 & 3.8 & 7.5 & pig & shallow & 0\\\\\n",
       "\t2 & 4.778707 & 3.973833 & 1 & 4 & 11.2 & 2.3 & 0 & 36.7 & bc & 18.7 & 3.8 & 7.5 & pig & shallow & 0\\\\\n",
       "\\end{tabular}\n"
      ],
      "text/markdown": [
       "\n",
       "A data.frame: 2 × 15\n",
       "\n",
       "| <!--/--> | e.cum_hat &lt;dbl&gt; | e.cum_shift &lt;dbl&gt; | pmid &lt;int&gt; | ct &lt;dbl&gt; | air.temp &lt;dbl&gt; | wind.2m &lt;dbl&gt; | rain.rate &lt;dbl&gt; | tan.app &lt;dbl&gt; | app.mthd &lt;fct&gt; | app.rate &lt;dbl&gt; | man.dm &lt;dbl&gt; | man.ph &lt;dbl&gt; | man.source &lt;fct&gt; | incorp &lt;fct&gt; | t.incorp &lt;dbl&gt; |\n",
       "|---|---|---|---|---|---|---|---|---|---|---|---|---|---|---|---|\n",
       "| 1 | 3.973833 | 0.000000 | 1 | 2 | 11.2 | 2.3 | 0 | 36.7 | bc | 18.7 | 3.8 | 7.5 | pig | shallow | 0 |\n",
       "| 2 | 4.778707 | 3.973833 | 1 | 4 | 11.2 | 2.3 | 0 | 36.7 | bc | 18.7 | 3.8 | 7.5 | pig | shallow | 0 |\n",
       "\n"
      ],
      "text/plain": [
       "  e.cum_hat e.cum_shift pmid ct air.temp wind.2m rain.rate tan.app app.mthd\n",
       "1 3.973833  0.000000    1    2  11.2     2.3     0         36.7    bc      \n",
       "2 4.778707  3.973833    1    4  11.2     2.3     0         36.7    bc      \n",
       "  app.rate man.dm man.ph man.source incorp  t.incorp\n",
       "1 18.7     3.8    7.5    pig        shallow 0       \n",
       "2 18.7     3.8    7.5    pig        shallow 0       "
      ]
     },
     "metadata": {},
     "output_type": "display_data"
    }
   ],
   "source": [
    "df_predictions_random_forest %>% head (n = 2)"
   ]
  },
  {
   "cell_type": "code",
   "execution_count": 61,
   "id": "bded5aa0-89c4-4ee3-ac04-25680b7f58c0",
   "metadata": {},
   "outputs": [],
   "source": [
    "df_efficacies = df_predictions_random_forest %>%\n",
    "    left_join (df_groups, by = \"pmid\") %>%\n",
    "    filter (ct == max (ct), .by = pmid) %>%\n",
    "    mutate (efficacy_dynamic_rf = ((e.cum_hat / e.cum_hat[strategy == \"Broadcast\"]) - 1) * 100, \n",
    "            .by = c (scenario))"
   ]
  },
  {
   "cell_type": "code",
   "execution_count": 62,
   "id": "c0c1f12c-3ce8-48e6-8712-8327108ef199",
   "metadata": {},
   "outputs": [
    {
     "data": {
      "image/png": "[encoded data removed]",
      "text/plain": [
       "plot without title"
      ]
     },
     "metadata": {
      "image/png": {
       "height": 240,
       "width": 1200
      }
     },
     "output_type": "display_data"
    }
   ],
   "source": [
    "# dynamic rf\n",
    "size (20, 4)\n",
    "df_efficacies %>%\n",
    "    filter (strategy != \"Broadcast\") %>%\n",
    "    \n",
    "    ggplot () +\n",
    "        \n",
    "        geom_boxplot (aes (x = efficacy_dynamic_rf, y = strategy, fill = strategy)) +\n",
    "        scale_fill_manual (values = Dark2) +\n",
    "        scale_y_discrete (limits = c (\"Closed slot\", \"Open slot\", \"Trailing shoe\", \"Trailing hose\", \"Incorporation\")) +\n",
    "        ylab (\"\") + xlab (\"Efficacy\") +\n",
    "        theme (legend.position = \"none\",\n",
    "               axis.ticks.y = element_blank(),\n",
    "               strip.text.x = element_text(margin = ggplot2::margin(t = 8, b = 8, r = 0, l = 0))) +\n",
    "        # facet_wrap (~ method, ncol = 1) +\n",
    "        NULL"
   ]
  },
  {
   "cell_type": "markdown",
   "id": "4bfcc6b1-016e-48c8-87b7-5f51d023929a",
   "metadata": {},
   "source": [
    "# Dynamic random forest - data a."
   ]
  },
  {
   "cell_type": "markdown",
   "id": "5a50f361-cfde-4a16-adc3-8e711c402af7",
   "metadata": {},
   "source": [
    "Correspond to the 'dynamic rf - data a.' model."
   ]
  },
  {
   "cell_type": "code",
   "execution_count": 63,
   "id": "8a02746e-8fc7-4172-83ec-63da0d78e4b2",
   "metadata": {},
   "outputs": [
    {
     "data": {
      "text/html": [
       "<table class=\"table\" style=\"margin-left: auto; margin-right: auto;\">\n",
       " <thead>\n",
       "  <tr>\n",
       "   <th style=\"text-align:right;\"> e.cum </th>\n",
       "   <th style=\"text-align:right;\"> e.rel </th>\n",
       "   <th style=\"text-align:right;\"> j.NH3 </th>\n",
       "   <th style=\"text-align:right;\"> pmid </th>\n",
       "   <th style=\"text-align:left;\"> meas.tech </th>\n",
       "   <th style=\"text-align:left;\"> country </th>\n",
       "   <th style=\"text-align:right;\"> inst </th>\n",
       "   <th style=\"text-align:right;\"> ct </th>\n",
       "   <th style=\"text-align:right;\"> dt </th>\n",
       "   <th style=\"text-align:right;\"> air.temp </th>\n",
       "   <th style=\"text-align:right;\"> wind.2m </th>\n",
       "   <th style=\"text-align:right;\"> rain.rate </th>\n",
       "   <th style=\"text-align:right;\"> tan.app </th>\n",
       "   <th style=\"text-align:right;\"> app.rate </th>\n",
       "   <th style=\"text-align:right;\"> man.dm </th>\n",
       "   <th style=\"text-align:right;\"> man.ph </th>\n",
       "   <th style=\"text-align:left;\"> man.source </th>\n",
       "   <th style=\"text-align:right;\"> t.incorp </th>\n",
       "   <th style=\"text-align:left;\"> app.mthd </th>\n",
       "   <th style=\"text-align:left;\"> incorp </th>\n",
       "  </tr>\n",
       " </thead>\n",
       "<tbody>\n",
       "  <tr>\n",
       "   <td style=\"text-align:right;\"> 7.1480 </td>\n",
       "   <td style=\"text-align:right;\"> 0.0585374 </td>\n",
       "   <td style=\"text-align:right;\"> 1.7870 </td>\n",
       "   <td style=\"text-align:right;\"> 182 </td>\n",
       "   <td style=\"text-align:left;\"> micro met </td>\n",
       "   <td style=\"text-align:left;\"> DK </td>\n",
       "   <td style=\"text-align:right;\"> 104 </td>\n",
       "   <td style=\"text-align:right;\"> 4 </td>\n",
       "   <td style=\"text-align:right;\"> 4 </td>\n",
       "   <td style=\"text-align:right;\"> 8.20 </td>\n",
       "   <td style=\"text-align:right;\"> 8.10 </td>\n",
       "   <td style=\"text-align:right;\"> 0 </td>\n",
       "   <td style=\"text-align:right;\"> 122.11 </td>\n",
       "   <td style=\"text-align:right;\"> 31.8 </td>\n",
       "   <td style=\"text-align:right;\"> 3.7 </td>\n",
       "   <td style=\"text-align:right;\"> 7.35 </td>\n",
       "   <td style=\"text-align:left;\"> pig </td>\n",
       "   <td style=\"text-align:right;\"> 1000 </td>\n",
       "   <td style=\"text-align:left;\"> bc </td>\n",
       "   <td style=\"text-align:left;\"> none </td>\n",
       "  </tr>\n",
       "  <tr>\n",
       "   <td style=\"text-align:right;\"> 8.2921 </td>\n",
       "   <td style=\"text-align:right;\"> 0.0679068 </td>\n",
       "   <td style=\"text-align:right;\"> 0.0673 </td>\n",
       "   <td style=\"text-align:right;\"> 182 </td>\n",
       "   <td style=\"text-align:left;\"> micro met </td>\n",
       "   <td style=\"text-align:left;\"> DK </td>\n",
       "   <td style=\"text-align:right;\"> 104 </td>\n",
       "   <td style=\"text-align:right;\"> 21 </td>\n",
       "   <td style=\"text-align:right;\"> 17 </td>\n",
       "   <td style=\"text-align:right;\"> 4.45 </td>\n",
       "   <td style=\"text-align:right;\"> 3.98 </td>\n",
       "   <td style=\"text-align:right;\"> 0 </td>\n",
       "   <td style=\"text-align:right;\"> 122.11 </td>\n",
       "   <td style=\"text-align:right;\"> 31.8 </td>\n",
       "   <td style=\"text-align:right;\"> 3.7 </td>\n",
       "   <td style=\"text-align:right;\"> 7.35 </td>\n",
       "   <td style=\"text-align:left;\"> pig </td>\n",
       "   <td style=\"text-align:right;\"> 1000 </td>\n",
       "   <td style=\"text-align:left;\"> bc </td>\n",
       "   <td style=\"text-align:left;\"> none </td>\n",
       "  </tr>\n",
       "</tbody>\n",
       "</table>"
      ]
     },
     "metadata": {},
     "output_type": "display_data"
    }
   ],
   "source": [
    "head (data, n = 2) %>% embed"
   ]
  },
  {
   "cell_type": "code",
   "execution_count": 64,
   "id": "a3ef5038-0993-428b-95bf-bdef892ca2f9",
   "metadata": {},
   "outputs": [
    {
     "data": {
      "text/html": [
       "<table class=\"table\" style=\"margin-left: auto; margin-right: auto;\">\n",
       " <thead>\n",
       "  <tr>\n",
       "   <th style=\"text-align:left;\">  </th>\n",
       "   <th style=\"text-align:right;\"> e.cum </th>\n",
       "   <th style=\"text-align:right;\"> e.cum_shift </th>\n",
       "   <th style=\"text-align:right;\"> dt </th>\n",
       "   <th style=\"text-align:right;\"> inst </th>\n",
       "   <th style=\"text-align:right;\"> pmid </th>\n",
       "   <th style=\"text-align:left;\"> country </th>\n",
       "   <th style=\"text-align:left;\"> meas.tech </th>\n",
       "   <th style=\"text-align:right;\"> ct </th>\n",
       "   <th style=\"text-align:right;\"> air.temp </th>\n",
       "   <th style=\"text-align:right;\"> wind.2m </th>\n",
       "   <th style=\"text-align:right;\"> rain.rate </th>\n",
       "   <th style=\"text-align:right;\"> tan.app </th>\n",
       "   <th style=\"text-align:left;\"> app.mthd </th>\n",
       "   <th style=\"text-align:right;\"> app.rate </th>\n",
       "   <th style=\"text-align:right;\"> man.dm </th>\n",
       "   <th style=\"text-align:right;\"> man.ph </th>\n",
       "   <th style=\"text-align:left;\"> man.source </th>\n",
       "   <th style=\"text-align:left;\"> incorp </th>\n",
       "   <th style=\"text-align:right;\"> t.incorp </th>\n",
       "  </tr>\n",
       " </thead>\n",
       "<tbody>\n",
       "  <tr>\n",
       "   <td style=\"text-align:left;\"> 2 </td>\n",
       "   <td style=\"text-align:right;\"> 3.574 </td>\n",
       "   <td style=\"text-align:right;\"> 0.000 </td>\n",
       "   <td style=\"text-align:right;\"> 2 </td>\n",
       "   <td style=\"text-align:right;\"> 104 </td>\n",
       "   <td style=\"text-align:right;\"> 182 </td>\n",
       "   <td style=\"text-align:left;\"> DK </td>\n",
       "   <td style=\"text-align:left;\"> micro met </td>\n",
       "   <td style=\"text-align:right;\"> 2 </td>\n",
       "   <td style=\"text-align:right;\"> 8.2 </td>\n",
       "   <td style=\"text-align:right;\"> 8.1 </td>\n",
       "   <td style=\"text-align:right;\"> 0 </td>\n",
       "   <td style=\"text-align:right;\"> 122.11 </td>\n",
       "   <td style=\"text-align:left;\"> bc </td>\n",
       "   <td style=\"text-align:right;\"> 31.8 </td>\n",
       "   <td style=\"text-align:right;\"> 3.7 </td>\n",
       "   <td style=\"text-align:right;\"> 7.35 </td>\n",
       "   <td style=\"text-align:left;\"> pig </td>\n",
       "   <td style=\"text-align:left;\"> none </td>\n",
       "   <td style=\"text-align:right;\"> 1000 </td>\n",
       "  </tr>\n",
       "  <tr>\n",
       "   <td style=\"text-align:left;\"> 3 </td>\n",
       "   <td style=\"text-align:right;\"> 7.148 </td>\n",
       "   <td style=\"text-align:right;\"> 3.574 </td>\n",
       "   <td style=\"text-align:right;\"> 2 </td>\n",
       "   <td style=\"text-align:right;\"> 104 </td>\n",
       "   <td style=\"text-align:right;\"> 182 </td>\n",
       "   <td style=\"text-align:left;\"> DK </td>\n",
       "   <td style=\"text-align:left;\"> micro met </td>\n",
       "   <td style=\"text-align:right;\"> 4 </td>\n",
       "   <td style=\"text-align:right;\"> 8.2 </td>\n",
       "   <td style=\"text-align:right;\"> 8.1 </td>\n",
       "   <td style=\"text-align:right;\"> 0 </td>\n",
       "   <td style=\"text-align:right;\"> 122.11 </td>\n",
       "   <td style=\"text-align:left;\"> bc </td>\n",
       "   <td style=\"text-align:right;\"> 31.8 </td>\n",
       "   <td style=\"text-align:right;\"> 3.7 </td>\n",
       "   <td style=\"text-align:right;\"> 7.35 </td>\n",
       "   <td style=\"text-align:left;\"> pig </td>\n",
       "   <td style=\"text-align:left;\"> none </td>\n",
       "   <td style=\"text-align:right;\"> 1000 </td>\n",
       "  </tr>\n",
       "</tbody>\n",
       "</table>"
      ]
     },
     "metadata": {},
     "output_type": "display_data"
    }
   ],
   "source": [
    "head (data_random_forest_dynamique, n = 2) %>% embed"
   ]
  },
  {
   "cell_type": "code",
   "execution_count": 65,
   "id": "83f04fc5-59b2-4597-9249-02e078f80b25",
   "metadata": {
    "scrolled": true
   },
   "outputs": [],
   "source": [
    "data_random_forest_dynamique_without_interpolation = data %>%\n",
    "    mutate (e.cum_shift = c (0, e.cum [1 : (n() - 1)]), .by = pmid) %>%\n",
    "    select (e.cum, e.cum_shift, dt, inst, pmid, country, meas.tech, ct, air.temp, wind.2m, rain.rate, tan.app, app.mthd, app.rate, man.dm, man.ph, man.source, incorp, t.incorp)"
   ]
  },
  {
   "cell_type": "code",
   "execution_count": 66,
   "id": "7e99e154-35bb-4766-a8e0-f61c09a86a67",
   "metadata": {},
   "outputs": [
    {
     "data": {
      "text/html": [
       "<table class=\"table\" style=\"margin-left: auto; margin-right: auto;\">\n",
       " <thead>\n",
       "  <tr>\n",
       "   <th style=\"text-align:right;\"> e.cum </th>\n",
       "   <th style=\"text-align:right;\"> e.cum_shift </th>\n",
       "   <th style=\"text-align:right;\"> dt </th>\n",
       "   <th style=\"text-align:right;\"> inst </th>\n",
       "   <th style=\"text-align:right;\"> pmid </th>\n",
       "   <th style=\"text-align:left;\"> country </th>\n",
       "   <th style=\"text-align:left;\"> meas.tech </th>\n",
       "   <th style=\"text-align:right;\"> ct </th>\n",
       "   <th style=\"text-align:right;\"> air.temp </th>\n",
       "   <th style=\"text-align:right;\"> wind.2m </th>\n",
       "   <th style=\"text-align:right;\"> rain.rate </th>\n",
       "   <th style=\"text-align:right;\"> tan.app </th>\n",
       "   <th style=\"text-align:left;\"> app.mthd </th>\n",
       "   <th style=\"text-align:right;\"> app.rate </th>\n",
       "   <th style=\"text-align:right;\"> man.dm </th>\n",
       "   <th style=\"text-align:right;\"> man.ph </th>\n",
       "   <th style=\"text-align:left;\"> man.source </th>\n",
       "   <th style=\"text-align:left;\"> incorp </th>\n",
       "   <th style=\"text-align:right;\"> t.incorp </th>\n",
       "  </tr>\n",
       " </thead>\n",
       "<tbody>\n",
       "  <tr>\n",
       "   <td style=\"text-align:right;\"> 7.1480 </td>\n",
       "   <td style=\"text-align:right;\"> 0.000 </td>\n",
       "   <td style=\"text-align:right;\"> 4 </td>\n",
       "   <td style=\"text-align:right;\"> 104 </td>\n",
       "   <td style=\"text-align:right;\"> 182 </td>\n",
       "   <td style=\"text-align:left;\"> DK </td>\n",
       "   <td style=\"text-align:left;\"> micro met </td>\n",
       "   <td style=\"text-align:right;\"> 4 </td>\n",
       "   <td style=\"text-align:right;\"> 8.20 </td>\n",
       "   <td style=\"text-align:right;\"> 8.10 </td>\n",
       "   <td style=\"text-align:right;\"> 0 </td>\n",
       "   <td style=\"text-align:right;\"> 122.11 </td>\n",
       "   <td style=\"text-align:left;\"> bc </td>\n",
       "   <td style=\"text-align:right;\"> 31.8 </td>\n",
       "   <td style=\"text-align:right;\"> 3.7 </td>\n",
       "   <td style=\"text-align:right;\"> 7.35 </td>\n",
       "   <td style=\"text-align:left;\"> pig </td>\n",
       "   <td style=\"text-align:left;\"> none </td>\n",
       "   <td style=\"text-align:right;\"> 1000 </td>\n",
       "  </tr>\n",
       "  <tr>\n",
       "   <td style=\"text-align:right;\"> 8.2921 </td>\n",
       "   <td style=\"text-align:right;\"> 7.148 </td>\n",
       "   <td style=\"text-align:right;\"> 17 </td>\n",
       "   <td style=\"text-align:right;\"> 104 </td>\n",
       "   <td style=\"text-align:right;\"> 182 </td>\n",
       "   <td style=\"text-align:left;\"> DK </td>\n",
       "   <td style=\"text-align:left;\"> micro met </td>\n",
       "   <td style=\"text-align:right;\"> 21 </td>\n",
       "   <td style=\"text-align:right;\"> 4.45 </td>\n",
       "   <td style=\"text-align:right;\"> 3.98 </td>\n",
       "   <td style=\"text-align:right;\"> 0 </td>\n",
       "   <td style=\"text-align:right;\"> 122.11 </td>\n",
       "   <td style=\"text-align:left;\"> bc </td>\n",
       "   <td style=\"text-align:right;\"> 31.8 </td>\n",
       "   <td style=\"text-align:right;\"> 3.7 </td>\n",
       "   <td style=\"text-align:right;\"> 7.35 </td>\n",
       "   <td style=\"text-align:left;\"> pig </td>\n",
       "   <td style=\"text-align:left;\"> none </td>\n",
       "   <td style=\"text-align:right;\"> 1000 </td>\n",
       "  </tr>\n",
       "</tbody>\n",
       "</table>"
      ]
     },
     "metadata": {},
     "output_type": "display_data"
    }
   ],
   "source": [
    "head (data_random_forest_dynamique_without_interpolation, n = 2) %>% embed"
   ]
  },
  {
   "cell_type": "code",
   "execution_count": 67,
   "id": "9a5b274a-9434-4dd5-bea5-84cc5db29e57",
   "metadata": {},
   "outputs": [],
   "source": [
    "data_random_forest_dynamique_data_a = rbind (\n",
    "    data_random_forest_dynamique_without_interpolation,\n",
    "    data_random_forest_dynamique\n",
    ")"
   ]
  },
  {
   "cell_type": "code",
   "execution_count": 68,
   "id": "e0188a09-bdff-4b7a-83f3-d849e235dab5",
   "metadata": {},
   "outputs": [
    {
     "data": {
      "text/html": [
       "<style>\n",
       ".list-inline {list-style: none; margin:0; padding: 0}\n",
       ".list-inline>li {display: inline-block}\n",
       ".list-inline>li:not(:last-child)::after {content: \"\\00b7\"; padding: 0 .5ex}\n",
       "</style>\n",
       "<ol class=list-inline><li>98277</li><li>19</li></ol>\n"
      ],
      "text/latex": [
       "\\begin{enumerate*}\n",
       "\\item 98277\n",
       "\\item 19\n",
       "\\end{enumerate*}\n"
      ],
      "text/markdown": [
       "1. 98277\n",
       "2. 19\n",
       "\n",
       "\n"
      ],
      "text/plain": [
       "[1] 98277    19"
      ]
     },
     "metadata": {},
     "output_type": "display_data"
    }
   ],
   "source": [
    "dim (data_random_forest_dynamique_data_a)"
   ]
  },
  {
   "cell_type": "markdown",
   "id": "55229589-c632-4d62-b144-af7552ce34ba",
   "metadata": {},
   "source": [
    "## Model selection"
   ]
  },
  {
   "cell_type": "code",
   "execution_count": 69,
   "id": "bd49b931-d86e-4af8-9a4f-ce41f11aa975",
   "metadata": {},
   "outputs": [],
   "source": [
    "p = 1"
   ]
  },
  {
   "cell_type": "raw",
   "id": "295aa566-75f9-4dcb-abcf-e1a413b6d679",
   "metadata": {
    "scrolled": true
   },
   "source": [
    "set.seed(123)\n",
    "\n",
    "for (k in c(1 : p)){\n",
    "    \n",
    "    hyper_grid = expand.grid (\n",
    "        mtry = c (2, 3),\n",
    "        MAE = NA,\n",
    "        sample = NA,\n",
    "        running_time = NA\n",
    "    )\n",
    "\n",
    "    pmids_eval = list_eval_pmids[[k]]\n",
    "    pmids_train = list_train_pmids[[k]]\n",
    "    \n",
    "    for (j in seq_len (nrow (hyper_grid))) {    \n",
    "\n",
    "        print (paste (k, hyper_grid[j, ]))\n",
    "        flush.console()\n",
    "\n",
    "        t1 = Sys.time()\n",
    "        \n",
    "        # training -------------------------------------------------------\n",
    "        data_train = data_random_forest_dynamique_data_a %>% \n",
    "            filter (pmid %in% pmids_train) %>%\n",
    "            select (- pmid, - country, - meas.tech, - inst) \n",
    "        \n",
    "        model_random_forest = randomForest (\n",
    "                e.cum ~ .,\n",
    "                data = data_train,\n",
    "                mtry = hyper_grid$mtry[j],\n",
    "                ntree = 500,\n",
    "                importance = TRUE\n",
    "        )\n",
    "        # ----------------------------------------------------------------\n",
    "        \n",
    "        # Evaluation -----------------------------------------------------\n",
    "        data_eval = data %>%\n",
    "            filter (pmid %in% pmids_eval) \n",
    "\n",
    "        pmids_eval = data_eval$pmid %>% unique # getting pmids in the right order\n",
    "\n",
    "        df_predictions_random_forest = NULL\n",
    "        \n",
    "        for (i_pmid in pmids_eval){\n",
    "        \n",
    "            data_tmp = data_eval %>%\n",
    "              filter (pmid == i_pmid) %>%\n",
    "              mutate (e.cum_hat = NA, e.cum_shift = NA, .after = \"e.cum\")\n",
    "        \n",
    "            n = nrow (data_tmp)\n",
    "            prediction = 0\n",
    "        \n",
    "            for (l in c (1 : n)){\n",
    "                data_tmp$e.cum_shift[l] = prediction\n",
    "                newdata = data_tmp [l, ] %>% select (- pmid, - e.cum, - country, - meas.tech, - e.cum_hat, - inst)\n",
    "                prediction = predict (model_random_forest, newdata = newdata)\n",
    "                data_tmp$e.cum_hat [l] = prediction\n",
    "            }\n",
    "        \n",
    "            df_predictions_random_forest = rbind (df_predictions_random_forest, data_tmp)\n",
    "        }\n",
    "        \n",
    "        predictions_eval = df_predictions_random_forest$e.cum_hat\n",
    "        \n",
    "    \n",
    "        truth_eval = data %>% filter (pmid %in% pmids_eval) %>% pull (e.cum)\n",
    "    \n",
    "        hyper_grid$MAE[j] = mean (abs (predictions_eval - truth_eval))\n",
    "        hyper_grid$sample[j] = paste (\"sample_\", k, sep = \"\")\n",
    "        # ----------------------------------------------------------------\n",
    "        \n",
    "        t2 = Sys.time()\n",
    "        running_time = difftime (t2, t1, units = \"min\")\n",
    "        print (running_time)\n",
    "        hyper_grid$running_time[j] = running_time\n",
    "        \n",
    "    }\n",
    "\n",
    "    save (hyper_grid, file = paste (\"results/dynamique_data_a/hyper_grid_sample_\", k, \".Rdata\", sep = \"\"))\n",
    "\n",
    "}"
   ]
  },
  {
   "cell_type": "code",
   "execution_count": 70,
   "id": "605ed959-150c-4280-ac57-ab697b63a053",
   "metadata": {},
   "outputs": [],
   "source": [
    "files <- dir(\"results/dynamique_data_a\", pattern = \"hyper_grid_sample\", full.names = TRUE)\n",
    "\n",
    "df_model_selection <- do.call(rbind, lapply(files, function(x) get(load(x))))"
   ]
  },
  {
   "cell_type": "code",
   "execution_count": 71,
   "id": "e22ee243-6802-4d82-8e2d-48e9ddd98366",
   "metadata": {},
   "outputs": [
    {
     "data": {
      "text/html": [
       "<table class=\"dataframe\">\n",
       "<caption>A data.frame: 2 × 4</caption>\n",
       "<thead>\n",
       "\t<tr><th></th><th scope=col>mtry</th><th scope=col>MAE</th><th scope=col>sample</th><th scope=col>running_time</th></tr>\n",
       "\t<tr><th></th><th scope=col>&lt;dbl&gt;</th><th scope=col>&lt;dbl&gt;</th><th scope=col>&lt;chr&gt;</th><th scope=col>&lt;dbl&gt;</th></tr>\n",
       "</thead>\n",
       "<tbody>\n",
       "\t<tr><th scope=row>1</th><td>2</td><td>3.894557</td><td>sample_1</td><td>16.59721</td></tr>\n",
       "\t<tr><th scope=row>2</th><td>3</td><td>3.953204</td><td>sample_1</td><td>43.36496</td></tr>\n",
       "</tbody>\n",
       "</table>\n"
      ],
      "text/latex": [
       "A data.frame: 2 × 4\n",
       "\\begin{tabular}{r|llll}\n",
       "  & mtry & MAE & sample & running\\_time\\\\\n",
       "  & <dbl> & <dbl> & <chr> & <dbl>\\\\\n",
       "\\hline\n",
       "\t1 & 2 & 3.894557 & sample\\_1 & 16.59721\\\\\n",
       "\t2 & 3 & 3.953204 & sample\\_1 & 43.36496\\\\\n",
       "\\end{tabular}\n"
      ],
      "text/markdown": [
       "\n",
       "A data.frame: 2 × 4\n",
       "\n",
       "| <!--/--> | mtry &lt;dbl&gt; | MAE &lt;dbl&gt; | sample &lt;chr&gt; | running_time &lt;dbl&gt; |\n",
       "|---|---|---|---|---|\n",
       "| 1 | 2 | 3.894557 | sample_1 | 16.59721 |\n",
       "| 2 | 3 | 3.953204 | sample_1 | 43.36496 |\n",
       "\n"
      ],
      "text/plain": [
       "  mtry MAE      sample   running_time\n",
       "1 2    3.894557 sample_1 16.59721    \n",
       "2 3    3.953204 sample_1 43.36496    "
      ]
     },
     "metadata": {},
     "output_type": "display_data"
    }
   ],
   "source": [
    "df_model_selection %>% head"
   ]
  },
  {
   "cell_type": "code",
   "execution_count": 72,
   "id": "ac8ac6c1-13c9-4d0a-ab04-20d173e8311f",
   "metadata": {
    "scrolled": true
   },
   "outputs": [
    {
     "data": {
      "text/html": [
       "<table class=\"dataframe\">\n",
       "<caption>A data.frame: 2 × 2</caption>\n",
       "<thead>\n",
       "\t<tr><th scope=col>mtry</th><th scope=col>mean_MAE</th></tr>\n",
       "\t<tr><th scope=col>&lt;dbl&gt;</th><th scope=col>&lt;dbl&gt;</th></tr>\n",
       "</thead>\n",
       "<tbody>\n",
       "\t<tr><td>2</td><td>3.894557</td></tr>\n",
       "\t<tr><td>3</td><td>3.953204</td></tr>\n",
       "</tbody>\n",
       "</table>\n"
      ],
      "text/latex": [
       "A data.frame: 2 × 2\n",
       "\\begin{tabular}{ll}\n",
       " mtry & mean\\_MAE\\\\\n",
       " <dbl> & <dbl>\\\\\n",
       "\\hline\n",
       "\t 2 & 3.894557\\\\\n",
       "\t 3 & 3.953204\\\\\n",
       "\\end{tabular}\n"
      ],
      "text/markdown": [
       "\n",
       "A data.frame: 2 × 2\n",
       "\n",
       "| mtry &lt;dbl&gt; | mean_MAE &lt;dbl&gt; |\n",
       "|---|---|\n",
       "| 2 | 3.894557 |\n",
       "| 3 | 3.953204 |\n",
       "\n"
      ],
      "text/plain": [
       "  mtry mean_MAE\n",
       "1 2    3.894557\n",
       "2 3    3.953204"
      ]
     },
     "metadata": {},
     "output_type": "display_data"
    }
   ],
   "source": [
    "df_model_selection %>% \n",
    "    summarise (mean_MAE = mean (MAE), .by = c (mtry)) %>%\n",
    "    arrange (mean_MAE)"
   ]
  },
  {
   "cell_type": "code",
   "execution_count": 73,
   "id": "e9bac0a8-0dbb-4d4a-a8a9-96392e9b45ce",
   "metadata": {},
   "outputs": [],
   "source": [
    "mtry_star = df_model_selection %>% \n",
    "    summarise (mean_MAE = mean (MAE), .by = c (mtry)) %>% \n",
    "    arrange (mean_MAE) %>% \n",
    "    pull (mtry) %>% \n",
    "    head (1)"
   ]
  },
  {
   "cell_type": "code",
   "execution_count": 74,
   "id": "090486f9-7f51-409d-95c9-eb1ff200b44e",
   "metadata": {},
   "outputs": [
    {
     "data": {
      "text/html": [
       "2"
      ],
      "text/latex": [
       "2"
      ],
      "text/markdown": [
       "2"
      ],
      "text/plain": [
       "[1] 2"
      ]
     },
     "metadata": {},
     "output_type": "display_data"
    }
   ],
   "source": [
    "mtry_star"
   ]
  },
  {
   "cell_type": "markdown",
   "id": "e1d82d3e-ccc8-42bc-90a8-7da83855b2cd",
   "metadata": {},
   "source": [
    "## Test"
   ]
  },
  {
   "cell_type": "code",
   "execution_count": 75,
   "id": "cf4e03d4-6ca1-4b80-b49d-82becf62c188",
   "metadata": {},
   "outputs": [],
   "source": [
    "p = 15"
   ]
  },
  {
   "cell_type": "raw",
   "id": "5ce6662a-47c9-484b-aabe-0dd7bb3fe2da",
   "metadata": {
    "scrolled": true
   },
   "source": [
    "set.seed(123)\n",
    "\n",
    "for (k in c(1 : p)){\n",
    "\n",
    "    df_res = NULL\n",
    "       \n",
    "    pmids_test = list_test_pmids[[k]]\n",
    "    pmids_train = setdiff (pmids, pmids_test)\n",
    "        \n",
    "    print (k)\n",
    "    flush.console()\n",
    "    \n",
    "    t1 = Sys.time()\n",
    "\n",
    "    data_train = data_random_forest_dynamique_data_a %>% \n",
    "        filter (pmid %in% pmids_train) %>%\n",
    "        select (- pmid, - country, - meas.tech, - inst) \n",
    "    \n",
    "    data_test = data %>%\n",
    "        filter (pmid %in% pmids_test)\n",
    "    \n",
    "    pmids_test = data_test$pmid %>% unique # getting pmids in the right order for future testing\n",
    "\n",
    "    data_predictions = data %>% filter (pmid %in% pmids_test)\n",
    "    \n",
    "    # training -------------------------------------------------------\n",
    "    model_random_forest = randomForest (\n",
    "            e.cum ~ .,\n",
    "            data = data_train,\n",
    "            mtry = mtry_star,\n",
    "            importance = TRUE\n",
    "    )\n",
    "    # ----------------------------------------------------------------\n",
    "    \n",
    "    # Test -----------------------------------------------------------\n",
    "    \n",
    "    # 1 - prediction using the model on 0, dt, 2dt, ...\n",
    "    df_predictions_random_forest = NULL\n",
    "    \n",
    "    for (i_pmid in pmids_test){\n",
    "    \n",
    "        data_tmp = data_test %>%\n",
    "          filter (pmid == i_pmid) %>%\n",
    "          mutate (e.cum_hat = NA, e.cum_shift = NA, .after = \"e.cum\")\n",
    "    \n",
    "        n = nrow (data_tmp)\n",
    "        prediction = 0\n",
    "    \n",
    "        for (l in c (1 : n)){\n",
    "            data_tmp$e.cum_shift[l] = prediction\n",
    "            newdata = data_tmp [l, ] %>% select (- pmid, - e.cum, - country, - meas.tech, - e.cum_hat, - inst)\n",
    "            prediction = predict (model_random_forest, newdata = newdata)\n",
    "            data_tmp$e.cum_hat [l] = prediction\n",
    "        }\n",
    "    \n",
    "        df_predictions_random_forest = rbind (df_predictions_random_forest, data_tmp)\n",
    "    }\n",
    "\n",
    "    data_predictions = data_predictions %>% mutate (e.cum_hat = df_predictions_random_forest$e.cum_hat, sample = paste (\"sample_\", k, sep =\"\"))\n",
    "    \n",
    "    t2 = Sys.time()\n",
    "    data_predictions = data_predictions %>% mutate (running_time = difftime (t2, t1))\n",
    "    \n",
    "    df_res = rbind (df_res, data_predictions)\n",
    "\n",
    "save (df_res, file = paste (\"results/dynamique_data_a/df_res_sample_\", k, \".Rdata\", sep = \"\"))\n",
    "\n",
    "}"
   ]
  },
  {
   "cell_type": "code",
   "execution_count": 76,
   "id": "64c8221f-feee-4ad2-aea6-059bc6ea394c",
   "metadata": {},
   "outputs": [],
   "source": [
    "files <- dir(\"results/dynamique_data_a\", pattern = \"df_res_sample_\", full.names = TRUE)\n",
    "\n",
    "df_res <- do.call(rbind, lapply(files, function(x) get(load(x))))"
   ]
  },
  {
   "cell_type": "code",
   "execution_count": 77,
   "id": "3d33033e-ec52-401b-9b55-eeee98d87004",
   "metadata": {},
   "outputs": [
    {
     "data": {
      "text/html": [
       "<table class=\"table\" style=\"margin-left: auto; margin-right: auto;\">\n",
       " <thead>\n",
       "  <tr>\n",
       "   <th style=\"text-align:right;\"> e.cum </th>\n",
       "   <th style=\"text-align:right;\"> e.rel </th>\n",
       "   <th style=\"text-align:right;\"> j.NH3 </th>\n",
       "   <th style=\"text-align:right;\"> pmid </th>\n",
       "   <th style=\"text-align:right;\"> eid </th>\n",
       "   <th style=\"text-align:left;\"> exper </th>\n",
       "   <th style=\"text-align:left;\"> field </th>\n",
       "   <th style=\"text-align:left;\"> meas.tech </th>\n",
       "   <th style=\"text-align:left;\"> country </th>\n",
       "   <th style=\"text-align:right;\"> inst </th>\n",
       "   <th style=\"text-align:right;\"> ct </th>\n",
       "   <th style=\"text-align:right;\"> dt </th>\n",
       "   <th style=\"text-align:right;\"> air.temp </th>\n",
       "   <th style=\"text-align:right;\"> wind.2m </th>\n",
       "   <th style=\"text-align:right;\"> rain.rate </th>\n",
       "   <th style=\"text-align:right;\"> tan.app </th>\n",
       "   <th style=\"text-align:right;\"> app.rate </th>\n",
       "   <th style=\"text-align:right;\"> man.dm </th>\n",
       "   <th style=\"text-align:right;\"> man.ph </th>\n",
       "   <th style=\"text-align:left;\"> man.source </th>\n",
       "   <th style=\"text-align:right;\"> t.incorp </th>\n",
       "   <th style=\"text-align:left;\"> app.mthd </th>\n",
       "   <th style=\"text-align:left;\"> incorp </th>\n",
       "   <th style=\"text-align:right;\"> e.cum_hat </th>\n",
       "   <th style=\"text-align:left;\"> sample </th>\n",
       "   <th style=\"text-align:left;\"> running_time </th>\n",
       "  </tr>\n",
       " </thead>\n",
       "<tbody>\n",
       "  <tr>\n",
       "   <td style=\"text-align:right;\"> 8.6395 </td>\n",
       "   <td style=\"text-align:right;\"> 0.0789789 </td>\n",
       "   <td style=\"text-align:right;\"> 1.8381915 </td>\n",
       "   <td style=\"text-align:right;\"> 195 </td>\n",
       "   <td style=\"text-align:right;\"> 57 </td>\n",
       "   <td style=\"text-align:left;\"> 5 </td>\n",
       "   <td style=\"text-align:left;\"> NA </td>\n",
       "   <td style=\"text-align:left;\"> micro met </td>\n",
       "   <td style=\"text-align:left;\"> DK </td>\n",
       "   <td style=\"text-align:right;\"> 104 </td>\n",
       "   <td style=\"text-align:right;\"> 4.7 </td>\n",
       "   <td style=\"text-align:right;\"> 4.7 </td>\n",
       "   <td style=\"text-align:right;\"> 11.82 </td>\n",
       "   <td style=\"text-align:right;\"> 7.47 </td>\n",
       "   <td style=\"text-align:right;\"> 0.000000 </td>\n",
       "   <td style=\"text-align:right;\"> 109.390 </td>\n",
       "   <td style=\"text-align:right;\"> 30.9 </td>\n",
       "   <td style=\"text-align:right;\"> 3.1 </td>\n",
       "   <td style=\"text-align:right;\"> 7.53 </td>\n",
       "   <td style=\"text-align:left;\"> pig </td>\n",
       "   <td style=\"text-align:right;\"> 1000 </td>\n",
       "   <td style=\"text-align:left;\"> bc </td>\n",
       "   <td style=\"text-align:left;\"> none </td>\n",
       "   <td style=\"text-align:right;\"> 8.609797 </td>\n",
       "   <td style=\"text-align:left;\"> sample_1 </td>\n",
       "   <td style=\"text-align:left;\"> 21.37064 mins </td>\n",
       "  </tr>\n",
       "  <tr>\n",
       "   <td style=\"text-align:right;\"> 12.3890 </td>\n",
       "   <td style=\"text-align:right;\"> 0.1132553 </td>\n",
       "   <td style=\"text-align:right;\"> 0.2005080 </td>\n",
       "   <td style=\"text-align:right;\"> 195 </td>\n",
       "   <td style=\"text-align:right;\"> 57 </td>\n",
       "   <td style=\"text-align:left;\"> 5 </td>\n",
       "   <td style=\"text-align:left;\"> NA </td>\n",
       "   <td style=\"text-align:left;\"> micro met </td>\n",
       "   <td style=\"text-align:left;\"> DK </td>\n",
       "   <td style=\"text-align:right;\"> 104 </td>\n",
       "   <td style=\"text-align:right;\"> 23.4 </td>\n",
       "   <td style=\"text-align:right;\"> 18.7 </td>\n",
       "   <td style=\"text-align:right;\"> 8.68 </td>\n",
       "   <td style=\"text-align:right;\"> 6.75 </td>\n",
       "   <td style=\"text-align:right;\"> 0.000000 </td>\n",
       "   <td style=\"text-align:right;\"> 109.390 </td>\n",
       "   <td style=\"text-align:right;\"> 30.9 </td>\n",
       "   <td style=\"text-align:right;\"> 3.1 </td>\n",
       "   <td style=\"text-align:right;\"> 7.53 </td>\n",
       "   <td style=\"text-align:left;\"> pig </td>\n",
       "   <td style=\"text-align:right;\"> 1000 </td>\n",
       "   <td style=\"text-align:left;\"> bc </td>\n",
       "   <td style=\"text-align:left;\"> none </td>\n",
       "   <td style=\"text-align:right;\"> 9.939658 </td>\n",
       "   <td style=\"text-align:left;\"> sample_1 </td>\n",
       "   <td style=\"text-align:left;\"> 21.37064 mins </td>\n",
       "  </tr>\n",
       "  <tr>\n",
       "   <td style=\"text-align:right;\"> 14.3920 </td>\n",
       "   <td style=\"text-align:right;\"> 0.1315660 </td>\n",
       "   <td style=\"text-align:right;\"> 0.0953810 </td>\n",
       "   <td style=\"text-align:right;\"> 195 </td>\n",
       "   <td style=\"text-align:right;\"> 57 </td>\n",
       "   <td style=\"text-align:left;\"> 5 </td>\n",
       "   <td style=\"text-align:left;\"> NA </td>\n",
       "   <td style=\"text-align:left;\"> micro met </td>\n",
       "   <td style=\"text-align:left;\"> DK </td>\n",
       "   <td style=\"text-align:right;\"> 104 </td>\n",
       "   <td style=\"text-align:right;\"> 44.4 </td>\n",
       "   <td style=\"text-align:right;\"> 21.0 </td>\n",
       "   <td style=\"text-align:right;\"> 10.97 </td>\n",
       "   <td style=\"text-align:right;\"> 5.91 </td>\n",
       "   <td style=\"text-align:right;\"> 0.000000 </td>\n",
       "   <td style=\"text-align:right;\"> 109.390 </td>\n",
       "   <td style=\"text-align:right;\"> 30.9 </td>\n",
       "   <td style=\"text-align:right;\"> 3.1 </td>\n",
       "   <td style=\"text-align:right;\"> 7.53 </td>\n",
       "   <td style=\"text-align:left;\"> pig </td>\n",
       "   <td style=\"text-align:right;\"> 1000 </td>\n",
       "   <td style=\"text-align:left;\"> bc </td>\n",
       "   <td style=\"text-align:left;\"> none </td>\n",
       "   <td style=\"text-align:right;\"> 11.558022 </td>\n",
       "   <td style=\"text-align:left;\"> sample_1 </td>\n",
       "   <td style=\"text-align:left;\"> 21.37064 mins </td>\n",
       "  </tr>\n",
       "  <tr>\n",
       "   <td style=\"text-align:right;\"> 15.8820 </td>\n",
       "   <td style=\"text-align:right;\"> 0.1451869 </td>\n",
       "   <td style=\"text-align:right;\"> 0.0295050 </td>\n",
       "   <td style=\"text-align:right;\"> 195 </td>\n",
       "   <td style=\"text-align:right;\"> 57 </td>\n",
       "   <td style=\"text-align:left;\"> 5 </td>\n",
       "   <td style=\"text-align:left;\"> NA </td>\n",
       "   <td style=\"text-align:left;\"> micro met </td>\n",
       "   <td style=\"text-align:left;\"> DK </td>\n",
       "   <td style=\"text-align:right;\"> 104 </td>\n",
       "   <td style=\"text-align:right;\"> 94.9 </td>\n",
       "   <td style=\"text-align:right;\"> 50.5 </td>\n",
       "   <td style=\"text-align:right;\"> 12.48 </td>\n",
       "   <td style=\"text-align:right;\"> 5.52 </td>\n",
       "   <td style=\"text-align:right;\"> 0.091089 </td>\n",
       "   <td style=\"text-align:right;\"> 109.390 </td>\n",
       "   <td style=\"text-align:right;\"> 30.9 </td>\n",
       "   <td style=\"text-align:right;\"> 3.1 </td>\n",
       "   <td style=\"text-align:right;\"> 7.53 </td>\n",
       "   <td style=\"text-align:left;\"> pig </td>\n",
       "   <td style=\"text-align:right;\"> 1000 </td>\n",
       "   <td style=\"text-align:left;\"> bc </td>\n",
       "   <td style=\"text-align:left;\"> none </td>\n",
       "   <td style=\"text-align:right;\"> 12.970432 </td>\n",
       "   <td style=\"text-align:left;\"> sample_1 </td>\n",
       "   <td style=\"text-align:left;\"> 21.37064 mins </td>\n",
       "  </tr>\n",
       "  <tr>\n",
       "   <td style=\"text-align:right;\"> 18.5000 </td>\n",
       "   <td style=\"text-align:right;\"> 0.1691197 </td>\n",
       "   <td style=\"text-align:right;\"> 0.0385000 </td>\n",
       "   <td style=\"text-align:right;\"> 195 </td>\n",
       "   <td style=\"text-align:right;\"> 57 </td>\n",
       "   <td style=\"text-align:left;\"> 5 </td>\n",
       "   <td style=\"text-align:left;\"> NA </td>\n",
       "   <td style=\"text-align:left;\"> micro met </td>\n",
       "   <td style=\"text-align:left;\"> DK </td>\n",
       "   <td style=\"text-align:right;\"> 104 </td>\n",
       "   <td style=\"text-align:right;\"> 162.9 </td>\n",
       "   <td style=\"text-align:right;\"> 68.0 </td>\n",
       "   <td style=\"text-align:right;\"> 13.03 </td>\n",
       "   <td style=\"text-align:right;\"> 5.91 </td>\n",
       "   <td style=\"text-align:right;\"> 0.041176 </td>\n",
       "   <td style=\"text-align:right;\"> 109.390 </td>\n",
       "   <td style=\"text-align:right;\"> 30.9 </td>\n",
       "   <td style=\"text-align:right;\"> 3.1 </td>\n",
       "   <td style=\"text-align:right;\"> 7.53 </td>\n",
       "   <td style=\"text-align:left;\"> pig </td>\n",
       "   <td style=\"text-align:right;\"> 1000 </td>\n",
       "   <td style=\"text-align:left;\"> bc </td>\n",
       "   <td style=\"text-align:left;\"> none </td>\n",
       "   <td style=\"text-align:right;\"> 13.618742 </td>\n",
       "   <td style=\"text-align:left;\"> sample_1 </td>\n",
       "   <td style=\"text-align:left;\"> 21.37064 mins </td>\n",
       "  </tr>\n",
       "  <tr>\n",
       "   <td style=\"text-align:right;\"> 1.8680 </td>\n",
       "   <td style=\"text-align:right;\"> 0.0219985 </td>\n",
       "   <td style=\"text-align:right;\"> 0.4151111 </td>\n",
       "   <td style=\"text-align:right;\"> 196 </td>\n",
       "   <td style=\"text-align:right;\"> 58 </td>\n",
       "   <td style=\"text-align:left;\"> 6 </td>\n",
       "   <td style=\"text-align:left;\"> NA </td>\n",
       "   <td style=\"text-align:left;\"> micro met </td>\n",
       "   <td style=\"text-align:left;\"> DK </td>\n",
       "   <td style=\"text-align:right;\"> 104 </td>\n",
       "   <td style=\"text-align:right;\"> 4.5 </td>\n",
       "   <td style=\"text-align:right;\"> 4.5 </td>\n",
       "   <td style=\"text-align:right;\"> 11.82 </td>\n",
       "   <td style=\"text-align:right;\"> 7.47 </td>\n",
       "   <td style=\"text-align:right;\"> 0.000000 </td>\n",
       "   <td style=\"text-align:right;\"> 84.915 </td>\n",
       "   <td style=\"text-align:right;\"> 25.5 </td>\n",
       "   <td style=\"text-align:right;\"> 3.0 </td>\n",
       "   <td style=\"text-align:right;\"> 7.53 </td>\n",
       "   <td style=\"text-align:left;\"> pig </td>\n",
       "   <td style=\"text-align:right;\"> 1000 </td>\n",
       "   <td style=\"text-align:left;\"> bsth </td>\n",
       "   <td style=\"text-align:left;\"> none </td>\n",
       "   <td style=\"text-align:right;\"> 5.413256 </td>\n",
       "   <td style=\"text-align:left;\"> sample_1 </td>\n",
       "   <td style=\"text-align:left;\"> 21.37064 mins </td>\n",
       "  </tr>\n",
       "</tbody>\n",
       "</table>"
      ]
     },
     "metadata": {},
     "output_type": "display_data"
    }
   ],
   "source": [
    "df_res %>% head %>% embed"
   ]
  },
  {
   "cell_type": "code",
   "execution_count": 78,
   "id": "f4222245-ceda-483a-a904-92de32bf575d",
   "metadata": {},
   "outputs": [
    {
     "data": {
      "text/html": [
       "<style>\n",
       ".list-inline {list-style: none; margin:0; padding: 0}\n",
       ".list-inline>li {display: inline-block}\n",
       ".list-inline>li:not(:last-child)::after {content: \"\\00b7\"; padding: 0 .5ex}\n",
       "</style>\n",
       "<ol class=list-inline><li>9976</li><li>26</li></ol>\n"
      ],
      "text/latex": [
       "\\begin{enumerate*}\n",
       "\\item 9976\n",
       "\\item 26\n",
       "\\end{enumerate*}\n"
      ],
      "text/markdown": [
       "1. 9976\n",
       "2. 26\n",
       "\n",
       "\n"
      ],
      "text/plain": [
       "[1] 9976   26"
      ]
     },
     "metadata": {},
     "output_type": "display_data"
    }
   ],
   "source": [
    "dim (df_res)"
   ]
  },
  {
   "cell_type": "code",
   "execution_count": 79,
   "id": "29b8b38e-c909-4bd0-94fc-7c0c581481a9",
   "metadata": {
    "scrolled": true
   },
   "outputs": [
    {
     "data": {
      "text/html": [
       "<table class=\"dataframe\">\n",
       "<caption>A data.frame: 15 × 2</caption>\n",
       "<thead>\n",
       "\t<tr><th scope=col>sample</th><th scope=col>MAE</th></tr>\n",
       "\t<tr><th scope=col>&lt;chr&gt;</th><th scope=col>&lt;dbl&gt;</th></tr>\n",
       "</thead>\n",
       "<tbody>\n",
       "\t<tr><td>sample_1 </td><td>4.621731</td></tr>\n",
       "\t<tr><td>sample_10</td><td>5.172620</td></tr>\n",
       "\t<tr><td>sample_11</td><td>4.841594</td></tr>\n",
       "\t<tr><td>sample_12</td><td>4.374180</td></tr>\n",
       "\t<tr><td>sample_13</td><td>4.501640</td></tr>\n",
       "\t<tr><td>sample_14</td><td>4.147666</td></tr>\n",
       "\t<tr><td>sample_15</td><td>4.311383</td></tr>\n",
       "\t<tr><td>sample_2 </td><td>4.986458</td></tr>\n",
       "\t<tr><td>sample_3 </td><td>7.630366</td></tr>\n",
       "\t<tr><td>sample_4 </td><td>4.311673</td></tr>\n",
       "\t<tr><td>sample_5 </td><td>5.570158</td></tr>\n",
       "\t<tr><td>sample_6 </td><td>5.244544</td></tr>\n",
       "\t<tr><td>sample_7 </td><td>5.381065</td></tr>\n",
       "\t<tr><td>sample_8 </td><td>4.999535</td></tr>\n",
       "\t<tr><td>sample_9 </td><td>4.105838</td></tr>\n",
       "</tbody>\n",
       "</table>\n"
      ],
      "text/latex": [
       "A data.frame: 15 × 2\n",
       "\\begin{tabular}{ll}\n",
       " sample & MAE\\\\\n",
       " <chr> & <dbl>\\\\\n",
       "\\hline\n",
       "\t sample\\_1  & 4.621731\\\\\n",
       "\t sample\\_10 & 5.172620\\\\\n",
       "\t sample\\_11 & 4.841594\\\\\n",
       "\t sample\\_12 & 4.374180\\\\\n",
       "\t sample\\_13 & 4.501640\\\\\n",
       "\t sample\\_14 & 4.147666\\\\\n",
       "\t sample\\_15 & 4.311383\\\\\n",
       "\t sample\\_2  & 4.986458\\\\\n",
       "\t sample\\_3  & 7.630366\\\\\n",
       "\t sample\\_4  & 4.311673\\\\\n",
       "\t sample\\_5  & 5.570158\\\\\n",
       "\t sample\\_6  & 5.244544\\\\\n",
       "\t sample\\_7  & 5.381065\\\\\n",
       "\t sample\\_8  & 4.999535\\\\\n",
       "\t sample\\_9  & 4.105838\\\\\n",
       "\\end{tabular}\n"
      ],
      "text/markdown": [
       "\n",
       "A data.frame: 15 × 2\n",
       "\n",
       "| sample &lt;chr&gt; | MAE &lt;dbl&gt; |\n",
       "|---|---|\n",
       "| sample_1  | 4.621731 |\n",
       "| sample_10 | 5.172620 |\n",
       "| sample_11 | 4.841594 |\n",
       "| sample_12 | 4.374180 |\n",
       "| sample_13 | 4.501640 |\n",
       "| sample_14 | 4.147666 |\n",
       "| sample_15 | 4.311383 |\n",
       "| sample_2  | 4.986458 |\n",
       "| sample_3  | 7.630366 |\n",
       "| sample_4  | 4.311673 |\n",
       "| sample_5  | 5.570158 |\n",
       "| sample_6  | 5.244544 |\n",
       "| sample_7  | 5.381065 |\n",
       "| sample_8  | 4.999535 |\n",
       "| sample_9  | 4.105838 |\n",
       "\n"
      ],
      "text/plain": [
       "   sample    MAE     \n",
       "1  sample_1  4.621731\n",
       "2  sample_10 5.172620\n",
       "3  sample_11 4.841594\n",
       "4  sample_12 4.374180\n",
       "5  sample_13 4.501640\n",
       "6  sample_14 4.147666\n",
       "7  sample_15 4.311383\n",
       "8  sample_2  4.986458\n",
       "9  sample_3  7.630366\n",
       "10 sample_4  4.311673\n",
       "11 sample_5  5.570158\n",
       "12 sample_6  5.244544\n",
       "13 sample_7  5.381065\n",
       "14 sample_8  4.999535\n",
       "15 sample_9  4.105838"
      ]
     },
     "metadata": {},
     "output_type": "display_data"
    }
   ],
   "source": [
    "df_res %>%\n",
    "    filter (ct == max (ct), .by = pmid) %>%\n",
    "    summarise (MAE = mean (abs (e.cum - e.cum_hat)), .by = c(sample))"
   ]
  },
  {
   "cell_type": "markdown",
   "id": "736dfc63-c53a-47a9-8ec2-6f75074f5638",
   "metadata": {},
   "source": [
    "# End"
   ]
  }
 ],
 "metadata": {
  "kernelspec": {
   "display_name": "R",
   "language": "R",
   "name": "ir"
  },
  "language_info": {
   "codemirror_mode": "r",
   "file_extension": ".r",
   "mimetype": "text/x-r-source",
   "name": "R",
   "pygments_lexer": "r",
   "version": "4.4.1"
  }
 },
 "nbformat": 4,
 "nbformat_minor": 5
}
