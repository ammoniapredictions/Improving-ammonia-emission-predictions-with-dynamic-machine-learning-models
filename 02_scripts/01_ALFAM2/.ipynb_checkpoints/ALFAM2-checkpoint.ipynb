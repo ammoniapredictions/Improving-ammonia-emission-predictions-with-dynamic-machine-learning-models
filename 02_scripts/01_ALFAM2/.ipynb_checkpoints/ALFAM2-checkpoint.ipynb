{
 "cells": [
  {
   "cell_type": "markdown",
   "id": "46359f47-a874-45ed-850b-24846e901f93",
   "metadata": {},
   "source": [
    "# Setup"
   ]
  },
  {
   "cell_type": "code",
   "execution_count": 1,
   "id": "2c68424b-96a0-4dda-85d5-d4c55d04d85c",
   "metadata": {},
   "outputs": [
    {
     "name": "stderr",
     "output_type": "stream",
     "text": [
      "\n",
      "Attaching package: ‘dplyr’\n",
      "\n",
      "\n",
      "The following objects are masked from ‘package:stats’:\n",
      "\n",
      "    filter, lag\n",
      "\n",
      "\n",
      "The following objects are masked from ‘package:base’:\n",
      "\n",
      "    intersect, setdiff, setequal, union\n",
      "\n",
      "\n",
      "\n",
      "Attaching package: ‘kableExtra’\n",
      "\n",
      "\n",
      "The following object is masked from ‘package:dplyr’:\n",
      "\n",
      "    group_rows\n",
      "\n",
      "\n"
     ]
    }
   ],
   "source": [
    "library (\"ggplot2\")\n",
    "library (\"dplyr\") \n",
    "library (\"tibble\") \n",
    "library (\"tidyr\") \n",
    "library (\"ALFAM2\")\n",
    "\n",
    "source (\"../../01_functions/functions.R\")"
   ]
  },
  {
   "cell_type": "code",
   "execution_count": 2,
   "id": "7c01bd6c-bf7c-4f7d-8ea4-5017e6076d22",
   "metadata": {},
   "outputs": [
    {
     "data": {
      "text/plain": [
       "[1] ‘4.2’"
      ]
     },
     "metadata": {},
     "output_type": "display_data"
    }
   ],
   "source": [
    "packageVersion(\"ALFAM2\")"
   ]
  },
  {
   "cell_type": "markdown",
   "id": "9390799e-8a15-4280-b5a0-c91e071649ad",
   "metadata": {},
   "source": [
    "# Data"
   ]
  },
  {
   "cell_type": "code",
   "execution_count": 3,
   "id": "18376143-2874-4c11-b6b2-e7645a0bc954",
   "metadata": {},
   "outputs": [],
   "source": [
    "load (file = \"../00_data_preparation/processed_data/data.Rdata\")"
   ]
  },
  {
   "cell_type": "code",
   "execution_count": 4,
   "id": "98efdfb3-844c-4c51-a4eb-3962ec013215",
   "metadata": {},
   "outputs": [
    {
     "data": {
      "text/html": [
       "<table class=\"table\" style=\"margin-left: auto; margin-right: auto;\">\n",
       " <thead>\n",
       "  <tr>\n",
       "   <th style=\"text-align:right;\"> e.cum </th>\n",
       "   <th style=\"text-align:right;\"> e.rel </th>\n",
       "   <th style=\"text-align:right;\"> j.NH3 </th>\n",
       "   <th style=\"text-align:right;\"> pmid </th>\n",
       "   <th style=\"text-align:right;\"> eid </th>\n",
       "   <th style=\"text-align:left;\"> exper </th>\n",
       "   <th style=\"text-align:left;\"> field </th>\n",
       "   <th style=\"text-align:left;\"> meas.tech </th>\n",
       "   <th style=\"text-align:left;\"> country </th>\n",
       "   <th style=\"text-align:right;\"> inst </th>\n",
       "   <th style=\"text-align:right;\"> ct </th>\n",
       "   <th style=\"text-align:right;\"> dt </th>\n",
       "   <th style=\"text-align:right;\"> air.temp </th>\n",
       "   <th style=\"text-align:right;\"> wind.2m </th>\n",
       "   <th style=\"text-align:right;\"> rain.rate </th>\n",
       "   <th style=\"text-align:right;\"> tan.app </th>\n",
       "   <th style=\"text-align:right;\"> app.rate </th>\n",
       "   <th style=\"text-align:right;\"> man.dm </th>\n",
       "   <th style=\"text-align:right;\"> man.ph </th>\n",
       "   <th style=\"text-align:left;\"> man.source </th>\n",
       "   <th style=\"text-align:right;\"> t.incorp </th>\n",
       "   <th style=\"text-align:left;\"> app.mthd </th>\n",
       "   <th style=\"text-align:left;\"> incorp </th>\n",
       "  </tr>\n",
       " </thead>\n",
       "<tbody>\n",
       "  <tr>\n",
       "   <td style=\"text-align:right;\"> 7.1480 </td>\n",
       "   <td style=\"text-align:right;\"> 0.0585374 </td>\n",
       "   <td style=\"text-align:right;\"> 1.7870 </td>\n",
       "   <td style=\"text-align:right;\"> 182 </td>\n",
       "   <td style=\"text-align:right;\"> 44 </td>\n",
       "   <td style=\"text-align:left;\"> 1 </td>\n",
       "   <td style=\"text-align:left;\"> NA </td>\n",
       "   <td style=\"text-align:left;\"> micro met </td>\n",
       "   <td style=\"text-align:left;\"> DK </td>\n",
       "   <td style=\"text-align:right;\"> 104 </td>\n",
       "   <td style=\"text-align:right;\"> 4 </td>\n",
       "   <td style=\"text-align:right;\"> 4 </td>\n",
       "   <td style=\"text-align:right;\"> 8.20 </td>\n",
       "   <td style=\"text-align:right;\"> 8.10 </td>\n",
       "   <td style=\"text-align:right;\"> 0 </td>\n",
       "   <td style=\"text-align:right;\"> 122.11 </td>\n",
       "   <td style=\"text-align:right;\"> 31.8 </td>\n",
       "   <td style=\"text-align:right;\"> 3.7 </td>\n",
       "   <td style=\"text-align:right;\"> 7.35 </td>\n",
       "   <td style=\"text-align:left;\"> pig </td>\n",
       "   <td style=\"text-align:right;\"> 1000 </td>\n",
       "   <td style=\"text-align:left;\"> bc </td>\n",
       "   <td style=\"text-align:left;\"> none </td>\n",
       "  </tr>\n",
       "  <tr>\n",
       "   <td style=\"text-align:right;\"> 8.2921 </td>\n",
       "   <td style=\"text-align:right;\"> 0.0679068 </td>\n",
       "   <td style=\"text-align:right;\"> 0.0673 </td>\n",
       "   <td style=\"text-align:right;\"> 182 </td>\n",
       "   <td style=\"text-align:right;\"> 44 </td>\n",
       "   <td style=\"text-align:left;\"> 1 </td>\n",
       "   <td style=\"text-align:left;\"> NA </td>\n",
       "   <td style=\"text-align:left;\"> micro met </td>\n",
       "   <td style=\"text-align:left;\"> DK </td>\n",
       "   <td style=\"text-align:right;\"> 104 </td>\n",
       "   <td style=\"text-align:right;\"> 21 </td>\n",
       "   <td style=\"text-align:right;\"> 17 </td>\n",
       "   <td style=\"text-align:right;\"> 4.45 </td>\n",
       "   <td style=\"text-align:right;\"> 3.98 </td>\n",
       "   <td style=\"text-align:right;\"> 0 </td>\n",
       "   <td style=\"text-align:right;\"> 122.11 </td>\n",
       "   <td style=\"text-align:right;\"> 31.8 </td>\n",
       "   <td style=\"text-align:right;\"> 3.7 </td>\n",
       "   <td style=\"text-align:right;\"> 7.35 </td>\n",
       "   <td style=\"text-align:left;\"> pig </td>\n",
       "   <td style=\"text-align:right;\"> 1000 </td>\n",
       "   <td style=\"text-align:left;\"> bc </td>\n",
       "   <td style=\"text-align:left;\"> none </td>\n",
       "  </tr>\n",
       "</tbody>\n",
       "</table>"
      ]
     },
     "metadata": {},
     "output_type": "display_data"
    }
   ],
   "source": [
    "head (data, n = 2) %>% embed"
   ]
  },
  {
   "cell_type": "code",
   "execution_count": 5,
   "id": "45756e11-879a-48f5-88ad-7efeab31c48d",
   "metadata": {},
   "outputs": [],
   "source": [
    "data = data %>% \n",
    "    mutate (wind.sqrt = sqrt (wind.2m))"
   ]
  },
  {
   "cell_type": "code",
   "execution_count": 6,
   "id": "d44cfd61-536e-4332-8132-f7b67126372d",
   "metadata": {},
   "outputs": [],
   "source": [
    "load (file = \"../00_data_preparation/processed_data/list_test_pmids.Rdata\")"
   ]
  },
  {
   "cell_type": "markdown",
   "id": "ea30fd8e-f87e-47fb-ac64-0bbfe09fdf57",
   "metadata": {},
   "source": [
    "# Predictions on the test sets"
   ]
  },
  {
   "cell_type": "code",
   "execution_count": 7,
   "id": "40a6fc0d-0897-48d6-81b1-27868152dd95",
   "metadata": {},
   "outputs": [
    {
     "name": "stderr",
     "output_type": "stream",
     "text": [
      "Default parameters (Set 3) are being used.\n",
      "\n",
      "Incorporation applied for groups: 1500, 1501, 1506, 1507, 1515, 1518, 1522, 1524, 1527, 2233, 2234, 2235, 2456, 2543, 2544, 2545, 2546, 2548, 2567, 2568, 2577, 2579, 2581, 2583, 3119, 3122, 3125, 3126, 3129, 3130, 3131, 3133, 3134, 3135, 3139, 3144, 3145, 3146, 3149, 3151, 3152, 3153, 3159, 3160, 3162, 3163, 3165, 3166, 3169, 3170, 3173, 3174, 3175, 3177, 3178, 3179.\n",
      "\n"
     ]
    }
   ],
   "source": [
    "pred <- alfam2(\n",
    "    data, pars = alfam2pars03, app.name = 'tan.app', time.name = 'ct', \n",
    "    group = 'pmid', time.incorp = 't.incorp'\n",
    ")"
   ]
  },
  {
   "cell_type": "code",
   "execution_count": 8,
   "id": "6fba0163-0ae5-4217-b5f4-d548eeacbf45",
   "metadata": {},
   "outputs": [
    {
     "data": {
      "text/html": [
       "15"
      ],
      "text/latex": [
       "15"
      ],
      "text/markdown": [
       "15"
      ],
      "text/plain": [
       "[1] 15"
      ]
     },
     "metadata": {},
     "output_type": "display_data"
    }
   ],
   "source": [
    "p = length (list_test_pmids)\n",
    "p"
   ]
  },
  {
   "cell_type": "code",
   "execution_count": 9,
   "id": "147e7419-2565-4358-a158-4ea5962311a8",
   "metadata": {},
   "outputs": [
    {
     "data": {
      "text/html": [
       "<style>\n",
       ".list-inline {list-style: none; margin:0; padding: 0}\n",
       ".list-inline>li {display: inline-block}\n",
       ".list-inline>li:not(:last-child)::after {content: \"\\00b7\"; padding: 0 .5ex}\n",
       "</style>\n",
       "<ol class=list-inline><li>196</li><li>200</li><li>195</li><li>982</li><li>957</li><li>965</li><li>958</li><li>927</li><li>940</li><li>1008</li><li>1009</li><li>984</li><li>972</li><li>1132</li><li>1155</li><li>1159</li><li>2272</li><li>1211</li><li>1192</li><li>1227</li><li>1194</li><li>1221</li><li>1228</li><li>1200</li><li>1408</li><li>1457</li><li>1491</li><li>1458</li><li>1471</li><li>1475</li><li>2459</li><li>1506</li><li>2464</li><li>1527</li><li>1534</li><li>1707</li><li>1735</li><li>1711</li><li>1687</li><li>1690</li><li>2236</li><li>2820</li><li>3168</li><li>3244</li><li>3183</li><li>3328</li><li>3311</li><li>2794</li><li>2852</li><li>3355</li><li>3257</li><li>2551</li><li>3134</li><li>2856</li><li>3296</li><li>3269</li><li>2848</li><li>2792</li><li>3191</li><li>3274</li><li>3243</li><li>3340</li><li>2783</li><li>2535</li><li>2548</li><li>2828</li><li>3277</li><li>3312</li><li>2851</li><li>2568</li><li>3325</li><li>3320</li><li>3354</li><li>3144</li></ol>\n"
      ],
      "text/latex": [
       "\\begin{enumerate*}\n",
       "\\item 196\n",
       "\\item 200\n",
       "\\item 195\n",
       "\\item 982\n",
       "\\item 957\n",
       "\\item 965\n",
       "\\item 958\n",
       "\\item 927\n",
       "\\item 940\n",
       "\\item 1008\n",
       "\\item 1009\n",
       "\\item 984\n",
       "\\item 972\n",
       "\\item 1132\n",
       "\\item 1155\n",
       "\\item 1159\n",
       "\\item 2272\n",
       "\\item 1211\n",
       "\\item 1192\n",
       "\\item 1227\n",
       "\\item 1194\n",
       "\\item 1221\n",
       "\\item 1228\n",
       "\\item 1200\n",
       "\\item 1408\n",
       "\\item 1457\n",
       "\\item 1491\n",
       "\\item 1458\n",
       "\\item 1471\n",
       "\\item 1475\n",
       "\\item 2459\n",
       "\\item 1506\n",
       "\\item 2464\n",
       "\\item 1527\n",
       "\\item 1534\n",
       "\\item 1707\n",
       "\\item 1735\n",
       "\\item 1711\n",
       "\\item 1687\n",
       "\\item 1690\n",
       "\\item 2236\n",
       "\\item 2820\n",
       "\\item 3168\n",
       "\\item 3244\n",
       "\\item 3183\n",
       "\\item 3328\n",
       "\\item 3311\n",
       "\\item 2794\n",
       "\\item 2852\n",
       "\\item 3355\n",
       "\\item 3257\n",
       "\\item 2551\n",
       "\\item 3134\n",
       "\\item 2856\n",
       "\\item 3296\n",
       "\\item 3269\n",
       "\\item 2848\n",
       "\\item 2792\n",
       "\\item 3191\n",
       "\\item 3274\n",
       "\\item 3243\n",
       "\\item 3340\n",
       "\\item 2783\n",
       "\\item 2535\n",
       "\\item 2548\n",
       "\\item 2828\n",
       "\\item 3277\n",
       "\\item 3312\n",
       "\\item 2851\n",
       "\\item 2568\n",
       "\\item 3325\n",
       "\\item 3320\n",
       "\\item 3354\n",
       "\\item 3144\n",
       "\\end{enumerate*}\n"
      ],
      "text/markdown": [
       "1. 196\n",
       "2. 200\n",
       "3. 195\n",
       "4. 982\n",
       "5. 957\n",
       "6. 965\n",
       "7. 958\n",
       "8. 927\n",
       "9. 940\n",
       "10. 1008\n",
       "11. 1009\n",
       "12. 984\n",
       "13. 972\n",
       "14. 1132\n",
       "15. 1155\n",
       "16. 1159\n",
       "17. 2272\n",
       "18. 1211\n",
       "19. 1192\n",
       "20. 1227\n",
       "21. 1194\n",
       "22. 1221\n",
       "23. 1228\n",
       "24. 1200\n",
       "25. 1408\n",
       "26. 1457\n",
       "27. 1491\n",
       "28. 1458\n",
       "29. 1471\n",
       "30. 1475\n",
       "31. 2459\n",
       "32. 1506\n",
       "33. 2464\n",
       "34. 1527\n",
       "35. 1534\n",
       "36. 1707\n",
       "37. 1735\n",
       "38. 1711\n",
       "39. 1687\n",
       "40. 1690\n",
       "41. 2236\n",
       "42. 2820\n",
       "43. 3168\n",
       "44. 3244\n",
       "45. 3183\n",
       "46. 3328\n",
       "47. 3311\n",
       "48. 2794\n",
       "49. 2852\n",
       "50. 3355\n",
       "51. 3257\n",
       "52. 2551\n",
       "53. 3134\n",
       "54. 2856\n",
       "55. 3296\n",
       "56. 3269\n",
       "57. 2848\n",
       "58. 2792\n",
       "59. 3191\n",
       "60. 3274\n",
       "61. 3243\n",
       "62. 3340\n",
       "63. 2783\n",
       "64. 2535\n",
       "65. 2548\n",
       "66. 2828\n",
       "67. 3277\n",
       "68. 3312\n",
       "69. 2851\n",
       "70. 2568\n",
       "71. 3325\n",
       "72. 3320\n",
       "73. 3354\n",
       "74. 3144\n",
       "\n",
       "\n"
      ],
      "text/plain": [
       " [1]  196  200  195  982  957  965  958  927  940 1008 1009  984  972 1132 1155\n",
       "[16] 1159 2272 1211 1192 1227 1194 1221 1228 1200 1408 1457 1491 1458 1471 1475\n",
       "[31] 2459 1506 2464 1527 1534 1707 1735 1711 1687 1690 2236 2820 3168 3244 3183\n",
       "[46] 3328 3311 2794 2852 3355 3257 2551 3134 2856 3296 3269 2848 2792 3191 3274\n",
       "[61] 3243 3340 2783 2535 2548 2828 3277 3312 2851 2568 3325 3320 3354 3144"
      ]
     },
     "metadata": {},
     "output_type": "display_data"
    }
   ],
   "source": [
    "list_test_pmids[[1]]"
   ]
  },
  {
   "cell_type": "code",
   "execution_count": 10,
   "id": "93036dc7-8a3e-48cd-9117-fc6ead512e65",
   "metadata": {
    "scrolled": true
   },
   "outputs": [
    {
     "name": "stderr",
     "output_type": "stream",
     "text": [
      "Default parameters (Set 3) are being used.\n",
      "\n",
      "Incorporation applied for groups: 1506, 1527, 2548, 2568, 3134, 3144.\n",
      "\n",
      "Default parameters (Set 3) are being used.\n",
      "\n",
      "Incorporation applied for groups: 1506, 1524, 2234, 2456, 2568, 2577, 3135, 3153, 3163, 3173, 3174.\n",
      "\n",
      "Default parameters (Set 3) are being used.\n",
      "\n",
      "Incorporation applied for groups: 1522, 2543, 2545, 3126, 3139.\n",
      "\n",
      "Default parameters (Set 3) are being used.\n",
      "\n",
      "Incorporation applied for groups: 1501, 2234, 3151, 3153, 3165.\n",
      "\n",
      "Default parameters (Set 3) are being used.\n",
      "\n",
      "Incorporation applied for groups: 1515, 1527, 2543, 2548, 3144, 3146.\n",
      "\n",
      "Default parameters (Set 3) are being used.\n",
      "\n",
      "Incorporation applied for groups: 1524, 2233, 2568.\n",
      "\n",
      "Default parameters (Set 3) are being used.\n",
      "\n",
      "Incorporation applied for groups: 1527, 2456, 2577, 3160, 3179.\n",
      "\n",
      "Default parameters (Set 3) are being used.\n",
      "\n",
      "Incorporation applied for groups: 1522, 2235, 2544, 2579, 3144, 3153, 3165, 3166, 3170.\n",
      "\n",
      "Default parameters (Set 3) are being used.\n",
      "\n",
      "Incorporation applied for groups: 1501, 1527, 2233, 2544, 2581, 2583, 3133, 3159, 3163, 3170, 3178.\n",
      "\n",
      "Default parameters (Set 3) are being used.\n",
      "\n",
      "Incorporation applied for groups: 1518, 1527, 3146.\n",
      "\n",
      "Default parameters (Set 3) are being used.\n",
      "\n",
      "Incorporation applied for groups: 1515, 2235, 3145, 3163, 3166, 3175, 3177, 3179.\n",
      "\n",
      "Default parameters (Set 3) are being used.\n",
      "\n",
      "Incorporation applied for groups: 1506, 1522, 2235, 2546, 2581, 3149, 3162.\n",
      "\n",
      "Default parameters (Set 3) are being used.\n",
      "\n",
      "Incorporation applied for groups: 1507, 1527, 2234, 2544, 3134, 3135, 3144.\n",
      "\n",
      "Default parameters (Set 3) are being used.\n",
      "\n",
      "Incorporation applied for groups: 2234, 2456, 2545, 3129, 3145, 3169, 3178.\n",
      "\n",
      "Default parameters (Set 3) are being used.\n",
      "\n",
      "Incorporation applied for groups: 2234, 2567, 3125, 3135, 3170, 3177, 3178.\n",
      "\n"
     ]
    }
   ],
   "source": [
    "df_res_ALFAM2 = NULL\n",
    "\n",
    "for (k in c (1 : p)){\n",
    "\n",
    "    data_tmp = data %>%\n",
    "        filter (pmid %in% list_test_pmids[[k]])\n",
    "\n",
    "    pred = alfam2 (\n",
    "        dat = data_tmp,\n",
    "        pars = alfam2pars03,\n",
    "        app.name = 'tan.app',\n",
    "        time.name = 'ct',\n",
    "        group = 'pmid', \n",
    "        time.incorp = 't.incorp'\n",
    "    )\n",
    "\n",
    "    data_tmp = data_tmp %>%\n",
    "        mutate (prediction_ecum = pred$e) %>%\n",
    "        mutate (sample = k)\n",
    "\n",
    "    df_res_ALFAM2 = rbind (df_res_ALFAM2, data_tmp)\n",
    "}"
   ]
  },
  {
   "cell_type": "code",
   "execution_count": 11,
   "id": "40fd7b21-245e-4320-85c3-b052439cf2b4",
   "metadata": {},
   "outputs": [
    {
     "data": {
      "text/html": [
       "<style>\n",
       ".list-inline {list-style: none; margin:0; padding: 0}\n",
       ".list-inline>li {display: inline-block}\n",
       ".list-inline>li:not(:last-child)::after {content: \"\\00b7\"; padding: 0 .5ex}\n",
       "</style>\n",
       "<ol class=list-inline><li>9976</li><li>26</li></ol>\n"
      ],
      "text/latex": [
       "\\begin{enumerate*}\n",
       "\\item 9976\n",
       "\\item 26\n",
       "\\end{enumerate*}\n"
      ],
      "text/markdown": [
       "1. 9976\n",
       "2. 26\n",
       "\n",
       "\n"
      ],
      "text/plain": [
       "[1] 9976   26"
      ]
     },
     "metadata": {},
     "output_type": "display_data"
    }
   ],
   "source": [
    "dim (df_res_ALFAM2)"
   ]
  },
  {
   "cell_type": "code",
   "execution_count": 12,
   "id": "cbae00b5-bc89-4bfb-b322-ed816dfd36a7",
   "metadata": {},
   "outputs": [],
   "source": [
    "save (df_res_ALFAM2, file = \"results/df_res_ALFAM2.Rdata\")"
   ]
  },
  {
   "cell_type": "markdown",
   "id": "09d7708e-b683-45c1-bd77-2ec4f9b036e3",
   "metadata": {},
   "source": [
    "# Predictions on scenarios"
   ]
  },
  {
   "cell_type": "code",
   "execution_count": 13,
   "id": "fdfd1b65-4f97-4915-a74a-284851cea8ac",
   "metadata": {},
   "outputs": [],
   "source": [
    "load (file = \"../00_data_preparation/processed_data/scenarios_dynamic_rf.Rdata\")"
   ]
  },
  {
   "cell_type": "code",
   "execution_count": 14,
   "id": "0903cc4f-2863-4f05-98ee-b857debd388a",
   "metadata": {},
   "outputs": [
    {
     "data": {
      "text/html": [
       "<table class=\"dataframe\">\n",
       "<caption>A data.frame: 8 × 3</caption>\n",
       "<thead>\n",
       "\t<tr><th scope=col>t.incorp</th><th scope=col>incorp</th><th scope=col>n</th></tr>\n",
       "\t<tr><th scope=col>&lt;dbl&gt;</th><th scope=col>&lt;fct&gt;</th><th scope=col>&lt;int&gt;</th></tr>\n",
       "</thead>\n",
       "<tbody>\n",
       "\t<tr><td>   0.0</td><td>deep   </td><td>  25</td></tr>\n",
       "\t<tr><td>   0.0</td><td>shallow</td><td> 525</td></tr>\n",
       "\t<tr><td>   0.5</td><td>shallow</td><td>  18</td></tr>\n",
       "\t<tr><td>   1.5</td><td>shallow</td><td>  18</td></tr>\n",
       "\t<tr><td>  23.0</td><td>shallow</td><td>   6</td></tr>\n",
       "\t<tr><td>  24.0</td><td>deep   </td><td>  28</td></tr>\n",
       "\t<tr><td>  24.0</td><td>shallow</td><td>  44</td></tr>\n",
       "\t<tr><td>1000.0</td><td>none   </td><td>5505</td></tr>\n",
       "</tbody>\n",
       "</table>\n"
      ],
      "text/latex": [
       "A data.frame: 8 × 3\n",
       "\\begin{tabular}{lll}\n",
       " t.incorp & incorp & n\\\\\n",
       " <dbl> & <fct> & <int>\\\\\n",
       "\\hline\n",
       "\t    0.0 & deep    &   25\\\\\n",
       "\t    0.0 & shallow &  525\\\\\n",
       "\t    0.5 & shallow &   18\\\\\n",
       "\t    1.5 & shallow &   18\\\\\n",
       "\t   23.0 & shallow &    6\\\\\n",
       "\t   24.0 & deep    &   28\\\\\n",
       "\t   24.0 & shallow &   44\\\\\n",
       "\t 1000.0 & none    & 5505\\\\\n",
       "\\end{tabular}\n"
      ],
      "text/markdown": [
       "\n",
       "A data.frame: 8 × 3\n",
       "\n",
       "| t.incorp &lt;dbl&gt; | incorp &lt;fct&gt; | n &lt;int&gt; |\n",
       "|---|---|---|\n",
       "|    0.0 | deep    |   25 |\n",
       "|    0.0 | shallow |  525 |\n",
       "|    0.5 | shallow |   18 |\n",
       "|    1.5 | shallow |   18 |\n",
       "|   23.0 | shallow |    6 |\n",
       "|   24.0 | deep    |   28 |\n",
       "|   24.0 | shallow |   44 |\n",
       "| 1000.0 | none    | 5505 |\n",
       "\n"
      ],
      "text/plain": [
       "  t.incorp incorp  n   \n",
       "1    0.0   deep      25\n",
       "2    0.0   shallow  525\n",
       "3    0.5   shallow   18\n",
       "4    1.5   shallow   18\n",
       "5   23.0   shallow    6\n",
       "6   24.0   deep      28\n",
       "7   24.0   shallow   44\n",
       "8 1000.0   none    5505"
      ]
     },
     "metadata": {},
     "output_type": "display_data"
    }
   ],
   "source": [
    "data %>% count (t.incorp, incorp)"
   ]
  },
  {
   "cell_type": "code",
   "execution_count": 15,
   "id": "63d988f9-f488-479a-b09a-2f091d0cc7cb",
   "metadata": {},
   "outputs": [
    {
     "data": {
      "text/html": [
       "<table class=\"dataframe\">\n",
       "<caption>A data.frame: 6 × 24</caption>\n",
       "<thead>\n",
       "\t<tr><th></th><th scope=col>e.cum</th><th scope=col>e.rel</th><th scope=col>j.NH3</th><th scope=col>pmid</th><th scope=col>eid</th><th scope=col>exper</th><th scope=col>field</th><th scope=col>meas.tech</th><th scope=col>country</th><th scope=col>inst</th><th scope=col>⋯</th><th scope=col>rain.rate</th><th scope=col>tan.app</th><th scope=col>app.rate</th><th scope=col>man.dm</th><th scope=col>man.ph</th><th scope=col>man.source</th><th scope=col>t.incorp</th><th scope=col>app.mthd</th><th scope=col>incorp</th><th scope=col>wind.sqrt</th></tr>\n",
       "\t<tr><th></th><th scope=col>&lt;dbl&gt;</th><th scope=col>&lt;dbl&gt;</th><th scope=col>&lt;dbl&gt;</th><th scope=col>&lt;int&gt;</th><th scope=col>&lt;int&gt;</th><th scope=col>&lt;fct&gt;</th><th scope=col>&lt;fct&gt;</th><th scope=col>&lt;fct&gt;</th><th scope=col>&lt;fct&gt;</th><th scope=col>&lt;int&gt;</th><th scope=col>⋯</th><th scope=col>&lt;dbl&gt;</th><th scope=col>&lt;dbl&gt;</th><th scope=col>&lt;dbl&gt;</th><th scope=col>&lt;dbl&gt;</th><th scope=col>&lt;dbl&gt;</th><th scope=col>&lt;fct&gt;</th><th scope=col>&lt;dbl&gt;</th><th scope=col>&lt;fct&gt;</th><th scope=col>&lt;fct&gt;</th><th scope=col>&lt;dbl&gt;</th></tr>\n",
       "</thead>\n",
       "<tbody>\n",
       "\t<tr><th scope=row>1</th><td>0.531</td><td>0.00877686</td><td>0.2655</td><td>1500</td><td>259</td><td>DERVAL(44)_2011</td><td>Derval</td><td>agm</td><td>FR</td><td>208</td><td>⋯</td><td>0</td><td>60.5</td><td>50</td><td>6.4</td><td>7.3</td><td>cat</td><td>0</td><td>bsth</td><td>shallow</td><td>1.459452</td></tr>\n",
       "\t<tr><th scope=row>2</th><td>1.059</td><td>0.01750413</td><td>0.2640</td><td>1500</td><td>259</td><td>DERVAL(44)_2011</td><td>Derval</td><td>agm</td><td>FR</td><td>208</td><td>⋯</td><td>0</td><td>60.5</td><td>50</td><td>6.4</td><td>7.3</td><td>cat</td><td>0</td><td>bsth</td><td>shallow</td><td>1.783255</td></tr>\n",
       "\t<tr><th scope=row>3</th><td>1.573</td><td>0.02600000</td><td>0.2570</td><td>1500</td><td>259</td><td>DERVAL(44)_2011</td><td>Derval</td><td>agm</td><td>FR</td><td>208</td><td>⋯</td><td>0</td><td>60.5</td><td>50</td><td>6.4</td><td>7.3</td><td>cat</td><td>0</td><td>bsth</td><td>shallow</td><td>1.786057</td></tr>\n",
       "\t<tr><th scope=row>4</th><td>1.683</td><td>0.02781818</td><td>0.0550</td><td>1500</td><td>259</td><td>DERVAL(44)_2011</td><td>Derval</td><td>agm</td><td>FR</td><td>208</td><td>⋯</td><td>0</td><td>60.5</td><td>50</td><td>6.4</td><td>7.3</td><td>cat</td><td>0</td><td>bsth</td><td>shallow</td><td>1.187434</td></tr>\n",
       "\t<tr><th scope=row>5</th><td>1.774</td><td>0.02932231</td><td>0.0455</td><td>1500</td><td>259</td><td>DERVAL(44)_2011</td><td>Derval</td><td>agm</td><td>FR</td><td>208</td><td>⋯</td><td>0</td><td>60.5</td><td>50</td><td>6.4</td><td>7.3</td><td>cat</td><td>0</td><td>bsth</td><td>shallow</td><td>1.311488</td></tr>\n",
       "\t<tr><th scope=row>6</th><td>1.849</td><td>0.03056198</td><td>0.0375</td><td>1500</td><td>259</td><td>DERVAL(44)_2011</td><td>Derval</td><td>agm</td><td>FR</td><td>208</td><td>⋯</td><td>0</td><td>60.5</td><td>50</td><td>6.4</td><td>7.3</td><td>cat</td><td>0</td><td>bsth</td><td>shallow</td><td>1.104536</td></tr>\n",
       "</tbody>\n",
       "</table>\n"
      ],
      "text/latex": [
       "A data.frame: 6 × 24\n",
       "\\begin{tabular}{r|lllllllllllllllllllll}\n",
       "  & e.cum & e.rel & j.NH3 & pmid & eid & exper & field & meas.tech & country & inst & ⋯ & rain.rate & tan.app & app.rate & man.dm & man.ph & man.source & t.incorp & app.mthd & incorp & wind.sqrt\\\\\n",
       "  & <dbl> & <dbl> & <dbl> & <int> & <int> & <fct> & <fct> & <fct> & <fct> & <int> & ⋯ & <dbl> & <dbl> & <dbl> & <dbl> & <dbl> & <fct> & <dbl> & <fct> & <fct> & <dbl>\\\\\n",
       "\\hline\n",
       "\t1 & 0.531 & 0.00877686 & 0.2655 & 1500 & 259 & DERVAL(44)\\_2011 & Derval & agm & FR & 208 & ⋯ & 0 & 60.5 & 50 & 6.4 & 7.3 & cat & 0 & bsth & shallow & 1.459452\\\\\n",
       "\t2 & 1.059 & 0.01750413 & 0.2640 & 1500 & 259 & DERVAL(44)\\_2011 & Derval & agm & FR & 208 & ⋯ & 0 & 60.5 & 50 & 6.4 & 7.3 & cat & 0 & bsth & shallow & 1.783255\\\\\n",
       "\t3 & 1.573 & 0.02600000 & 0.2570 & 1500 & 259 & DERVAL(44)\\_2011 & Derval & agm & FR & 208 & ⋯ & 0 & 60.5 & 50 & 6.4 & 7.3 & cat & 0 & bsth & shallow & 1.786057\\\\\n",
       "\t4 & 1.683 & 0.02781818 & 0.0550 & 1500 & 259 & DERVAL(44)\\_2011 & Derval & agm & FR & 208 & ⋯ & 0 & 60.5 & 50 & 6.4 & 7.3 & cat & 0 & bsth & shallow & 1.187434\\\\\n",
       "\t5 & 1.774 & 0.02932231 & 0.0455 & 1500 & 259 & DERVAL(44)\\_2011 & Derval & agm & FR & 208 & ⋯ & 0 & 60.5 & 50 & 6.4 & 7.3 & cat & 0 & bsth & shallow & 1.311488\\\\\n",
       "\t6 & 1.849 & 0.03056198 & 0.0375 & 1500 & 259 & DERVAL(44)\\_2011 & Derval & agm & FR & 208 & ⋯ & 0 & 60.5 & 50 & 6.4 & 7.3 & cat & 0 & bsth & shallow & 1.104536\\\\\n",
       "\\end{tabular}\n"
      ],
      "text/markdown": [
       "\n",
       "A data.frame: 6 × 24\n",
       "\n",
       "| <!--/--> | e.cum &lt;dbl&gt; | e.rel &lt;dbl&gt; | j.NH3 &lt;dbl&gt; | pmid &lt;int&gt; | eid &lt;int&gt; | exper &lt;fct&gt; | field &lt;fct&gt; | meas.tech &lt;fct&gt; | country &lt;fct&gt; | inst &lt;int&gt; | ⋯ ⋯ | rain.rate &lt;dbl&gt; | tan.app &lt;dbl&gt; | app.rate &lt;dbl&gt; | man.dm &lt;dbl&gt; | man.ph &lt;dbl&gt; | man.source &lt;fct&gt; | t.incorp &lt;dbl&gt; | app.mthd &lt;fct&gt; | incorp &lt;fct&gt; | wind.sqrt &lt;dbl&gt; |\n",
       "|---|---|---|---|---|---|---|---|---|---|---|---|---|---|---|---|---|---|---|---|---|---|\n",
       "| 1 | 0.531 | 0.00877686 | 0.2655 | 1500 | 259 | DERVAL(44)_2011 | Derval | agm | FR | 208 | ⋯ | 0 | 60.5 | 50 | 6.4 | 7.3 | cat | 0 | bsth | shallow | 1.459452 |\n",
       "| 2 | 1.059 | 0.01750413 | 0.2640 | 1500 | 259 | DERVAL(44)_2011 | Derval | agm | FR | 208 | ⋯ | 0 | 60.5 | 50 | 6.4 | 7.3 | cat | 0 | bsth | shallow | 1.783255 |\n",
       "| 3 | 1.573 | 0.02600000 | 0.2570 | 1500 | 259 | DERVAL(44)_2011 | Derval | agm | FR | 208 | ⋯ | 0 | 60.5 | 50 | 6.4 | 7.3 | cat | 0 | bsth | shallow | 1.786057 |\n",
       "| 4 | 1.683 | 0.02781818 | 0.0550 | 1500 | 259 | DERVAL(44)_2011 | Derval | agm | FR | 208 | ⋯ | 0 | 60.5 | 50 | 6.4 | 7.3 | cat | 0 | bsth | shallow | 1.187434 |\n",
       "| 5 | 1.774 | 0.02932231 | 0.0455 | 1500 | 259 | DERVAL(44)_2011 | Derval | agm | FR | 208 | ⋯ | 0 | 60.5 | 50 | 6.4 | 7.3 | cat | 0 | bsth | shallow | 1.311488 |\n",
       "| 6 | 1.849 | 0.03056198 | 0.0375 | 1500 | 259 | DERVAL(44)_2011 | Derval | agm | FR | 208 | ⋯ | 0 | 60.5 | 50 | 6.4 | 7.3 | cat | 0 | bsth | shallow | 1.104536 |\n",
       "\n"
      ],
      "text/plain": [
       "  e.cum e.rel      j.NH3  pmid eid exper           field  meas.tech country\n",
       "1 0.531 0.00877686 0.2655 1500 259 DERVAL(44)_2011 Derval agm       FR     \n",
       "2 1.059 0.01750413 0.2640 1500 259 DERVAL(44)_2011 Derval agm       FR     \n",
       "3 1.573 0.02600000 0.2570 1500 259 DERVAL(44)_2011 Derval agm       FR     \n",
       "4 1.683 0.02781818 0.0550 1500 259 DERVAL(44)_2011 Derval agm       FR     \n",
       "5 1.774 0.02932231 0.0455 1500 259 DERVAL(44)_2011 Derval agm       FR     \n",
       "6 1.849 0.03056198 0.0375 1500 259 DERVAL(44)_2011 Derval agm       FR     \n",
       "  inst ⋯ rain.rate tan.app app.rate man.dm man.ph man.source t.incorp app.mthd\n",
       "1 208  ⋯ 0         60.5    50       6.4    7.3    cat        0        bsth    \n",
       "2 208  ⋯ 0         60.5    50       6.4    7.3    cat        0        bsth    \n",
       "3 208  ⋯ 0         60.5    50       6.4    7.3    cat        0        bsth    \n",
       "4 208  ⋯ 0         60.5    50       6.4    7.3    cat        0        bsth    \n",
       "5 208  ⋯ 0         60.5    50       6.4    7.3    cat        0        bsth    \n",
       "6 208  ⋯ 0         60.5    50       6.4    7.3    cat        0        bsth    \n",
       "  incorp  wind.sqrt\n",
       "1 shallow 1.459452 \n",
       "2 shallow 1.783255 \n",
       "3 shallow 1.786057 \n",
       "4 shallow 1.187434 \n",
       "5 shallow 1.311488 \n",
       "6 shallow 1.104536 "
      ]
     },
     "metadata": {},
     "output_type": "display_data"
    }
   ],
   "source": [
    "data %>% filter (incorp == \"shallow\") %>% head"
   ]
  },
  {
   "cell_type": "code",
   "execution_count": 16,
   "id": "354ec76c-dc24-4c96-98cd-daa3692f8bb3",
   "metadata": {},
   "outputs": [
    {
     "name": "stderr",
     "output_type": "stream",
     "text": [
      "Default parameters (Set 3) are being used.\n",
      "\n",
      "Incorporation applied for groups: 1500, 3179.\n",
      "\n"
     ]
    }
   ],
   "source": [
    "pred = alfam2 (\n",
    "    dat = data %>% filter (pmid %in% c (1500, 3179, 182)),\n",
    "    pars = alfam2pars03,\n",
    "    app.name = 'tan.app',\n",
    "    time.name = 'ct',\n",
    "    group = 'pmid', \n",
    "    time.incorp = 't.incorp'\n",
    ")\n"
   ]
  },
  {
   "cell_type": "code",
   "execution_count": 17,
   "id": "27201c5d-cc91-4fc6-a744-e34f3d652afb",
   "metadata": {},
   "outputs": [
    {
     "name": "stderr",
     "output_type": "stream",
     "text": [
      "Default parameters (Set 3) are being used.\n",
      "\n",
      "Incorporation applied for groups: 1, 103, 109, 115, 121, 127, 13, 133, 139, 145, 151, 157, 163, 169, 175, 181, 187, 19, 193, 199, 205, 211, 217, 223, 229, 235, 241, 247, 25, 253, 259, 265, 271, 277, 283, 289, 295, 301, 307, 31, 313, 319, 325, 331, 337, 343, 349, 355, 361, 367, 37, 373, 379, 385, 391, 397, 403, 409, 415, 421, 427, 43, 433, 439, 445, 451, 457, 463, 469, 475, 481, 487, 49, 493, 499, 505, 511, 517, 523, 529, 535, 541, 547, 55, 553, 559, 565, 571, 577, 583, 589, 595, 601, 607, 61, 613, 619, 625, 631, 637, 643, 649, 655, 661, 667, 67, 673, 679, 685, 691, 697, 7, 703, 709, 715, 721, 727, 73, 733, 739, 745, 751, 757, 763, 79, 85, 91, 97.\n",
      "\n"
     ]
    }
   ],
   "source": [
    "pred = alfam2 (\n",
    "    dat = scenarios_dynamic_rf %>% mutate (wind.sqrt = sqrt (wind.2m)),\n",
    "    pars = alfam2pars03,\n",
    "    app.name = 'tan.app',\n",
    "    time.name = 'ct',\n",
    "    group = 'pmid', \n",
    "    time.incorp = 't.incorp'\n",
    ")\n"
   ]
  },
  {
   "cell_type": "code",
   "execution_count": 18,
   "id": "5b914132-5eef-47bb-b9c5-2939f6eecbd0",
   "metadata": {},
   "outputs": [],
   "source": [
    "df_efficacy = scenarios_dynamic_rf %>% \n",
    "    mutate (prediction_ecum = pred$e) %>%\n",
    "    filter (ct == max (ct), .by = pmid) %>%\n",
    "    mutate (efficacy = ((prediction_ecum / prediction_ecum[strategy == \"Broadcast\"]) - 1) * 100, \n",
    "            .by = c (scenario))"
   ]
  },
  {
   "cell_type": "code",
   "execution_count": 19,
   "id": "7c73c232-1513-4cec-92de-c4e9dc8dbef5",
   "metadata": {},
   "outputs": [],
   "source": [
    "predictions_on_scenarios_ALFAM2 = df_efficacy %>%\n",
    "    mutate (model = \"ALFAM2\")\n",
    "\n",
    "save (predictions_on_scenarios_ALFAM2, file = \"results/predictions_on_scenarios_ALFAM2.Rdata\")"
   ]
  },
  {
   "cell_type": "code",
   "execution_count": 20,
   "id": "fc72e407-40d2-459a-a7c2-b851f07ef657",
   "metadata": {},
   "outputs": [
    {
     "data": {
      "image/png": "[encoded data removed]",
      "text/plain": [
       "plot without title"
      ]
     },
     "metadata": {
      "image/png": {
       "height": 240,
       "width": 1200
      }
     },
     "output_type": "display_data"
    }
   ],
   "source": [
    "size (20, 4)\n",
    "df_efficacy %>%\n",
    "    filter (strategy != \"Broadcast\") %>%\n",
    "    \n",
    "    ggplot () +\n",
    "        \n",
    "        geom_boxplot (aes (x = efficacy, y = strategy, fill = strategy)) +\n",
    "        scale_fill_manual (values = Dark2) +\n",
    "        scale_y_discrete (limits = c (\"Closed slot\", \"Open slot\", \"Trailing shoe\", \"Trailing hose\", \"Incorporation\")) +\n",
    "        ylab (\"\") + xlab (\"Efficacy\") +\n",
    "        theme (legend.position = \"none\",\n",
    "               axis.ticks.y = element_blank(),\n",
    "               strip.text.x = element_text(margin = ggplot2::margin(t = 8, b = 8, r = 0, l = 0))) +\n",
    "        # facet_wrap (~ method, ncol = 1) +\n",
    "        NULL"
   ]
  },
  {
   "cell_type": "markdown",
   "id": "a7216cbd-f044-461e-acbe-8ad1b21c2fd6",
   "metadata": {},
   "source": [
    "# End"
   ]
  },
  {
   "cell_type": "code",
   "execution_count": null,
   "id": "045c8b2a-31da-4662-a5ba-6d0e8b216841",
   "metadata": {},
   "outputs": [],
   "source": []
  }
 ],
 "metadata": {
  "kernelspec": {
   "display_name": "R",
   "language": "R",
   "name": "ir"
  },
  "language_info": {
   "codemirror_mode": "r",
   "file_extension": ".r",
   "mimetype": "text/x-r-source",
   "name": "R",
   "pygments_lexer": "r",
   "version": "4.4.1"
  }
 },
 "nbformat": 4,
 "nbformat_minor": 5
}
