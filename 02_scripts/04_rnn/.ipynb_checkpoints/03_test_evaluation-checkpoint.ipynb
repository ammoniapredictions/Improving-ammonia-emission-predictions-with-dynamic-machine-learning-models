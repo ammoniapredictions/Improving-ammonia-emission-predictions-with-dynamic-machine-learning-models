{
 "cells": [
  {
   "cell_type": "markdown",
   "id": "dd95a333-03ae-4ea7-9f96-9d5fb717128b",
   "metadata": {},
   "source": [
    "# Readme"
   ]
  },
  {
   "cell_type": "markdown",
   "id": "1eb1831c-268d-486b-90e1-9cf046e81828",
   "metadata": {},
   "source": [
    "**The question we are addressing here is the following: how should we evaluate models whose output is the pair (e.cum, delta_ecum)?**\n",
    "\n",
    "The first idea would be to directly assess the error on the pair (e.cum, delta_ecum).\n",
    "\n",
    "However, since the model is ultimately used with either e.cum or delta_ecum, we need to check whether this approach is actually relevant.\n",
    "\n",
    "There are two other evaluation options:\n",
    "\n",
    "- evaluating with e.cum\n",
    "- evaluating with delta_ecum\n",
    "\n",
    "We will perform all three types of evaluation and observe whether the minimum MAE is reached at the same number of epochs."
   ]
  },
  {
   "cell_type": "markdown",
   "id": "6fd0a1df-6491-4b0c-bdd5-2136001bc5ec",
   "metadata": {},
   "source": [
    "# Setup"
   ]
  },
  {
   "cell_type": "code",
   "execution_count": 1,
   "id": "2e6cbc0b-9a35-401d-b0c9-a72c114fa43f",
   "metadata": {},
   "outputs": [
    {
     "name": "stderr",
     "output_type": "stream",
     "text": [
      "/home/mmip/.local/lib/python3.12/site-packages/pandas/core/arrays/masked.py:60: UserWarning: Pandas requires version '1.3.6' or newer of 'bottleneck' (version '1.3.5' currently installed).\n",
      "  from pandas.core import (\n"
     ]
    }
   ],
   "source": [
    "import torch\n",
    "import torch.nn as nn \n",
    "import matplotlib.pyplot as plt \n",
    "import pandas as pd\n",
    "import numpy as np\n",
    "import time\n",
    "import random\n",
    "import pickle\n",
    "import json\n",
    "import itertools\n",
    "import importlib"
   ]
  },
  {
   "cell_type": "code",
   "execution_count": 2,
   "id": "4d7e7472-af0e-49a4-ae6e-b363b5173b2e",
   "metadata": {},
   "outputs": [],
   "source": [
    "import sys\n",
    "sys.path.append ('functions')\n",
    "\n",
    "import functions as mf\n",
    "importlib.reload(mf) \n",
    "\n",
    "from rnn_module import AmmoniaRNN"
   ]
  },
  {
   "cell_type": "code",
   "execution_count": 3,
   "id": "16d7f918-7033-4008-a482-5c0cf2e38e2a",
   "metadata": {},
   "outputs": [
    {
     "data": {
      "text/plain": [
       "'cpu'"
      ]
     },
     "execution_count": 3,
     "metadata": {},
     "output_type": "execute_result"
    }
   ],
   "source": [
    "DEVICE = 'cuda:0' if torch.cuda.is_available() else 'cpu'\n",
    "DEVICE"
   ]
  },
  {
   "cell_type": "code",
   "execution_count": 4,
   "id": "fd983eae-c45a-43a4-a393-d614b8dcf20b",
   "metadata": {},
   "outputs": [],
   "source": [
    "pd.set_option(\"display.max_columns\", None)"
   ]
  },
  {
   "cell_type": "markdown",
   "id": "2376b0a4-4c1c-4e04-b329-06e14a49f2d8",
   "metadata": {},
   "source": [
    "# Data processing"
   ]
  },
  {
   "cell_type": "markdown",
   "id": "50041f5d-9b96-43b9-b90d-1b98680ae1dd",
   "metadata": {},
   "source": [
    "## Data no embeddings"
   ]
  },
  {
   "cell_type": "code",
   "execution_count": 5,
   "id": "f85c09c5-6bc2-4d09-8a63-4cecb2aae873",
   "metadata": {},
   "outputs": [],
   "source": [
    "data_no_embeddings = pd.read_csv(\"../00_data_preparation/processed_data/data_rnn_1.csv\")"
   ]
  },
  {
   "cell_type": "code",
   "execution_count": 6,
   "id": "f00d3c5d-6d9f-41c9-8733-87aeafe487d6",
   "metadata": {},
   "outputs": [],
   "source": [
    "data_no_embeddings = data_no_embeddings.drop(['Unnamed: 0'], axis = 1)"
   ]
  },
  {
   "cell_type": "code",
   "execution_count": 7,
   "id": "cd291f6d-fa73-436c-a2c7-bae557ede0ff",
   "metadata": {},
   "outputs": [
    {
     "data": {
      "text/plain": [
       "(6169, 26)"
      ]
     },
     "execution_count": 7,
     "metadata": {},
     "output_type": "execute_result"
    }
   ],
   "source": [
    "data_no_embeddings.shape"
   ]
  },
  {
   "cell_type": "code",
   "execution_count": 8,
   "id": "581ecd9d-047f-405e-ae1c-a20ef399ae6c",
   "metadata": {},
   "outputs": [
    {
     "data": {
      "text/html": [
       "<div>\n",
       "<style scoped>\n",
       "    .dataframe tbody tr th:only-of-type {\n",
       "        vertical-align: middle;\n",
       "    }\n",
       "\n",
       "    .dataframe tbody tr th {\n",
       "        vertical-align: top;\n",
       "    }\n",
       "\n",
       "    .dataframe thead th {\n",
       "        text-align: right;\n",
       "    }\n",
       "</style>\n",
       "<table border=\"1\" class=\"dataframe\">\n",
       "  <thead>\n",
       "    <tr style=\"text-align: right;\">\n",
       "      <th></th>\n",
       "      <th>e.cum</th>\n",
       "      <th>delta_e.cum</th>\n",
       "      <th>e.cum_shift</th>\n",
       "      <th>e.rel</th>\n",
       "      <th>j.NH3</th>\n",
       "      <th>pmid</th>\n",
       "      <th>meas.tech</th>\n",
       "      <th>country</th>\n",
       "      <th>inst</th>\n",
       "      <th>ct</th>\n",
       "      <th>dt</th>\n",
       "      <th>air.temp</th>\n",
       "      <th>wind.2m</th>\n",
       "      <th>rain.rate</th>\n",
       "      <th>tan.app</th>\n",
       "      <th>app.rate</th>\n",
       "      <th>man.dm</th>\n",
       "      <th>man.ph</th>\n",
       "      <th>man.source</th>\n",
       "      <th>t.incorp</th>\n",
       "      <th>app.mthd_bc</th>\n",
       "      <th>app.mthd_bsth</th>\n",
       "      <th>app.mthd_ts</th>\n",
       "      <th>app.mthd_os</th>\n",
       "      <th>incorp_none</th>\n",
       "      <th>incorp_shallow</th>\n",
       "    </tr>\n",
       "  </thead>\n",
       "  <tbody>\n",
       "    <tr>\n",
       "      <th>0</th>\n",
       "      <td>7.1480</td>\n",
       "      <td>7.1480</td>\n",
       "      <td>0.000</td>\n",
       "      <td>0.058537</td>\n",
       "      <td>1.7870</td>\n",
       "      <td>182</td>\n",
       "      <td>micro met</td>\n",
       "      <td>DK</td>\n",
       "      <td>104</td>\n",
       "      <td>4.0</td>\n",
       "      <td>4.0</td>\n",
       "      <td>8.20</td>\n",
       "      <td>8.10</td>\n",
       "      <td>0.0</td>\n",
       "      <td>122.11</td>\n",
       "      <td>31.8</td>\n",
       "      <td>3.7</td>\n",
       "      <td>7.35</td>\n",
       "      <td>0</td>\n",
       "      <td>1000.0</td>\n",
       "      <td>1</td>\n",
       "      <td>0</td>\n",
       "      <td>0</td>\n",
       "      <td>0</td>\n",
       "      <td>1</td>\n",
       "      <td>0</td>\n",
       "    </tr>\n",
       "    <tr>\n",
       "      <th>1</th>\n",
       "      <td>8.2921</td>\n",
       "      <td>1.1441</td>\n",
       "      <td>7.148</td>\n",
       "      <td>0.067907</td>\n",
       "      <td>0.0673</td>\n",
       "      <td>182</td>\n",
       "      <td>micro met</td>\n",
       "      <td>DK</td>\n",
       "      <td>104</td>\n",
       "      <td>21.0</td>\n",
       "      <td>17.0</td>\n",
       "      <td>4.45</td>\n",
       "      <td>3.98</td>\n",
       "      <td>0.0</td>\n",
       "      <td>122.11</td>\n",
       "      <td>31.8</td>\n",
       "      <td>3.7</td>\n",
       "      <td>7.35</td>\n",
       "      <td>0</td>\n",
       "      <td>1000.0</td>\n",
       "      <td>1</td>\n",
       "      <td>0</td>\n",
       "      <td>0</td>\n",
       "      <td>0</td>\n",
       "      <td>1</td>\n",
       "      <td>0</td>\n",
       "    </tr>\n",
       "  </tbody>\n",
       "</table>\n",
       "</div>"
      ],
      "text/plain": [
       "    e.cum  delta_e.cum  e.cum_shift     e.rel   j.NH3  pmid  meas.tech  \\\n",
       "0  7.1480       7.1480        0.000  0.058537  1.7870   182  micro met   \n",
       "1  8.2921       1.1441        7.148  0.067907  0.0673   182  micro met   \n",
       "\n",
       "  country  inst    ct    dt  air.temp  wind.2m  rain.rate  tan.app  app.rate  \\\n",
       "0      DK   104   4.0   4.0      8.20     8.10        0.0   122.11      31.8   \n",
       "1      DK   104  21.0  17.0      4.45     3.98        0.0   122.11      31.8   \n",
       "\n",
       "   man.dm  man.ph  man.source  t.incorp  app.mthd_bc  app.mthd_bsth  \\\n",
       "0     3.7    7.35           0    1000.0            1              0   \n",
       "1     3.7    7.35           0    1000.0            1              0   \n",
       "\n",
       "   app.mthd_ts  app.mthd_os  incorp_none  incorp_shallow  \n",
       "0            0            0            1               0  \n",
       "1            0            0            1               0  "
      ]
     },
     "execution_count": 8,
     "metadata": {},
     "output_type": "execute_result"
    }
   ],
   "source": [
    "data_no_embeddings.head (2)"
   ]
  },
  {
   "cell_type": "markdown",
   "id": "77c6084b-0ae2-411f-83e1-583b6ade2757",
   "metadata": {},
   "source": [
    "## Data embeddings"
   ]
  },
  {
   "cell_type": "code",
   "execution_count": 9,
   "id": "d57aa1d4-fca3-4510-909e-9c1703f76495",
   "metadata": {},
   "outputs": [],
   "source": [
    "data_embeddings = pd.read_csv(\"../00_data_preparation/processed_data/data_rnn_2.csv\")"
   ]
  },
  {
   "cell_type": "code",
   "execution_count": 10,
   "id": "6f218ebe-39c2-410c-ace1-124b1a3818b6",
   "metadata": {},
   "outputs": [],
   "source": [
    "data_embeddings = data_embeddings.drop(['Unnamed: 0'], axis = 1)"
   ]
  },
  {
   "cell_type": "code",
   "execution_count": 11,
   "id": "79431f16-7683-4d26-bcee-3232bfb9d3cc",
   "metadata": {},
   "outputs": [
    {
     "data": {
      "text/plain": [
       "(6169, 22)"
      ]
     },
     "execution_count": 11,
     "metadata": {},
     "output_type": "execute_result"
    }
   ],
   "source": [
    "data_embeddings.shape"
   ]
  },
  {
   "cell_type": "code",
   "execution_count": 12,
   "id": "ee5166dd-0789-4e8b-9704-ff04ad23ade4",
   "metadata": {},
   "outputs": [
    {
     "data": {
      "text/html": [
       "<div>\n",
       "<style scoped>\n",
       "    .dataframe tbody tr th:only-of-type {\n",
       "        vertical-align: middle;\n",
       "    }\n",
       "\n",
       "    .dataframe tbody tr th {\n",
       "        vertical-align: top;\n",
       "    }\n",
       "\n",
       "    .dataframe thead th {\n",
       "        text-align: right;\n",
       "    }\n",
       "</style>\n",
       "<table border=\"1\" class=\"dataframe\">\n",
       "  <thead>\n",
       "    <tr style=\"text-align: right;\">\n",
       "      <th></th>\n",
       "      <th>e.cum</th>\n",
       "      <th>delta_e.cum</th>\n",
       "      <th>e.cum_shift</th>\n",
       "      <th>e.rel</th>\n",
       "      <th>j.NH3</th>\n",
       "      <th>pmid</th>\n",
       "      <th>meas.tech</th>\n",
       "      <th>country</th>\n",
       "      <th>inst</th>\n",
       "      <th>ct</th>\n",
       "      <th>dt</th>\n",
       "      <th>air.temp</th>\n",
       "      <th>wind.2m</th>\n",
       "      <th>rain.rate</th>\n",
       "      <th>tan.app</th>\n",
       "      <th>app.rate</th>\n",
       "      <th>man.dm</th>\n",
       "      <th>man.ph</th>\n",
       "      <th>man.source</th>\n",
       "      <th>t.incorp</th>\n",
       "      <th>app.mthd</th>\n",
       "      <th>incorp</th>\n",
       "    </tr>\n",
       "  </thead>\n",
       "  <tbody>\n",
       "    <tr>\n",
       "      <th>0</th>\n",
       "      <td>7.1480</td>\n",
       "      <td>7.1480</td>\n",
       "      <td>0.000</td>\n",
       "      <td>0.058537</td>\n",
       "      <td>1.7870</td>\n",
       "      <td>182</td>\n",
       "      <td>micro met</td>\n",
       "      <td>DK</td>\n",
       "      <td>104</td>\n",
       "      <td>4.0</td>\n",
       "      <td>4.0</td>\n",
       "      <td>8.20</td>\n",
       "      <td>8.10</td>\n",
       "      <td>0.0</td>\n",
       "      <td>122.11</td>\n",
       "      <td>31.8</td>\n",
       "      <td>3.7</td>\n",
       "      <td>7.35</td>\n",
       "      <td>0</td>\n",
       "      <td>1000.0</td>\n",
       "      <td>0</td>\n",
       "      <td>0</td>\n",
       "    </tr>\n",
       "    <tr>\n",
       "      <th>1</th>\n",
       "      <td>8.2921</td>\n",
       "      <td>1.1441</td>\n",
       "      <td>7.148</td>\n",
       "      <td>0.067907</td>\n",
       "      <td>0.0673</td>\n",
       "      <td>182</td>\n",
       "      <td>micro met</td>\n",
       "      <td>DK</td>\n",
       "      <td>104</td>\n",
       "      <td>21.0</td>\n",
       "      <td>17.0</td>\n",
       "      <td>4.45</td>\n",
       "      <td>3.98</td>\n",
       "      <td>0.0</td>\n",
       "      <td>122.11</td>\n",
       "      <td>31.8</td>\n",
       "      <td>3.7</td>\n",
       "      <td>7.35</td>\n",
       "      <td>0</td>\n",
       "      <td>1000.0</td>\n",
       "      <td>0</td>\n",
       "      <td>0</td>\n",
       "    </tr>\n",
       "  </tbody>\n",
       "</table>\n",
       "</div>"
      ],
      "text/plain": [
       "    e.cum  delta_e.cum  e.cum_shift     e.rel   j.NH3  pmid  meas.tech  \\\n",
       "0  7.1480       7.1480        0.000  0.058537  1.7870   182  micro met   \n",
       "1  8.2921       1.1441        7.148  0.067907  0.0673   182  micro met   \n",
       "\n",
       "  country  inst    ct    dt  air.temp  wind.2m  rain.rate  tan.app  app.rate  \\\n",
       "0      DK   104   4.0   4.0      8.20     8.10        0.0   122.11      31.8   \n",
       "1      DK   104  21.0  17.0      4.45     3.98        0.0   122.11      31.8   \n",
       "\n",
       "   man.dm  man.ph  man.source  t.incorp  app.mthd  incorp  \n",
       "0     3.7    7.35           0    1000.0         0       0  \n",
       "1     3.7    7.35           0    1000.0         0       0  "
      ]
     },
     "execution_count": 12,
     "metadata": {},
     "output_type": "execute_result"
    }
   ],
   "source": [
    "data_embeddings.head (2)"
   ]
  },
  {
   "cell_type": "markdown",
   "id": "5125f172-32fa-4e34-a6cd-36ae47c9c2e5",
   "metadata": {},
   "source": [
    "## Test samples"
   ]
  },
  {
   "cell_type": "code",
   "execution_count": 13,
   "id": "5cb0edbd-2028-4e33-a885-71e2ed6afa6d",
   "metadata": {},
   "outputs": [],
   "source": [
    "with open(\"../00_data_preparation/processed_data/list_train_pmids.json\", \"r\") as f:\n",
    "    list_train_pmids = json.load(f)\n",
    "\n",
    "with open(\"../00_data_preparation/processed_data/list_eval_pmids.json\", \"r\") as f:\n",
    "    list_eval_pmids = json.load(f)\n",
    "\n",
    "with open(\"../00_data_preparation/processed_data/list_test_pmids.json\", \"r\") as f:\n",
    "    list_test_pmids = json.load(f)"
   ]
  },
  {
   "cell_type": "markdown",
   "id": "5d0574ad-167e-4ceb-9aa2-7dc15fab300c",
   "metadata": {},
   "source": [
    "# Training"
   ]
  },
  {
   "cell_type": "code",
   "execution_count": 14,
   "id": "48eff87e-eac0-4f52-ae5d-7936791b41f3",
   "metadata": {},
   "outputs": [],
   "source": [
    "pmids_train = list_train_pmids [0]\n",
    "pmids_eval = list_eval_pmids [0]\n",
    "pmids_test = list_test_pmids [0]"
   ]
  },
  {
   "cell_type": "code",
   "execution_count": 15,
   "id": "ed9d60d8-3f1a-48c7-bd71-e2b6e180052f",
   "metadata": {},
   "outputs": [],
   "source": [
    "num_layers = 1\n",
    "nonlinearity = \"relu\"\n",
    "bidirectional = False\n",
    "mlp = False\n",
    "with_embeddings = False\n",
    "response = \"e.cum and delta_e.cum\"\n",
    "output_size = 2\n",
    "hidden_size = 256 \n",
    "\n",
    "if (with_embeddings):\n",
    "    data = data_embeddings\n",
    "    cat_dims = [5, 3, 2]  \n",
    "    embedding_dims = [10, 9, 8]  \n",
    "    input_size = 13\n",
    "\n",
    "else: \n",
    "    data = data_no_embeddings.copy()\n",
    "    cat_dims = None\n",
    "    embedding_dims = None\n",
    "    input_size = 17"
   ]
  },
  {
   "cell_type": "code",
   "execution_count": 16,
   "id": "3922e7ac-fadb-4ff4-8f76-12015c44614f",
   "metadata": {},
   "outputs": [],
   "source": [
    "data_train = data[data['pmid'].isin(pmids_train)]\n",
    "pmids_train = data_train['pmid'].unique()\n",
    "\n",
    "data_eval = data[data['pmid'].isin(pmids_eval)]\n",
    "pmids_eval = data_eval['pmid'].unique()\n",
    "\n",
    "data_test = data[data['pmid'].isin(pmids_test)]\n",
    "pmids_test = data_test['pmid'].unique()\n",
    "\n",
    "n_observations_evaluation_subset = data_eval.shape[0]"
   ]
  },
  {
   "cell_type": "code",
   "execution_count": 17,
   "id": "d765909d-c4e1-411b-a8df-684cae1c1300",
   "metadata": {},
   "outputs": [],
   "source": [
    "x_tensors_train = []\n",
    "y_tensors_train = []\n",
    "\n",
    "for pmid in pmids_train:\n",
    "    \n",
    "    x = mf.generate_tensors_predictors(data_train, pmid, with_embeddings, DEVICE)\n",
    "    x_tensors_train.append (x)   \n",
    "\n",
    "    y = mf.generate_tensors_response(data_train, pmid, response, DEVICE)\n",
    "    y_tensors_train.append (y)   \n",
    "    \n",
    "\n",
    "x_eval = []\n",
    "\n",
    "for pmid in pmids_eval:\n",
    "    x = mf.generate_tensors_predictors(data_eval, pmid, with_embeddings, DEVICE)\n",
    "    x_eval.append (x)   \n",
    "\n",
    "target_eval = torch.tensor (data_eval[['e.cum', 'delta_e.cum']].values).to(DEVICE)"
   ]
  },
  {
   "cell_type": "code",
   "execution_count": 18,
   "id": "957d31f1-3c48-4810-9642-e72be51b51fc",
   "metadata": {},
   "outputs": [],
   "source": [
    "torch.manual_seed(1)\n",
    "model = AmmoniaRNN(input_size = input_size, \n",
    "                   output_size = output_size, \n",
    "                   hidden_size = hidden_size, \n",
    "                   nonlinearity = nonlinearity,\n",
    "                   num_layers = num_layers,\n",
    "                   bidirectional = bidirectional,\n",
    "                   mlp = mlp,\n",
    "                   with_embeddings = with_embeddings, \n",
    "                   cat_dims = cat_dims, \n",
    "                   embedding_dims = embedding_dims).to(DEVICE)"
   ]
  },
  {
   "cell_type": "raw",
   "id": "d059e554-89ba-4b54-9250-514f946c7c8a",
   "metadata": {},
   "source": [
    "start_time = time.time()\n",
    "\n",
    "learning_rate = 0.00005\n",
    "num_epochs = 6000\n",
    "\n",
    "batch_size = 32\n",
    "optimizer = torch.optim.Adam(model.parameters(), lr=learning_rate)\n",
    "\n",
    "model.train() \n",
    "random.seed(1)\n",
    "\n",
    "all_losses = []\n",
    "all_mae_eval = []\n",
    "all_mae_eval_ecum = []\n",
    "all_mae_eval_delta_ecum = []\n",
    "\n",
    "mae_best = 1e5\n",
    "mae_best_ecum = 1e5\n",
    "mae_best_delta_ecum = 1e5\n",
    "\n",
    "data_pairs = list(zip(x_tensors_train, y_tensors_train))\n",
    "\n",
    "for epoch in range(num_epochs):\n",
    "\n",
    "    random.shuffle(data_pairs)\n",
    "    \n",
    "    x_tensors_train_shuffled, y_tensors_train_shuffled = zip(*data_pairs)\n",
    "    \n",
    "    mini_batches_x = [x_tensors_train_shuffled[i:i + batch_size] for i in range(0, len(x_tensors_train_shuffled), batch_size)]\n",
    "    mini_batches_y = [y_tensors_train_shuffled[i:i + batch_size] for i in range(0, len(y_tensors_train_shuffled), batch_size)]\n",
    "\n",
    "    all_predictions = []\n",
    "    all_target_train = []\n",
    "\n",
    "    for i in range(len(mini_batches_x)):\n",
    "\n",
    "        target_train = torch.cat(mini_batches_y[i], dim = 0)\n",
    "        n_obs_train = target_train.shape[0]\n",
    "\n",
    "        predictions  = torch.empty(0).to(DEVICE)\n",
    "\n",
    "        all_target_train.append(target_train)\n",
    "        \n",
    "        for x in mini_batches_x[i]:\n",
    "    \n",
    "            outputs = model(x) \n",
    "    \n",
    "            predictions = torch.cat ((predictions, outputs), 0)\n",
    "    \n",
    "        loss = torch.sum ((predictions - target_train) ** 2) / n_obs_train\n",
    "        \n",
    "        optimizer.zero_grad()\n",
    "        loss.backward()\n",
    "        optimizer.step()\n",
    "\n",
    "        all_predictions.append(predictions.detach())\n",
    "\n",
    "    all_predictions = torch.cat(all_predictions, dim = 0)\n",
    "    all_target_train = torch.cat(all_target_train, dim = 0)\n",
    "    n_obs_train_full_batch = all_target_train.shape[0]\n",
    "\n",
    "    loss = torch.sum (torch.abs(all_predictions - all_target_train)) / n_obs_train_full_batch\n",
    "    all_losses.append (loss.item())\n",
    "\n",
    "    mae_eval = mf.compute_mae_eval(response, x_eval, target_eval, model, n_observations_evaluation_subset, DEVICE)\n",
    "\n",
    "    all_mae_eval.append (mae_eval[0])\n",
    "    all_mae_eval_ecum.append (mae_eval[1])\n",
    "    all_mae_eval_delta_ecum.append (mae_eval[2])\n",
    "    \n",
    "    if (epoch+1) % (num_epochs / 10) == 0:\n",
    "        print(f'Epoch [{epoch+1}/{num_epochs}], Loss: {loss.item():.4f}')\n",
    "\n",
    "end_time = time.time()\n",
    "\n",
    "\n",
    "with open(f'results/03_test_evaluation/all_losses.pkl', \"wb\") as f:\n",
    "    pickle.dump(all_losses, f)\n",
    "\n",
    "with open(f'results/03_test_evaluation/all_mae_eval.pkl', \"wb\") as f:\n",
    "    pickle.dump(all_mae_eval, f)\n",
    "\n",
    "with open(f'results/03_test_evaluation/all_mae_eval_ecum.pkl', \"wb\") as f:\n",
    "    pickle.dump(all_mae_eval_ecum, f)\n",
    "\n",
    "with open(f'results/03_test_evaluation/all_mae_eval_delta_ecum.pkl', \"wb\") as f:\n",
    "    pickle.dump(all_mae_eval_delta_ecum, f)"
   ]
  },
  {
   "cell_type": "raw",
   "id": "de9c0858-a3fa-4e8e-8cd5-03fd4ec220c6",
   "metadata": {},
   "source": [
    "elapsed_time = end_time - start_time\n",
    "print(f\"Temps d'exécution : {elapsed_time} secondes\")"
   ]
  },
  {
   "cell_type": "code",
   "execution_count": 19,
   "id": "2e7929be-0b5d-4ebe-928e-583e4ee5e5ca",
   "metadata": {},
   "outputs": [],
   "source": [
    "with open(f'results/03_test_evaluation/all_losses.pkl', \"rb\") as f:\n",
    "    all_losses = pickle.load(f)\n",
    "\n",
    "with open(f'results/03_test_evaluation/all_mae_eval.pkl', \"rb\") as f:\n",
    "    all_mae_eval = pickle.load(f)\n",
    "\n",
    "with open(f'results/03_test_evaluation/all_mae_eval_ecum.pkl', \"rb\") as f:\n",
    "    all_mae_eval_ecum = pickle.load(f)\n",
    "\n",
    "with open(f'results/03_test_evaluation/all_mae_eval_delta_ecum.pkl', \"rb\") as f:\n",
    "    all_mae_eval_delta_ecum = pickle.load(f)"
   ]
  },
  {
   "cell_type": "code",
   "execution_count": 20,
   "id": "1f265c42-02ec-4fba-9e2b-0217d40bb9d0",
   "metadata": {},
   "outputs": [
    {
     "data": {
      "image/png": "[encoded data removed]",
      "text/plain": [
       "<Figure size 1200x800 with 4 Axes>"
      ]
     },
     "metadata": {},
     "output_type": "display_data"
    }
   ],
   "source": [
    "fig, axes = plt.subplots(2, 2, figsize=(12, 8), sharey=False)\n",
    "\n",
    "axes[0,0].plot(all_losses[10:])\n",
    "axes[0,0].set_title('All Losses')\n",
    "\n",
    "axes[0,1].plot(all_mae_eval[10:])\n",
    "axes[0,1].set_title('MAE Eval')\n",
    "\n",
    "axes[1,0].plot(all_mae_eval_ecum[10:])\n",
    "axes[1,0].set_title('MAE Eval ecum')\n",
    "\n",
    "axes[1,1].plot(all_mae_eval_delta_ecum[10:])\n",
    "axes[1,1].set_title('MAE Eval delta ecum')\n",
    "\n",
    "plt.tight_layout()\n",
    "plt.show()"
   ]
  },
  {
   "cell_type": "markdown",
   "id": "b03973d8-0dc5-4ab0-9e59-d312b1fb7ec0",
   "metadata": {},
   "source": [
    "We observe that the number of epochs that minimizes the MAE is not the same for delta_ecum as it is for the other two outputs (e.cum and the pair (e.cum, delta_ecum)).\n",
    "\n",
    "Therefore, the number of epochs selected will depend on which output is used for prediction:\n",
    "\n",
    "- if the model is used with e.cum → we select the number of epochs that minimizes the error on e.cum\n",
    "- if the model is used with delta_ecum → we select the number of epochs that minimizes the error on delta_ecum"
   ]
  },
  {
   "cell_type": "markdown",
   "id": "c3f42635-c4a8-4722-a7e6-f2ad51730754",
   "metadata": {},
   "source": [
    "# End"
   ]
  }
 ],
 "metadata": {
  "kernelspec": {
   "display_name": "Python 3 (ipykernel)",
   "language": "python",
   "name": "python3"
  },
  "language_info": {
   "codemirror_mode": {
    "name": "ipython",
    "version": 3
   },
   "file_extension": ".py",
   "mimetype": "text/x-python",
   "name": "python",
   "nbconvert_exporter": "python",
   "pygments_lexer": "ipython3",
   "version": "3.12.3"
  }
 },
 "nbformat": 4,
 "nbformat_minor": 5
}
