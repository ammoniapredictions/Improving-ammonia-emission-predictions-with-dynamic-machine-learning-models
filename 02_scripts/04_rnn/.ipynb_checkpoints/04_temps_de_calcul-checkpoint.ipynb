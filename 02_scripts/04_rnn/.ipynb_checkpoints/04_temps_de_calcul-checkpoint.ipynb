{
 "cells": [
  {
   "cell_type": "markdown",
   "id": "dd95a333-03ae-4ea7-9f96-9d5fb717128b",
   "metadata": {},
   "source": [
    "# Readme"
   ]
  },
  {
   "cell_type": "markdown",
   "id": "8df217be-7436-4e49-85f5-d9c4f44b5111",
   "metadata": {},
   "source": [
    "Rajout du test sur les différents jeux test."
   ]
  },
  {
   "cell_type": "markdown",
   "id": "6fd0a1df-6491-4b0c-bdd5-2136001bc5ec",
   "metadata": {},
   "source": [
    "# Setup"
   ]
  },
  {
   "cell_type": "code",
   "execution_count": 4,
   "id": "2e6cbc0b-9a35-401d-b0c9-a72c114fa43f",
   "metadata": {},
   "outputs": [],
   "source": [
    "import torch\n",
    "import torch.nn as nn \n",
    "import matplotlib.pyplot as plt \n",
    "import pandas as pd\n",
    "import numpy as np\n",
    "import time\n",
    "import random\n",
    "import pickle\n",
    "import json\n",
    "import itertools\n",
    "import importlib"
   ]
  },
  {
   "cell_type": "code",
   "execution_count": 2,
   "id": "51d6e7ac-2d28-48d8-bfe9-bb8f69a483e9",
   "metadata": {},
   "outputs": [],
   "source": [
    "import sys\n",
    "sys.path.append ('functions')\n",
    "\n",
    "import functions as mf\n",
    "importlib.reload(mf) \n",
    "\n",
    "from rnn_module import AmmoniaRNN"
   ]
  },
  {
   "cell_type": "code",
   "execution_count": null,
   "id": "aee63715-7f94-4295-8a0e-f40cc810d83e",
   "metadata": {},
   "outputs": [],
   "source": [
    "DEVICE = 'cuda:0' if torch.cuda.is_available() else 'cpu'\n",
    "DEVICE"
   ]
  },
  {
   "cell_type": "code",
   "execution_count": 43,
   "id": "a331c0ea-6e57-4b27-8da3-1d363cf92eed",
   "metadata": {},
   "outputs": [],
   "source": [
    "pd.set_option(\"display.max_columns\", None)"
   ]
  },
  {
   "cell_type": "markdown",
   "id": "2376b0a4-4c1c-4e04-b329-06e14a49f2d8",
   "metadata": {},
   "source": [
    "# Data processing"
   ]
  },
  {
   "cell_type": "raw",
   "id": "d1b128da-18d5-4887-b9c6-b28966959e7b",
   "metadata": {},
   "source": [
    "pmids = data_embeddings['pmid'].unique()"
   ]
  },
  {
   "cell_type": "markdown",
   "id": "50041f5d-9b96-43b9-b90d-1b98680ae1dd",
   "metadata": {},
   "source": [
    "## Data no embeddings"
   ]
  },
  {
   "cell_type": "code",
   "execution_count": 7,
   "id": "985b1957-21d6-40a5-8235-5b27a72724cd",
   "metadata": {},
   "outputs": [],
   "source": [
    "data_no_embeddings = pd.read_csv(\"../data/processed_data/data_rnn_1.csv\")"
   ]
  },
  {
   "cell_type": "code",
   "execution_count": 8,
   "id": "f00d3c5d-6d9f-41c9-8733-87aeafe487d6",
   "metadata": {},
   "outputs": [],
   "source": [
    "data_no_embeddings = data_no_embeddings.drop(['Unnamed: 0'], axis = 1)"
   ]
  },
  {
   "cell_type": "code",
   "execution_count": 9,
   "id": "cd291f6d-fa73-436c-a2c7-bae557ede0ff",
   "metadata": {},
   "outputs": [
    {
     "data": {
      "text/plain": [
       "(6169, 26)"
      ]
     },
     "execution_count": 9,
     "metadata": {},
     "output_type": "execute_result"
    }
   ],
   "source": [
    "data_no_embeddings.shape"
   ]
  },
  {
   "cell_type": "code",
   "execution_count": 10,
   "id": "581ecd9d-047f-405e-ae1c-a20ef399ae6c",
   "metadata": {},
   "outputs": [
    {
     "data": {
      "text/html": [
       "<div>\n",
       "<style scoped>\n",
       "    .dataframe tbody tr th:only-of-type {\n",
       "        vertical-align: middle;\n",
       "    }\n",
       "\n",
       "    .dataframe tbody tr th {\n",
       "        vertical-align: top;\n",
       "    }\n",
       "\n",
       "    .dataframe thead th {\n",
       "        text-align: right;\n",
       "    }\n",
       "</style>\n",
       "<table border=\"1\" class=\"dataframe\">\n",
       "  <thead>\n",
       "    <tr style=\"text-align: right;\">\n",
       "      <th></th>\n",
       "      <th>e.cum</th>\n",
       "      <th>delta_e.cum</th>\n",
       "      <th>e.cum_shift</th>\n",
       "      <th>e.rel</th>\n",
       "      <th>j.NH3</th>\n",
       "      <th>pmid</th>\n",
       "      <th>meas.tech</th>\n",
       "      <th>country</th>\n",
       "      <th>inst</th>\n",
       "      <th>ct</th>\n",
       "      <th>...</th>\n",
       "      <th>man.dm</th>\n",
       "      <th>man.ph</th>\n",
       "      <th>man.source</th>\n",
       "      <th>t.incorp</th>\n",
       "      <th>app.mthd_bc</th>\n",
       "      <th>app.mthd_bsth</th>\n",
       "      <th>app.mthd_ts</th>\n",
       "      <th>app.mthd_os</th>\n",
       "      <th>incorp_none</th>\n",
       "      <th>incorp_shallow</th>\n",
       "    </tr>\n",
       "  </thead>\n",
       "  <tbody>\n",
       "    <tr>\n",
       "      <th>0</th>\n",
       "      <td>7.1480</td>\n",
       "      <td>7.1480</td>\n",
       "      <td>0.000</td>\n",
       "      <td>0.058537</td>\n",
       "      <td>1.7870</td>\n",
       "      <td>182</td>\n",
       "      <td>micro met</td>\n",
       "      <td>DK</td>\n",
       "      <td>104</td>\n",
       "      <td>4.0</td>\n",
       "      <td>...</td>\n",
       "      <td>3.7</td>\n",
       "      <td>7.35</td>\n",
       "      <td>0</td>\n",
       "      <td>1000.0</td>\n",
       "      <td>1</td>\n",
       "      <td>0</td>\n",
       "      <td>0</td>\n",
       "      <td>0</td>\n",
       "      <td>1</td>\n",
       "      <td>0</td>\n",
       "    </tr>\n",
       "    <tr>\n",
       "      <th>1</th>\n",
       "      <td>8.2921</td>\n",
       "      <td>1.1441</td>\n",
       "      <td>7.148</td>\n",
       "      <td>0.067907</td>\n",
       "      <td>0.0673</td>\n",
       "      <td>182</td>\n",
       "      <td>micro met</td>\n",
       "      <td>DK</td>\n",
       "      <td>104</td>\n",
       "      <td>21.0</td>\n",
       "      <td>...</td>\n",
       "      <td>3.7</td>\n",
       "      <td>7.35</td>\n",
       "      <td>0</td>\n",
       "      <td>1000.0</td>\n",
       "      <td>1</td>\n",
       "      <td>0</td>\n",
       "      <td>0</td>\n",
       "      <td>0</td>\n",
       "      <td>1</td>\n",
       "      <td>0</td>\n",
       "    </tr>\n",
       "  </tbody>\n",
       "</table>\n",
       "<p>2 rows × 26 columns</p>\n",
       "</div>"
      ],
      "text/plain": [
       "    e.cum  delta_e.cum  e.cum_shift     e.rel   j.NH3  pmid  meas.tech  \\\n",
       "0  7.1480       7.1480        0.000  0.058537  1.7870   182  micro met   \n",
       "1  8.2921       1.1441        7.148  0.067907  0.0673   182  micro met   \n",
       "\n",
       "  country  inst    ct  ...  man.dm  man.ph  man.source  t.incorp  app.mthd_bc  \\\n",
       "0      DK   104   4.0  ...     3.7    7.35           0    1000.0            1   \n",
       "1      DK   104  21.0  ...     3.7    7.35           0    1000.0            1   \n",
       "\n",
       "   app.mthd_bsth  app.mthd_ts  app.mthd_os  incorp_none  incorp_shallow  \n",
       "0              0            0            0            1               0  \n",
       "1              0            0            0            1               0  \n",
       "\n",
       "[2 rows x 26 columns]"
      ]
     },
     "execution_count": 10,
     "metadata": {},
     "output_type": "execute_result"
    }
   ],
   "source": [
    "data_no_embeddings.head (2)"
   ]
  },
  {
   "cell_type": "markdown",
   "id": "77c6084b-0ae2-411f-83e1-583b6ade2757",
   "metadata": {},
   "source": [
    "## Data embeddings"
   ]
  },
  {
   "cell_type": "code",
   "execution_count": 11,
   "id": "ea3cd6b2-b2ce-4ecc-b59b-a19f638fc7bc",
   "metadata": {},
   "outputs": [],
   "source": [
    "data_embeddings = pd.read_csv(\"../data/processed_data/data_rnn_2.csv\")"
   ]
  },
  {
   "cell_type": "code",
   "execution_count": 12,
   "id": "6f218ebe-39c2-410c-ace1-124b1a3818b6",
   "metadata": {},
   "outputs": [],
   "source": [
    "data_embeddings = data_embeddings.drop(['Unnamed: 0'], axis = 1)"
   ]
  },
  {
   "cell_type": "code",
   "execution_count": 13,
   "id": "79431f16-7683-4d26-bcee-3232bfb9d3cc",
   "metadata": {},
   "outputs": [
    {
     "data": {
      "text/plain": [
       "(6169, 22)"
      ]
     },
     "execution_count": 13,
     "metadata": {},
     "output_type": "execute_result"
    }
   ],
   "source": [
    "data_embeddings.shape"
   ]
  },
  {
   "cell_type": "code",
   "execution_count": 14,
   "id": "ee5166dd-0789-4e8b-9704-ff04ad23ade4",
   "metadata": {},
   "outputs": [
    {
     "data": {
      "text/html": [
       "<div>\n",
       "<style scoped>\n",
       "    .dataframe tbody tr th:only-of-type {\n",
       "        vertical-align: middle;\n",
       "    }\n",
       "\n",
       "    .dataframe tbody tr th {\n",
       "        vertical-align: top;\n",
       "    }\n",
       "\n",
       "    .dataframe thead th {\n",
       "        text-align: right;\n",
       "    }\n",
       "</style>\n",
       "<table border=\"1\" class=\"dataframe\">\n",
       "  <thead>\n",
       "    <tr style=\"text-align: right;\">\n",
       "      <th></th>\n",
       "      <th>e.cum</th>\n",
       "      <th>delta_e.cum</th>\n",
       "      <th>e.cum_shift</th>\n",
       "      <th>e.rel</th>\n",
       "      <th>j.NH3</th>\n",
       "      <th>pmid</th>\n",
       "      <th>meas.tech</th>\n",
       "      <th>country</th>\n",
       "      <th>inst</th>\n",
       "      <th>ct</th>\n",
       "      <th>...</th>\n",
       "      <th>wind.2m</th>\n",
       "      <th>rain.rate</th>\n",
       "      <th>tan.app</th>\n",
       "      <th>app.rate</th>\n",
       "      <th>man.dm</th>\n",
       "      <th>man.ph</th>\n",
       "      <th>man.source</th>\n",
       "      <th>t.incorp</th>\n",
       "      <th>app.mthd</th>\n",
       "      <th>incorp</th>\n",
       "    </tr>\n",
       "  </thead>\n",
       "  <tbody>\n",
       "    <tr>\n",
       "      <th>0</th>\n",
       "      <td>7.1480</td>\n",
       "      <td>7.1480</td>\n",
       "      <td>0.000</td>\n",
       "      <td>0.058537</td>\n",
       "      <td>1.7870</td>\n",
       "      <td>182</td>\n",
       "      <td>micro met</td>\n",
       "      <td>DK</td>\n",
       "      <td>104</td>\n",
       "      <td>4.0</td>\n",
       "      <td>...</td>\n",
       "      <td>8.10</td>\n",
       "      <td>0.0</td>\n",
       "      <td>122.11</td>\n",
       "      <td>31.8</td>\n",
       "      <td>3.7</td>\n",
       "      <td>7.35</td>\n",
       "      <td>0</td>\n",
       "      <td>1000.0</td>\n",
       "      <td>0</td>\n",
       "      <td>0</td>\n",
       "    </tr>\n",
       "    <tr>\n",
       "      <th>1</th>\n",
       "      <td>8.2921</td>\n",
       "      <td>1.1441</td>\n",
       "      <td>7.148</td>\n",
       "      <td>0.067907</td>\n",
       "      <td>0.0673</td>\n",
       "      <td>182</td>\n",
       "      <td>micro met</td>\n",
       "      <td>DK</td>\n",
       "      <td>104</td>\n",
       "      <td>21.0</td>\n",
       "      <td>...</td>\n",
       "      <td>3.98</td>\n",
       "      <td>0.0</td>\n",
       "      <td>122.11</td>\n",
       "      <td>31.8</td>\n",
       "      <td>3.7</td>\n",
       "      <td>7.35</td>\n",
       "      <td>0</td>\n",
       "      <td>1000.0</td>\n",
       "      <td>0</td>\n",
       "      <td>0</td>\n",
       "    </tr>\n",
       "  </tbody>\n",
       "</table>\n",
       "<p>2 rows × 22 columns</p>\n",
       "</div>"
      ],
      "text/plain": [
       "    e.cum  delta_e.cum  e.cum_shift     e.rel   j.NH3  pmid  meas.tech  \\\n",
       "0  7.1480       7.1480        0.000  0.058537  1.7870   182  micro met   \n",
       "1  8.2921       1.1441        7.148  0.067907  0.0673   182  micro met   \n",
       "\n",
       "  country  inst    ct  ...  wind.2m  rain.rate  tan.app  app.rate  man.dm  \\\n",
       "0      DK   104   4.0  ...     8.10        0.0   122.11      31.8     3.7   \n",
       "1      DK   104  21.0  ...     3.98        0.0   122.11      31.8     3.7   \n",
       "\n",
       "   man.ph  man.source  t.incorp  app.mthd  incorp  \n",
       "0    7.35           0    1000.0         0       0  \n",
       "1    7.35           0    1000.0         0       0  \n",
       "\n",
       "[2 rows x 22 columns]"
      ]
     },
     "execution_count": 14,
     "metadata": {},
     "output_type": "execute_result"
    }
   ],
   "source": [
    "data_embeddings.head (2)"
   ]
  },
  {
   "cell_type": "markdown",
   "id": "5125f172-32fa-4e34-a6cd-36ae47c9c2e5",
   "metadata": {},
   "source": [
    "## Test samples"
   ]
  },
  {
   "cell_type": "code",
   "execution_count": 15,
   "id": "c92946bb-969f-4a7a-83fd-c75662def5d9",
   "metadata": {},
   "outputs": [],
   "source": [
    "with open(\"../data/processed_data/list_train_pmids.json\", \"r\") as f:\n",
    "    list_train_pmids = json.load(f)\n",
    "\n",
    "with open(\"../data/processed_data/list_eval_pmids.json\", \"r\") as f:\n",
    "    list_eval_pmids = json.load(f)\n",
    "\n",
    "with open(\"../data/processed_data/list_test_pmids.json\", \"r\") as f:\n",
    "    list_test_pmids = json.load(f)"
   ]
  },
  {
   "cell_type": "code",
   "execution_count": 16,
   "id": "6915abfb-a07a-4842-8021-caa7912a71e6",
   "metadata": {},
   "outputs": [
    {
     "data": {
      "text/plain": [
       "15"
      ]
     },
     "execution_count": 16,
     "metadata": {},
     "output_type": "execute_result"
    }
   ],
   "source": [
    "len (list_train_pmids)"
   ]
  },
  {
   "cell_type": "markdown",
   "id": "b4b9091e-7dc3-49a2-b5a4-e711a05af9f4",
   "metadata": {},
   "source": [
    "# Avec cpu"
   ]
  },
  {
   "cell_type": "code",
   "execution_count": 17,
   "id": "cd78db57-226f-4b82-ba10-00546ba841bb",
   "metadata": {},
   "outputs": [],
   "source": [
    "DEVICE = \"cpu\""
   ]
  },
  {
   "cell_type": "code",
   "execution_count": 18,
   "id": "9398c850-84f3-4a57-b68b-2044f1d046b2",
   "metadata": {},
   "outputs": [],
   "source": [
    "pmids_train = list_train_pmids [0]\n",
    "pmids_eval = list_eval_pmids [0]\n",
    "pmids_test = list_test_pmids [0]"
   ]
  },
  {
   "cell_type": "code",
   "execution_count": 19,
   "id": "1bd00096-c489-4b29-bd1f-edc54c6473bc",
   "metadata": {},
   "outputs": [],
   "source": [
    "num_layers = 1\n",
    "nonlinearity = \"relu\"\n",
    "bidirectional = False\n",
    "mlp = False\n",
    "with_embeddings = False\n",
    "response = \"e.cum\"\n",
    "hidden_size = 64 \n",
    "\n",
    "if (with_embeddings):\n",
    "    data = data_embeddings\n",
    "    cat_dims = [5, 3, 2]  \n",
    "    embedding_dims = [10, 9, 8]  \n",
    "    input_size = 13\n",
    "\n",
    "else: \n",
    "    data = data_no_embeddings.copy()\n",
    "    cat_dims = None\n",
    "    embedding_dims = None\n",
    "    input_size = 17\n",
    "    \n",
    "output_size = 1\n",
    "if (response == \"e.cum and delta_e.cum\"): output_size = 2"
   ]
  },
  {
   "cell_type": "code",
   "execution_count": 20,
   "id": "fc47053c-b5b3-4bcb-a2da-0d8291e8338e",
   "metadata": {},
   "outputs": [],
   "source": [
    "data_train = data[data['pmid'].isin(pmids_train)]\n",
    "pmids_train = data_train['pmid'].unique()\n",
    "\n",
    "data_eval = data[data['pmid'].isin(pmids_eval)]\n",
    "pmids_eval = data_eval['pmid'].unique()\n",
    "\n",
    "data_test = data[data['pmid'].isin(pmids_test)]\n",
    "pmids_test = data_test['pmid'].unique()\n",
    "\n",
    "n_observations_evaluation_subset = data_eval.shape[0]"
   ]
  },
  {
   "cell_type": "code",
   "execution_count": 21,
   "id": "1fbbf630-a025-4f88-ad59-17272ec571d9",
   "metadata": {},
   "outputs": [],
   "source": [
    "x_tensors_train = []\n",
    "y_tensors_train = []\n",
    "\n",
    "for pmid in pmids_train:\n",
    "    \n",
    "    x = mf.generate_tensors_predictors(data_train, pmid, with_embeddings, DEVICE)\n",
    "    x_tensors_train.append (x)   \n",
    "\n",
    "    y = mf.generate_tensors_response(data_train, pmid, response, DEVICE)\n",
    "    y_tensors_train.append (y)   \n",
    "    \n",
    "\n",
    "x_eval = []\n",
    "\n",
    "for pmid in pmids_eval:\n",
    "    x = mf.generate_tensors_predictors(data_eval, pmid, with_embeddings, DEVICE)\n",
    "    x_eval.append (x)   \n",
    "\n",
    "if (response == \"e.cum\"):\n",
    "    target_eval = torch.tensor (data_eval['e.cum'].values).to(DEVICE)\n",
    "\n",
    "if (response == \"delta_e.cum\"):\n",
    "    target_eval = torch.tensor (data_eval['delta_e.cum'].values).to(DEVICE)\n",
    "\n",
    "if (response == \"e.cum and delta_e.cum\"):\n",
    "    target_eval = torch.tensor (data_eval[['e.cum', 'delta_e.cum']].values).to(DEVICE)\n"
   ]
  },
  {
   "cell_type": "code",
   "execution_count": 22,
   "id": "861a8e95-f47f-45ac-96fa-b4c9e93e4d1f",
   "metadata": {},
   "outputs": [],
   "source": [
    "torch.manual_seed(1)\n",
    "model = AmmoniaRNN(input_size = input_size, \n",
    "                   output_size = output_size, \n",
    "                   hidden_size = hidden_size, \n",
    "                   nonlinearity = nonlinearity,\n",
    "                   num_layers = num_layers,\n",
    "                   bidirectional = bidirectional,\n",
    "                   mlp = mlp,\n",
    "                   with_embeddings = with_embeddings, \n",
    "                   cat_dims = cat_dims, \n",
    "                   embedding_dims = embedding_dims).to(DEVICE)"
   ]
  },
  {
   "cell_type": "code",
   "execution_count": 23,
   "id": "55066559-1423-4d80-8aa4-72804ff82a0b",
   "metadata": {},
   "outputs": [
    {
     "name": "stdout",
     "output_type": "stream",
     "text": [
      "Total number of parameters: 5377\n"
     ]
    }
   ],
   "source": [
    "num_params = sum(p.numel() for p in model.parameters())\n",
    "print(f\"Total number of parameters: {num_params}\")"
   ]
  },
  {
   "cell_type": "code",
   "execution_count": 24,
   "id": "122b6dd6-1651-485d-8fa6-12d8ddaa2531",
   "metadata": {},
   "outputs": [
    {
     "name": "stdout",
     "output_type": "stream",
     "text": [
      "Epoch [20/200], Loss: 6.7904\n",
      "Epoch [40/200], Loss: 6.4644\n",
      "Epoch [60/200], Loss: 6.1752\n",
      "Epoch [80/200], Loss: 5.6657\n",
      "Epoch [100/200], Loss: 5.6440\n",
      "Epoch [120/200], Loss: 5.5301\n",
      "Epoch [140/200], Loss: 5.1555\n",
      "Epoch [160/200], Loss: 5.1793\n",
      "Epoch [180/200], Loss: 4.6647\n",
      "Epoch [200/200], Loss: 4.6977\n"
     ]
    }
   ],
   "source": [
    "start_time = time.time()\n",
    "\n",
    "learning_rate = 0.0005\n",
    "num_epochs = 200\n",
    "batch_size = 32\n",
    "optimizer = torch.optim.Adam(model.parameters(), lr=learning_rate)\n",
    "\n",
    "model.train()  # Set model to training mode\n",
    "random.seed(1)\n",
    "\n",
    "all_losses = []\n",
    "all_mae_eval = []\n",
    "all_mae_eval_ecum = []\n",
    "all_mae_eval_delta_ecum = []\n",
    "\n",
    "mae_best = 1e5\n",
    "mae_best_ecum = 1e5\n",
    "mae_best_delta_ecum = 1e5\n",
    "\n",
    "data_pairs = list(zip(x_tensors_train, y_tensors_train))\n",
    "\n",
    "filename_model = f'results/model_x'\n",
    "\n",
    "for epoch in range(num_epochs):\n",
    "\n",
    "    # Shuffle the combined list\n",
    "    random.shuffle(data_pairs)\n",
    "    \n",
    "    # Separate x and y after shuffling\n",
    "    x_tensors_train_shuffled, y_tensors_train_shuffled = zip(*data_pairs)\n",
    "    \n",
    "    # Partition into mini-batches\n",
    "    mini_batches_x = [x_tensors_train_shuffled[i:i + batch_size] for i in range(0, len(x_tensors_train_shuffled), batch_size)]\n",
    "    mini_batches_y = [y_tensors_train_shuffled[i:i + batch_size] for i in range(0, len(y_tensors_train_shuffled), batch_size)]\n",
    "\n",
    "    all_predictions = []\n",
    "    all_target_train = []\n",
    "\n",
    "    for i in range(len(mini_batches_x)):\n",
    "\n",
    "        target_train = torch.cat(mini_batches_y[i], dim = 0)\n",
    "        n_obs_train = target_train.shape[0]\n",
    "\n",
    "        predictions  = torch.empty(0).to(DEVICE)\n",
    "\n",
    "        all_target_train.append(target_train)\n",
    "        \n",
    "        for x in mini_batches_x[i]:\n",
    "    \n",
    "            # Forward pass\n",
    "            outputs = model(x)  # Predict emissions at all time steps\n",
    "    \n",
    "            predictions = torch.cat ((predictions, outputs), 0)\n",
    "    \n",
    "        # Compare the predicted values for all time steps to the target values\n",
    "        loss = torch.sum ((predictions - target_train) ** 2) / n_obs_train  # Compute loss over all time steps\n",
    "        \n",
    "        # Backpropagation and optimization\n",
    "        optimizer.zero_grad()\n",
    "        loss.backward()\n",
    "        optimizer.step()\n",
    "\n",
    "        all_predictions.append(predictions.detach())\n",
    "\n",
    "    all_predictions = torch.cat(all_predictions, dim = 0)\n",
    "    all_target_train = torch.cat(all_target_train, dim = 0)\n",
    "    n_obs_train_full_batch = all_target_train.shape[0]\n",
    "\n",
    "    #loss = torch.sum ((all_predictions - all_target_train) ** 2) / n_obs_train_full_batch\n",
    "    loss = torch.sum (torch.abs(all_predictions - all_target_train)) / n_obs_train_full_batch\n",
    "    all_losses.append (loss.item())\n",
    "\n",
    "    mae_eval = mf.compute_mae_eval(response, x_eval, target_eval, model, n_observations_evaluation_subset, DEVICE)\n",
    "\n",
    "    if response in [\"e.cum\", \"delta_e.cum\"]:\n",
    "\n",
    "        all_mae_eval.append (mae_eval[0])\n",
    "        \n",
    "        if (mae_eval[0] < mae_best):\n",
    "            mae_best = mae_eval[0]\n",
    "            torch.save(model.state_dict(), filename_model + '.pth')\n",
    "\n",
    "    if (response == \"e.cum and delta_e.cum\"):\n",
    "        \n",
    "        all_mae_eval_ecum.append (mae_eval[1])\n",
    "        all_mae_eval_delta_ecum.append (mae_eval[2])\n",
    "\n",
    "        if (mae_eval[1] < mae_best_ecum):\n",
    "            mae_best_ecum = mae_eval[1]\n",
    "            torch.save(model.state_dict(), filename_model + '_ecum.pth')\n",
    "            \n",
    "        if (mae_eval[2] < mae_best_delta_ecum):\n",
    "            mae_best_delta_ecum = mae_eval[2]\n",
    "            torch.save(model.state_dict(), filename_model + '_delta_ecum.pth')\n",
    "            \n",
    "    #print (epoch)\n",
    "    \n",
    "    # Print the loss \n",
    "    if (epoch+1) % (num_epochs / 10) == 0:\n",
    "        print(f'Epoch [{epoch+1}/{num_epochs}], Loss: {loss.item():.4f}')\n",
    "\n",
    "end_time = time.time()"
   ]
  },
  {
   "cell_type": "code",
   "execution_count": 25,
   "id": "908f0a00-5076-4026-83f2-443c7ce53602",
   "metadata": {},
   "outputs": [
    {
     "name": "stdout",
     "output_type": "stream",
     "text": [
      "Temps d'exécution : 97.60199689865112 secondes\n"
     ]
    }
   ],
   "source": [
    "elapsed_time = end_time - start_time\n",
    "print(f\"Temps d'exécution : {elapsed_time} secondes\")"
   ]
  },
  {
   "cell_type": "code",
   "execution_count": 26,
   "id": "d5b89179-ae88-4c35-9e14-c3fdd5767d98",
   "metadata": {},
   "outputs": [
    {
     "data": {
      "image/png": "[encoded data removed]",
      "text/plain": [
       "<Figure size 1200x400 with 2 Axes>"
      ]
     },
     "metadata": {},
     "output_type": "display_data"
    }
   ],
   "source": [
    "# Create subplots\n",
    "fig, axes = plt.subplots(1, 2, figsize=(12, 4), sharey=False)\n",
    "\n",
    "# Plot each list\n",
    "axes[0].plot(all_losses[10:])\n",
    "axes[0].set_title('All Losses')\n",
    "\n",
    "# Plot each list\n",
    "axes[1].plot(all_mae_eval[10:])\n",
    "axes[1].set_title('All mae eval')\n",
    "\n",
    "plt.tight_layout()\n",
    "plt.show()"
   ]
  },
  {
   "cell_type": "raw",
   "id": "91a193dc-8c39-47cb-883a-65cb81396912",
   "metadata": {},
   "source": [
    "print (all_mae_eval)\n",
    "print (all_mae_eval_ecum)\n",
    "print (all_mae_eval_delta_ecum)"
   ]
  },
  {
   "cell_type": "code",
   "execution_count": 27,
   "id": "e369d877-0767-43e0-8885-d2aa32f88461",
   "metadata": {},
   "outputs": [],
   "source": [
    "data_predictions = data_test.copy()\n",
    "data_predictions['prediction_ecum'] = None\n",
    "data_predictions['prediction_delta_ecum'] = None\n",
    "    \n",
    "\n",
    "with torch.no_grad():\n",
    "\n",
    "    if response in ['e.cum', 'delta_e.cum']:\n",
    "\n",
    "        all_predictions = torch.empty(0).to(DEVICE)\n",
    "\n",
    "        model.load_state_dict(torch.load(filename_model + '.pth', weights_only = True))\n",
    "    \n",
    "        for i in pmids_test:\n",
    "    \n",
    "            x = mf.generate_tensors_predictors (data_predictions, i, with_embeddings, DEVICE)\n",
    "            y = model(x)\n",
    "            all_predictions = torch.cat ((all_predictions, y.squeeze()), 0)\n",
    "\n",
    "        if (response == \"e.cum\"):\n",
    "    \n",
    "            data_predictions['prediction_ecum'] = all_predictions.to(\"cpu\").detach()\n",
    "\n",
    "        if (response == \"delta_e.cum\"):\n",
    "    \n",
    "            data_predictions['prediction_delta_ecum'] = all_predictions.to(\"cpu\").detach()\n",
    "\n",
    "    if (response == \"e.cum and delta_e.cum\"):\n",
    "\n",
    "        all_predictions = torch.empty(0).to(DEVICE)\n",
    "\n",
    "        model.load_state_dict(torch.load(filename_model + '_ecum.pth', weights_only = True))\n",
    "    \n",
    "        for i in pmids_test:\n",
    "    \n",
    "            x = mf.generate_tensors_predictors (data_predictions, i, with_embeddings, DEVICE)\n",
    "            y = model(x)\n",
    "            all_predictions = torch.cat ((all_predictions, y.squeeze()), 0)\n",
    "            \n",
    "        data_predictions['prediction_ecum'] = all_predictions[:,0]\n",
    "\n",
    "        all_predictions = torch.empty(0).to(DEVICE)\n",
    "\n",
    "        model.load_state_dict(torch.load(filename_model + '_delta_ecum.pth', weights_only = True))\n",
    "    \n",
    "        for i in pmids_test:\n",
    "    \n",
    "            x = mf.generate_tensors_predictors (data_predictions, i, with_embeddings, DEVICE)\n",
    "            y = model(x)\n",
    "            all_predictions = torch.cat ((all_predictions, y.squeeze()), 0)\n",
    "                    \n",
    "        data_predictions['prediction_delta_ecum'] = all_predictions[:,1]"
   ]
  },
  {
   "cell_type": "code",
   "execution_count": 28,
   "id": "018f770c-da3e-410f-89d9-e838971bd54a",
   "metadata": {},
   "outputs": [
    {
     "data": {
      "text/html": [
       "<div>\n",
       "<style scoped>\n",
       "    .dataframe tbody tr th:only-of-type {\n",
       "        vertical-align: middle;\n",
       "    }\n",
       "\n",
       "    .dataframe tbody tr th {\n",
       "        vertical-align: top;\n",
       "    }\n",
       "\n",
       "    .dataframe thead th {\n",
       "        text-align: right;\n",
       "    }\n",
       "</style>\n",
       "<table border=\"1\" class=\"dataframe\">\n",
       "  <thead>\n",
       "    <tr style=\"text-align: right;\">\n",
       "      <th></th>\n",
       "      <th>e.cum</th>\n",
       "      <th>delta_e.cum</th>\n",
       "      <th>e.cum_shift</th>\n",
       "      <th>e.rel</th>\n",
       "      <th>j.NH3</th>\n",
       "      <th>pmid</th>\n",
       "      <th>meas.tech</th>\n",
       "      <th>country</th>\n",
       "      <th>inst</th>\n",
       "      <th>ct</th>\n",
       "      <th>...</th>\n",
       "      <th>man.source</th>\n",
       "      <th>t.incorp</th>\n",
       "      <th>app.mthd_bc</th>\n",
       "      <th>app.mthd_bsth</th>\n",
       "      <th>app.mthd_ts</th>\n",
       "      <th>app.mthd_os</th>\n",
       "      <th>incorp_none</th>\n",
       "      <th>incorp_shallow</th>\n",
       "      <th>prediction_ecum</th>\n",
       "      <th>prediction_delta_ecum</th>\n",
       "    </tr>\n",
       "  </thead>\n",
       "  <tbody>\n",
       "    <tr>\n",
       "      <th>65</th>\n",
       "      <td>8.6395</td>\n",
       "      <td>8.6395</td>\n",
       "      <td>0.0000</td>\n",
       "      <td>0.078979</td>\n",
       "      <td>1.838191</td>\n",
       "      <td>195</td>\n",
       "      <td>micro met</td>\n",
       "      <td>DK</td>\n",
       "      <td>104</td>\n",
       "      <td>4.7</td>\n",
       "      <td>...</td>\n",
       "      <td>0</td>\n",
       "      <td>1000.0</td>\n",
       "      <td>1</td>\n",
       "      <td>0</td>\n",
       "      <td>0</td>\n",
       "      <td>0</td>\n",
       "      <td>1</td>\n",
       "      <td>0</td>\n",
       "      <td>5.284547</td>\n",
       "      <td>None</td>\n",
       "    </tr>\n",
       "    <tr>\n",
       "      <th>66</th>\n",
       "      <td>12.3890</td>\n",
       "      <td>3.7495</td>\n",
       "      <td>8.6395</td>\n",
       "      <td>0.113255</td>\n",
       "      <td>0.200508</td>\n",
       "      <td>195</td>\n",
       "      <td>micro met</td>\n",
       "      <td>DK</td>\n",
       "      <td>104</td>\n",
       "      <td>23.4</td>\n",
       "      <td>...</td>\n",
       "      <td>0</td>\n",
       "      <td>1000.0</td>\n",
       "      <td>1</td>\n",
       "      <td>0</td>\n",
       "      <td>0</td>\n",
       "      <td>0</td>\n",
       "      <td>1</td>\n",
       "      <td>0</td>\n",
       "      <td>10.156940</td>\n",
       "      <td>None</td>\n",
       "    </tr>\n",
       "    <tr>\n",
       "      <th>67</th>\n",
       "      <td>14.3920</td>\n",
       "      <td>2.0030</td>\n",
       "      <td>12.3890</td>\n",
       "      <td>0.131566</td>\n",
       "      <td>0.095381</td>\n",
       "      <td>195</td>\n",
       "      <td>micro met</td>\n",
       "      <td>DK</td>\n",
       "      <td>104</td>\n",
       "      <td>44.4</td>\n",
       "      <td>...</td>\n",
       "      <td>0</td>\n",
       "      <td>1000.0</td>\n",
       "      <td>1</td>\n",
       "      <td>0</td>\n",
       "      <td>0</td>\n",
       "      <td>0</td>\n",
       "      <td>1</td>\n",
       "      <td>0</td>\n",
       "      <td>13.656972</td>\n",
       "      <td>None</td>\n",
       "    </tr>\n",
       "    <tr>\n",
       "      <th>68</th>\n",
       "      <td>15.8820</td>\n",
       "      <td>1.4900</td>\n",
       "      <td>14.3920</td>\n",
       "      <td>0.145187</td>\n",
       "      <td>0.029505</td>\n",
       "      <td>195</td>\n",
       "      <td>micro met</td>\n",
       "      <td>DK</td>\n",
       "      <td>104</td>\n",
       "      <td>94.9</td>\n",
       "      <td>...</td>\n",
       "      <td>0</td>\n",
       "      <td>1000.0</td>\n",
       "      <td>1</td>\n",
       "      <td>0</td>\n",
       "      <td>0</td>\n",
       "      <td>0</td>\n",
       "      <td>1</td>\n",
       "      <td>0</td>\n",
       "      <td>18.794142</td>\n",
       "      <td>None</td>\n",
       "    </tr>\n",
       "    <tr>\n",
       "      <th>69</th>\n",
       "      <td>18.5000</td>\n",
       "      <td>2.6180</td>\n",
       "      <td>15.8820</td>\n",
       "      <td>0.169120</td>\n",
       "      <td>0.038500</td>\n",
       "      <td>195</td>\n",
       "      <td>micro met</td>\n",
       "      <td>DK</td>\n",
       "      <td>104</td>\n",
       "      <td>162.9</td>\n",
       "      <td>...</td>\n",
       "      <td>0</td>\n",
       "      <td>1000.0</td>\n",
       "      <td>1</td>\n",
       "      <td>0</td>\n",
       "      <td>0</td>\n",
       "      <td>0</td>\n",
       "      <td>1</td>\n",
       "      <td>0</td>\n",
       "      <td>21.555046</td>\n",
       "      <td>None</td>\n",
       "    </tr>\n",
       "    <tr>\n",
       "      <th>70</th>\n",
       "      <td>1.8680</td>\n",
       "      <td>1.8680</td>\n",
       "      <td>0.0000</td>\n",
       "      <td>0.021998</td>\n",
       "      <td>0.415111</td>\n",
       "      <td>196</td>\n",
       "      <td>micro met</td>\n",
       "      <td>DK</td>\n",
       "      <td>104</td>\n",
       "      <td>4.5</td>\n",
       "      <td>...</td>\n",
       "      <td>0</td>\n",
       "      <td>1000.0</td>\n",
       "      <td>0</td>\n",
       "      <td>1</td>\n",
       "      <td>0</td>\n",
       "      <td>0</td>\n",
       "      <td>1</td>\n",
       "      <td>0</td>\n",
       "      <td>2.465387</td>\n",
       "      <td>None</td>\n",
       "    </tr>\n",
       "  </tbody>\n",
       "</table>\n",
       "<p>6 rows × 28 columns</p>\n",
       "</div>"
      ],
      "text/plain": [
       "      e.cum  delta_e.cum  e.cum_shift     e.rel     j.NH3  pmid  meas.tech  \\\n",
       "65   8.6395       8.6395       0.0000  0.078979  1.838191   195  micro met   \n",
       "66  12.3890       3.7495       8.6395  0.113255  0.200508   195  micro met   \n",
       "67  14.3920       2.0030      12.3890  0.131566  0.095381   195  micro met   \n",
       "68  15.8820       1.4900      14.3920  0.145187  0.029505   195  micro met   \n",
       "69  18.5000       2.6180      15.8820  0.169120  0.038500   195  micro met   \n",
       "70   1.8680       1.8680       0.0000  0.021998  0.415111   196  micro met   \n",
       "\n",
       "   country  inst     ct  ...  man.source  t.incorp  app.mthd_bc  \\\n",
       "65      DK   104    4.7  ...           0    1000.0            1   \n",
       "66      DK   104   23.4  ...           0    1000.0            1   \n",
       "67      DK   104   44.4  ...           0    1000.0            1   \n",
       "68      DK   104   94.9  ...           0    1000.0            1   \n",
       "69      DK   104  162.9  ...           0    1000.0            1   \n",
       "70      DK   104    4.5  ...           0    1000.0            0   \n",
       "\n",
       "    app.mthd_bsth  app.mthd_ts  app.mthd_os  incorp_none  incorp_shallow  \\\n",
       "65              0            0            0            1               0   \n",
       "66              0            0            0            1               0   \n",
       "67              0            0            0            1               0   \n",
       "68              0            0            0            1               0   \n",
       "69              0            0            0            1               0   \n",
       "70              1            0            0            1               0   \n",
       "\n",
       "    prediction_ecum  prediction_delta_ecum  \n",
       "65         5.284547                   None  \n",
       "66        10.156940                   None  \n",
       "67        13.656972                   None  \n",
       "68        18.794142                   None  \n",
       "69        21.555046                   None  \n",
       "70         2.465387                   None  \n",
       "\n",
       "[6 rows x 28 columns]"
      ]
     },
     "execution_count": 28,
     "metadata": {},
     "output_type": "execute_result"
    }
   ],
   "source": [
    "data_predictions.head (6)"
   ]
  },
  {
   "cell_type": "code",
   "execution_count": 29,
   "id": "27d3303e-d1b6-48fe-8bff-a76c5b0dd304",
   "metadata": {},
   "outputs": [
    {
     "data": {
      "image/png": "[encoded data removed]",
      "text/plain": [
       "<Figure size 640x480 with 1 Axes>"
      ]
     },
     "metadata": {},
     "output_type": "display_data"
    }
   ],
   "source": [
    "plt.scatter(data_predictions['e.cum'], data_predictions['prediction_ecum'])\n",
    "plt.xlabel('e.cum')  # Légende pour l'axe X\n",
    "plt.ylabel('prediction_ecum')  # Légende pour l'axe Y\n",
    "plt.title('Scatter Plot de e.cum vs prediction_ecum')  # Titre du graphique\n",
    "plt.show()"
   ]
  },
  {
   "cell_type": "code",
   "execution_count": 30,
   "id": "7fd73c56-da76-4427-b291-a505e3122781",
   "metadata": {},
   "outputs": [
    {
     "data": {
      "image/png": "[encoded data removed]",
      "text/plain": [
       "<Figure size 640x480 with 1 Axes>"
      ]
     },
     "metadata": {},
     "output_type": "display_data"
    }
   ],
   "source": [
    "plt.scatter(data_predictions['e.cum'], data_predictions['prediction_ecum'])\n",
    "plt.xlabel('e.cum')  # Légende pour l'axe X\n",
    "plt.ylabel('prediction_ecum')  # Légende pour l'axe Y\n",
    "plt.title('Scatter Plot de e.cum vs prediction_ecum')  # Titre du graphique\n",
    "plt.show()"
   ]
  },
  {
   "cell_type": "code",
   "execution_count": 31,
   "id": "6487cd2a-fb81-413b-87e9-51cd1da9b9ba",
   "metadata": {},
   "outputs": [
    {
     "data": {
      "text/plain": [
       "(673, 28)"
      ]
     },
     "execution_count": 31,
     "metadata": {},
     "output_type": "execute_result"
    }
   ],
   "source": [
    "data_predictions.shape"
   ]
  },
  {
   "cell_type": "code",
   "execution_count": 32,
   "id": "6cbf476a-a373-4e8b-9870-295cdb7cee13",
   "metadata": {},
   "outputs": [
    {
     "data": {
      "text/plain": [
       "74"
      ]
     },
     "execution_count": 32,
     "metadata": {},
     "output_type": "execute_result"
    }
   ],
   "source": [
    "len(data_predictions['pmid'].unique())"
   ]
  },
  {
   "cell_type": "markdown",
   "id": "5d0574ad-167e-4ceb-9aa2-7dc15fab300c",
   "metadata": {},
   "source": [
    "# Avec gpu"
   ]
  },
  {
   "cell_type": "code",
   "execution_count": 51,
   "id": "63f2469a-134a-486a-8c0b-75b5143a94d2",
   "metadata": {},
   "outputs": [],
   "source": [
    "DEVICE = \"cuda:0\""
   ]
  },
  {
   "cell_type": "code",
   "execution_count": 52,
   "id": "48eff87e-eac0-4f52-ae5d-7936791b41f3",
   "metadata": {},
   "outputs": [],
   "source": [
    "pmids_train = list_train_pmids [0]\n",
    "pmids_eval = list_eval_pmids [0]\n",
    "pmids_test = list_test_pmids [0]"
   ]
  },
  {
   "cell_type": "code",
   "execution_count": 53,
   "id": "ed9d60d8-3f1a-48c7-bd71-e2b6e180052f",
   "metadata": {},
   "outputs": [],
   "source": [
    "num_layers = 1\n",
    "nonlinearity = \"relu\"\n",
    "bidirectional = False\n",
    "mlp = False\n",
    "with_embeddings = False\n",
    "response = \"e.cum\"\n",
    "hidden_size = 64 \n",
    "\n",
    "if (with_embeddings):\n",
    "    data = data_embeddings\n",
    "    cat_dims = [5, 3, 2]  \n",
    "    embedding_dims = [10, 9, 8]  \n",
    "    input_size = 13\n",
    "\n",
    "else: \n",
    "    data = data_no_embeddings.copy()\n",
    "    cat_dims = None\n",
    "    embedding_dims = None\n",
    "    input_size = 17\n",
    "    \n",
    "output_size = 1\n",
    "if (response == \"e.cum and delta_e.cum\"): output_size = 2"
   ]
  },
  {
   "cell_type": "code",
   "execution_count": 54,
   "id": "3922e7ac-fadb-4ff4-8f76-12015c44614f",
   "metadata": {},
   "outputs": [],
   "source": [
    "data_train = data[data['pmid'].isin(pmids_train)]\n",
    "pmids_train = data_train['pmid'].unique()\n",
    "\n",
    "data_eval = data[data['pmid'].isin(pmids_eval)]\n",
    "pmids_eval = data_eval['pmid'].unique()\n",
    "\n",
    "data_test = data[data['pmid'].isin(pmids_test)]\n",
    "pmids_test = data_test['pmid'].unique()\n",
    "\n",
    "n_observations_evaluation_subset = data_eval.shape[0]"
   ]
  },
  {
   "cell_type": "code",
   "execution_count": 55,
   "id": "d765909d-c4e1-411b-a8df-684cae1c1300",
   "metadata": {},
   "outputs": [],
   "source": [
    "x_tensors_train = []\n",
    "y_tensors_train = []\n",
    "\n",
    "for pmid in pmids_train:\n",
    "    \n",
    "    x = mf.generate_tensors_predictors(data_train, pmid, with_embeddings, DEVICE)\n",
    "    x_tensors_train.append (x)   \n",
    "\n",
    "    y = mf.generate_tensors_response(data_train, pmid, response, DEVICE)\n",
    "    y_tensors_train.append (y)   \n",
    "    \n",
    "\n",
    "x_eval = []\n",
    "\n",
    "for pmid in pmids_eval:\n",
    "    x = mf.generate_tensors_predictors(data_eval, pmid, with_embeddings, DEVICE)\n",
    "    x_eval.append (x)   \n",
    "\n",
    "if (response == \"e.cum\"):\n",
    "    target_eval = torch.tensor (data_eval['e.cum'].values).to(DEVICE)\n",
    "\n",
    "if (response == \"delta_e.cum\"):\n",
    "    target_eval = torch.tensor (data_eval['delta_e.cum'].values).to(DEVICE)\n",
    "\n",
    "if (response == \"e.cum and delta_e.cum\"):\n",
    "    target_eval = torch.tensor (data_eval[['e.cum', 'delta_e.cum']].values).to(DEVICE)\n"
   ]
  },
  {
   "cell_type": "code",
   "execution_count": 56,
   "id": "957d31f1-3c48-4810-9642-e72be51b51fc",
   "metadata": {},
   "outputs": [],
   "source": [
    "torch.manual_seed(1)\n",
    "model = AmmoniaRNN(input_size = input_size, \n",
    "                   output_size = output_size, \n",
    "                   hidden_size = hidden_size, \n",
    "                   nonlinearity = nonlinearity,\n",
    "                   num_layers = num_layers,\n",
    "                   bidirectional = bidirectional,\n",
    "                   mlp = mlp,\n",
    "                   with_embeddings = with_embeddings, \n",
    "                   cat_dims = cat_dims, \n",
    "                   embedding_dims = embedding_dims).to(DEVICE)"
   ]
  },
  {
   "cell_type": "code",
   "execution_count": 57,
   "id": "80cf2743-72d2-49f9-9502-c11daf41ca19",
   "metadata": {},
   "outputs": [
    {
     "name": "stdout",
     "output_type": "stream",
     "text": [
      "Total number of parameters: 5377\n"
     ]
    }
   ],
   "source": [
    "num_params = sum(p.numel() for p in model.parameters())\n",
    "print(f\"Total number of parameters: {num_params}\")"
   ]
  },
  {
   "cell_type": "code",
   "execution_count": null,
   "id": "2235cd98-5e82-485f-b03a-b1fb3b317376",
   "metadata": {},
   "outputs": [
    {
     "name": "stdout",
     "output_type": "stream",
     "text": [
      "Epoch [40/400], Loss: 6.4734\n",
      "Epoch [80/400], Loss: 5.6854\n",
      "Epoch [120/400], Loss: 5.5798\n",
      "Epoch [160/400], Loss: 5.1870\n",
      "Epoch [200/400], Loss: 4.6650\n",
      "Epoch [240/400], Loss: 4.6620\n",
      "Epoch [280/400], Loss: 4.4058\n"
     ]
    }
   ],
   "source": [
    "start_time = time.time()\n",
    "\n",
    "learning_rate = 0.0005\n",
    "num_epochs = 200\n",
    "batch_size = 32\n",
    "optimizer = torch.optim.Adam(model.parameters(), lr=learning_rate)\n",
    "\n",
    "model.train()  # Set model to training mode\n",
    "random.seed(1)\n",
    "\n",
    "all_losses = []\n",
    "all_mae_eval = []\n",
    "all_mae_eval_ecum = []\n",
    "all_mae_eval_delta_ecum = []\n",
    "\n",
    "mae_best = 1e5\n",
    "mae_best_ecum = 1e5\n",
    "mae_best_delta_ecum = 1e5\n",
    "\n",
    "data_pairs = list(zip(x_tensors_train, y_tensors_train))\n",
    "\n",
    "filename_model = f'results/model_x'\n",
    "\n",
    "for epoch in range(num_epochs):\n",
    "\n",
    "    # Shuffle the combined list\n",
    "    random.shuffle(data_pairs)\n",
    "    \n",
    "    # Separate x and y after shuffling\n",
    "    x_tensors_train_shuffled, y_tensors_train_shuffled = zip(*data_pairs)\n",
    "    \n",
    "    # Partition into mini-batches\n",
    "    mini_batches_x = [x_tensors_train_shuffled[i:i + batch_size] for i in range(0, len(x_tensors_train_shuffled), batch_size)]\n",
    "    mini_batches_y = [y_tensors_train_shuffled[i:i + batch_size] for i in range(0, len(y_tensors_train_shuffled), batch_size)]\n",
    "\n",
    "    all_predictions = []\n",
    "    all_target_train = []\n",
    "\n",
    "    for i in range(len(mini_batches_x)):\n",
    "\n",
    "        target_train = torch.cat(mini_batches_y[i], dim = 0)\n",
    "        n_obs_train = target_train.shape[0]\n",
    "\n",
    "        predictions  = torch.empty(0).to(DEVICE)\n",
    "\n",
    "        all_target_train.append(target_train)\n",
    "        \n",
    "        for x in mini_batches_x[i]:\n",
    "    \n",
    "            # Forward pass\n",
    "            outputs = model(x)  # Predict emissions at all time steps\n",
    "    \n",
    "            predictions = torch.cat ((predictions, outputs), 0)\n",
    "    \n",
    "        # Compare the predicted values for all time steps to the target values\n",
    "        loss = torch.sum ((predictions - target_train) ** 2) / n_obs_train  # Compute loss over all time steps\n",
    "        \n",
    "        # Backpropagation and optimization\n",
    "        optimizer.zero_grad()\n",
    "        loss.backward()\n",
    "        optimizer.step()\n",
    "\n",
    "        all_predictions.append(predictions.detach())\n",
    "\n",
    "    all_predictions = torch.cat(all_predictions, dim = 0)\n",
    "    all_target_train = torch.cat(all_target_train, dim = 0)\n",
    "    n_obs_train_full_batch = all_target_train.shape[0]\n",
    "\n",
    "    #loss = torch.sum ((all_predictions - all_target_train) ** 2) / n_obs_train_full_batch\n",
    "    loss = torch.sum (torch.abs(all_predictions - all_target_train)) / n_obs_train_full_batch\n",
    "    all_losses.append (loss.item())\n",
    "\n",
    "\n",
    "    mae_eval = mf.compute_mae_eval(response, x_eval, target_eval, model, n_observations_evaluation_subset, DEVICE)\n",
    "\n",
    "    if response in [\"e.cum\", \"delta_e.cum\"]:\n",
    "\n",
    "        all_mae_eval.append (mae_eval[0])\n",
    "        \n",
    "        if (mae_eval[0] < mae_best):\n",
    "            mae_best = mae_eval[0]\n",
    "            torch.save(model.state_dict(), filename_model + '.pth')\n",
    "\n",
    "    if (response == \"e.cum and delta_e.cum\"):\n",
    "        \n",
    "        all_mae_eval_ecum.append (mae_eval[1])\n",
    "        all_mae_eval_delta_ecum.append (mae_eval[2])\n",
    "\n",
    "        if (mae_eval[1] < mae_best_ecum):\n",
    "            mae_best_ecum = mae_eval[1]\n",
    "            torch.save(model.state_dict(), filename_model + '_ecum.pth')\n",
    "            \n",
    "        if (mae_eval[2] < mae_best_delta_ecum):\n",
    "            mae_best_delta_ecum = mae_eval[2]\n",
    "            torch.save(model.state_dict(), filename_model + '_delta_ecum.pth')\n",
    "            \n",
    "    #print (epoch)\n",
    "    \n",
    "    # Print the loss \n",
    "    if (epoch+1) % (num_epochs / 10) == 0:\n",
    "        print(f'Epoch [{epoch+1}/{num_epochs}], Loss: {loss.item():.4f}')\n",
    "\n",
    "end_time = time.time()"
   ]
  },
  {
   "cell_type": "code",
   "execution_count": null,
   "id": "e0fdc49d-c5ca-4a11-8c70-aaaa8a5decd1",
   "metadata": {},
   "outputs": [],
   "source": [
    "elapsed_time = end_time - start_time\n",
    "print(f\"Temps d'exécution : {elapsed_time} secondes\")"
   ]
  },
  {
   "cell_type": "code",
   "execution_count": null,
   "id": "c2280cfb-758c-4e8b-87db-0021cf55fadc",
   "metadata": {},
   "outputs": [],
   "source": [
    "# Create subplots\n",
    "fig, axes = plt.subplots(1, 2, figsize=(12, 4), sharey=False)\n",
    "\n",
    "# Plot each list\n",
    "axes[0].plot(all_losses[10:])\n",
    "axes[0].set_title('All Losses')\n",
    "\n",
    "# Plot each list\n",
    "axes[1].plot(all_mae_eval[10:])\n",
    "axes[1].set_title('All mae eval')\n",
    "\n",
    "plt.tight_layout()\n",
    "plt.show()"
   ]
  },
  {
   "cell_type": "raw",
   "id": "9bc18991-fdbb-4ecf-9f26-ca54f2bbca2d",
   "metadata": {},
   "source": [
    "print (all_mae_eval)\n",
    "print (all_mae_eval_ecum)\n",
    "print (all_mae_eval_delta_ecum)"
   ]
  },
  {
   "cell_type": "code",
   "execution_count": null,
   "id": "fbc4391f-6540-4407-b6f3-390b4946cf0b",
   "metadata": {},
   "outputs": [],
   "source": [
    "data_predictions = data_test.copy()\n",
    "data_predictions['prediction_ecum'] = None\n",
    "data_predictions['prediction_delta_ecum'] = None\n",
    "    \n",
    "\n",
    "with torch.no_grad():\n",
    "\n",
    "    if response in ['e.cum', 'delta_e.cum']:\n",
    "\n",
    "        all_predictions = torch.empty(0).to(DEVICE)\n",
    "\n",
    "        model.load_state_dict(torch.load(filename_model + '.pth', weights_only = True))\n",
    "    \n",
    "        for i in pmids_test:\n",
    "    \n",
    "            x = mf.generate_tensors_predictors (data_predictions, i, with_embeddings, DEVICE)\n",
    "            y = model(x)\n",
    "            all_predictions = torch.cat ((all_predictions, y.squeeze()), 0)\n",
    "\n",
    "        if (response == \"e.cum\"):\n",
    "    \n",
    "            data_predictions['prediction_ecum'] = all_predictions.to(\"cpu\").detach()\n",
    "\n",
    "        if (response == \"delta_e.cum\"):\n",
    "    \n",
    "            data_predictions['prediction_delta_ecum'] = all_predictions.to(\"cpu\").detach()\n",
    "\n",
    "    if (response == \"e.cum and delta_e.cum\"):\n",
    "\n",
    "        all_predictions = torch.empty(0).to(DEVICE)\n",
    "\n",
    "        model.load_state_dict(torch.load(filename_model + '_ecum.pth', weights_only = True))\n",
    "    \n",
    "        for i in pmids_test:\n",
    "    \n",
    "            x = mf.generate_tensors_predictors (data_predictions, i, with_embeddings, DEVICE)\n",
    "            y = model(x)\n",
    "            all_predictions = torch.cat ((all_predictions, y.squeeze()), 0)\n",
    "            \n",
    "        data_predictions['prediction_ecum'] = all_predictions[:,0]\n",
    "\n",
    "        all_predictions = torch.empty(0).to(DEVICE)\n",
    "\n",
    "        model.load_state_dict(torch.load(filename_model + '_delta_ecum.pth', weights_only = True))\n",
    "    \n",
    "        for i in pmids_test:\n",
    "    \n",
    "            x = mf.generate_tensors_predictors (data_predictions, i, with_embeddings, DEVICE)\n",
    "            y = model(x)\n",
    "            all_predictions = torch.cat ((all_predictions, y.squeeze()), 0)\n",
    "                    \n",
    "        data_predictions['prediction_delta_ecum'] = all_predictions[:,1]"
   ]
  },
  {
   "cell_type": "code",
   "execution_count": null,
   "id": "8bcf38a4-d8d5-4796-874f-286e6bd9add5",
   "metadata": {},
   "outputs": [],
   "source": [
    "data_predictions.head (6)"
   ]
  },
  {
   "cell_type": "code",
   "execution_count": null,
   "id": "fa78825c-1c1c-4707-a65c-cdb70d31da58",
   "metadata": {},
   "outputs": [],
   "source": [
    "plt.scatter(data_predictions['e.cum'], data_predictions['prediction_ecum'])\n",
    "plt.xlabel('e.cum')  # Légende pour l'axe X\n",
    "plt.ylabel('prediction_ecum')  # Légende pour l'axe Y\n",
    "plt.title('Scatter Plot de e.cum vs prediction_ecum')  # Titre du graphique\n",
    "plt.show()"
   ]
  },
  {
   "cell_type": "code",
   "execution_count": null,
   "id": "88403a26-b3df-4f56-aca9-b505d7953616",
   "metadata": {},
   "outputs": [],
   "source": [
    "plt.scatter(data_predictions['e.cum'], data_predictions['prediction_ecum'])\n",
    "plt.xlabel('e.cum')  # Légende pour l'axe X\n",
    "plt.ylabel('prediction_ecum')  # Légende pour l'axe Y\n",
    "plt.title('Scatter Plot de e.cum vs prediction_ecum')  # Titre du graphique\n",
    "plt.show()"
   ]
  },
  {
   "cell_type": "code",
   "execution_count": null,
   "id": "bdb86323-2669-44c9-826c-58c5f30cd859",
   "metadata": {},
   "outputs": [],
   "source": [
    "data_predictions.shape"
   ]
  },
  {
   "cell_type": "code",
   "execution_count": null,
   "id": "a27df9e6-2f3b-4430-9efe-c1f75a6b71ba",
   "metadata": {},
   "outputs": [],
   "source": [
    "len(data_predictions['pmid'].unique())"
   ]
  },
  {
   "cell_type": "markdown",
   "id": "c3f42635-c4a8-4722-a7e6-f2ad51730754",
   "metadata": {},
   "source": [
    "# End"
   ]
  },
  {
   "cell_type": "code",
   "execution_count": null,
   "id": "dfa7bfff-01f7-42c8-aee0-eea41277db49",
   "metadata": {},
   "outputs": [],
   "source": []
  },
  {
   "cell_type": "code",
   "execution_count": null,
   "id": "2296a642-e5b0-4db5-b5ea-7341635ef373",
   "metadata": {},
   "outputs": [],
   "source": []
  },
  {
   "cell_type": "code",
   "execution_count": null,
   "id": "49fa32dc-6136-4c5e-9bbf-40488801c3c4",
   "metadata": {},
   "outputs": [],
   "source": []
  },
  {
   "cell_type": "code",
   "execution_count": null,
   "id": "642b8c88-8156-4708-ba87-1b78487e03f0",
   "metadata": {},
   "outputs": [],
   "source": []
  },
  {
   "cell_type": "code",
   "execution_count": null,
   "id": "673f4a56-58f2-4114-b0fd-c1a0e32010fa",
   "metadata": {},
   "outputs": [],
   "source": []
  },
  {
   "cell_type": "code",
   "execution_count": null,
   "id": "9bee062f-bc3a-4695-8555-a537d4cc555a",
   "metadata": {},
   "outputs": [],
   "source": []
  }
 ],
 "metadata": {
  "kernelspec": {
   "display_name": "Python 3 (ipykernel)",
   "language": "python",
   "name": "python3"
  },
  "language_info": {
   "codemirror_mode": {
    "name": "ipython",
    "version": 3
   },
   "file_extension": ".py",
   "mimetype": "text/x-python",
   "name": "python",
   "nbconvert_exporter": "python",
   "pygments_lexer": "ipython3",
   "version": "3.12.3"
  }
 },
 "nbformat": 4,
 "nbformat_minor": 5
}
